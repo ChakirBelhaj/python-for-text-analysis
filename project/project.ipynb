{
 "cells": [
  {
   "cell_type": "markdown",
   "id": "fca7bb62",
   "metadata": {},
   "source": [
    "# Initial Exploration: Correlation and Visualization\n",
    "\n",
    "We have a data set of almost 180.000 campaigns. The data set has mostly (but not completely) been cleaned. Data for 100.000 projects  Download 100.000 projects(training set) is provided to you with information of whether the project was completely funded (succeeded) or not. For the remaining 78.065 projects  Download 78.065 projects(test set) the funding status is withheld. Your assignment is to train a model that will predict the funding status of the remaining projects. You will hand in these predictions, and then we can check how well your model did.\n",
    "\n",
    "The grading of your project, however, does not depend on the quality of your model, it depends on how well you can explain what you did and why. \n",
    "You will show this in a presentation in the last week of the course. "
   ]
  },
  {
   "cell_type": "markdown",
   "id": "18e2d633",
   "metadata": {},
   "source": [
    "Funded, what determines it?\n",
    "\n",
    "Predict funding status of the remaining projects.\n",
    "\n",
    "launched at after deadline?\n"
   ]
  },
  {
   "cell_type": "code",
   "execution_count": 73,
   "id": "acafd4af",
   "metadata": {},
   "outputs": [],
   "source": [
    "import pandas as pd\n",
    "import seaborn as sns\n",
    "import numpy as np\n",
    "\n",
    "import matplotlib.pyplot as plt\n",
    "%matplotlib inline\n",
    "\n",
    "from matplotlib.pylab import rcParams\n",
    "rcParams['figure.figsize'] = 16, 8\n",
    "\n",
    "from scipy.stats import norm\n",
    "from scipy import stats\n",
    "\n",
    "from sklearn.preprocessing import StandardScaler\n",
    "from sklearn.model_selection import train_test_split\n",
    "from sklearn.linear_model import LinearRegression\n",
    "\n",
    "import warnings\n",
    "warnings.filterwarnings('ignore')\n",
    "\n",
    "# pd.set_option('display.max_rows', None)\n"
   ]
  },
  {
   "cell_type": "markdown",
   "id": "3fe6d69d",
   "metadata": {},
   "source": [
    "While exploring the data we have understood that the delimeter is a komma, which result in unstructured visual representation of the excel file.\n",
    "\n",
    "first we check if the deadline or start date had any correlation at all with funding, this was not the case. Furthermore we also tried and see if the funding goal had any effect, this also was not the case. Hence the quantitative data where we have our hands on do not correlate with the funding success\n",
    "\n",
    "Which ones could introduce bias? What bias exactly?\n",
    "\n",
    "\n",
    "Linear regression to find correlation\n",
    "Logistic regression to find ocrrelation between multiple data for true or false classification\n",
    "check mode for categorical data?\n",
    "\n",
    "\n",
    "transform datestamp to datetime\n",
    "\n",
    "\n",
    "multiple columns correlation\n",
    "\n"
   ]
  },
  {
   "cell_type": "code",
   "execution_count": 77,
   "id": "9c8721d2",
   "metadata": {},
   "outputs": [
    {
     "name": "stderr",
     "output_type": "stream",
     "text": [
      "IOPub data rate exceeded.\n",
      "The notebook server will temporarily stop sending output\n",
      "to the client in order to avoid crashing it.\n",
      "To change this limit, set the config variable\n",
      "`--NotebookApp.iopub_data_rate_limit`.\n",
      "\n",
      "Current values:\n",
      "NotebookApp.iopub_data_rate_limit=1000000.0 (bytes/sec)\n",
      "NotebookApp.rate_limit_window=3.0 (secs)\n",
      "\n"
     ]
    },
    {
     "name": "stdout",
     "output_type": "stream",
     "text": [
      "[[ 1.         -0.01871018]\n",
      " [-0.01871018  1.        ]]\n"
     ]
    }
   ],
   "source": [
    "df = pd.read_csv (r'./KS_model_training_data.csv', sep = ',')\n",
    "df = df.drop(columns=['backers_count', 'converted_pledged_amount', 'pledged', 'usd_pledged'])\n",
    "df = df.dropna()\n",
    "\n",
    "display(df)\n",
    "df['created_at'] = pd.to_datetime(df['created_at'],unit='s')\n",
    "df['created_hour'] = df.created_at.apply(lambda x: x.hour)\n",
    "df['created_month'] = df.created_at.apply(lambda x: x.month)\n",
    "df['created_year'] = df.created_at.apply(lambda x: x.year)\n",
    "\n",
    "# df['deadline_at'] = pd.to_datetime(df['deadline'],unit='s')\n",
    "# df['deadline_hour'] = df.deadline.apply(lambda x: x.hour)\n",
    "\n",
    "\n",
    "df[\"category\"] = df[\"category\"].astype('category')\n",
    "df[\"category_encoded\"] = df[\"category\"].cat.codes\n",
    "# print(df['category'])\n",
    "\n",
    "\n",
    "df[\"subcategory\"] = df[\"subcategory\"].astype('category')\n",
    "df[\"subcategory_encoded\"] = df[\"subcategory\"].cat.codes\n",
    "\n",
    "\n",
    "df[\"location\"] = df[\"location\"].astype('category')\n",
    "df[\"location_encoded\"] = df[\"location\"].cat.codes\n",
    "\n",
    "\n",
    "df[\"country\"] = df[\"country\"].astype('category')\n",
    "df[\"country_encoded\"] = df[\"country\"].cat.codes\n",
    "\n",
    "df['blurb_length'] = df['blurb'].str.len()\n",
    "df['name_length'] = df['name'].str.len()\n",
    "\n",
    "\n",
    "\n",
    "print(np.corrcoef(df['funded'], df['category_encoded']))\n",
    "# print(np.corrcoef(df['funded'], df['subcategory_encoded']))\n",
    "# print(np.corrcoef(df['funded'], df['location_encoded']))\n",
    "# print(np.corrcoef(df['funded'], df['country_encoded']))\n",
    "# print(np.corrcoef(df['funded'], df['blurb_length']))\n",
    "# print(np.corrcoef(df['funded'], df['fx_rate']))\n",
    "# print(np.corrcoef(df['funded'], df['name_length']))\n",
    "\n",
    "# print(df.head(10))\n",
    "\n",
    "# print(np.corrcoef(df['funded'], df['staff_pick']))\n",
    "# print(np.corrcoef(df['funded'], df['created_month']))\n",
    "# print(np.corrcoef(df['funded'], df['deadline']))\n",
    "# df['category'].value_counts()[:20].plot(kind='bar')\n",
    "# df.plot.scatter(x = 'goal', y ='category')\n",
    "\n",
    "\n",
    "\n",
    "\n"
   ]
  },
  {
   "cell_type": "markdown",
   "id": "de6c7a5e",
   "metadata": {},
   "source": [
    "https://pbpython.com/categorical-encoding.html\n",
    "We tried to use labelencoding to give categorical values a code with wich we can then see if there is any correlation between categories and funding."
   ]
  },
  {
   "cell_type": "code",
   "execution_count": 35,
   "id": "c2eec3be",
   "metadata": {},
   "outputs": [
    {
     "data": {
      "text/plain": [
       "[Text(0.5, 0, 'Month of the Year'),\n",
       " Text(0, 0.5, 'Number of Projects'),\n",
       " Text(0.5, 1.0, 'Month the Project was Launched')]"
      ]
     },
     "execution_count": 35,
     "metadata": {},
     "output_type": "execute_result"
    },
    {
     "data": {
      "image/png": "[encoded data removed]",
      "text/plain": [
       "<Figure size 1152x576 with 1 Axes>"
      ]
     },
     "metadata": {
      "needs_background": "light"
     },
     "output_type": "display_data"
    }
   ],
   "source": [
    "plot = sns.countplot(x=df.created_month, hue = df.funded)\n",
    "plot.set(xlabel='Month of the Year', ylabel='Number of Projects', title= 'Month the Project was Launched')\n",
    "\n"
   ]
  },
  {
   "cell_type": "code",
   "execution_count": 39,
   "id": "c8a4b36b",
   "metadata": {},
   "outputs": [
    {
     "data": {
      "text/plain": [
       "[Text(0.5, 0, 'Year'),\n",
       " Text(0, 0.5, 'Number of Projects'),\n",
       " Text(0.5, 1.0, 'Year the project was launched')]"
      ]
     },
     "execution_count": 39,
     "metadata": {},
     "output_type": "execute_result"
    },
    {
     "data": {
      "image/png": "[encoded data removed]",
      "text/plain": [
       "<Figure size 1152x576 with 1 Axes>"
      ]
     },
     "metadata": {
      "needs_background": "light"
     },
     "output_type": "display_data"
    }
   ],
   "source": [
    "plot = sns.countplot(x=df.created_year, hue = df.funded)\n",
    "plot.set(xlabel='Year', ylabel='Number of Projects', title= 'Year the project was launched')\n"
   ]
  },
  {
   "cell_type": "markdown",
   "id": "ff778eb4",
   "metadata": {},
   "source": [
    "sadsadsaa"
   ]
  },
  {
   "cell_type": "code",
   "execution_count": null,
   "id": "acf09e24",
   "metadata": {},
   "outputs": [],
   "source": [
    "sns.pairplot(df.sample(100), hue='funded', size=1.5)"
   ]
  },
  {
   "cell_type": "code",
   "execution_count": 66,
   "id": "42dfb2d9",
   "metadata": {},
   "outputs": [
    {
     "data": {
      "text/plain": [
       "[Text(0.5, 0, 'Category'),\n",
       " Text(0, 0.5, 'Number of Projects'),\n",
       " Text(0.5, 1.0, 'Category')]"
      ]
     },
     "execution_count": 66,
     "metadata": {},
     "output_type": "execute_result"
    },
    {
     "data": {
      "image/png": "[encoded data removed]",
      "text/plain": [
       "<Figure size 1152x576 with 1 Axes>"
      ]
     },
     "metadata": {
      "needs_background": "light"
     },
     "output_type": "display_data"
    }
   ],
   "source": [
    "plot = sns.countplot(x=df.category, hue = df.funded)\n",
    "plot.set(xlabel='Category', ylabel='Number of Projects', title= 'Category')\n",
    "\n"
   ]
  },
  {
   "cell_type": "code",
   "execution_count": null,
   "id": "7f71443a",
   "metadata": {},
   "outputs": [],
   "source": [
    "heatmaps\n",
    "scatterplots for outliers\n"
   ]
  }
 ],
 "metadata": {
  "kernelspec": {
   "display_name": "Python 3",
   "language": "python",
   "name": "python3"
  },
  "language_info": {
   "codemirror_mode": {
    "name": "ipython",
    "version": 3
   },
   "file_extension": ".py",
   "mimetype": "text/x-python",
   "name": "python",
   "nbconvert_exporter": "python",
   "pygments_lexer": "ipython3",
   "version": "3.8.8"
  }
 },
 "nbformat": 4,
 "nbformat_minor": 5
}
