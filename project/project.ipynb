{
 "cells": [
  {
   "cell_type": "markdown",
   "id": "fca7bb62",
   "metadata": {},
   "source": [
    "# Initial Exploration: Correlation and Visualization\n",
    "\n",
    "We have a data set of almost 180.000 campaigns. The data set has mostly (but not completely) been cleaned. Data for 100.000 projects  Download 100.000 projects(training set) is provided to you with information of whether the project was completely funded (succeeded) or not. For the remaining 78.065 projects  Download 78.065 projects(test set) the funding status is withheld. Your assignment is to train a model that will predict the funding status of the remaining projects. You will hand in these predictions, and then we can check how well your model did.\n",
    "\n",
    "The grading of your project, however, does not depend on the quality of your model, it depends on how well you can explain what you did and why. \n",
    "You will show this in a presentation in the last week of the course. "
   ]
  },
  {
   "cell_type": "markdown",
   "id": "18e2d633",
   "metadata": {},
   "source": [
    "Funded, what determines it?\n",
    "\n",
    "Predict funding status of the remaining projects.\n"
   ]
  },
  {
   "cell_type": "code",
   "execution_count": 40,
   "id": "acafd4af",
   "metadata": {},
   "outputs": [],
   "source": [
    "import pandas as pd\n",
    "import seaborn as sns\n",
    "import numpy as np\n",
    "\n",
    "import matplotlib.pyplot as plt\n",
    "%matplotlib inline\n",
    "\n",
    "from matplotlib.pylab import rcParams\n",
    "rcParams['figure.figsize'] = 16, 8\n",
    "\n",
    "from scipy.stats import norm\n",
    "from scipy import stats\n",
    "\n",
    "from sklearn.preprocessing import StandardScaler\n",
    "from sklearn.model_selection import train_test_split\n",
    "from sklearn.linear_model import LinearRegression\n",
    "\n",
    "import warnings\n",
    "warnings.filterwarnings('ignore')"
   ]
  },
  {
   "cell_type": "markdown",
   "id": "3fe6d69d",
   "metadata": {},
   "source": [
    "While exploring the data we have understood that the delimeter is a komma, which result in unstructured visual representation of the excel file.\n",
    "\n",
    "first we check if the deadline or start date had any correlation at all with funding, this was not the case. Furthermore we also tried and see if the funding goal had any effect, this also was not the case. Hence the quantitative data where we have our hands on do not correlate with the funding success\n",
    "\n",
    "Which ones could introduce bias? What bias exactly?\n",
    "\n",
    "\n",
    "Linear regression to find correlation\n",
    "Logistic regression to find ocrrelation between multiple data for true or false classification\n",
    "check mode for categorical data?\n",
    "\n",
    "\n",
    "transform datestamp to datetime\n",
    "\n"
   ]
  },
  {
   "cell_type": "code",
   "execution_count": 172,
   "id": "9c8721d2",
   "metadata": {},
   "outputs": [
    {
     "name": "stdout",
     "output_type": "stream",
     "text": [
      "[[ 1.         -0.03269242]\n",
      " [-0.03269242  1.        ]]\n",
      "[[ 1.         -0.27365083]\n",
      " [-0.27365083  1.        ]]\n",
      "[[ 1.         -0.27260388]\n",
      " [-0.27260388  1.        ]]\n",
      "[[1.         0.25352449]\n",
      " [0.25352449 1.        ]]\n"
     ]
    }
   ],
   "source": [
    "df = pd.read_csv (r'./KS_model_training_data.csv', sep = ',')\n",
    "\n",
    "df = df[df['project_id'].astype(str).str.startswith('KS_')]\n",
    "df = df.fillna('')\n",
    "backers_count = df['backers_count'].describe()\n",
    "category = df['category'].describe()\n",
    "df[\"funded\"].replace({\"TRUE\": \"True\", \"False\": \"False\"}, inplace=True)\n",
    "funded = df['funded'].describe()\n",
    "\n",
    "print(np.corrcoef(df['funded'], df['goal']))\n",
    "print(np.corrcoef(df['funded'], df['created_at']))\n",
    "print(np.corrcoef(df['funded'], df['deadline']))\n",
    "print(np.corrcoef(df['funded'], df['staff_pick']))\n",
    "\n",
    "# df['category'].value_counts()[:20].plot(kind='bar')\n",
    "# df.plot.scatter(x = 'goal', y ='category')\n",
    "\n"
   ]
  },
  {
   "cell_type": "markdown",
   "id": "de6c7a5e",
   "metadata": {},
   "source": [
    "https://pbpython.com/categorical-encoding.html\n",
    "We tried to use labelencoding to give categorical values a code with wich we can then see if there is any correlation between categories and funding."
   ]
  },
  {
   "cell_type": "code",
   "execution_count": null,
   "id": "c2eec3be",
   "metadata": {},
   "outputs": [],
   "source": [
    "\n",
    "df[\"category\"] = df[\"category\"].astype('category')\n",
    "df[\"category_encoded\"] = df[\"category\"].cat.codes\n",
    "\n",
    "df[\"subcategory\"] = df[\"subcategory\"].astype('category')\n",
    "df[\"subcategory_encoded\"] = df[\"subcategory\"].cat.codes\n",
    "\n",
    "\n",
    "df[\"location\"] = df[\"location\"].astype('category')\n",
    "df[\"location_encoded\"] = df[\"location\"].cat.codes\n",
    "\n",
    "\n",
    "df[\"country\"] = df[\"country\"].astype('category')\n",
    "df[\"country_encoded\"] = df[\"country\"].cat.codes\n",
    "\n",
    "df['blurb_length'] = df['blurb'].str.len()\n",
    "df['name_length'] = df['name'].str.len()\n",
    "\n",
    "\n",
    "print(df[\"category_encoded\"])\n",
    "\n",
    "\n",
    "print(np.corrcoef(df['funded'], df['category_encoded']))\n",
    "print(np.corrcoef(df['funded'], df['subcategory_encoded']))\n",
    "print(np.corrcoef(df['funded'], df['location_encoded']))\n",
    "print(np.corrcoef(df['funded'], df['country_encoded']))\n",
    "print(np.corrcoef(df['funded'], df['blurb_length']))\n",
    "print(np.corrcoef(df['funded'], df['fx_rate']))\n",
    "print(np.corrcoef(df['funded'], df['name_length']))\n",
    "\n"
   ]
  },
  {
   "cell_type": "code",
   "execution_count": null,
   "id": "c8a4b36b",
   "metadata": {},
   "outputs": [],
   "source": []
  },
  {
   "cell_type": "code",
   "execution_count": null,
   "id": "acf09e24",
   "metadata": {},
   "outputs": [],
   "source": []
  },
  {
   "cell_type": "code",
   "execution_count": null,
   "id": "42dfb2d9",
   "metadata": {},
   "outputs": [],
   "source": []
  },
  {
   "cell_type": "code",
   "execution_count": null,
   "id": "7f71443a",
   "metadata": {},
   "outputs": [],
   "source": []
  }
 ],
 "metadata": {
  "kernelspec": {
   "display_name": "Python 3",
   "language": "python",
   "name": "python3"
  },
  "language_info": {
   "codemirror_mode": {
    "name": "ipython",
    "version": 3
   },
   "file_extension": ".py",
   "mimetype": "text/x-python",
   "name": "python",
   "nbconvert_exporter": "python",
   "pygments_lexer": "ipython3",
   "version": "3.8.8"
  }
 },
 "nbformat": 4,
 "nbformat_minor": 5
}
