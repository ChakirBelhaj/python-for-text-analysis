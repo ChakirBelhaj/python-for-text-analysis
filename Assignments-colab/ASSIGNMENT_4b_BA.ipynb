{
  "nbformat": 4,
  "nbformat_minor": 0,
  "metadata": {
    "interpreter": {
      "hash": "6106edc083458b68f61c14c570e0f5152b4e1e25a61780539c3fe413e38ae5e6"
    },
    "kernelspec": {
      "display_name": "Python 3 (teaching-3.8.3)",
      "language": "python",
      "name": "teaching-3.8.3"
    },
    "language_info": {
      "codemirror_mode": {
        "name": "ipython",
        "version": 3
      },
      "file_extension": ".py",
      "mimetype": "text/x-python",
      "name": "python",
      "nbconvert_exporter": "python",
      "pygments_lexer": "ipython3",
      "version": "3.8.3"
    },
    "colab": {
      "name": "ASSIGNMENT-4b-BA.ipynb",
      "provenance": [],
      "include_colab_link": true
    }
  },
  "cells": [
    {
      "cell_type": "markdown",
      "metadata": {
        "id": "view-in-github",
        "colab_type": "text"
      },
      "source": [
        "<a href=\"https://colab.research.google.com/github/cltl/python-for-text-analysis/blob/colab/Assignments-colab/ASSIGNMENT_4b_BA.ipynb\" target=\"_parent\"><img src=\"https://colab.research.google.com/assets/colab-badge.svg\" alt=\"Open In Colab\"/></a>"
      ]
    },
    {
      "cell_type": "code",
      "metadata": {
        "id": "0-pKlG0_PwFa"
      },
      "source": [
        "%%capture\n",
        "!wget https://github.com/cltl/python-for-text-analysis/raw/master/zips/Data.zip\n",
        "!wget https://github.com/cltl/python-for-text-analysis/raw/master/zips/images.zip\n",
        "!wget https://github.com/cltl/python-for-text-analysis/raw/master/zips/Extra_Material.zip\n",
        "\n",
        "!unzip Data.zip -d ../\n",
        "!unzip images.zip -d ./\n",
        "!unzip Extra_Material.zip -d ../\n",
        "\n",
        "!rm Data.zip\n",
        "!rm Extra_Material.zip\n",
        "!rm images.zip"
      ],
      "execution_count": 1,
      "outputs": []
    },
    {
      "cell_type": "markdown",
      "metadata": {
        "id": "qbO0PvaPPukd"
      },
      "source": [
        "# Assignment 4b-BA: Sentiment analysis using VADER"
      ]
    },
    {
      "cell_type": "markdown",
      "metadata": {
        "id": "_hT6OAqgPukg"
      },
      "source": [
        "## Due: Friday October 15, 2021, before 14:30\n",
        "\n",
        "## Please note that this is Assignment 4 for the Bachelor version of the Python course: Introduction to Python for Humanities and Social Sciences (L_AABAALG075)\n",
        "\n",
        "* Please submit your assignment (notebooks of parts 4a + 4b + JSON file) as **a single .zip file**. \n",
        "\n",
        "* Please name your zip file with the following naming convention: ASSIGNMENT_4_FIRSTNAME_LASTNAME.zip\n",
        "\n",
        "* Please submit your assignment on Canvas: Assignments --> Assignment 4\n",
        "\n",
        "If you have **questions** about this chapter, please contact us at cltl.python.course@gmail.com. Questions and answers will be collected [in this Q&A document](https://docs.google.com/document/d/1nxBr_BKcm0g9MWO1cMdvnpJrACBBHyg0GfIoLj7tCsw/edit?usp=sharing), so please check if your question has already been answered."
      ]
    },
    {
      "cell_type": "markdown",
      "metadata": {
        "id": "LYHXGcu5Pukh"
      },
      "source": [
        "## Credits\n",
        "The notebooks in this block have been originally created by [Marten Postma](https://martenpostma.github.io) and [Isa Maks](https://research.vu.nl/en/persons/e-maks). Adaptations were made by [Filip Ilievski](http://ilievski.nl)."
      ]
    },
    {
      "cell_type": "markdown",
      "metadata": {
        "id": "wEQZZwTGPukh"
      },
      "source": [
        "## Part I: VADER assignments\n",
        "\n",
        "\n",
        "### Preparation (nothing to submit):\n",
        "To be able to answer the VADER questions you need to know how the tool works. \n",
        "* Read more about the VADER tool in [this blog](http://t-redactyl.io/blog/2017/04/using-vader-to-handle-sentiment-analysis-with-social-media-text.html).  \n",
        "* VADER provides 4 scores (positive, negative, neutral, compound). Be sure to understand what they mean and how they are calculated.\n",
        "* VADER uses rules to handle linguistic phenomena such as negation and intensification. Be sure to understand which rules are used, how they work, and why they are important.\n",
        "* VADER makes use of a sentiment lexicon. Have a look at [the lexicon](https://github.com/cjhutto/vaderSentiment/blob/master/vaderSentiment/vader_lexicon.txt). Be sure to understand which information can be found there (lemma?, wordform?, part-of-speech?, polarity value?, word meaning?) What do all scores mean? You can inspect [the README](https://github.com/cjhutto/vaderSentiment) of the VADER system for more information.\n",
        "\n",
        "### Exercise 1\n",
        "\n",
        "Consider the following sentences and their output as given by VADER. Analyze sentences 1 to 7, and explain the outcome **for each sentence**. Take into account both the rules applied by VADER and the lexicon that is used. You will find that some of the results are reasonable, but others are not. Explain what is going wrong or not when correct and incorrect results are produced. \n",
        "\n",
        "```\n",
        "INPUT SENTENCE 1 I love apples\n",
        "VADER OUTPUT {'neg': 0.0, 'neu': 0.192, 'pos': 0.808, 'compound': 0.6369}\n",
        "\n",
        "INPUT SENTENCE 2 I don't love apples\n",
        "VADER OUTPUT {'neg': 0.627, 'neu': 0.373, 'pos': 0.0, 'compound': -0.5216}\n",
        "\n",
        "INPUT SENTENCE 3 I love apples :-)\n",
        "VADER OUTPUT {'neg': 0.0, 'neu': 0.133, 'pos': 0.867, 'compound': 0.7579}\n",
        "\n",
        "INPUT SENTENCE 4 These houses are ruins\n",
        "VADER OUTPUT {'neg': 0.492, 'neu': 0.508, 'pos': 0.0, 'compound': -0.4404}\n",
        "\n",
        "INPUT SENTENCE 5 These houses are certainly not considered ruins\n",
        "VADER OUTPUT {'neg': 0.0, 'neu': 0.51, 'pos': 0.49, 'compound': 0.5867}\n",
        "\n",
        "INPUT SENTENCE 6 He lies in the chair in the garden\n",
        "VADER OUTPUT {'neg': 0.286, 'neu': 0.714, 'pos': 0.0, 'compound': -0.4215}\n",
        "\n",
        "INPUT SENTENCE 7 This house is like any house\n",
        "VADER OUTPUT {'neg': 0.0, 'neu': 0.667, 'pos': 0.333, 'compound': 0.3612}\n",
        "```"
      ]
    },
    {
      "cell_type": "markdown",
      "metadata": {
        "id": "RRs8rdDUPuki"
      },
      "source": [
        "### Exercise 2: Collecting 25 tweets for evaluation\n",
        "\n",
        "Collect 25 tweets. Try to find tweets that are interesting for sentiment analysis, e.g., very positive, neutral, and negative tweets. These could be your own tweets (typed in) or collected from the Twitter stream. You can simply copy-paste tweets into the JSON file. Do not attempt to crawl them!\n",
        "\n",
        "We will store the tweets in the file **my_tweets.json** (use a text editor to edit).\n",
        "For each tweet, you should insert:\n",
        "\n",
        "\n",
        "* sentiment analysis label: negative | neutral | positive (this you determine yourself, this is not done by a computer)\n",
        "* the text of the tweet\n",
        "* the Tweet-URL\n",
        "\n",
        "from:\n",
        "```\n",
        "    \"1\": {\n",
        "        \"sentiment_label\": \"\",\n",
        "        \"text_of_tweet\": \"\",\n",
        "        \"tweet_url\": \"\",\n",
        "```\n",
        "to:\n",
        "```\n",
        "\"1\": {\n",
        "        \"sentiment_label\": \"positive\",\n",
        "        \"text_of_tweet\": \"All across America people chose to get involved, get engaged and stand up. Each of us can make a difference, and all of us ought to try. So go keep changing the world in 2018.\",\n",
        "        \"tweet_url\" : \"https://twitter.com/BarackObama/status/946775615893655552\",\n",
        "    },\n",
        "```"
      ]
    },
    {
      "cell_type": "markdown",
      "metadata": {
        "id": "tlTj973EPukj"
      },
      "source": [
        "You can load your tweets with the sentiment labels you provided in the following way:"
      ]
    },
    {
      "cell_type": "code",
      "metadata": {
        "id": "T7gdw3DWPukj"
      },
      "source": [
        "import json"
      ],
      "execution_count": 2,
      "outputs": []
    },
    {
      "cell_type": "code",
      "metadata": {
        "colab": {
          "base_uri": "https://localhost:8080/",
          "height": 165
        },
        "id": "ExrgRwBpPukl",
        "outputId": "f84234e8-c505-41c0-bfb6-6ab0902bd9ab"
      },
      "source": [
        "my_tweets = json.load(open('my_tweets.json'))"
      ],
      "execution_count": 3,
      "outputs": [
        {
          "output_type": "error",
          "ename": "FileNotFoundError",
          "evalue": "ignored",
          "traceback": [
            "\u001b[0;31m---------------------------------------------------------------------------\u001b[0m",
            "\u001b[0;31mFileNotFoundError\u001b[0m                         Traceback (most recent call last)",
            "\u001b[0;32m<ipython-input-3-c98e0c06c427>\u001b[0m in \u001b[0;36m<module>\u001b[0;34m()\u001b[0m\n\u001b[0;32m----> 1\u001b[0;31m \u001b[0mmy_tweets\u001b[0m \u001b[0;34m=\u001b[0m \u001b[0mjson\u001b[0m\u001b[0;34m.\u001b[0m\u001b[0mload\u001b[0m\u001b[0;34m(\u001b[0m\u001b[0mopen\u001b[0m\u001b[0;34m(\u001b[0m\u001b[0;34m'my_tweets.json'\u001b[0m\u001b[0;34m)\u001b[0m\u001b[0;34m)\u001b[0m\u001b[0;34m\u001b[0m\u001b[0;34m\u001b[0m\u001b[0m\n\u001b[0m",
            "\u001b[0;31mFileNotFoundError\u001b[0m: [Errno 2] No such file or directory: 'my_tweets.json'"
          ]
        }
      ]
    },
    {
      "cell_type": "code",
      "metadata": {
        "colab": {
          "base_uri": "https://localhost:8080/",
          "height": 200
        },
        "id": "S4L_IPIRPukl",
        "outputId": "568acbc2-4fe8-464e-ac8a-6db7ec17a904"
      },
      "source": [
        "for id_, tweet_info in my_tweets.items():\n",
        "    print(id_, tweet_info)\n",
        "    break"
      ],
      "execution_count": 4,
      "outputs": [
        {
          "output_type": "error",
          "ename": "NameError",
          "evalue": "ignored",
          "traceback": [
            "\u001b[0;31m---------------------------------------------------------------------------\u001b[0m",
            "\u001b[0;31mNameError\u001b[0m                                 Traceback (most recent call last)",
            "\u001b[0;32m<ipython-input-4-d44114ae1255>\u001b[0m in \u001b[0;36m<module>\u001b[0;34m()\u001b[0m\n\u001b[0;32m----> 1\u001b[0;31m \u001b[0;32mfor\u001b[0m \u001b[0mid_\u001b[0m\u001b[0;34m,\u001b[0m \u001b[0mtweet_info\u001b[0m \u001b[0;32min\u001b[0m \u001b[0mmy_tweets\u001b[0m\u001b[0;34m.\u001b[0m\u001b[0mitems\u001b[0m\u001b[0;34m(\u001b[0m\u001b[0;34m)\u001b[0m\u001b[0;34m:\u001b[0m\u001b[0;34m\u001b[0m\u001b[0;34m\u001b[0m\u001b[0m\n\u001b[0m\u001b[1;32m      2\u001b[0m     \u001b[0mprint\u001b[0m\u001b[0;34m(\u001b[0m\u001b[0mid_\u001b[0m\u001b[0;34m,\u001b[0m \u001b[0mtweet_info\u001b[0m\u001b[0;34m)\u001b[0m\u001b[0;34m\u001b[0m\u001b[0;34m\u001b[0m\u001b[0m\n\u001b[1;32m      3\u001b[0m     \u001b[0;32mbreak\u001b[0m\u001b[0;34m\u001b[0m\u001b[0;34m\u001b[0m\u001b[0m\n",
            "\u001b[0;31mNameError\u001b[0m: name 'my_tweets' is not defined"
          ]
        }
      ]
    },
    {
      "cell_type": "markdown",
      "metadata": {
        "id": "dSxN0MD3Pukm"
      },
      "source": [
        "### Exercise 3\n",
        "\n",
        "In this exercise, we are going to run VADER on our own tweets and evaluate it against the sentiment labels that we manually annotated for each tweet. We are going to make use of the following two functions:"
      ]
    },
    {
      "cell_type": "code",
      "metadata": {
        "id": "itUE1Lm7Pukn"
      },
      "source": [
        "def run_vader(nlp,\n",
        "              textual_unit, \n",
        "              lemmatize=False, \n",
        "              parts_of_speech_to_consider=set(),\n",
        "              verbose=0):\n",
        "    \"\"\"\n",
        "    Run VADER on a sentence from spacy\n",
        "    \n",
        "    :param str textual unit: a textual unit, e.g., sentence, sentences (one string)\n",
        "    (by looping over doc.sents)\n",
        "    :param bool lemmatize: If True, provide lemmas to VADER instead of words\n",
        "    :param set parts_of_speech_to_consider:\n",
        "    -empty set -> all parts of speech are provided\n",
        "    -non-empty set: only these parts of speech are considered\n",
        "    :param int verbose: if set to 1, information is printed\n",
        "    about input and output\n",
        "    \n",
        "    :rtype: dict\n",
        "    :return: vader output dict\n",
        "    \"\"\"\n",
        "    doc = nlp(textual_unit)\n",
        "        \n",
        "    input_to_vader = []\n",
        "\n",
        "    for sent in doc.sents:\n",
        "        for token in sent:\n",
        "            \n",
        "            if verbose >= 2:\n",
        "                print(token, token.pos_)\n",
        "\n",
        "            to_add = token.text\n",
        "\n",
        "            if lemmatize:\n",
        "                to_add = token.lemma_\n",
        "\n",
        "                if to_add == '-PRON-': \n",
        "                    to_add = token.text\n",
        "\n",
        "            if parts_of_speech_to_consider:\n",
        "                if token.pos_ in parts_of_speech_to_consider:\n",
        "                    input_to_vader.append(to_add) \n",
        "            else:\n",
        "                input_to_vader.append(to_add)\n",
        "\n",
        "    scores = vader_model.polarity_scores(' '.join(input_to_vader))\n",
        "    \n",
        "    if verbose >= 1:\n",
        "        print()\n",
        "        print('INPUT SENTENCE', sent)\n",
        "        print('INPUT TO VADER', input_to_vader)\n",
        "        print('VADER OUTPUT', scores)\n",
        "\n",
        "    return scores"
      ],
      "execution_count": 5,
      "outputs": []
    },
    {
      "cell_type": "code",
      "metadata": {
        "id": "Zy6Cju-GPukn"
      },
      "source": [
        "def vader_output_to_label(vader_output):\n",
        "    \"\"\"\n",
        "    map vader output e.g.,\n",
        "    {'neg': 0.0, 'neu': 0.0, 'pos': 1.0, 'compound': 0.4215}\n",
        "    to one of the following values:\n",
        "    a) positive float -> 'positive'\n",
        "    b) 0.0 -> 'neutral'\n",
        "    c) negative float -> 'negative'\n",
        "    \n",
        "    :param dict vader_output: output dict from vader\n",
        "    \n",
        "    :rtype: str\n",
        "    :return: 'negative' | 'neutral' | 'positive'\n",
        "    \"\"\"\n",
        "    compound = vader_output['compound']\n",
        "    \n",
        "    if compound < 0:\n",
        "        return 'negative'\n",
        "    elif compound == 0.0:\n",
        "        return 'neutral'\n",
        "    elif compound > 0.0:\n",
        "        return 'positive'\n",
        "    \n",
        "assert vader_output_to_label( {'neg': 0.0, 'neu': 0.0, 'pos': 1.0, 'compound': 0.0}) == 'neutral'\n",
        "assert vader_output_to_label( {'neg': 0.0, 'neu': 0.0, 'pos': 1.0, 'compound': 0.01}) == 'positive'\n",
        "assert vader_output_to_label( {'neg': 0.0, 'neu': 0.0, 'pos': 1.0, 'compound': -0.01}) == 'negative'"
      ],
      "execution_count": 6,
      "outputs": []
    },
    {
      "cell_type": "code",
      "metadata": {
        "colab": {
          "base_uri": "https://localhost:8080/"
        },
        "id": "qXJnIzd-Puko",
        "outputId": "f4b899f9-7c11-4d63-8200-9bc36b8aa1bc"
      },
      "source": [
        "import spacy\n",
        "! python -m spacy download en_core_web_sm"
      ],
      "execution_count": 7,
      "outputs": [
        {
          "output_type": "stream",
          "name": "stdout",
          "text": [
            "Collecting en_core_web_sm==2.2.5\n",
            "  Downloading https://github.com/explosion/spacy-models/releases/download/en_core_web_sm-2.2.5/en_core_web_sm-2.2.5.tar.gz (12.0 MB)\n",
            "\u001b[K     |████████████████████████████████| 12.0 MB 8.6 MB/s \n",
            "\u001b[?25hRequirement already satisfied: spacy>=2.2.2 in /usr/local/lib/python3.7/dist-packages (from en_core_web_sm==2.2.5) (2.2.4)\n",
            "Requirement already satisfied: numpy>=1.15.0 in /usr/local/lib/python3.7/dist-packages (from spacy>=2.2.2->en_core_web_sm==2.2.5) (1.19.5)\n",
            "Requirement already satisfied: preshed<3.1.0,>=3.0.2 in /usr/local/lib/python3.7/dist-packages (from spacy>=2.2.2->en_core_web_sm==2.2.5) (3.0.5)\n",
            "Requirement already satisfied: wasabi<1.1.0,>=0.4.0 in /usr/local/lib/python3.7/dist-packages (from spacy>=2.2.2->en_core_web_sm==2.2.5) (0.8.2)\n",
            "Requirement already satisfied: requests<3.0.0,>=2.13.0 in /usr/local/lib/python3.7/dist-packages (from spacy>=2.2.2->en_core_web_sm==2.2.5) (2.23.0)\n",
            "Requirement already satisfied: murmurhash<1.1.0,>=0.28.0 in /usr/local/lib/python3.7/dist-packages (from spacy>=2.2.2->en_core_web_sm==2.2.5) (1.0.5)\n",
            "Requirement already satisfied: blis<0.5.0,>=0.4.0 in /usr/local/lib/python3.7/dist-packages (from spacy>=2.2.2->en_core_web_sm==2.2.5) (0.4.1)\n",
            "Requirement already satisfied: cymem<2.1.0,>=2.0.2 in /usr/local/lib/python3.7/dist-packages (from spacy>=2.2.2->en_core_web_sm==2.2.5) (2.0.5)\n",
            "Requirement already satisfied: catalogue<1.1.0,>=0.0.7 in /usr/local/lib/python3.7/dist-packages (from spacy>=2.2.2->en_core_web_sm==2.2.5) (1.0.0)\n",
            "Requirement already satisfied: thinc==7.4.0 in /usr/local/lib/python3.7/dist-packages (from spacy>=2.2.2->en_core_web_sm==2.2.5) (7.4.0)\n",
            "Requirement already satisfied: plac<1.2.0,>=0.9.6 in /usr/local/lib/python3.7/dist-packages (from spacy>=2.2.2->en_core_web_sm==2.2.5) (1.1.3)\n",
            "Requirement already satisfied: srsly<1.1.0,>=1.0.2 in /usr/local/lib/python3.7/dist-packages (from spacy>=2.2.2->en_core_web_sm==2.2.5) (1.0.5)\n",
            "Requirement already satisfied: setuptools in /usr/local/lib/python3.7/dist-packages (from spacy>=2.2.2->en_core_web_sm==2.2.5) (57.4.0)\n",
            "Requirement already satisfied: tqdm<5.0.0,>=4.38.0 in /usr/local/lib/python3.7/dist-packages (from spacy>=2.2.2->en_core_web_sm==2.2.5) (4.62.3)\n",
            "Requirement already satisfied: importlib-metadata>=0.20 in /usr/local/lib/python3.7/dist-packages (from catalogue<1.1.0,>=0.0.7->spacy>=2.2.2->en_core_web_sm==2.2.5) (4.8.1)\n",
            "Requirement already satisfied: typing-extensions>=3.6.4 in /usr/local/lib/python3.7/dist-packages (from importlib-metadata>=0.20->catalogue<1.1.0,>=0.0.7->spacy>=2.2.2->en_core_web_sm==2.2.5) (3.7.4.3)\n",
            "Requirement already satisfied: zipp>=0.5 in /usr/local/lib/python3.7/dist-packages (from importlib-metadata>=0.20->catalogue<1.1.0,>=0.0.7->spacy>=2.2.2->en_core_web_sm==2.2.5) (3.5.0)\n",
            "Requirement already satisfied: idna<3,>=2.5 in /usr/local/lib/python3.7/dist-packages (from requests<3.0.0,>=2.13.0->spacy>=2.2.2->en_core_web_sm==2.2.5) (2.10)\n",
            "Requirement already satisfied: certifi>=2017.4.17 in /usr/local/lib/python3.7/dist-packages (from requests<3.0.0,>=2.13.0->spacy>=2.2.2->en_core_web_sm==2.2.5) (2021.5.30)\n",
            "Requirement already satisfied: urllib3!=1.25.0,!=1.25.1,<1.26,>=1.21.1 in /usr/local/lib/python3.7/dist-packages (from requests<3.0.0,>=2.13.0->spacy>=2.2.2->en_core_web_sm==2.2.5) (1.24.3)\n",
            "Requirement already satisfied: chardet<4,>=3.0.2 in /usr/local/lib/python3.7/dist-packages (from requests<3.0.0,>=2.13.0->spacy>=2.2.2->en_core_web_sm==2.2.5) (3.0.4)\n",
            "\u001b[38;5;2m✔ Download and installation successful\u001b[0m\n",
            "You can now load the model via spacy.load('en_core_web_sm')\n"
          ]
        }
      ]
    },
    {
      "cell_type": "code",
      "metadata": {
        "id": "CiijReeFPuko"
      },
      "source": [
        "nlp = spacy.load('en_core_web_sm')"
      ],
      "execution_count": 8,
      "outputs": []
    },
    {
      "cell_type": "code",
      "metadata": {
        "colab": {
          "base_uri": "https://localhost:8080/"
        },
        "id": "my8bRYr_P8gI",
        "outputId": "377a1571-78c9-4bf5-b47c-2ef811784456"
      },
      "source": [
        "!pip install vaderSentiment"
      ],
      "execution_count": 11,
      "outputs": [
        {
          "output_type": "stream",
          "name": "stdout",
          "text": [
            "Requirement already satisfied: pip in /usr/local/lib/python3.7/dist-packages (21.1.3)\n",
            "Collecting install\n",
            "  Downloading install-1.3.4-py3-none-any.whl (3.1 kB)\n",
            "Collecting vaderSentiment\n",
            "  Downloading vaderSentiment-3.3.2-py2.py3-none-any.whl (125 kB)\n",
            "\u001b[K     |████████████████████████████████| 125 kB 7.3 MB/s \n",
            "\u001b[?25hRequirement already satisfied: requests in /usr/local/lib/python3.7/dist-packages (from vaderSentiment) (2.23.0)\n",
            "Requirement already satisfied: chardet<4,>=3.0.2 in /usr/local/lib/python3.7/dist-packages (from requests->vaderSentiment) (3.0.4)\n",
            "Requirement already satisfied: urllib3!=1.25.0,!=1.25.1,<1.26,>=1.21.1 in /usr/local/lib/python3.7/dist-packages (from requests->vaderSentiment) (1.24.3)\n",
            "Requirement already satisfied: idna<3,>=2.5 in /usr/local/lib/python3.7/dist-packages (from requests->vaderSentiment) (2.10)\n",
            "Requirement already satisfied: certifi>=2017.4.17 in /usr/local/lib/python3.7/dist-packages (from requests->vaderSentiment) (2021.5.30)\n",
            "Installing collected packages: vaderSentiment, install\n",
            "Successfully installed install-1.3.4 vaderSentiment-3.3.2\n"
          ]
        }
      ]
    },
    {
      "cell_type": "code",
      "metadata": {
        "id": "P_jfEyZfPuko"
      },
      "source": [
        "from vaderSentiment.vaderSentiment import SentimentIntensityAnalyzer"
      ],
      "execution_count": 12,
      "outputs": []
    },
    {
      "cell_type": "code",
      "metadata": {
        "id": "2Gc75hc-Pukp"
      },
      "source": [
        "vader_model = SentimentIntensityAnalyzer()"
      ],
      "execution_count": 13,
      "outputs": []
    },
    {
      "cell_type": "code",
      "metadata": {
        "colab": {
          "base_uri": "https://localhost:8080/"
        },
        "id": "NVDpDfcmPukp",
        "outputId": "df0cb833-f067-43cb-8698-da60c75924e4"
      },
      "source": [
        "my_annotation = 'positive' # what you annotate yourself\n",
        "sentence = \"I like Python\"\n",
        "vader_output = run_vader(nlp, sentence)\n",
        "vader_label = vader_output_to_label(vader_output)\n",
        "accurate = my_annotation == vader_label\n",
        "print()\n",
        "print('SENTENCE', sentence) # the sentence\n",
        "print('VADER OUTPUT', vader_output) # the VADER output\n",
        "print('VADER LABEL', vader_label) # the VADER output mapped to a label, in this case 'positive'\n",
        "print('MY ANNOTATION', my_annotation) # my annotation\n",
        "print('ACCURACY', accurate) # did VADER predict the same label as my manual annotation?"
      ],
      "execution_count": 14,
      "outputs": [
        {
          "output_type": "stream",
          "name": "stdout",
          "text": [
            "\n",
            "SENTENCE I like Python\n",
            "VADER OUTPUT {'neg': 0.0, 'neu': 0.444, 'pos': 0.556, 'compound': 0.3612}\n",
            "VADER LABEL positive\n",
            "MY ANNOTATION positive\n",
            "ACCURACY True\n"
          ]
        }
      ]
    },
    {
      "cell_type": "markdown",
      "metadata": {
        "id": "F9aHyLc-Pukp"
      },
      "source": [
        "## Exercise 3a\n",
        "\n",
        "You will now run VADER on the tweets you've collected. You will process each tweet using the code we have shown you above. The goal is add information about each tweet (i.e. in every iteration of the loop) to each of the three lists listed below. We can use these lists to compare the Vader output to the correct labels you provided. \n",
        "\n",
        "* *tweets*: append your tweet\n",
        "* *all_vader_output*: append the vader_label: negative | neutral | positive\n",
        "* *manual_annotation*: append your annotation: negative | neutral | positive\n",
        "\n",
        "You can use the code snippet below as a starting point."
      ]
    },
    {
      "cell_type": "code",
      "metadata": {
        "id": "ojIHnSmlPukp"
      },
      "source": [
        "import json"
      ],
      "execution_count": 15,
      "outputs": []
    },
    {
      "cell_type": "code",
      "metadata": {
        "colab": {
          "base_uri": "https://localhost:8080/",
          "height": 165
        },
        "id": "54HzMYJ7Pukq",
        "outputId": "463188df-3a06-4c67-86c9-9bc6f8f59e6c"
      },
      "source": [
        "my_tweets = json.load(open('my_tweets.json'))"
      ],
      "execution_count": 16,
      "outputs": [
        {
          "output_type": "error",
          "ename": "FileNotFoundError",
          "evalue": "ignored",
          "traceback": [
            "\u001b[0;31m---------------------------------------------------------------------------\u001b[0m",
            "\u001b[0;31mFileNotFoundError\u001b[0m                         Traceback (most recent call last)",
            "\u001b[0;32m<ipython-input-16-c98e0c06c427>\u001b[0m in \u001b[0;36m<module>\u001b[0;34m()\u001b[0m\n\u001b[0;32m----> 1\u001b[0;31m \u001b[0mmy_tweets\u001b[0m \u001b[0;34m=\u001b[0m \u001b[0mjson\u001b[0m\u001b[0;34m.\u001b[0m\u001b[0mload\u001b[0m\u001b[0;34m(\u001b[0m\u001b[0mopen\u001b[0m\u001b[0;34m(\u001b[0m\u001b[0;34m'my_tweets.json'\u001b[0m\u001b[0;34m)\u001b[0m\u001b[0;34m)\u001b[0m\u001b[0;34m\u001b[0m\u001b[0;34m\u001b[0m\u001b[0m\n\u001b[0m",
            "\u001b[0;31mFileNotFoundError\u001b[0m: [Errno 2] No such file or directory: 'my_tweets.json'"
          ]
        }
      ]
    },
    {
      "cell_type": "code",
      "metadata": {
        "colab": {
          "base_uri": "https://localhost:8080/",
          "height": 235
        },
        "id": "D1BwRcBmPukq",
        "outputId": "711b0ba1-144f-4d54-cf1e-aadecb84ea60"
      },
      "source": [
        "tweets = []\n",
        "all_vader_output = []\n",
        "manual_annotation = []\n",
        "\n",
        "for id_, tweet_info in my_tweets.items():\n",
        "    the_tweet = tweet_info['text_of_tweet']\n",
        "    vader_output = ''# run vader\n",
        "    vader_label = ''# convert vader output to category\n",
        "    \n",
        "    tweets.append(the_tweet)\n",
        "    all_vader_output.append(vader_label)\n",
        "    manual_annotation.append(tweet_info['sentiment_label'])"
      ],
      "execution_count": 17,
      "outputs": [
        {
          "output_type": "error",
          "ename": "NameError",
          "evalue": "ignored",
          "traceback": [
            "\u001b[0;31m---------------------------------------------------------------------------\u001b[0m",
            "\u001b[0;31mNameError\u001b[0m                                 Traceback (most recent call last)",
            "\u001b[0;32m<ipython-input-17-d6475a95adf3>\u001b[0m in \u001b[0;36m<module>\u001b[0;34m()\u001b[0m\n\u001b[1;32m      3\u001b[0m \u001b[0mmanual_annotation\u001b[0m \u001b[0;34m=\u001b[0m \u001b[0;34m[\u001b[0m\u001b[0;34m]\u001b[0m\u001b[0;34m\u001b[0m\u001b[0;34m\u001b[0m\u001b[0m\n\u001b[1;32m      4\u001b[0m \u001b[0;34m\u001b[0m\u001b[0m\n\u001b[0;32m----> 5\u001b[0;31m \u001b[0;32mfor\u001b[0m \u001b[0mid_\u001b[0m\u001b[0;34m,\u001b[0m \u001b[0mtweet_info\u001b[0m \u001b[0;32min\u001b[0m \u001b[0mmy_tweets\u001b[0m\u001b[0;34m.\u001b[0m\u001b[0mitems\u001b[0m\u001b[0;34m(\u001b[0m\u001b[0;34m)\u001b[0m\u001b[0;34m:\u001b[0m\u001b[0;34m\u001b[0m\u001b[0;34m\u001b[0m\u001b[0m\n\u001b[0m\u001b[1;32m      6\u001b[0m     \u001b[0mthe_tweet\u001b[0m \u001b[0;34m=\u001b[0m \u001b[0mtweet_info\u001b[0m\u001b[0;34m[\u001b[0m\u001b[0;34m'text_of_tweet'\u001b[0m\u001b[0;34m]\u001b[0m\u001b[0;34m\u001b[0m\u001b[0;34m\u001b[0m\u001b[0m\n\u001b[1;32m      7\u001b[0m     \u001b[0mvader_output\u001b[0m \u001b[0;34m=\u001b[0m \u001b[0;34m''\u001b[0m\u001b[0;31m# run vader\u001b[0m\u001b[0;34m\u001b[0m\u001b[0;34m\u001b[0m\u001b[0m\n",
            "\u001b[0;31mNameError\u001b[0m: name 'my_tweets' is not defined"
          ]
        }
      ]
    },
    {
      "cell_type": "markdown",
      "metadata": {
        "id": "zs3jMomMPukq"
      },
      "source": [
        "## Exercise 3b\n",
        "\n",
        "\n",
        "Now, you are going to determine how well VADER did by calculating a simplified form of accuracy. You can accomplish this by comparing the values in the list *manual_annotation* to the values in the list *all_vader_output*.\n",
        "\n",
        "The  formula for simplified accuracy is:\n",
        "\n",
        "$$Accuracy_{simplified} = \\frac{\\text{Number of correct instances}}{\\text{Total number of instances}}$$\n",
        "\n",
        "* **Correct instance**: this is when the output by VADER is the same as the manual annotation:\n",
        "    * *example of correct instance*: VADER and the manual annotation indicate that a tweet is positive\n",
        "    * *example of incorrect instance*: VADER predicts that a tweet is positive but the manual annotation states that it is negative.\n",
        "* **Number of instances**: this is the length of the list of **manual_annotation**\n",
        "\n",
        "\n",
        "If you are interested in the more complex, and correct, way of evaluating sentiment analysis, we point to [this notebook](https://github.com/cltl/ma-hlt-labs/blob/master/lab3.machine_learning/Lab3.2.ml.evaluation.ipynb)."
      ]
    },
    {
      "cell_type": "markdown",
      "metadata": {
        "id": "7pYiydUHPukq"
      },
      "source": [
        "## Exercise 3c\n",
        "Change one setting in the way the tweets are analyzed by VADER You can choose between changing **lemmatize** or **parts_of_speech_to_consider** of the **run_vader** function.\n",
        "Perform the steps from Exercise 3a and 3b again. Do you observe a difference? Is the performance better or worse? Why do you think this is the case?"
      ]
    },
    {
      "cell_type": "code",
      "metadata": {
        "id": "X5ka2MQmPukr"
      },
      "source": [
        ""
      ],
      "execution_count": 17,
      "outputs": []
    }
  ]
}