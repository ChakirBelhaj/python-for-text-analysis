{
  "nbformat": 4,
  "nbformat_minor": 0,
  "metadata": {
    "anaconda-cloud": {},
    "kernelspec": {
      "display_name": "Python 3",
      "language": "python",
      "name": "python3"
    },
    "language_info": {
      "codemirror_mode": {
        "name": "ipython",
        "version": 3
      },
      "file_extension": ".py",
      "mimetype": "text/x-python",
      "name": "python",
      "nbconvert_exporter": "python",
      "pygments_lexer": "ipython3",
      "version": "3.8.3"
    },
    "colab": {
      "name": "ASSIGNMENT-1.ipynb",
      "provenance": [],
      "include_colab_link": true
    }
  },
  "cells": [
    {
      "cell_type": "markdown",
      "metadata": {
        "id": "view-in-github",
        "colab_type": "text"
      },
      "source": [
        "<a href=\"https://colab.research.google.com/github/cltl/python-for-text-analysis/blob/colab/Assignments-colab/ASSIGNMENT_1.ipynb\" target=\"_parent\"><img src=\"https://colab.research.google.com/assets/colab-badge.svg\" alt=\"Open In Colab\"/></a>"
      ]
    },
    {
      "cell_type": "code",
      "metadata": {
        "id": "t-VUo0H7MlkI"
      },
      "source": [
        "%%capture\n",
        "!wget https://github.com/cltl/python-for-text-analysis/raw/master/zips/Data.zip\n",
        "!wget https://github.com/cltl/python-for-text-analysis/raw/master/zips/images.zip\n",
        "!wget https://github.com/cltl/python-for-text-analysis/raw/master/zips/Extra_Material.zip\n",
        "\n",
        "!unzip Data.zip -d ../\n",
        "!unzip images.zip -d ./\n",
        "!unzip Extra_Material.zip -d ../\n",
        "\n",
        "!rm Data.zip\n",
        "!rm Extra_Material.zip\n",
        "!rm images.zip"
      ],
      "execution_count": 1,
      "outputs": []
    },
    {
      "cell_type": "markdown",
      "metadata": {
        "id": "8JfKD8CZMlCh"
      },
      "source": [
        "# Assignment 1: Calculation, Strings, Boolean Expressions and Conditions\n",
        "\n",
        "**Deadline: Friday, September 9, 2021 before 3pm (submit via Canvas: Block I/Assignment 1)** \n",
        "\n",
        "\n",
        "This assignment is **not graded**, but it is mandatory to submit a version that shows you have given it a serious try. We will check your assignments to monitor the progress and get an impression of how the course is going so far. You will receive feedback and solutions on Monday September 13. **Please note that the material taught in this block is essential for all subsequent blocks.** \n",
        "\n",
        "- Please name your notebook with the following naming convention: ASSIGNMENT_1_FIRSTNAME_LASTNAME.ipynb\n",
        "- If you have **questions** about this topic, please contact **cltl.python.course@gmail.com**.\n",
        "\n",
        "\n",
        "In this block, we covered the following chapters:\n",
        "\n",
        "- Chapter 1 - Getting Started with Variables and Values\n",
        "- Chapter 2 - Basic Data Types (Integers and Floats)\n",
        "- Chapter 3 - Strings\n",
        "- Chapter 4 - Boolean Expressions and Conditions\n",
        "\n",
        "In this assignment, you will be asked to show what you have learned from the topics above! \n",
        "\n",
        "**Looking things up**\n",
        "\n",
        "Don't worry - you do not have to know things by heart yet - feel free to have all Chapters of block 1 open while you work on this. This also goes for all future assignments. \n",
        "\n",
        "**Finding solutions online**\n",
        "\n",
        "Very often, you can find good solutions online. We encourage you to use online resources when you get stuck. However, please always try to understand the code you find and indicate that it is not your own. Use the following format to mark code written by someone else:\n",
        "\n",
        "###Taken from [link] [date]\n",
        "\n",
        "[code]\n",
        "\n",
        "\\###\n",
        "\n",
        "Please use a similar format to indicate that you have worked with a classmate (e.g. mention the name instead of the link). \n",
        "\n",
        "*Indicating online resources and collaboration is mandatory! Please stick to this strategy for all course assignments.*\n",
        "\n",
        "**Being stuck and getting help**\n",
        "\n",
        "It is very normal to get stuck every now and then. Sometimes you find what is wrong within minutes, sometimes this takes longer. If you get stuck, please apply the strategies described in the readme. If none of them work, please contact us (cltl.python.course@gmail.com). "
      ]
    },
    {
      "cell_type": "markdown",
      "metadata": {
        "id": "WkONFxvnMlCl"
      },
      "source": [
        "## Exercise 1: Calculation\n"
      ]
    },
    {
      "cell_type": "markdown",
      "metadata": {
        "id": "l4kqGzI_MlCl"
      },
      "source": [
        "#### 1a. Average \n",
        "Define three variables `var1`, `var2` and `var3`. Calculate the average of these variables and assign it to the variable `average`. Print the outcome of your program as follows (use casting or an f-string):\n",
        "\n",
        "`The average of [...], [...] and [...] is: [...]`"
      ]
    },
    {
      "cell_type": "code",
      "metadata": {
        "id": "EQbNol6eMlCm"
      },
      "source": [
        "# average code"
      ],
      "execution_count": 2,
      "outputs": []
    },
    {
      "cell_type": "markdown",
      "metadata": {
        "id": "JhqS1z6sMlCn"
      },
      "source": [
        "#### 1b. Book prices\n",
        "\n",
        "\n",
        "Calculate book prices for the following scenarios:\n",
        "\n",
        "Suppose the price of a book is 24.95 EUR, but if the book is bought by a bookstore, they get a 30 percent discount (as opposed to customers buying from an online stores). Shipping costs 3 EUR for the first copy and 75 cents for each additional copy. Shipping costs always apply (the books also have to be shipped to the bookstore). \n",
        "\n",
        "Write a program that can calculate the total costs for any number of copies for both bookstores and other customers. Use variables with clear names for your calculations and print the result using a full sentence.\n",
        "\n",
        "The program should use variables which indicate whether the customer is a bookstore or not and how many books are bought. You can simply assign values to the variables in you code or use the input function (both is accepted).\n",
        "\n",
        "\n",
        "**Tip**\n",
        "\n",
        "Start small and add things in steps. For instance, start by calculating the price minus the discount. Then add the additional steps. Also, it helps to a start by simply assuming a specific number of books (start with 1 and make sure it works with any other number). Do not forget to test your program! "
      ]
    },
    {
      "cell_type": "code",
      "metadata": {
        "colab": {
          "base_uri": "https://localhost:8080/",
          "height": 130
        },
        "id": "y6hiv-dDMlCo",
        "outputId": "9da36c64-516f-431c-d201-d0b0400a9a50"
      },
      "source": [
        "# complete the code below\n",
        "\n",
        "n_books = \n",
        "customer_is_bookstore = \n",
        "\n",
        "# you bookprice calculations here"
      ],
      "execution_count": 3,
      "outputs": [
        {
          "output_type": "error",
          "ename": "SyntaxError",
          "evalue": "ignored",
          "traceback": [
            "\u001b[0;36m  File \u001b[0;32m\"<ipython-input-3-47e5e803bd1c>\"\u001b[0;36m, line \u001b[0;32m3\u001b[0m\n\u001b[0;31m    n_books =\u001b[0m\n\u001b[0m              ^\u001b[0m\n\u001b[0;31mSyntaxError\u001b[0m\u001b[0;31m:\u001b[0m invalid syntax\n"
          ]
        }
      ]
    },
    {
      "cell_type": "markdown",
      "metadata": {
        "id": "twOCOyWBMlCo"
      },
      "source": [
        "#### 1c. The modulus operator \n",
        "\n",
        "There is one operator (like the ones for multiplication and subtraction) that we did not discuss yet, namely the modulus operator %. Could you figure out by yourself what it does when you place it between two numbers (e.g. 113 % 9)? (PS: Try to figure it out by yourself first, by trying multiple combinations of numbers. If you do not manage, it's OK to use online resources...) \n",
        "\n",
        "You don't need this operator all that often, but when you do, it comes in really handy! Also, it is important to learn how to figure out what operators/methods/functions you have never seen before do by playing with code, googling or reading documentation. \n"
      ]
    },
    {
      "cell_type": "code",
      "metadata": {
        "id": "Xg-Z58VDMlCp"
      },
      "source": [
        "# try out the modulus operator!\n"
      ],
      "execution_count": 7,
      "outputs": []
    },
    {
      "cell_type": "markdown",
      "metadata": {
        "id": "fL5Scyj4MlCp"
      },
      "source": [
        "**Help the cashier**\n",
        "\n",
        "Can you use the modulus operator you just learned about to solve the following task? Imagine you want to help cashiers to return the change in a convenient way. This means you do not want to return hands full of small coins, but rather use bills and as few coins as possible. \n",
        "\n",
        "Write code  that classifies a given amount of money into smaller monetary units. Given a specific amout of dollars, your program should report the maximum number of dollar bills,  quarters, dimes, nickels, and pennies. \n",
        "\n",
        "Set the amount variable to 11.67. You code should output a report listing the monetary equivalent in dollars, quarters, dimes, nickels, and pennies (one quarter is equivalent to 25 cents; one dime to 10 cents; one nickle to 5 cents and a pennie to 1 cent). Your program should report the maximum number of dollars, then the number of quarters, dimes, nickels, and pennies, in this order, to result in the minimum number of coins. Here are the steps in developing the program:\n",
        "\n",
        "1. Convert the amount (11.67) into cents (1167).\n",
        "2. First get the amount of cents that you would get after subtracting the maximum amount of dollars (100 cents) using the modulus operator (67 cents).\n",
        "3. Then subtract the remainder (67 cents) from the total amount of cents (1167 cents) and divide this by 100 to find the number of dollars.\n",
        "4. Use the modulus operator again to find out the remainder after subtracting the maximum amount of quarters (17 cents).\n",
        "5. Subtract this remainder (17 cents) from the previous remainder (67 cents) and divide this by 25 to find out the number of quarters.\n",
        "6. Follow the same steps for the dimes, nickels and pennies.\n",
        "7. Display the result for your cashier! (the amount of dollars, quarters, dimes, nickels and pennies that (s)he would have to give back)`"
      ]
    },
    {
      "cell_type": "code",
      "metadata": {
        "id": "Z4VsgSmIMlCq"
      },
      "source": [
        "# cashier code"
      ],
      "execution_count": 8,
      "outputs": []
    },
    {
      "cell_type": "markdown",
      "metadata": {
        "id": "rd4qszFfMlCq"
      },
      "source": [
        "## Exercise 2: Printing and user input\n"
      ]
    },
    {
      "cell_type": "markdown",
      "metadata": {
        "id": "1_Jtib9tMlCr"
      },
      "source": [
        "#### 2a. Difference between \",\" and \"+\"\n",
        "\n",
        "What is the difference between using **+** and **,** in a print statement? Illustrate by using both in each of the following:\n",
        "\n",
        "* calling the `print()` fuction with multiple strings\n",
        "* printing combinations of strings and integers\n",
        "* concatenating multiple strings and assign to one single variable\n",
        "* concatenating strings and integers and assign to one single variable"
      ]
    },
    {
      "cell_type": "code",
      "metadata": {
        "id": "LBKtLk2tMlCr"
      },
      "source": [
        ""
      ],
      "execution_count": 8,
      "outputs": []
    },
    {
      "cell_type": "code",
      "metadata": {
        "id": "0rx547-jMlCr"
      },
      "source": [
        ""
      ],
      "execution_count": 8,
      "outputs": []
    },
    {
      "cell_type": "code",
      "metadata": {
        "id": "IivJxD-PMlCr"
      },
      "source": [
        ""
      ],
      "execution_count": 8,
      "outputs": []
    },
    {
      "cell_type": "code",
      "metadata": {
        "id": "OZfHpqEaMlCs"
      },
      "source": [
        ""
      ],
      "execution_count": 8,
      "outputs": []
    },
    {
      "cell_type": "markdown",
      "metadata": {
        "id": "eLdRMOkiMlCs"
      },
      "source": [
        "####  2b. Small Talk\n",
        "Write a program to have a little conversation with someone. First ask them for their name and their age, and then say something about your own age compared to theirs. Your code should result in a conversation following this example:\n",
        "\n",
        "> `Hello there! What is your name?`\n",
        "\n",
        "> -- Emily.\n",
        "\n",
        "> `Nice to meet you, Emily. How old are you?`\n",
        "\n",
        "> -- 23\n",
        "\n",
        "> `I'm 25 years old, so I'm 2 years older than you.`\n",
        "\n",
        "Also account for situations where the other person is older or the same age. You will need to use `if-else`-statements!"
      ]
    },
    {
      "cell_type": "code",
      "metadata": {
        "colab": {
          "base_uri": "https://localhost:8080/"
        },
        "id": "4c28G3M-MlCs",
        "outputId": "85698836-539b-41af-ca71-4e8ce243282e"
      },
      "source": [
        "name = input(\"Hello there! What is your name? \")\n",
        "# finish this code"
      ],
      "execution_count": 10,
      "outputs": [
        {
          "name": "stdout",
          "output_type": "stream",
          "text": [
            "Hello there! What is your name? \n"
          ]
        }
      ]
    },
    {
      "cell_type": "markdown",
      "metadata": {
        "id": "dbR7zxIWMlCs"
      },
      "source": [
        "## Exercise 3: String Art"
      ]
    },
    {
      "cell_type": "markdown",
      "metadata": {
        "id": "I7LyvUtvMlCs"
      },
      "source": [
        "#### 3a. Drawing figures\n",
        "We start with some repetition of the theory about strings:"
      ]
    },
    {
      "cell_type": "markdown",
      "metadata": {
        "id": "LvfW3H01MlCt"
      },
      "source": [
        "| Topic | Explanation |\n",
        "|-----------|--------|\n",
        "| `quotes` |\tA string is delimited by single quotes ('...') or double quotes (\"...\") |\n",
        "| `special characters` |\tCertain special characters can be used, such as \"\\n\" (for newline) and \"\\t\" (for a tab) \t|  \t \n",
        "| `printing special characters` |\tTo print the special characters, they must be preceded by a backslash (\\\\)\t |\n",
        "| `continue on next line` |\tA backslash (\\\\) at the end of a line is used to continue a string on the next line\t  \t |\n",
        "| `multi-line strings` |\tA multi-line print statement should be enclosed by three double or three single quotes (\"\"\"...\"\"\" of '''...''')\t | "
      ]
    },
    {
      "cell_type": "markdown",
      "metadata": {
        "id": "ZsVZkETDMlCt"
      },
      "source": [
        "Please run the code snippet below and observe what happens:"
      ]
    },
    {
      "cell_type": "code",
      "metadata": {
        "colab": {
          "base_uri": "https://localhost:8080/"
        },
        "id": "pWbC_UCHMlCt",
        "outputId": "ce48c77a-be83-43bd-d43d-abbea63aded2"
      },
      "source": [
        "print('hello\\n')\n",
        "print('To print a newline use \\\\n')\n",
        "print('She said: \\'hello\\'')\n",
        "print('\\tThis is indented')\n",
        "print('This is a very, very, very, very, very, very \\\n",
        "long print statement')\n",
        "print('''\n",
        "This is a multi-line print statement\n",
        "First line\n",
        "Second line\n",
        "''')"
      ],
      "execution_count": 11,
      "outputs": [
        {
          "output_type": "stream",
          "name": "stdout",
          "text": [
            "hello\n",
            "\n",
            "To print a newline use \\n\n",
            "She said: 'hello'\n",
            "\tThis is indented\n",
            "This is a very, very, very, very, very, very long print statement\n",
            "\n",
            "This is a multi-line print statement\n",
            "First line\n",
            "Second line\n",
            "\n"
          ]
        }
      ]
    },
    {
      "cell_type": "markdown",
      "metadata": {
        "id": "F3eCBwV-MlCt"
      },
      "source": [
        "Now write a Python script that prints the following figure using **only one line of code**! (so don't use triple quotes)\n",
        "\n",
        "        | | |\n",
        "         @ @\n",
        "          u\n",
        "        |\"\"\"|\n"
      ]
    },
    {
      "cell_type": "code",
      "metadata": {
        "id": "yUceT5baMlCt"
      },
      "source": [
        "# your code here"
      ],
      "execution_count": 12,
      "outputs": []
    },
    {
      "cell_type": "markdown",
      "metadata": {
        "id": "OZNArc1rMlCu"
      },
      "source": [
        "#### 3b. Colors\n",
        "We start again with some repetition of the theory:"
      ]
    },
    {
      "cell_type": "markdown",
      "metadata": {
        "id": "lWcmR1AVMlCu"
      },
      "source": [
        "| Topic | Explanation |\n",
        "|-----------|--------|\n",
        "| a = b + c\t| if b and c are strings: concatenate b and c to form a new string a| \n",
        "| a = b * c\t| if b is an integer and c is a string: c is repeated b times to form a new string a |\n",
        "| a[0] |\t the first character of string a  |\n",
        "| len(a) |\t the number of characters in string a |\n",
        "| min(a) |\t the smallest element in string a (alphabetically first) |\n",
        "| max(a) |\t the largest element in string a (alphabetically last) |"
      ]
    },
    {
      "cell_type": "markdown",
      "metadata": {
        "id": "jPKx3HlcMlCu"
      },
      "source": [
        "Please run the code snippet below and observe what happens:"
      ]
    },
    {
      "cell_type": "code",
      "metadata": {
        "colab": {
          "base_uri": "https://localhost:8080/"
        },
        "id": "Ew8GiEhGMlCu",
        "outputId": "289cf80f-7a10-418f-d3bd-e713c9270b0d"
      },
      "source": [
        "b = 'the'\n",
        "c = 'cat'\n",
        "d = ' is on the mat'\n",
        "a = b + ' ' + c + d\n",
        "print(a)\n",
        "a = b * 5\n",
        "print(a)\n",
        "print('The first character of', c, 'is' , c[0])\n",
        "print('The word c has,', len(c) ,'characters')"
      ],
      "execution_count": 13,
      "outputs": [
        {
          "output_type": "stream",
          "name": "stdout",
          "text": [
            "the cat is on the mat\n",
            "thethethethethe\n",
            "The first character of cat is c\n",
            "The word c has, 3 characters\n"
          ]
        }
      ]
    },
    {
      "cell_type": "markdown",
      "metadata": {
        "id": "0G5vPKNsMlCu"
      },
      "source": [
        "Now write a program that asks users for their favorite color. Create the following output (assuming \"red\" is the chosen color). Use \"+\" and \"\\*\".\n",
        "It should work with any color name though.\n",
        "\n",
        "```xml\n",
        "red red red red red red red red red red  \n",
        "red                                 red\n",
        "red                                 red\n",
        "red red red red red red red red red red\n",
        "```"
      ]
    },
    {
      "cell_type": "code",
      "metadata": {
        "colab": {
          "base_uri": "https://localhost:8080/"
        },
        "id": "KXrVdCjQMlCu",
        "outputId": "3465ffdf-5cc2-43d2-96bc-de1cdb8ed113"
      },
      "source": [
        "color = input('what is your favorite color? ')\n",
        "\n",
        "print(color)\n",
        "print(color)\n",
        "print(color)\n",
        "print(color)"
      ],
      "execution_count": 14,
      "outputs": [
        {
          "output_type": "stream",
          "name": "stdout",
          "text": [
            "what is your favorite color? \n",
            "\n",
            "\n",
            "\n",
            "\n"
          ]
        }
      ]
    },
    {
      "cell_type": "markdown",
      "metadata": {
        "id": "36wDrvkMMlCv"
      },
      "source": [
        "## Exercise 4: String methods \n",
        "\n",
        "Remember that you can see all methods of the class `str` by using `dir()`. You can ignore all methods that start with one or two underscores. "
      ]
    },
    {
      "cell_type": "code",
      "metadata": {
        "colab": {
          "base_uri": "https://localhost:8080/"
        },
        "id": "U8973UUnMlCv",
        "outputId": "16796e37-bfa9-4a90-cf65-3680438127ee"
      },
      "source": [
        "dir(str)"
      ],
      "execution_count": 15,
      "outputs": [
        {
          "output_type": "execute_result",
          "data": {
            "text/plain": [
              "['__add__',\n",
              " '__class__',\n",
              " '__contains__',\n",
              " '__delattr__',\n",
              " '__dir__',\n",
              " '__doc__',\n",
              " '__eq__',\n",
              " '__format__',\n",
              " '__ge__',\n",
              " '__getattribute__',\n",
              " '__getitem__',\n",
              " '__getnewargs__',\n",
              " '__gt__',\n",
              " '__hash__',\n",
              " '__init__',\n",
              " '__init_subclass__',\n",
              " '__iter__',\n",
              " '__le__',\n",
              " '__len__',\n",
              " '__lt__',\n",
              " '__mod__',\n",
              " '__mul__',\n",
              " '__ne__',\n",
              " '__new__',\n",
              " '__reduce__',\n",
              " '__reduce_ex__',\n",
              " '__repr__',\n",
              " '__rmod__',\n",
              " '__rmul__',\n",
              " '__setattr__',\n",
              " '__sizeof__',\n",
              " '__str__',\n",
              " '__subclasshook__',\n",
              " 'capitalize',\n",
              " 'casefold',\n",
              " 'center',\n",
              " 'count',\n",
              " 'encode',\n",
              " 'endswith',\n",
              " 'expandtabs',\n",
              " 'find',\n",
              " 'format',\n",
              " 'format_map',\n",
              " 'index',\n",
              " 'isalnum',\n",
              " 'isalpha',\n",
              " 'isascii',\n",
              " 'isdecimal',\n",
              " 'isdigit',\n",
              " 'isidentifier',\n",
              " 'islower',\n",
              " 'isnumeric',\n",
              " 'isprintable',\n",
              " 'isspace',\n",
              " 'istitle',\n",
              " 'isupper',\n",
              " 'join',\n",
              " 'ljust',\n",
              " 'lower',\n",
              " 'lstrip',\n",
              " 'maketrans',\n",
              " 'partition',\n",
              " 'replace',\n",
              " 'rfind',\n",
              " 'rindex',\n",
              " 'rjust',\n",
              " 'rpartition',\n",
              " 'rsplit',\n",
              " 'rstrip',\n",
              " 'split',\n",
              " 'splitlines',\n",
              " 'startswith',\n",
              " 'strip',\n",
              " 'swapcase',\n",
              " 'title',\n",
              " 'translate',\n",
              " 'upper',\n",
              " 'zfill']"
            ]
          },
          "metadata": {},
          "execution_count": 15
        }
      ]
    },
    {
      "cell_type": "markdown",
      "metadata": {
        "id": "AtZJaDDzMlCv"
      },
      "source": [
        "To see the explanation for a method of this class,  you can use `help(str.method)`. For example:"
      ]
    },
    {
      "cell_type": "code",
      "metadata": {
        "colab": {
          "base_uri": "https://localhost:8080/"
        },
        "id": "4JBUqnfDMlCv",
        "outputId": "61d9244b-bc54-48c9-88c2-aea1d5f52d87"
      },
      "source": [
        "help(str.upper)"
      ],
      "execution_count": 16,
      "outputs": [
        {
          "output_type": "stream",
          "name": "stdout",
          "text": [
            "Help on method_descriptor:\n",
            "\n",
            "upper(self, /)\n",
            "    Return a copy of the string converted to uppercase.\n",
            "\n"
          ]
        }
      ]
    },
    {
      "cell_type": "markdown",
      "metadata": {
        "id": "zSGgIM_qMlCv"
      },
      "source": [
        "#### 4a. Counting vowels\n",
        "Count how many of each vowel (a,e,i,o,u) there are in the text string in the next cell. Print the count for each vowel with a single formatted string. Remember that vowels can be both lower and uppercase."
      ]
    },
    {
      "cell_type": "code",
      "metadata": {
        "id": "tzl6uSWyMlCv"
      },
      "source": [
        "text = \"\"\"But I must explain to you how all this mistaken idea of denouncing pleasure and praising pain was born \n",
        "and I will give you a complete account of the system, and expound the actual teachings of the great explorer of the \n",
        "truth, the master-builder of human happiness. No one rejects, dislikes, or avoids pleasure itself, because it is \n",
        "pleasure, but because those who do not know how to pursue pleasure rationally encounter consequences that are \n",
        "extremely painful. Nor again is there anyone who loves or pursues or desires to obtain pain of itself, because it is \n",
        "pain, but because occasionally circumstances occur in which toil and pain can procure him some great pleasure. \n",
        "To take a trivial example, which of us ever undertakes laborious physical exercise, except to obtain some advantage \n",
        "from it? But who has any right to find fault with a man who chooses to enjoy a pleasure that has no annoying \n",
        "consequences, or one who avoids a pain that produces no resultant pleasure? On the other hand, we denounce with \n",
        "righteous indignation and dislike men who are so beguiled and demoralized by the charms of pleasure of the moment, \n",
        "so blinded by desire, that they cannot foresee the pain and trouble that are bound to ensue; and equal blame belongs \n",
        "to those who fail in their duty through weakness of will, which is the same as saying through shrinking from toil \n",
        "and pain.\"\"\"\n",
        "\n",
        "# your code here"
      ],
      "execution_count": 17,
      "outputs": []
    },
    {
      "cell_type": "markdown",
      "metadata": {
        "id": "XcnH44h-MlCv"
      },
      "source": [
        "#### 4b. Printing the lexicon\n",
        "Have a good look at the internal representation of the string below. Use a combination of string methods (you will need at least 3 different ones and some will have to be used multiple times) in the correct order to remove punctuation and redundant whitespaces, and print each word in lowercase characters on a new line. The result should look like:\n",
        "\n",
        "`the  \n",
        "quick  \n",
        "brown  \n",
        "fox  \n",
        "jumps  \n",
        "etc.`"
      ]
    },
    {
      "cell_type": "code",
      "metadata": {
        "colab": {
          "base_uri": "https://localhost:8080/"
        },
        "id": "o_gzK0kiMlCw",
        "outputId": "cf9a6465-20d6-44e9-a0b2-931ff534f45e"
      },
      "source": [
        "text = \"\"\"           The quick, brown fox jumps over a lazy dog.\\tDJs flock by when MTV ax quiz prog. \n",
        "Junk MTV quiz graced by fox whelps.\\tBawds jog, flick quartz, vex nymphs. \n",
        "Waltz, bad nymph, for quick jigs vex!\\tFox nymphs grab quick-jived waltz. \n",
        "Brick quiz whangs jumpy veldt fox.       \"\"\"\n",
        "\n",
        "print(text)\n",
        "print()\n",
        "print(repr(text))"
      ],
      "execution_count": 18,
      "outputs": [
        {
          "output_type": "stream",
          "name": "stdout",
          "text": [
            "           The quick, brown fox jumps over a lazy dog.\tDJs flock by when MTV ax quiz prog. \n",
            "Junk MTV quiz graced by fox whelps.\tBawds jog, flick quartz, vex nymphs. \n",
            "Waltz, bad nymph, for quick jigs vex!\tFox nymphs grab quick-jived waltz. \n",
            "Brick quiz whangs jumpy veldt fox.       \n",
            "\n",
            "'           The quick, brown fox jumps over a lazy dog.\\tDJs flock by when MTV ax quiz prog. \\nJunk MTV quiz graced by fox whelps.\\tBawds jog, flick quartz, vex nymphs. \\nWaltz, bad nymph, for quick jigs vex!\\tFox nymphs grab quick-jived waltz. \\nBrick quiz whangs jumpy veldt fox.       '\n"
          ]
        }
      ]
    },
    {
      "cell_type": "code",
      "metadata": {
        "colab": {
          "base_uri": "https://localhost:8080/",
          "height": 130
        },
        "id": "QpBgInepMlCw",
        "outputId": "60172249-51c3-4356-f535-04a36fb5a0cc"
      },
      "source": [
        "text = # your code here\n",
        "\n",
        "print(text)"
      ],
      "execution_count": 19,
      "outputs": [
        {
          "output_type": "error",
          "ename": "SyntaxError",
          "evalue": "ignored",
          "traceback": [
            "\u001b[0;36m  File \u001b[0;32m\"<ipython-input-19-557d23b51f38>\"\u001b[0;36m, line \u001b[0;32m1\u001b[0m\n\u001b[0;31m    text = # your code here\u001b[0m\n\u001b[0m                           ^\u001b[0m\n\u001b[0;31mSyntaxError\u001b[0m\u001b[0;31m:\u001b[0m invalid syntax\n"
          ]
        }
      ]
    },
    {
      "cell_type": "markdown",
      "metadata": {
        "id": "JnyPM7DOMlCw"
      },
      "source": [
        "#### 4c. Passwords\n",
        "\n",
        "Write a program that asks a user for a password and checks some simple requirements of a password. If necessary, print out the following warnings (use if-statements):\n",
        "\n",
        "1. Your password should contain at least 6 characters.\n",
        "2. Your password should contain no more than 12 characters.\n",
        "3. Your password only contains alphabetic characters! Please also use digits and/or special characters.\n",
        "4. Your password only contains digits! Please also use alphabetic and/or special characters.\n",
        "5. Your password should contain at least one special character.\n",
        "6. Your password contains only lowercase letters! Please also use uppercase letters.\n",
        "7. Your password contains only uppercase letters! Please also use lowercase letters."
      ]
    },
    {
      "cell_type": "code",
      "metadata": {
        "id": "dFuvGQEYMlCw"
      },
      "source": [
        "# your code here"
      ],
      "execution_count": 20,
      "outputs": []
    },
    {
      "cell_type": "markdown",
      "metadata": {
        "id": "2gaH49ikMlCw"
      },
      "source": [
        "## Exercise 5: Boolean Logic and Conditions"
      ]
    },
    {
      "cell_type": "markdown",
      "metadata": {
        "id": "Fy28pQJoMlCw"
      },
      "source": [
        "#### 5a. Speeding\n",
        "\n",
        "Write code to solve the following scenario:\n",
        "\n",
        "You are driving a little too fast, and a police officer stops you. Write code to compute and print the result, encoded as a string: 'no ticket', 'small ticket', 'big ticket'. If speed is 60 or less, the result is 'no ticket'. If speed is between 61 and 80 inclusive, the result is 'small ticket'. If speed is 81 or more, the result is 'big ticket'. Unless it is your birthday -- on that day, your speed can be 5 higher in all cases.\n"
      ]
    },
    {
      "cell_type": "code",
      "metadata": {
        "id": "FK1gaWkXMlCw"
      },
      "source": [
        "# your code here"
      ],
      "execution_count": 21,
      "outputs": []
    },
    {
      "cell_type": "markdown",
      "metadata": {
        "id": "FjczqqvWMlCx"
      },
      "source": [
        "#### 5b. Alarm clock\n",
        "\n",
        "Write code to set you alarm clock! Given the day of the week and information about whether you are currently on vacation or not, your code should print the time you want to be woken up following these constraints: \n",
        "\n",
        "Weekdays, the alarm should be \"7:00\" and on the weekend it should be \"10:00\". Unless we are on vacation -- then on weekdays it should be \"10:00\" and weekends it should be \"off\".\n",
        "\n",
        "\n",
        "Encode the weeks days as ints in the following way: 0=Sun, 1=Mon, 2=Tue, ...6=Sat. Encode the vacation infromation as boolean. Your code should assign the correct time to a variable as a string (following this format: \"7:00\") and print it.\n",
        "\n",
        "Note: Encoding the days as an integer helps you with defining conditions. You can check whether the week day is in a certain interval (instead of writing code for every single day). "
      ]
    },
    {
      "cell_type": "code",
      "metadata": {
        "id": "Eig-ZRn9MlCx"
      },
      "source": [
        "# your code here"
      ],
      "execution_count": 22,
      "outputs": []
    },
    {
      "cell_type": "markdown",
      "metadata": {
        "id": "bh7QfeWhMlCx"
      },
      "source": [
        "#### 5c. Parcel delivery\n",
        "The required postage for an  international parcel delivery service is calculated based on item weight and country of destination:\n",
        "\n",
        "\n",
        "| Tariff zone | 0 - 2 kg | 2 - 5 kg | 5 - 10 kg | 10 - 20 kg | 20 - 30 kg |\n",
        "|-------------|----------|----------|-----------|------------|------------|\n",
        "|EUR 1 | € 13.00 | € 19.50 | € 25.00 | € 34.00 | € 45.00 | \n",
        "|EUR 2 | € 18.50 | € 25.00 | € 31.00 | € 40.00 | € 55.00 | \n",
        "|World | € 24.30 | € 34.30 | € 58.30 | € 105.30 | - | \n",
        "\n",
        "Ask a user for the `weight` and `zone`. Use (nested) `if`-statements to find the required postage based on these variables. Assign the result to a variable `postage` and print the result using a full sentence:\n",
        "\n",
        "`The price of sending a [...] kg parcel to the [...] zone is € [...].`"
      ]
    },
    {
      "cell_type": "code",
      "metadata": {
        "id": "4tPcHe5NMlCx"
      },
      "source": [
        "# your code here"
      ],
      "execution_count": 23,
      "outputs": []
    },
    {
      "cell_type": "code",
      "metadata": {
        "id": "ZwEcNwspMlCx"
      },
      "source": [
        ""
      ],
      "execution_count": 23,
      "outputs": []
    }
  ]
}