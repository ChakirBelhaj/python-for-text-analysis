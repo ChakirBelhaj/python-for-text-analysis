{
  "nbformat": 4,
  "nbformat_minor": 0,
  "metadata": {
    "kernelspec": {
      "display_name": "Python 3",
      "language": "python",
      "name": "python3"
    },
    "language_info": {
      "codemirror_mode": {
        "name": "ipython",
        "version": 3
      },
      "file_extension": ".py",
      "mimetype": "text/x-python",
      "name": "python",
      "nbconvert_exporter": "python",
      "pygments_lexer": "ipython3",
      "version": "3.8.3"
    },
    "colab": {
      "name": "ASSIGNMENT-3a.ipynb",
      "provenance": [],
      "include_colab_link": true
    }
  },
  "cells": [
    {
      "cell_type": "markdown",
      "metadata": {
        "id": "view-in-github",
        "colab_type": "text"
      },
      "source": [
        "<a href=\"https://colab.research.google.com/github/cltl/python-for-text-analysis/blob/colab/Assignments-colab/ASSIGNMENT_3a.ipynb\" target=\"_parent\"><img src=\"https://colab.research.google.com/assets/colab-badge.svg\" alt=\"Open In Colab\"/></a>"
      ]
    },
    {
      "cell_type": "code",
      "metadata": {
        "id": "O65eIntWNX5R"
      },
      "source": [
        "%%capture\n",
        "!wget https://github.com/cltl/python-for-text-analysis/raw/master/zips/Data.zip\n",
        "!wget https://github.com/cltl/python-for-text-analysis/raw/master/zips/images.zip\n",
        "!wget https://github.com/cltl/python-for-text-analysis/raw/master/zips/Extra_Material.zip\n",
        "\n",
        "!unzip Data.zip -d ../\n",
        "!unzip images.zip -d ./\n",
        "!unzip Extra_Material.zip -d ../\n",
        "\n",
        "!rm Data.zip\n",
        "!rm Extra_Material.zip\n",
        "!rm images.zip"
      ],
      "execution_count": 1,
      "outputs": []
    },
    {
      "cell_type": "markdown",
      "metadata": {
        "id": "rBQ_26ihNXHY"
      },
      "source": [
        "# Assignment 3a: Revision of block 3\n",
        "\n",
        "## Due: Friday the 1st of October 2021 14:30.\n",
        "\n",
        "\n",
        "* Please submit your assignment (notebooks of parts 3a and 3b + Python modules) as **a single .zip file** using Canvas (Assignments --> Assignment 3). Please put the notebooks for Assignment 3a and 3b as well as the Python modules (files ending with .py) in one folder, which you call ASSIGNMENT_3_FIRSTNAME_LASTNAME. Please zip this folder and upload it as your submission.\n",
        "\n",
        "* Please name your zip file with the following naming convention: ASSIGNMENT_3_FIRSTNAME_LASTNAME.zip\n",
        "\n",
        "**IMPORTANTE NOTE**:\n",
        "* The students who follow the Bachelor version of this course, i.e., the course Introduction to Python for Humanities and Social Sciences (L_AABAALG075) as part of the minor Digital Humanities, do **not have to do Exercises 3 and 4 of Assignment 3b**\n",
        "* The other students, i.e., who follow the Master version of  course, which is Programming in Python for Text Analysis (L_AAMPLIN021), are required to **do Exercises 3 and 4 of Assignment 3b**\n",
        "\n",
        "If you have **questions** about this topic, please contact us **(cltl.python.course@gmail.com)**. Questions and answers will be collected on Piazza, so please check if your question has already been answered first.\n",
        "\n",
        "\n",
        "In this block, we covered a lot of ground:\n",
        "\n",
        "* Chapter 12 - Importing external modules \n",
        "* Chapter 13 - Working with Python scripts\n",
        "* Chapter 14 - Reading and writing text files\n",
        "* Chapter 15 - Off to analyzing text \n",
        "\n",
        "\n",
        "In this assignment, you will first complete a number of small exercises about each chapter to make sure you are familiar with the most important concepts. In the second part of the assignment, you will apply your newly acquired skills to write your very own text processing program (ASSIGNMENT-3b) :-). But don't worry, there will be instructions and hints along the way. \n",
        "\n",
        "\n",
        "**Can I use external modules other than the ones treated so far?**\n",
        "\n",
        "For now, please try to avoid it. All the exercises can be solved with what we have covered in block I, II, and III. \n"
      ]
    },
    {
      "cell_type": "markdown",
      "metadata": {
        "id": "JgjyCbI7NXHc"
      },
      "source": [
        "## Functions & scope"
      ]
    },
    {
      "cell_type": "markdown",
      "metadata": {
        "id": "EXXJzxLiNXHc"
      },
      "source": [
        "### Excercise 1:\n",
        "\n",
        "Define a function called `split_sort_text` which takes one positional parameter called **text** (a string).\n",
        "\n",
        "The function:\n",
        "* splits the string on a space character, i.e., ' '\n",
        "* returns all the unique words in alphabetical order as a list.\n",
        "\n",
        "* Hint 1: There is a specific python container which does not allow for duplicates and simply removes them. Use this one. \n",
        "* Hint 2: There is a function which sorts items in an iterable called 'sorted'. Look at the documentation to see how it is used. \n",
        "* Hint 3: Don't forget to write a docstring. Please make sure that the docstring generally explains with the input is, what the function does, and what the function returns. If you want, but this is not needed to receive full points, you can use [reStructuredText](http://docutils.sourceforge.net/rst.html)."
      ]
    },
    {
      "cell_type": "code",
      "metadata": {
        "id": "PrC0GKytNXHd"
      },
      "source": [
        "# your code here"
      ],
      "execution_count": 2,
      "outputs": []
    },
    {
      "cell_type": "markdown",
      "metadata": {
        "id": "Kl7InRMaNXHe"
      },
      "source": [
        "## Working with external modules"
      ]
    },
    {
      "cell_type": "markdown",
      "metadata": {
        "id": "HQJbvbC1NXHe"
      },
      "source": [
        "### Exercise 2\n",
        "NLTK offers a way of using WordNet in Python. Do some research (using google, because quite frankly, that's what we do very often) and see if you can find out how to import it. WordNet is a computational lexicon which organizes words according to their senses (collected in synsets). See if you can print all the **synset definitions** of the lemma **dog**.\n",
        "\n",
        "Make sure you have run the following cell to make sure you have installed WordNet:"
      ]
    },
    {
      "cell_type": "code",
      "metadata": {
        "id": "Pa9atgVANXHf"
      },
      "source": [
        "import nltk\n",
        "# uncomment the following line to download material including WordNet\n",
        "# nltk.download('book')"
      ],
      "execution_count": 3,
      "outputs": []
    },
    {
      "cell_type": "code",
      "metadata": {
        "id": "7nDHtpxsNXHf"
      },
      "source": [
        "# your code here"
      ],
      "execution_count": 4,
      "outputs": []
    },
    {
      "cell_type": "markdown",
      "metadata": {
        "id": "y6TEADuWNXHg"
      },
      "source": [
        "## Working with python scripts"
      ]
    },
    {
      "cell_type": "markdown",
      "metadata": {
        "id": "u_xe40JZNXHg"
      },
      "source": [
        "### Exercise  3\n",
        "\n",
        "#### a.) Define a function called `count`, which determines how often each word occurs in a string. Do not use NLTK just yet. Find a way to test it. \n",
        "\n",
        "* Write a helper-function called `preprocess`, which removes the punctuation specified by the user, and returns the same string without the unwanted characters. You call the function `preprocess` inside the `count` function.\n",
        "\n",
        "* Remember that there are string methods that you can use to get rid of unwanted characters. Test the `preprocess` function using the following string `'this is a (tricky) test'`.\n",
        "\n",
        "* Remember how we used dictionaries to count words? If not, have a look at Chapter 10 - Dictionaries. \n",
        "\n",
        "* make sure you split the string on a space character ' '. You loop over the list to count the words.\n",
        "\n",
        "* Test your function using an example string, which will tell you whether it fulfills the requirements (remove punctuation, split, count). You will get a point for good testing.\n",
        "\n",
        "#### b.) Create a python script \n",
        "\n",
        "Use your editor to create a Python script called **count_words.py**. Place the function definition of the **count** function in **count_words.py**. Also put a function call of the **count** function in this file to test it. Place your helper function definition, i.e., **preprocess**, in a separate script called **utils_3a.py**. Import your helper function **preprocess** into count_words.py. Test whether everything works as expected by calling the script count_words.py from the terminal.\n",
        "\n",
        "The function **preprocess** preprocesses the text by removing characters that are unwanted by the user. **preprocess** is called within the **count** function and hence builds upon the output from the preprocess function and creates a dictionary in which the key is a word and the value is the frequency of the word.\n",
        "\n",
        "**Please submit these scripts together with the other notebooks**.\n",
        "\n",
        "Don't forget to add docstrings to your functions. "
      ]
    },
    {
      "cell_type": "code",
      "metadata": {
        "id": "OwQspOMoNXHh"
      },
      "source": [
        "# Feel free to use this cell to try out your code. "
      ],
      "execution_count": 5,
      "outputs": []
    },
    {
      "cell_type": "markdown",
      "metadata": {
        "id": "zb8AFlwRNXHh"
      },
      "source": [
        "## Dealing with text files"
      ]
    },
    {
      "cell_type": "markdown",
      "metadata": {
        "id": "7mgkYTivNXHh"
      },
      "source": [
        "### Exercise 4\n",
        "\n",
        "**Playing with lyrics**\n",
        "\n",
        "a.) Write a function called `load_text`, which opens and reads a file and returns the text in the file. It should have the file path as a parameter. Test it by loading this file: ../Data/lyrics/walrus.txt\n",
        "\n",
        "* Hint: remember it is best practice to use a context manager\n",
        "* Hint: **FileNotFoundError**: This means that the path you provide does not lead to an existing file on your computer. Please carefully study Chapter 14. Please determine where the notebook or Python module that you are working with is located on your computer. Try to determine where Python is looking if you provide a path such as “../Data/lyrics/walrus.txt”. Try to go from your notebook to the location on your computer where Python is trying to find the file. One tip: if you did not store the Assignments notebooks 3a and 3b in the folder “Assignments”, you would get this error.\n",
        "\n",
        "b.) Write a function called `replace_walrus`, which takes lyrics as input and replaces every instance of 'walrus' by 'hippo' (make sure to account for upper and lower case - it is fine to transform everything to lower case). The function should write the new version of the song to a file called 'walrus_hippo.txt and stored in ../Data/lyrics. \n",
        "\n",
        "Don't forget to add docstrings to your functions. "
      ]
    },
    {
      "cell_type": "code",
      "metadata": {
        "id": "xO0rDOcINXHi"
      },
      "source": [
        "# your code here\n"
      ],
      "execution_count": 6,
      "outputs": []
    },
    {
      "cell_type": "markdown",
      "metadata": {
        "id": "kWuC2VDXNXHi"
      },
      "source": [
        "## Analyzing text with nltk"
      ]
    },
    {
      "cell_type": "markdown",
      "metadata": {
        "id": "7pyqIMYGNXHi"
      },
      "source": [
        "### Exercise 5\n",
        "\n",
        "**Building a simple NLP pipeline**\n",
        "\n",
        "For this exercise, you will need NLTK. Don't forget to import it. \n",
        "\n",
        "Write a function called `tag_text`, which takes raw text as input and returns the tagged text. To do this, make sure you follow the steps below:\n",
        "\n",
        "* Tokenize the text. \n",
        "\n",
        "* Perform part-of-speech tagging on the list of tokens. \n",
        "\n",
        "* Return the tagged text\n",
        "\n",
        "\n",
        "Then test your function using the text snipped below (`test_text`) as input.\n",
        "\n",
        "Please note that the tags may not be correct and that this is not a mistake on your end, but simply NLP tools not being perfect."
      ]
    },
    {
      "cell_type": "code",
      "metadata": {
        "id": "JGb0L8fpNXHi"
      },
      "source": [
        "test_text = \"\"\"Shall I compare thee to a summer's day?\n",
        "Thou art more lovely and more temperate:\n",
        "Rough winds do shake the darling buds of May,\n",
        "And summer's lease hath all too short a date:\"\"\""
      ],
      "execution_count": 7,
      "outputs": []
    },
    {
      "cell_type": "code",
      "metadata": {
        "id": "NpU9ajQ6NXHj"
      },
      "source": [
        "# your code here"
      ],
      "execution_count": 8,
      "outputs": []
    },
    {
      "cell_type": "markdown",
      "metadata": {
        "id": "Q4cSNt7wNXHj"
      },
      "source": [
        "## Python knowledge"
      ]
    },
    {
      "cell_type": "markdown",
      "metadata": {
        "id": "7nLOxpaGNXHj"
      },
      "source": [
        "### Exercise 6\n",
        "\n",
        "6.a) Explain in your own words the difference between the global and the local scope."
      ]
    },
    {
      "cell_type": "markdown",
      "metadata": {
        "id": "W7gyOtVaNXHj"
      },
      "source": [
        "[answer]"
      ]
    },
    {
      "cell_type": "markdown",
      "metadata": {
        "id": "8bM753uPNXHj"
      },
      "source": [
        "6.b) What is the difference between the modes 'w' and 'a' when opening a file?"
      ]
    },
    {
      "cell_type": "markdown",
      "metadata": {
        "id": "Yl-GOj1DNXHj"
      },
      "source": [
        "[answer]"
      ]
    },
    {
      "cell_type": "code",
      "metadata": {
        "id": "69g4Xm-FNXHk"
      },
      "source": [
        ""
      ],
      "execution_count": 8,
      "outputs": []
    }
  ]
}