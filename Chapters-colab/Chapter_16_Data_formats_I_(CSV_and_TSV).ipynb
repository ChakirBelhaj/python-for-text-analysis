{
  "nbformat": 4,
  "nbformat_minor": 0,
  "metadata": {
    "kernelspec": {
      "name": "python3",
      "display_name": "Python 3.8.10 64-bit ('nlp': conda)"
    },
    "language_info": {
      "codemirror_mode": {
        "name": "ipython",
        "version": 3
      },
      "file_extension": ".py",
      "mimetype": "text/x-python",
      "name": "python",
      "nbconvert_exporter": "python",
      "pygments_lexer": "ipython3",
      "version": "3.8.10"
    },
    "interpreter": {
      "hash": "6106edc083458b68f61c14c570e0f5152b4e1e25a61780539c3fe413e38ae5e6"
    },
    "colab": {
      "name": "Chapter 16 - Data formats I (CSV and TSV).ipynb",
      "provenance": [],
      "include_colab_link": true
    }
  },
  "cells": [
    {
      "cell_type": "markdown",
      "metadata": {
        "id": "view-in-github",
        "colab_type": "text"
      },
      "source": [
        "<a href=\"https://colab.research.google.com/github/cltl/python-for-text-analysis/blob/colab/Chapters-colab/Chapter_16_Data_formats_I_(CSV_and_TSV).ipynb\" target=\"_parent\"><img src=\"https://colab.research.google.com/assets/colab-badge.svg\" alt=\"Open In Colab\"/></a>"
      ]
    },
    {
      "cell_type": "code",
      "metadata": {
        "id": "Sn_zhmT2ElLt"
      },
      "source": [
        "%%capture\n",
        "!wget https://github.com/cltl/python-for-text-analysis/raw/master/zips/Data.zip\n",
        "!wget https://github.com/cltl/python-for-text-analysis/raw/master/zips/images.zip\n",
        "!wget https://github.com/cltl/python-for-text-analysis/raw/master/zips/Extra_Material.zip\n",
        "\n",
        "!unzip Data.zip -d ../\n",
        "!unzip images.zip -d ./\n",
        "!unzip Extra_Material.zip -d ../\n",
        "\n",
        "!rm Data.zip\n",
        "!rm Extra_Material.zip\n",
        "!rm images.zip"
      ],
      "execution_count": 1,
      "outputs": []
    },
    {
      "cell_type": "markdown",
      "metadata": {
        "id": "JdnjnDx0Ejua"
      },
      "source": [
        "# Chapter 16: Data formats I (CSV and TSV)\n",
        "\n",
        "In the subsequent chapters, we will introduce you to several data formats. In the previous chapters, you have already worked with plain text. Now, we are going to work with: \n",
        "\n",
        "* tables (CSV/TSV) \n",
        "* JSON\n",
        "* XML \n",
        "\n",
        "These formats are simply the result of agreements that were made between people on how to organize and store data. Some formats, such as XML and RDF, have a high degree of structure, whereas plain text is a typical example of unstructured data. Structuring data according to predefined specifications allows information in the data to be easily ordered and processed by machines. You can compare highly structured data with a perfectly organized filing cabinet where everything is identified, labeled, and easy to access.\n",
        "\n",
        "**In general, you can treat any of these data formats as a text file with certain regularities people have agreed on**. You can simply read in the file and use the tools you already to exploit these regularities and access information. For some data formats with rather complex structures (such as XML), it is more convenient to use existing python packages to extract information. \n",
        "\n",
        "This notebook introduces tabular formats: CSV/TSV. TSV/CSV is a highly transparent way of structuring data in tables. It is a rather straightforward structure and does not necessarily require specific Python packages. \n",
        "\n",
        "**At the end of this chapter, you will be able to:**\n",
        "* read CSV/TSV data\n",
        "* manipulate CSV/TSV data\n",
        "* write CSV/TSV data\n",
        "\n",
        "**If you want to learn more about these topics, you might find the following links useful:**\n",
        "* [Tutorial: Reading and Manipulating CSV Files](https://www.protechtraining.com/blog/post/python-for-beginners-reading-manipulating-csv-files-737)\n",
        "* If you want more Raymond Hettinger content and learn about his opinion on what makes good python programers, [this video](https://www.youtube.com/watch?v=UANN2Eu6ZnM) is for you.\n",
        "\n",
        "\n",
        "If you have **questions** about this chapter, please contact us at cltl.python.course@gmail.com."
      ]
    },
    {
      "cell_type": "markdown",
      "metadata": {
        "id": "P60_c_35Ejue"
      },
      "source": [
        "## 1. Introduction to CSV and TSV (tables)\n",
        "The **table** is probably one of the most common and intuitive data formats. Undoubtedly, you have already worked with tabular data in Excel, Numbers, or Google Sheets. A table represents a set of data points as a series of rows, with a column for each of the data points' properties. In other words: a table has vertical **columns** (often identifiable by name) and horizontal **rows**, and the **cells** are the unit where a row and column intersect. This is a very simple example:\n",
        "\n",
        "| name     | house      | patronus |  \n",
        "|----------|------------|----------| \n",
        "| Harry    | Gryffindor | stag     | \n",
        "| Hermione | Gryffindor | otter    | \n",
        "| Draco    | Slytherin  | unknown  | \n",
        "| Hannah   | Hufflepuff | unknown  | \n",
        "\n",
        "Tabular data can be encoded as **CSV (comma-separated values) or TSV (tab-separated values)**. CSV and TSV files are simply plain text files in which each line represents a row, and the columns are separated by a comma (for CSV) or a tab character (for TSV).\n",
        "\n",
        "\n",
        "\n"
      ]
    },
    {
      "cell_type": "code",
      "metadata": {
        "colab": {
          "base_uri": "https://localhost:8080/"
        },
        "id": "PIZgJEf9Ew-N",
        "outputId": "00fe070c-da83-4697-d28a-7338fd77cf1c"
      },
      "source": [
        "!ls ../Data"
      ],
      "execution_count": 2,
      "outputs": [
        {
          "output_type": "stream",
          "name": "stdout",
          "text": [
            "authorship  csv_data   json_data     lyrics\tRedCircle   xml_data\n",
            "books\t    Dodds2014  LCohen\t     MSCOCO\tscripts\n",
            "Charlie     Dreams     linguistlist  README.md\tSUBTLEX-US\n"
          ]
        }
      ]
    },
    {
      "cell_type": "markdown",
      "metadata": {
        "id": "yh6ehEy6Ejuf"
      },
      "source": [
        "You can find examples of CSV files in the folder `../Data/csv_data`. For instance, look at the files in `../Data/csv_data/baby_names/names_by_state/`. If you like, open them in a text editor (e.g., [Atom](https://atom.io/), [BBEdit](https://www.barebones.com/products/bbedit/download.html), or [Notepad++](https://notepad-plus-plus.org)), or Excel (convert text to columns by using the comma as delimiter) to see their content. \n",
        "\n",
        "For example, these are the first 10 rows of the CSV file `AK.csv`:"
      ]
    },
    {
      "cell_type": "code",
      "metadata": {
        "colab": {
          "base_uri": "https://localhost:8080/",
          "height": 146
        },
        "id": "kfrW-92gE4yA",
        "outputId": "4e3458f8-7056-44d7-a74d-48f541307ebb"
      },
      "source": [
        "from IPython.display import Image\n",
        "Image('./images/csv.png')"
      ],
      "execution_count": 6,
      "outputs": [
        {
          "output_type": "execute_result",
          "data": {
            "image/png": "[encoded data removed]",
            "text/plain": [
              "<IPython.core.display.Image object>"
            ]
          },
          "metadata": {},
          "execution_count": 6
        }
      ]
    },
    {
      "cell_type": "markdown",
      "metadata": {
        "id": "TQHfKLAVFLCn"
      },
      "source": [
        "A TSV file would look like this (note that the tab separator is represented as '\\t', which is not shown here):"
      ]
    },
    {
      "cell_type": "code",
      "metadata": {
        "colab": {
          "base_uri": "https://localhost:8080/",
          "height": 149
        },
        "id": "91MnV5GZE8FF",
        "outputId": "cdd29ac6-b927-4ad5-d8ce-c1d13f0909d9"
      },
      "source": [
        "from IPython.display import Image\n",
        "Image('./images/tsv.png')"
      ],
      "execution_count": 7,
      "outputs": [
        {
          "output_type": "execute_result",
          "data": {
            "image/png": "[encoded data removed]",
            "text/plain": [
              "<IPython.core.display.Image object>"
            ]
          },
          "metadata": {},
          "execution_count": 7
        }
      ]
    },
    {
      "cell_type": "markdown",
      "metadata": {
        "id": "s3QMJnesFQGt"
      },
      "source": [
        "The file `AK.csv` contains a list of names given to children in the state of Alaska from 1910 to 2015 with their frequency. Each line in this file has five elements, which are separated by commas: \n",
        "\n",
        "- the state abbreviation (AK for Alaska)\n",
        "- gender (F/M)\n",
        "- year\n",
        "- name\n",
        "- frequency of that name in the given year and state \n",
        "\n",
        "Below, we will work towards representing this data in Python as a **list of lists** (i.e., a nested list) or as a **list of dicts**. In both cases, the elements of the (first) list represent the complete rows. The individual rows, then, can be either represented as a list (without column names) or as a dictionary (with column names).\n",
        "\n",
        "|      LIST OF LISTS        |  LIST OF DICTS            |\n",
        "|:-------------------------:|:-------------------------:|"
      ]
    },
    {
      "cell_type": "code",
      "metadata": {
        "colab": {
          "base_uri": "https://localhost:8080/",
          "height": 500
        },
        "id": "cVDuPdONFwyt",
        "outputId": "90169eef-8293-4dce-805a-0639fe5eefe5"
      },
      "source": [
        "from IPython.display import Image\n",
        "display(Image('./images/list_of_lists.png'))\n",
        "display(Image('./images/list_of_dicts.png'))"
      ],
      "execution_count": 30,
      "outputs": [
        {
          "output_type": "display_data",
          "data": {
            "image/png": "[encoded data removed]",
            "text/plain": [
              "<IPython.core.display.Image object>"
            ]
          },
          "metadata": {}
        },
        {
          "output_type": "display_data",
          "data": {
            "image/png": "[encoded data removed]",
            "text/plain": [
              "<IPython.core.display.Image object>"
            ]
          },
          "metadata": {}
        }
      ]
    },
    {
      "cell_type": "markdown",
      "metadata": {
        "id": "_0Z0tIZwEjuf"
      },
      "source": [
        "## 2. Reading CSV files\n",
        "\n",
        "Because CSV/TSV files are essentially text files, we can open and read them in the same way as we have seen before:"
      ]
    },
    {
      "cell_type": "code",
      "metadata": {
        "id": "LO23wozGEjug"
      },
      "source": [
        "# Read the file just as we read a text file\n",
        "filename = \"../Data/csv_data/baby_names/names_by_state/AK.csv\"\n",
        "with open(filename, \"r\") as csvfile:\n",
        "    content = csvfile.read()"
      ],
      "execution_count": 8,
      "outputs": []
    },
    {
      "cell_type": "code",
      "metadata": {
        "colab": {
          "base_uri": "https://localhost:8080/"
        },
        "id": "CGBPTx3jEjuh",
        "outputId": "0ecf9b47-1f16-40a8-b5c0-25e8c9322635"
      },
      "source": [
        "# we've now stored the content as a string:\n",
        "print(type(content))"
      ],
      "execution_count": 9,
      "outputs": [
        {
          "output_type": "stream",
          "name": "stdout",
          "text": [
            "<class 'str'>\n"
          ]
        }
      ]
    },
    {
      "cell_type": "code",
      "metadata": {
        "colab": {
          "base_uri": "https://localhost:8080/"
        },
        "id": "jkc1n_AnEjuh",
        "outputId": "ffe71c44-90c7-4c44-8133-22d97ec14563"
      },
      "source": [
        "# since the table is pretty long, we're slicing the string and only printing the first 200 characters\n",
        "print(content[:200])"
      ],
      "execution_count": 10,
      "outputs": [
        {
          "output_type": "stream",
          "name": "stdout",
          "text": [
            "AK,F,1910,Mary,14\n",
            "AK,F,1910,Annie,12\n",
            "AK,F,1910,Anna,10\n",
            "AK,F,1910,Margaret,8\n",
            "AK,F,1910,Helen,7\n",
            "AK,F,1910,Elsie,6\n",
            "AK,F,1910,Lucy,6\n",
            "AK,F,1910,Dorothy,5\n",
            "AK,F,1911,Mary,12\n",
            "AK,F,1911,Margaret,7\n",
            "AK,F,1911,Ru\n"
          ]
        }
      ]
    },
    {
      "cell_type": "markdown",
      "metadata": {
        "id": "ZPLNvRe1Ejui"
      },
      "source": [
        "Please also have a close look at the internal representation of the file. Do you see how the columns are separated by commas, and the rows by newline characters `\\n`?"
      ]
    },
    {
      "cell_type": "code",
      "metadata": {
        "colab": {
          "base_uri": "https://localhost:8080/"
        },
        "id": "hRlEolRcEjui",
        "outputId": "5ca6247c-86f8-4b86-e921-84042dcfe7a0"
      },
      "source": [
        "print(repr(content[:200]))"
      ],
      "execution_count": 11,
      "outputs": [
        {
          "output_type": "stream",
          "name": "stdout",
          "text": [
            "'AK,F,1910,Mary,14\\nAK,F,1910,Annie,12\\nAK,F,1910,Anna,10\\nAK,F,1910,Margaret,8\\nAK,F,1910,Helen,7\\nAK,F,1910,Elsie,6\\nAK,F,1910,Lucy,6\\nAK,F,1910,Dorothy,5\\nAK,F,1911,Mary,12\\nAK,F,1911,Margaret,7\\nAK,F,1911,Ru'\n"
          ]
        }
      ]
    },
    {
      "cell_type": "markdown",
      "metadata": {
        "id": "nBo7-fltEjuj"
      },
      "source": [
        "### 2.1 Reading rows as lists\n",
        "Now, let's see how we can get to the 'list of lists' representation. We can do that by iterating over each line of this file (as we have seen before), and then split each row into columns using the `split()` method:"
      ]
    },
    {
      "cell_type": "code",
      "metadata": {
        "colab": {
          "base_uri": "https://localhost:8080/"
        },
        "id": "K4hF9QQDEjuj",
        "outputId": "879efd06-aa84-455b-a98f-a36c919097bd"
      },
      "source": [
        "# Read the file and get all lines\n",
        "\n",
        "# assign new line character to a variable\n",
        "# (we are going to need this when processing the lines of the file)\n",
        "#new line on linux/unix\n",
        "newline_char = '\\n'\n",
        "#new line on windows (double-check this in an editor or use repr())\n",
        "#newline_char = '\\r\\n'\n",
        "\n",
        "# create empty list to collect the rows:\n",
        "csv_data = []\n",
        "# store path to file in variable\n",
        "filename = \"../Data/csv_data/baby_names/names_by_state/AK.csv\"\n",
        "# open file and read in line-by line\n",
        "with open(filename, \"r\") as csvfile:\n",
        "    for row in csvfile:\n",
        "        # remove new-line charater - \n",
        "        row = row.strip(newline_char) \n",
        "        # separate the cells on comma (csv file)\n",
        "        cells = row.split(\",\")   # split the line into cells\n",
        "        csv_data.append(cells) \n",
        "\n",
        "# Print only first 10 rows\n",
        "print(csv_data[:10])\n",
        "print()\n",
        "\n",
        "# Iterate over first 10 rows - this is more readable\n",
        "for row in csv_data[:10]:\n",
        "    print(row)"
      ],
      "execution_count": 12,
      "outputs": [
        {
          "output_type": "stream",
          "name": "stdout",
          "text": [
            "[['AK', 'F', '1910', 'Mary', '14'], ['AK', 'F', '1910', 'Annie', '12'], ['AK', 'F', '1910', 'Anna', '10'], ['AK', 'F', '1910', 'Margaret', '8'], ['AK', 'F', '1910', 'Helen', '7'], ['AK', 'F', '1910', 'Elsie', '6'], ['AK', 'F', '1910', 'Lucy', '6'], ['AK', 'F', '1910', 'Dorothy', '5'], ['AK', 'F', '1911', 'Mary', '12'], ['AK', 'F', '1911', 'Margaret', '7']]\n",
            "\n",
            "['AK', 'F', '1910', 'Mary', '14']\n",
            "['AK', 'F', '1910', 'Annie', '12']\n",
            "['AK', 'F', '1910', 'Anna', '10']\n",
            "['AK', 'F', '1910', 'Margaret', '8']\n",
            "['AK', 'F', '1910', 'Helen', '7']\n",
            "['AK', 'F', '1910', 'Elsie', '6']\n",
            "['AK', 'F', '1910', 'Lucy', '6']\n",
            "['AK', 'F', '1910', 'Dorothy', '5']\n",
            "['AK', 'F', '1911', 'Mary', '12']\n",
            "['AK', 'F', '1911', 'Margaret', '7']\n"
          ]
        }
      ]
    },
    {
      "cell_type": "markdown",
      "metadata": {
        "id": "SYNWY-J7Ejuj"
      },
      "source": [
        "It worked! The variable `csv_data` now contains a list of all rows in the file. Now we can easily work with the data by using the indices of the lists to access cells. Have a look at the following examples:"
      ]
    },
    {
      "cell_type": "code",
      "metadata": {
        "colab": {
          "base_uri": "https://localhost:8080/"
        },
        "id": "bJ5wHZA1Ejuk",
        "outputId": "9d6fb2e7-04ae-48af-a2ab-6bde7c940045"
      },
      "source": [
        "# Example: print all information of the first 10 rows\n",
        "for row in csv_data[:10]:\n",
        "    state = row[0]\n",
        "    gender = row[1]\n",
        "    year = row[2]\n",
        "    name = row[3]\n",
        "    frequency = row[4]\n",
        "    print(state, gender, year, name, frequency)"
      ],
      "execution_count": 13,
      "outputs": [
        {
          "output_type": "stream",
          "name": "stdout",
          "text": [
            "AK F 1910 Mary 14\n",
            "AK F 1910 Annie 12\n",
            "AK F 1910 Anna 10\n",
            "AK F 1910 Margaret 8\n",
            "AK F 1910 Helen 7\n",
            "AK F 1910 Elsie 6\n",
            "AK F 1910 Lucy 6\n",
            "AK F 1910 Dorothy 5\n",
            "AK F 1911 Mary 12\n",
            "AK F 1911 Margaret 7\n"
          ]
        }
      ]
    },
    {
      "cell_type": "code",
      "metadata": {
        "colab": {
          "base_uri": "https://localhost:8080/"
        },
        "id": "vDTzr3XiEjuk",
        "outputId": "d481fd9c-18a6-4785-ec7d-0cf065b1733d"
      },
      "source": [
        "# Example: print all names given in 1912\n",
        "for row in csv_data:\n",
        "    year = row[2]\n",
        "    name = row[3]\n",
        "    # note that the year is represented as a string (not an int)\n",
        "    if year == \"1912\":\n",
        "        print(name)"
      ],
      "execution_count": 14,
      "outputs": [
        {
          "output_type": "stream",
          "name": "stdout",
          "text": [
            "Mary\n",
            "Elsie\n",
            "Agnes\n",
            "Anna\n",
            "Helen\n",
            "Louise\n",
            "Jean\n",
            "Ruth\n",
            "Alice\n",
            "Esther\n",
            "Ethel\n",
            "Margaret\n",
            "Marie\n",
            "John\n",
            "William\n",
            "George\n",
            "Charles\n",
            "Nick\n",
            "Frank\n",
            "James\n"
          ]
        }
      ]
    },
    {
      "cell_type": "markdown",
      "metadata": {
        "id": "j20fB6bKEjuk"
      },
      "source": [
        "### 2.2 Reading rows as dicts\n",
        "\n",
        "We can also create a 'list of dicts'. We do this by first creating a dictionary for each row, and appending that dictionary to the list of rows. We can simply use the column headers as keys, so we can easily access the corresponding values later on. \n",
        "\n",
        "Note: Do you see that we also convert the numerical values to `int`?"
      ]
    },
    {
      "cell_type": "code",
      "metadata": {
        "colab": {
          "base_uri": "https://localhost:8080/"
        },
        "id": "CDLLTFXwEjul",
        "outputId": "3de67a1c-e130-4097-df92-29a9f7333d36"
      },
      "source": [
        "# Read the file and get all lines\n",
        "\n",
        "# again, create a list to collect the rows:\n",
        "csv_data = []\n",
        "\n",
        "filename = \"../Data/csv_data/baby_names/names_by_state/AK.csv\"\n",
        "with open(filename, \"r\") as csvfile:\n",
        "    for row in csvfile:\n",
        "        row = row.strip(\"\\n\")      # remove all newlines\n",
        "        columns = row.split(\",\")   # split the line into columns\n",
        "        \n",
        "        # Create a dictionary and add to list\n",
        "        dict_row = {\"state\": columns[0],\n",
        "                    \"gender\": columns[1],\n",
        "                    \"year\": int(columns[2]),\n",
        "                    \"name\": columns[3],\n",
        "                    \"frequency\": int(columns[4])}\n",
        "        csv_data.append(dict_row)\n",
        "\n",
        "# First 10 rows\n",
        "print(csv_data[:10])\n",
        "print()\n",
        "\n",
        "# Iterate over first 10 rows \n",
        "for row in csv_data[:10]:\n",
        "    print(row)"
      ],
      "execution_count": 15,
      "outputs": [
        {
          "output_type": "stream",
          "name": "stdout",
          "text": [
            "[{'state': 'AK', 'gender': 'F', 'year': 1910, 'name': 'Mary', 'frequency': 14}, {'state': 'AK', 'gender': 'F', 'year': 1910, 'name': 'Annie', 'frequency': 12}, {'state': 'AK', 'gender': 'F', 'year': 1910, 'name': 'Anna', 'frequency': 10}, {'state': 'AK', 'gender': 'F', 'year': 1910, 'name': 'Margaret', 'frequency': 8}, {'state': 'AK', 'gender': 'F', 'year': 1910, 'name': 'Helen', 'frequency': 7}, {'state': 'AK', 'gender': 'F', 'year': 1910, 'name': 'Elsie', 'frequency': 6}, {'state': 'AK', 'gender': 'F', 'year': 1910, 'name': 'Lucy', 'frequency': 6}, {'state': 'AK', 'gender': 'F', 'year': 1910, 'name': 'Dorothy', 'frequency': 5}, {'state': 'AK', 'gender': 'F', 'year': 1911, 'name': 'Mary', 'frequency': 12}, {'state': 'AK', 'gender': 'F', 'year': 1911, 'name': 'Margaret', 'frequency': 7}]\n",
            "\n",
            "{'state': 'AK', 'gender': 'F', 'year': 1910, 'name': 'Mary', 'frequency': 14}\n",
            "{'state': 'AK', 'gender': 'F', 'year': 1910, 'name': 'Annie', 'frequency': 12}\n",
            "{'state': 'AK', 'gender': 'F', 'year': 1910, 'name': 'Anna', 'frequency': 10}\n",
            "{'state': 'AK', 'gender': 'F', 'year': 1910, 'name': 'Margaret', 'frequency': 8}\n",
            "{'state': 'AK', 'gender': 'F', 'year': 1910, 'name': 'Helen', 'frequency': 7}\n",
            "{'state': 'AK', 'gender': 'F', 'year': 1910, 'name': 'Elsie', 'frequency': 6}\n",
            "{'state': 'AK', 'gender': 'F', 'year': 1910, 'name': 'Lucy', 'frequency': 6}\n",
            "{'state': 'AK', 'gender': 'F', 'year': 1910, 'name': 'Dorothy', 'frequency': 5}\n",
            "{'state': 'AK', 'gender': 'F', 'year': 1911, 'name': 'Mary', 'frequency': 12}\n",
            "{'state': 'AK', 'gender': 'F', 'year': 1911, 'name': 'Margaret', 'frequency': 7}\n"
          ]
        }
      ]
    },
    {
      "cell_type": "markdown",
      "metadata": {
        "id": "bLIlMhdMEjul"
      },
      "source": [
        "Again, we can now easily work with the data, but now we use the *names* of the columns instead of indices to access the cells. This can make the code more readable. Have a look at the following examples:"
      ]
    },
    {
      "cell_type": "code",
      "metadata": {
        "colab": {
          "base_uri": "https://localhost:8080/"
        },
        "id": "1pOXreW0Ejul",
        "outputId": "3f9dfd31-e76f-4809-9a80-4f1ba84a06f9"
      },
      "source": [
        "# Example: print all information of the first 5 rows\n",
        "for row in csv_data[:5]:\n",
        "    for column_name, cell_value in row.items():\n",
        "        print(column_name, \"=\", cell_value)\n",
        "    print()"
      ],
      "execution_count": 16,
      "outputs": [
        {
          "output_type": "stream",
          "name": "stdout",
          "text": [
            "state = AK\n",
            "gender = F\n",
            "year = 1910\n",
            "name = Mary\n",
            "frequency = 14\n",
            "\n",
            "state = AK\n",
            "gender = F\n",
            "year = 1910\n",
            "name = Annie\n",
            "frequency = 12\n",
            "\n",
            "state = AK\n",
            "gender = F\n",
            "year = 1910\n",
            "name = Anna\n",
            "frequency = 10\n",
            "\n",
            "state = AK\n",
            "gender = F\n",
            "year = 1910\n",
            "name = Margaret\n",
            "frequency = 8\n",
            "\n",
            "state = AK\n",
            "gender = F\n",
            "year = 1910\n",
            "name = Helen\n",
            "frequency = 7\n",
            "\n"
          ]
        }
      ]
    },
    {
      "cell_type": "code",
      "metadata": {
        "colab": {
          "base_uri": "https://localhost:8080/"
        },
        "id": "SsRFIwDdEjul",
        "outputId": "adfd0b2c-7b3a-443f-8368-00cf8281cbd6"
      },
      "source": [
        "# Example: print all names given in 1912\n",
        "for row in csv_data:\n",
        "    if row[\"year\"] == 1912:\n",
        "        print(row[\"name\"])"
      ],
      "execution_count": 17,
      "outputs": [
        {
          "output_type": "stream",
          "name": "stdout",
          "text": [
            "Mary\n",
            "Elsie\n",
            "Agnes\n",
            "Anna\n",
            "Helen\n",
            "Louise\n",
            "Jean\n",
            "Ruth\n",
            "Alice\n",
            "Esther\n",
            "Ethel\n",
            "Margaret\n",
            "Marie\n",
            "John\n",
            "William\n",
            "George\n",
            "Charles\n",
            "Nick\n",
            "Frank\n",
            "James\n"
          ]
        }
      ]
    },
    {
      "cell_type": "markdown",
      "metadata": {
        "id": "Km8ATb1BEjum"
      },
      "source": [
        "It does not really matter whether you choose for a 'list of lists' or a 'list of dicts'. Just use the one that you prefer."
      ]
    },
    {
      "cell_type": "markdown",
      "metadata": {
        "id": "Y6pD4921Ejum"
      },
      "source": [
        "## 3. Writing CSV files\n",
        "\n",
        "Let's say now we have a table in Python stored as a 'list of lists' or as a 'list of dicts', and we want to store our result in a CSV file. This is basically the inverse process of reading a CSV file. "
      ]
    },
    {
      "cell_type": "markdown",
      "metadata": {
        "id": "LUlAOrF8Ejum"
      },
      "source": [
        "### 3.1 Writing rows as lists\n",
        "\n",
        "In order to write a list of lists as a CSV file, we need to iterate over the rows and make a string out of them. Remember that we can concatenate strings in a list with any separator with the `join()` method:"
      ]
    },
    {
      "cell_type": "code",
      "metadata": {
        "colab": {
          "base_uri": "https://localhost:8080/"
        },
        "id": "yBF7rqdoEjum",
        "outputId": "1984edb7-6b4f-4497-e4e4-664c6298ed96"
      },
      "source": [
        "a_list = [\"John\", \"john@example.nl\", \"555-1234\"]\n",
        "a_string = \",\".join(a_list)\n",
        "print(a_string)"
      ],
      "execution_count": 18,
      "outputs": [
        {
          "output_type": "stream",
          "name": "stdout",
          "text": [
            "John,john@example.nl,555-1234\n"
          ]
        }
      ]
    },
    {
      "cell_type": "markdown",
      "metadata": {
        "id": "DPHmJGD2Ejum"
      },
      "source": [
        "In addition, we should use the newline character `\\n` to write each row on a line."
      ]
    },
    {
      "cell_type": "markdown",
      "metadata": {
        "id": "_uSEfznOEjun"
      },
      "source": [
        "Run the cell below and check whether it worked by opening the file `../Data/address_book.csv` in a text editor. Is everything correct? Did you use the correct new-line character?"
      ]
    },
    {
      "cell_type": "code",
      "metadata": {
        "id": "XUF9OUa3Ejun"
      },
      "source": [
        "# assign new line character to a variable\n",
        "# (we are going to need this when processing the lines of the file)\n",
        "#new line on linux/unix\n",
        "newline_char = '\\n'\n",
        "#new line on windows (double-check this in an editor or use repr())\n",
        "#newline_char = '\\r\\n'\n",
        "\n",
        "# Create list of lists\n",
        "address_book = [\n",
        "    [\"John\", \"john@example.nl\", \"555-1234\"],\n",
        "    [\"William\", \"william@example.nl\", \"555-5678\"],\n",
        "    [\"Jane\", \"jane@example.nl\", \"555-7777\"]\n",
        "]\n",
        "\n",
        "# Write the list of lists to a CSV file\n",
        "outfilename = \"../Data/address_book.csv\"\n",
        "with open(outfilename, \"w\") as outfile:\n",
        "    for row in address_book:\n",
        "        line = f'{\",\".join(row)}{newline_char}'\n",
        "        outfile.write(line)"
      ],
      "execution_count": 19,
      "outputs": []
    },
    {
      "cell_type": "markdown",
      "metadata": {
        "id": "r9_ObHqkEjun"
      },
      "source": [
        "### 3.2 Writing rows as dicts\n",
        "\n",
        "In order to write a list of dicts to a CSV file, we need to first get all the values in each dictionary. The rest works exactly the same. In the following code, we use the tab separator `\\t` and save it with the `.tsv` extension."
      ]
    },
    {
      "cell_type": "code",
      "metadata": {
        "id": "IMgpNwBFEjun"
      },
      "source": [
        "# Create list of dicts\n",
        "address_book = [\n",
        "    {\"name\":\"John\", \"e-mail\":\"john@example.nl\", \"phone\":\"555-1234\"},\n",
        "    {\"name\":\"William\", \"e-mail\":\"william@example.nl\", \"phone\":\"555-5678\"},\n",
        "    {\"name\":\"Jane\", \"e-mail\":\"jane@example.nl\", \"phone\":\"555-7777\"}\n",
        "]\n",
        "\n",
        "\n",
        "# Write the list of dicts to a TSV file\n",
        "outfilename = \"../Data/csv_data/address_book.tsv\"\n",
        "with open(outfilename, \"w\") as outfile:    \n",
        "    \n",
        "    # Write the rows using the values of the dictionaries\n",
        "    for row in address_book:\n",
        "        # get the values in each cell:\n",
        "        # (assuming the order is always the same)\n",
        "        cell_values = row.values()\n",
        "        # join them using a tab (for tsv)\n",
        "        line = \"\\t\".join(cell_values) + '\\n'\n",
        "        outfile.write(line)"
      ],
      "execution_count": 20,
      "outputs": []
    },
    {
      "cell_type": "markdown",
      "metadata": {
        "id": "1fSNxzW6Ejuo"
      },
      "source": [
        "## 4. Dealing with column headers\n",
        "\n",
        "Many csv/tsv files contain headers. This means that the first row contains the names of the columns. We easily read and write these kinds of files without having to type the headers manually. \n",
        "\n",
        "\n",
        "### 4.1 Reading csv/tsv files with a header row\n",
        "Consider the file called Concreteness_ratings_Brysbaert_et_al_BRM.txt (we're reading it in and printing the first 5 lines below). \n",
        "\n",
        "The file has 10 columns, each of which have a column **header**. This means that all the values in the first row are not actual values. We need to treat them differently if we want to analyze the data (i.e. everything from the second row on). In addition, it would be convenient to use this information right away, without having to first inspect the file and manually type the headers as keys in dictionaries!"
      ]
    },
    {
      "cell_type": "code",
      "metadata": {
        "colab": {
          "base_uri": "https://localhost:8080/"
        },
        "id": "249BD9RDEjuo",
        "outputId": "55fc17cd-643f-4e9d-d2ab-18e09536f9cf"
      },
      "source": [
        "with open('../Data/csv_data/Concreteness_ratings_Brysbaert_et_al_BRM.tsv') as infile:\n",
        "    lines = infile.read().split('\\n')\n",
        "    \n",
        "for line in lines[:5]:\n",
        "    print(line)"
      ],
      "execution_count": 21,
      "outputs": [
        {
          "output_type": "stream",
          "name": "stdout",
          "text": [
            "Word\tBigram\tConc.M\tConc.SD\tUnknown\tTotal\tPercent_known\tSUBTLEX\tDom_Pos\n",
            "roadsweeper\t0\t4.85\t0.37\t1\t27\t0.96\t0\t0\n",
            "traindriver\t0\t4.54\t0.71\t3\t29\t0.90\t0\t0\n",
            "tush\t0\t4.45\t1.01\t3\t25\t0.88\t66\t0\n",
            "hairdress\t0\t3.93\t1.28\t0\t29\t1.00\t1\t0\n"
          ]
        }
      ]
    },
    {
      "cell_type": "markdown",
      "metadata": {
        "id": "5qvYNXMrEjuo"
      },
      "source": [
        "Can you complete the example below?"
      ]
    },
    {
      "cell_type": "code",
      "metadata": {
        "id": "uZHMns98Ejuo"
      },
      "source": [
        "data_dict_list = []\n",
        "\n",
        "with open('../Data/csv_data/Concreteness_ratings_Brysbaert_et_al_BRM.tsv') as infile:\n",
        "    lines = infile.read().split('\\n')\n",
        "\n",
        "# the first row is at index 0 and contains the headers\n",
        "headers = lines[0]\n",
        "\n",
        "# we consider everythin following the header row as data\n",
        "for line in lines[1:3]:\n",
        "    line_list = line.split('\\t')\n",
        "    header_list = headers.split('\\t')\n",
        "    row_dict = dict()\n",
        "        \n",
        "    # can you think of a way to fill the row dict? \n",
        "    # hint: check out the zip function\n",
        "    # zip for iterating over two lists at the same time\n",
        "    \n",
        "    ### YOUR CODE ####\n",
        "    \n",
        "    data_dict_list.append(row_dict)"
      ],
      "execution_count": 22,
      "outputs": []
    },
    {
      "cell_type": "markdown",
      "metadata": {
        "id": "n_ONDF68Ejuo"
      },
      "source": [
        "### 4.2 Writing csv/tsv files with a header row\n",
        "\n",
        "You can also write files with headers: \n"
      ]
    },
    {
      "cell_type": "code",
      "metadata": {
        "colab": {
          "base_uri": "https://localhost:8080/",
          "height": 130
        },
        "id": "r5rYq5H3Ejuo",
        "outputId": "2c8243f8-1eb2-49e6-894d-db0b81529b6f"
      },
      "source": [
        "row1 = {'name': 'Harry', 'house' : 'Gryffindor'}\n",
        "row2 = {'name': 'Ron', 'house' : 'Gryffindor'}\n",
        "row3 = {'name': 'Hannah', 'house': 'Hufflepuff'}\n",
        "row4 = {'name': 'Leta', 'house' : 'Slytherin'}\n",
        "\n",
        "data_dict_list = [row1, row2, row2, row4]\n",
        "\n",
        "for d in data_dict_list:\n",
        "    print(d)\n",
        "    \n",
        "header_row = ### your code here\n",
        "\n",
        "with open('../Data/csv_data/hp_example.csv', 'w') as outfile:\n",
        "    # write header\n",
        "    for d in data_dict_list:\n",
        "        row_list = d.values()\n",
        "        row = ','.join(values)\n",
        "        outfile.write(row+'\\n')"
      ],
      "execution_count": 23,
      "outputs": [
        {
          "output_type": "error",
          "ename": "SyntaxError",
          "evalue": "ignored",
          "traceback": [
            "\u001b[0;36m  File \u001b[0;32m\"<ipython-input-23-fa1d2094894f>\"\u001b[0;36m, line \u001b[0;32m11\u001b[0m\n\u001b[0;31m    header_row = ### your code here\u001b[0m\n\u001b[0m                                   ^\u001b[0m\n\u001b[0;31mSyntaxError\u001b[0m\u001b[0;31m:\u001b[0m invalid syntax\n"
          ]
        }
      ]
    },
    {
      "cell_type": "markdown",
      "metadata": {
        "id": "TKG22sDLEjup"
      },
      "source": [
        "## A note on csv/tsv files containing a lot of textual data\n",
        "\n",
        "If you're dealing with tables containing textual data (e.g. full sentences or tweets), you will realize that splitting on commas or tabs may result in confusion (as text often contains commas and may contain tabs). Consider for instances this file: `../Data/csv_data/debate.csv`.\n",
        "\n",
        "You may have ideas for a fix regarding this specific file and surely you will eventually find a good solution for it. However, for these more complex CSV files, we recommend that you make use of the **[csv module](https://docs.python.org/3/library/csv.html)**. Feel free to explore it yourself, but do not use it for the exercises and assignments in this course."
      ]
    },
    {
      "cell_type": "markdown",
      "metadata": {
        "id": "j9u5o7h-Ejup"
      },
      "source": [
        "## Exercises"
      ]
    },
    {
      "cell_type": "markdown",
      "metadata": {
        "id": "9hvM8wbZEjup"
      },
      "source": [
        "### Exercise 1:\n",
        "Have another look at the code below. Can you predict what would happen if you skip some of the steps? How will the data be different?"
      ]
    },
    {
      "cell_type": "code",
      "metadata": {
        "colab": {
          "base_uri": "https://localhost:8080/"
        },
        "id": "DpnJDXmMEjup",
        "outputId": "6e7daf45-9bd2-4e06-e893-5da7cf47ce88"
      },
      "source": [
        "filename = \"../Data/csv_data/baby_names/names_by_state/AK.csv\"\n",
        "with open(filename, \"r\") as csvfile:\n",
        "    csv_data = []\n",
        "    for row in csvfile:\n",
        "        #row = row.strip(\"\\n\")      # what happens if you skip this step?\n",
        "        columns = row.split(\",\")   \n",
        "        csv_data.append(columns) \n",
        "print(csv_data[0:2])"
      ],
      "execution_count": 24,
      "outputs": [
        {
          "output_type": "stream",
          "name": "stdout",
          "text": [
            "[['AK', 'F', '1910', 'Mary', '14\\n'], ['AK', 'F', '1910', 'Annie', '12\\n']]\n"
          ]
        }
      ]
    },
    {
      "cell_type": "code",
      "metadata": {
        "colab": {
          "base_uri": "https://localhost:8080/"
        },
        "id": "C866RajMEjup",
        "outputId": "1a6ac1ad-93e2-4e2c-ebfd-23a427132622"
      },
      "source": [
        "filename = \"../Data/csv_data/baby_names/names_by_state/AK.csv\"\n",
        "with open(filename, \"r\") as csvfile:\n",
        "    csv_data = []\n",
        "    for row in csvfile:\n",
        "        row = row.strip(\"\\n\")      \n",
        "        #columns = row.split(\",\")   # what happes if you skip this step?\n",
        "        csv_data.append(row)        # replaced columns by row\n",
        "print(csv_data[0:2])"
      ],
      "execution_count": 25,
      "outputs": [
        {
          "output_type": "stream",
          "name": "stdout",
          "text": [
            "['AK,F,1910,Mary,14', 'AK,F,1910,Annie,12']\n"
          ]
        }
      ]
    },
    {
      "cell_type": "markdown",
      "metadata": {
        "id": "axGi4gstEjup"
      },
      "source": [
        "### Exercise 2:\n",
        "Read the csv data in `AK.csv` and store it as a **list of lists**. Now print the following:\n",
        "- all names that started with an M given in 1990\n",
        "- all unique female names (hint: create a set)\n",
        "- all names that were given more than 30 times in a certain year (print name+year)\n",
        "- all unique names longer than 8 letters given between 1985 and 1990"
      ]
    },
    {
      "cell_type": "code",
      "metadata": {
        "id": "wQH8JulaEjuq"
      },
      "source": [
        ""
      ],
      "execution_count": 25,
      "outputs": []
    },
    {
      "cell_type": "code",
      "metadata": {
        "id": "pUzQeqJEEjuq"
      },
      "source": [
        ""
      ],
      "execution_count": 25,
      "outputs": []
    },
    {
      "cell_type": "code",
      "metadata": {
        "id": "Rx5V-A-HEjuq"
      },
      "source": [
        ""
      ],
      "execution_count": 25,
      "outputs": []
    },
    {
      "cell_type": "code",
      "metadata": {
        "id": "kPoF7pliEjuq"
      },
      "source": [
        ""
      ],
      "execution_count": 25,
      "outputs": []
    },
    {
      "cell_type": "markdown",
      "metadata": {
        "id": "CWErDQAlEjuq"
      },
      "source": [
        "Read the csv data in `AK.csv` and store it as a **list of dicts**. Now print the following:\n",
        "- all names that started with an M given in 1990\n",
        "- all unique female names (hint: create a set)\n",
        "- all names that were given more than 30 times in a certain year (print name+year)\n",
        "- all unique names longer than 8 letters given between 1985 and 1990"
      ]
    },
    {
      "cell_type": "code",
      "metadata": {
        "id": "aiu0LS-UEjuq"
      },
      "source": [
        ""
      ],
      "execution_count": 25,
      "outputs": []
    },
    {
      "cell_type": "code",
      "metadata": {
        "id": "K260y5txEjuq"
      },
      "source": [
        ""
      ],
      "execution_count": 25,
      "outputs": []
    },
    {
      "cell_type": "code",
      "metadata": {
        "id": "JMQ1aSt0Ejuq"
      },
      "source": [
        ""
      ],
      "execution_count": 25,
      "outputs": []
    },
    {
      "cell_type": "code",
      "metadata": {
        "id": "3wzshY4wEjuq"
      },
      "source": [
        ""
      ],
      "execution_count": 25,
      "outputs": []
    },
    {
      "cell_type": "markdown",
      "metadata": {
        "id": "C9JAgmhOEjuq"
      },
      "source": [
        "### Exercise 3:\n",
        "Can you think of a way to add a header to the TSV file below? Hint: make use of the dictionary keys."
      ]
    },
    {
      "cell_type": "code",
      "metadata": {
        "id": "4AJjf4LMEjur"
      },
      "source": [
        "# Create list of dicts\n",
        "address_book = [\n",
        "    {\"name\":\"John\", \"e-mail\":\"john@example.com\", \"phone\":\"555-1234\"},\n",
        "    {\"name\":\"William\", \"e-mail\":\"william@example.com\", \"phone\":\"555-5678\"},\n",
        "    {\"name\":\"Jane\", \"e-mail\":\"jane@example.com\", \"phone\":\"555-7777\"}\n",
        "]\n",
        "\n",
        "# Write the list of dicts to a TSV file\n",
        "outfilename = \"../Data/csv_data/address_book.tsv\"\n",
        "with open(outfilename, \"w\") as outfile:    \n",
        "    \n",
        "    # Write the header\n",
        "    # your code here\n",
        "    \n",
        "    # Write the rows using the values of the dictionaries\n",
        "    for row in address_book:\n",
        "        column_values = row.values()\n",
        "        line = \"\\t\".join(column_values) + '\\n'\n",
        "        outfile.write(line)"
      ],
      "execution_count": 26,
      "outputs": []
    },
    {
      "cell_type": "markdown",
      "metadata": {
        "id": "QEd9cnmsEjur"
      },
      "source": [
        "### Exercise 4: \n",
        "Now *append* information about Jennifer and Justin (stored as a list) at the bottom of this `address_book.tsv` file (attention: make sure you do not overwrite the contents of the file)."
      ]
    },
    {
      "cell_type": "code",
      "metadata": {
        "id": "9uKyeaQwEjur"
      },
      "source": [
        "more_people = [\n",
        "    [\"Jennifer\", \"jennifer@example.com\", \"555-9876\"],\n",
        "    [\"Justin\", \"justin@example.com\", \"555-5555\"]\n",
        "]\n",
        "\n",
        "# Append the data to the `address_book.tsv` file"
      ],
      "execution_count": 27,
      "outputs": []
    },
    {
      "cell_type": "markdown",
      "metadata": {
        "id": "BAHmRDWXEjur"
      },
      "source": [
        "### Exercise 5: \n",
        "Create a function `load_tabular_data(filename, delimiter)` that receives the filename and a delimiter as input parameters, and returns the file content as a list of lists. Then we can call this function for CSV (with a comma as an argument) and for TSV (with a tabulator as an argument). Also make sure that `delimiter` is a keyword parameter, with a defaul value ','."
      ]
    },
    {
      "cell_type": "code",
      "metadata": {
        "id": "PpCQUnXNEjur"
      },
      "source": [
        "# Create your function here\n",
        "\n",
        "    \n",
        "# Now let's test the function\n",
        "csv_filename = \"../Data/csv_data/baby_names/names_by_state/AK.csv\"\n"
      ],
      "execution_count": 28,
      "outputs": []
    }
  ]
}