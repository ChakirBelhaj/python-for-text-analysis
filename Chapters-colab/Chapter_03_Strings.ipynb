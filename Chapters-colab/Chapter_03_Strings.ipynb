{
  "nbformat": 4,
  "nbformat_minor": 0,
  "metadata": {
    "anaconda-cloud": {},
    "kernelspec": {
      "display_name": "Python 3",
      "language": "python",
      "name": "python3"
    },
    "language_info": {
      "codemirror_mode": {
        "name": "ipython",
        "version": 3
      },
      "file_extension": ".py",
      "mimetype": "text/x-python",
      "name": "python",
      "nbconvert_exporter": "python",
      "pygments_lexer": "ipython3",
      "version": "3.8.3"
    },
    "nbpresent": {
      "slides": {
        "885982de-393b-4426-bf75-6f60fd074759": {
          "id": "885982de-393b-4426-bf75-6f60fd074759",
          "prev": "e1fd741a-c61b-4e01-b5f5-b12c46d6f454",
          "regions": {
            "16d7838b-e3f7-4bc0-a615-afc598ade8bd": {
              "attrs": {
                "height": 0.8,
                "width": 0.8,
                "x": 0.1,
                "y": 0.1
              },
              "content": {
                "cell": "b7f6b1da-87c1-4e16-bd55-574c34db90ea",
                "part": "whole"
              },
              "id": "16d7838b-e3f7-4bc0-a615-afc598ade8bd"
            },
            "1d7ed633-8ee9-4746-be8e-c0ad21892d69": {
              "attrs": {
                "height": 0.4,
                "width": 0.8,
                "x": 0.1,
                "y": 0.5
              },
              "content": {
                "cell": "a984930a-be23-4ea2-a87d-73dfdf9e17ca",
                "part": "whole"
              },
              "id": "1d7ed633-8ee9-4746-be8e-c0ad21892d69"
            }
          }
        },
        "e1fd741a-c61b-4e01-b5f5-b12c46d6f454": {
          "id": "e1fd741a-c61b-4e01-b5f5-b12c46d6f454",
          "prev": null,
          "regions": {
            "033f0f4d-8b19-4f17-bd50-582f3e0e64b0": {
              "attrs": {
                "height": 0.8,
                "width": 0.8,
                "x": 0.1,
                "y": 0.1
              },
              "content": {
                "cell": "8417a2cc-6915-4770-ae72-186a27a011d5",
                "part": "whole"
              },
              "id": "033f0f4d-8b19-4f17-bd50-582f3e0e64b0"
            }
          }
        }
      },
      "themes": {}
    },
    "colab": {
      "name": "Chapter 03 - Strings.ipynb",
      "provenance": [],
      "include_colab_link": true
    }
  },
  "cells": [
    {
      "cell_type": "markdown",
      "metadata": {
        "id": "view-in-github",
        "colab_type": "text"
      },
      "source": [
        "<a href=\"https://colab.research.google.com/github/cltl/python-for-text-analysis/blob/colab/Chapters-colab/Chapter_03_Strings.ipynb\" target=\"_parent\"><img src=\"https://colab.research.google.com/assets/colab-badge.svg\" alt=\"Open In Colab\"/></a>"
      ]
    },
    {
      "cell_type": "code",
      "metadata": {
        "id": "8a3o_054-UxS"
      },
      "source": [
        "%%capture\n",
        "!wget https://github.com/cltl/python-for-text-analysis/raw/master/zips/Data.zip\n",
        "!wget https://github.com/cltl/python-for-text-analysis/raw/master/zips/images.zip\n",
        "!wget https://github.com/cltl/python-for-text-analysis/raw/master/zips/Extra_Material.zip\n",
        "\n",
        "!unzip Data.zip -d ../\n",
        "!unzip images.zip -d ./\n",
        "!unzip Extra_Material.zip -d ../\n",
        "\n",
        "!rm Data.zip\n",
        "!rm Extra_Materil.zip\n",
        "!rm images.zip"
      ],
      "execution_count": 1,
      "outputs": []
    },
    {
      "cell_type": "markdown",
      "metadata": {
        "id": "QVZG1f-m-UBQ"
      },
      "source": [
        "# Chapter 3 - Strings\n",
        "\n",
        "*This notebook uses code snippets and explanations from [this course](https://github.com/kadarakos/python-course/blob/master/Chapter%2011%20-%20Strings.ipynb).*\n",
        "\n",
        "In this notebook, we will focus on the datatype strings. The first thing you learned was printing a simple sentence: \"Hello, world!\" This sentence, as any other **text**, was stored by Python as a **string**. Here are some reasons why strings are important:\n",
        "\n",
        "* Text is usually represented as a string. Text analysis is the ofcus of our course, so we will be dealing with strings a lot. \n",
        "* Strings are also used when reading in files: We tell python which file to open by giving it a filepath, e.g. '../Data/books/HuckFinn.txt'. Don't worry about this for now, we will explain it in block 3\n",
        "\n",
        "\n",
        "#### At the end of this chapter, you will be able to:\n",
        "* define *strings* and understand their *internal representation*\n",
        "* understand strings as *sequences*\n",
        "* use character indices for *string slicing*\n",
        "* combine strings through *printing, concatenation and insertion*\n",
        "* compare strings using *comparison operators* and the *in operator*\n",
        "* understand strings as *immutable* objects\n",
        "* work with and understand *string methods*\n",
        "* understand the difference between *args* and *kwargs*\n",
        "\n",
        "\n",
        "#### If you want to learn more about these topics, you might find the following links useful:\n",
        "* Documentation: [String methods](https://docs.python.org/3/library/stdtypes.html#string-methods)\n",
        "* Documentation: [Literal String Interpolation (f-strings)](https://www.python.org/dev/peps/pep-0498/)\n",
        "* Explanation: [Strings](https://www.tutorialspoint.com/python/python_strings.htm)\n",
        "* Explanation: [F-strings](https://cito.github.io/blog/f-strings/)\n",
        "* Video: [Strings - working with text data](https://www.youtube.com/watch?v=k9TUPpGqYTo)\n",
        "* Video: [Strings](https://www.youtube.com/watch?v=L2IUSArpG98)\n",
        "* Video: [String Indexing and Slicing](https://www.youtube.com/watch?v=lMQRjpgJslI)\n",
        "\n",
        "If you have **questions** about this chapter, please contact us **(cltl.python.course@gmail.com)**."
      ]
    },
    {
      "cell_type": "markdown",
      "metadata": {
        "id": "5Qd3aW7--UBV"
      },
      "source": [
        "## 1. Defining and representing strings\n",
        "\n",
        "A **string** is a sequence of letters/characters which together form a whole (for instance a word, sentence or entire text). In Python, a string is a type of object for which the value is enclosed by single or double quotes. Let's define a few of them:"
      ]
    },
    {
      "cell_type": "code",
      "metadata": {
        "id": "Q7VecuUN-UBV"
      },
      "source": [
        "# Here are some strings:\n",
        "string_1 = \"Hello, world!\"\n",
        "string_2 = 'I ❤️ cheese'      # If you are using Python 2, your computer will not like this.\n",
        "string_3 = '1,2,3,4,5,6,7,8,9'"
      ],
      "execution_count": 2,
      "outputs": []
    },
    {
      "cell_type": "markdown",
      "metadata": {
        "id": "8q8vy4RQ-UBX"
      },
      "source": [
        "There is no difference in declaring a string with single or double quotes. However, if your string contains a quote symbol it can lead to errors if you try to enclose it with the same quotes."
      ]
    },
    {
      "cell_type": "code",
      "metadata": {
        "colab": {
          "base_uri": "https://localhost:8080/",
          "height": 130
        },
        "id": "OXutJfyR-UBX",
        "outputId": "e5e908c0-69e0-47b9-ca37-02694f058663"
      },
      "source": [
        "# Run this cell to see the error generated by the following line.\n",
        "restaurant = 'Wendy's'"
      ],
      "execution_count": 3,
      "outputs": [
        {
          "output_type": "error",
          "ename": "SyntaxError",
          "evalue": "ignored",
          "traceback": [
            "\u001b[0;36m  File \u001b[0;32m\"<ipython-input-3-4a9d7a660d32>\"\u001b[0;36m, line \u001b[0;32m2\u001b[0m\n\u001b[0;31m    restaurant = 'Wendy's'\u001b[0m\n\u001b[0m                        ^\u001b[0m\n\u001b[0;31mSyntaxError\u001b[0m\u001b[0;31m:\u001b[0m invalid syntax\n"
          ]
        }
      ]
    },
    {
      "cell_type": "markdown",
      "metadata": {
        "id": "sKaQ6VYq-UBX"
      },
      "source": [
        "In the example above the error indicates that there is something wrong with the letter *s*. This is because the single quote closes the string we started, and anything after that is unexpected.\n",
        "To solve this we can enclose the string in double quotes, as follows:"
      ]
    },
    {
      "cell_type": "code",
      "metadata": {
        "id": "xzzeHpRq-UBY"
      },
      "source": [
        "restaurant = \"Wendy's\"\n",
        "# Similarly, we can enclose a string containing double quotes with single quotes:\n",
        "quotes = 'Using \"double\" quotes enclosed by a single quote.'"
      ],
      "execution_count": 4,
      "outputs": []
    },
    {
      "cell_type": "markdown",
      "metadata": {
        "id": "W0KBkvm8-UBY"
      },
      "source": [
        "We can also use the escape character \"\\\" in front of the quote, which will tell Python not to treat this specific quote as the end of the string."
      ]
    },
    {
      "cell_type": "code",
      "metadata": {
        "colab": {
          "base_uri": "https://localhost:8080/"
        },
        "id": "LvWyPfU2-UBZ",
        "outputId": "13f24eea-281f-47e6-9d67-3c1de30e7fce"
      },
      "source": [
        "restaurant = 'Wendy\\'s'\n",
        "print(restaurant)\n",
        "restaurant = \"Wendy\\\"s\"\n",
        "print(restaurant)"
      ],
      "execution_count": 5,
      "outputs": [
        {
          "output_type": "stream",
          "name": "stdout",
          "text": [
            "Wendy's\n",
            "Wendy\"s\n"
          ]
        }
      ]
    },
    {
      "cell_type": "markdown",
      "metadata": {
        "id": "22JCRtLr-UBZ"
      },
      "source": [
        "### 1.1 Multi-line strings\n",
        "\n",
        "Strings in Python can also span across **multiple lines**, which can be useful for when you have a very long string, or  when you want to format the output of the string in a certain way. This can be achieved in two ways:\n",
        "\n",
        "1. With single or double quotes, where we manually indicate that the rest of the string continues on the next line with a backslash.\n",
        "2. With three single or double quotes.\n",
        "\n",
        "We will first demonstrate how this would work when you use **one double or single quote**."
      ]
    },
    {
      "cell_type": "code",
      "metadata": {
        "colab": {
          "base_uri": "https://localhost:8080/"
        },
        "id": "J60PbkOg-UBa",
        "outputId": "c2e9196a-dcf0-4776-db32-f68696b69149"
      },
      "source": [
        "# This example also works with single-quotes.\n",
        "long_string = \"A very long string\\n\\\n",
        "can be split into multiple\\n\\\n",
        "sentences by appending a newline symbol\\n\\\n",
        "to the end of the line.\"\n",
        "\n",
        "print(long_string)"
      ],
      "execution_count": 6,
      "outputs": [
        {
          "output_type": "stream",
          "name": "stdout",
          "text": [
            "A very long string\n",
            "can be split into multiple\n",
            "sentences by appending a newline symbol\n",
            "to the end of the line.\n"
          ]
        }
      ]
    },
    {
      "cell_type": "markdown",
      "metadata": {
        "id": "WBG0mxJm-UBa"
      },
      "source": [
        "The **`\\n` or newline symbol** indicates that we want to start the rest of the text on a new line in the string, the following **\\\\** indicates that we want the string to continue on the next line of the code. This difference can be quite hard to understand, but best illustrated with an example where we do not include the `\\n` symbol."
      ]
    },
    {
      "cell_type": "code",
      "metadata": {
        "colab": {
          "base_uri": "https://localhost:8080/"
        },
        "id": "FRE5zAFD-UBb",
        "outputId": "51fc485a-232a-43fd-9aa4-9c1fe4733263"
      },
      "source": [
        "long_string = \"A very long string \\\n",
        "can be split into multiple \\\n",
        "sentences by appending a backslash \\\n",
        "to the end of the line.\"\n",
        "\n",
        "print(long_string)"
      ],
      "execution_count": 7,
      "outputs": [
        {
          "output_type": "stream",
          "name": "stdout",
          "text": [
            "A very long string can be split into multiple sentences by appending a backslash to the end of the line.\n"
          ]
        }
      ]
    },
    {
      "cell_type": "markdown",
      "metadata": {
        "id": "xCNKYP1--UBb"
      },
      "source": [
        "\n",
        "As you can see, Python now interprets this example as a single line of text. If we use the recommended way in Python to write multiline strings, **with triple double or single quotes**, you will see that the `\\n` or newline symbol is automatically included."
      ]
    },
    {
      "cell_type": "code",
      "metadata": {
        "colab": {
          "base_uri": "https://localhost:8080/"
        },
        "id": "_1izZqWm-UBc",
        "outputId": "8e6081e5-9c8b-4d3c-eeeb-1227089a2c5a"
      },
      "source": [
        "long_string = \"\"\"A very long string\n",
        "can also be split into multiple \n",
        "sentences by enclosing the string\n",
        "with three double or single quotes.\"\"\"\n",
        "\n",
        "print(long_string)\n",
        "\n",
        "print()\n",
        "\n",
        "another_long_string = '''A very long string\n",
        "can also be split into multiple \n",
        "sentences by enclosing the string\n",
        "with three double or single quotes.'''\n",
        "\n",
        "print(another_long_string)"
      ],
      "execution_count": 8,
      "outputs": [
        {
          "output_type": "stream",
          "name": "stdout",
          "text": [
            "A very long string\n",
            "can also be split into multiple \n",
            "sentences by enclosing the string\n",
            "with three double or single quotes.\n",
            "\n",
            "A very long string\n",
            "can also be split into multiple \n",
            "sentences by enclosing the string\n",
            "with three double or single quotes.\n"
          ]
        }
      ]
    },
    {
      "cell_type": "markdown",
      "metadata": {
        "id": "NGy8kEh6-UBc"
      },
      "source": [
        "What will happen if you remove the backslash characters in the example? Try it out in the cell below."
      ]
    },
    {
      "cell_type": "code",
      "metadata": {
        "colab": {
          "base_uri": "https://localhost:8080/"
        },
        "id": "r9NAvJxR-UBc",
        "outputId": "e6866aaf-447f-41ab-a9ee-7935e50ae7a6"
      },
      "source": [
        "long_string = \"A very long string\\\n",
        "can be split into multiple\\\n",
        "sentences by appending a backslash\\\n",
        "to the end of the line.\"\n",
        "\n",
        "print(long_string)"
      ],
      "execution_count": 9,
      "outputs": [
        {
          "output_type": "stream",
          "name": "stdout",
          "text": [
            "A very long stringcan be split into multiplesentences by appending a backslashto the end of the line.\n"
          ]
        }
      ]
    },
    {
      "cell_type": "markdown",
      "metadata": {
        "id": "xHrYUM1p-UBc"
      },
      "source": [
        "### 1.2 Internal representation: using `repr()`"
      ]
    },
    {
      "cell_type": "markdown",
      "metadata": {
        "id": "f5tNgVNq-UBd"
      },
      "source": [
        "As we have seen above, it is possible to make strings that span multiple lines. Here are two ways to do so:"
      ]
    },
    {
      "cell_type": "code",
      "metadata": {
        "colab": {
          "base_uri": "https://localhost:8080/"
        },
        "id": "W8HJK4Ar-UBd",
        "outputId": "bc680092-560f-470b-aa0b-78dbc0b76e45"
      },
      "source": [
        "multiline_text_1 = \"\"\"This is a multiline text, so it is enclosed by triple quotes.\n",
        "Pretty cool stuff!\n",
        "I always wanted to type more than one line, so today is my lucky day!\"\"\"\n",
        "multiline_text_2 = \"This is a multiline text, so it is enclosed by triple quotes.\\nPretty cool stuff!\\nI always wanted to type more than one line, so today is my lucky day!\"\n",
        "print(multiline_text_1)\n",
        "print() # this just prints an empty line\n",
        "print(multiline_text_2)"
      ],
      "execution_count": 10,
      "outputs": [
        {
          "output_type": "stream",
          "name": "stdout",
          "text": [
            "This is a multiline text, so it is enclosed by triple quotes.\n",
            "Pretty cool stuff!\n",
            "I always wanted to type more than one line, so today is my lucky day!\n",
            "\n",
            "This is a multiline text, so it is enclosed by triple quotes.\n",
            "Pretty cool stuff!\n",
            "I always wanted to type more than one line, so today is my lucky day!\n"
          ]
        }
      ]
    },
    {
      "cell_type": "markdown",
      "metadata": {
        "id": "3gHkO7jE-UBd"
      },
      "source": [
        "Internally, these strings are equally represented. We can check that with the double equals sign, which checks if two objects are the same:"
      ]
    },
    {
      "cell_type": "code",
      "metadata": {
        "colab": {
          "base_uri": "https://localhost:8080/"
        },
        "id": "SHDNzSmH-UBd",
        "outputId": "12b10eaf-1edb-43e2-972b-23bccfce7ec5"
      },
      "source": [
        "print(multiline_text_1 == multiline_text_2)"
      ],
      "execution_count": 11,
      "outputs": [
        {
          "output_type": "stream",
          "name": "stdout",
          "text": [
            "True\n"
          ]
        }
      ]
    },
    {
      "cell_type": "markdown",
      "metadata": {
        "id": "L-cIeiPP-UBd"
      },
      "source": [
        "So from this we can conclude that `multiline_text_1` has the same **hidden characters** (in this case **`\\n`**, which stands for 'new line') as `multiline_text_2`. You can show that this is indeed true by using the built-in **`repr()`** function (which gives you the Python-internal *repr*esentation of an object)."
      ]
    },
    {
      "cell_type": "code",
      "metadata": {
        "colab": {
          "base_uri": "https://localhost:8080/"
        },
        "id": "998lETEa-UBe",
        "outputId": "8134e003-b0bf-4484-a08e-ff6868384f7f"
      },
      "source": [
        "# Show the internal representation of multiline_text_1.\n",
        "print(repr(multiline_text_1))\n",
        "print(repr(multiline_text_2))"
      ],
      "execution_count": 12,
      "outputs": [
        {
          "output_type": "stream",
          "name": "stdout",
          "text": [
            "'This is a multiline text, so it is enclosed by triple quotes.\\nPretty cool stuff!\\nI always wanted to type more than one line, so today is my lucky day!'\n",
            "'This is a multiline text, so it is enclosed by triple quotes.\\nPretty cool stuff!\\nI always wanted to type more than one line, so today is my lucky day!'\n"
          ]
        }
      ]
    },
    {
      "cell_type": "markdown",
      "metadata": {
        "id": "1oIzevd4-UBe"
      },
      "source": [
        "Another hidden character that is often used is **`\\t`**, which represents tabs:"
      ]
    },
    {
      "cell_type": "code",
      "metadata": {
        "colab": {
          "base_uri": "https://localhost:8080/"
        },
        "id": "JfBmji8z-UBe",
        "outputId": "b713cbe1-f4f1-4ad9-87dd-c0c52378bd6e"
      },
      "source": [
        "colors = \"yellow\\tgreen\\tblue\\tred\"\n",
        "print(colors)\n",
        "print(repr(colors))"
      ],
      "execution_count": 13,
      "outputs": [
        {
          "output_type": "stream",
          "name": "stdout",
          "text": [
            "yellow\tgreen\tblue\tred\n",
            "'yellow\\tgreen\\tblue\\tred'\n"
          ]
        }
      ]
    },
    {
      "cell_type": "markdown",
      "metadata": {
        "id": "epyPtOZo-UBe"
      },
      "source": [
        "## 2. Strings as sequences\n",
        "\n",
        "### 2.1 String indices\n",
        "\n",
        "Strings are simply **sequences of characters**. Each character in a string therefore has a position, which can be referred to by the **index number** of the position. The index numbers start at 0 and then increase to the length of the string. You can also start counting backwards using negative indices. The following table shows all characters of the sentence \"Sandwiches are yummy\" in the first row. The second row and the third row show respectively the **positive and negative indices** for each character:\n",
        "\n",
        "\n",
        "| Characters     | S | a | n | d | w | i | c | h | e | s |    | a  |  r | e  |    |  y |  u |  m |  m |  y |\n",
        "|----------------|---|---|---|---|---|---|---|---|---|---|----|----|----|----|----|----|----|----|----|----|\n",
        "| Positive index | 0 | 1 | 2 | 3 | 4 | 5 | 6 | 7 | 8 | 9 | 10 | 11 | 12 | 13 | 14 | 15 | 16 | 17 | 18 | 19 |\n",
        "| Negative index |-20|-19|-18|-17|-16|-15|-14|-13|-12|-11|-10|-9|-8|-7|-6|-5|-4|-3|-2|-1|\n",
        "\n",
        "\n",
        "You can access the characters of a string as follows:"
      ]
    },
    {
      "cell_type": "code",
      "metadata": {
        "colab": {
          "base_uri": "https://localhost:8080/"
        },
        "id": "666Yv-ag-UBe",
        "outputId": "47c76712-b09a-495d-b8df-86ba7a19f03c"
      },
      "source": [
        "my_string = \"Sandwiches are yummy\"\n",
        "print(my_string[1])   \n",
        "print(my_string[-1]) "
      ],
      "execution_count": 14,
      "outputs": [
        {
          "output_type": "stream",
          "name": "stdout",
          "text": [
            "a\n",
            "y\n"
          ]
        }
      ]
    },
    {
      "cell_type": "markdown",
      "metadata": {
        "id": "5XA511j4-UBe"
      },
      "source": [
        "**Length:** Python has a built-in function called **`len()`** that lets you compute the length of a sequence. It works like this:"
      ]
    },
    {
      "cell_type": "code",
      "metadata": {
        "colab": {
          "base_uri": "https://localhost:8080/"
        },
        "id": "CZEH4EnL-UBf",
        "outputId": "15cf27f0-9464-400c-cc0a-0434e5e6afc3"
      },
      "source": [
        "number_of_characters = len(my_string)\n",
        "print(number_of_characters) # Note that spaces count as characters too!"
      ],
      "execution_count": 15,
      "outputs": [
        {
          "output_type": "stream",
          "name": "stdout",
          "text": [
            "20\n"
          ]
        }
      ]
    },
    {
      "cell_type": "markdown",
      "metadata": {
        "id": "ZUF3p_zV-UBf"
      },
      "source": [
        "### 2.2 Slicing and indices applied to strings\n",
        "\n",
        "Besides using single indices we can also extract a range from a string:"
      ]
    },
    {
      "cell_type": "code",
      "metadata": {
        "colab": {
          "base_uri": "https://localhost:8080/"
        },
        "id": "rSuC-V-i-UBf",
        "outputId": "0d0bd9e7-b36a-4a4d-c089-a898deac7dbc"
      },
      "source": [
        "my_string = \"Sandwiches are yummy\"\n",
        "print(my_string[1:4]) "
      ],
      "execution_count": 16,
      "outputs": [
        {
          "output_type": "stream",
          "name": "stdout",
          "text": [
            "and\n"
          ]
        }
      ]
    },
    {
      "cell_type": "markdown",
      "metadata": {
        "id": "twrpOXNs-UBf"
      },
      "source": [
        "This is called **string slicing**. So how does this notation work?\n",
        "\n",
        "```python\n",
        "my_string[i]                  # Get the character at index i.\n",
        "my_string[start:end]          # Get the substring starting at 'start' and ending *before* 'end'.\n",
        "my_string[start:end:stepsize] # Get all characters starting from 'start', ending before 'end', \n",
        "                              # with a specific step size.\n",
        "```\n",
        "\n",
        "You can also leave parts out:\n",
        "\n",
        "```python\n",
        "my_string[:i]                 # Get the substring starting at index 0 and ending just before i.\n",
        "my_string[i:]                 # Get the substring starting at i and running all the way to the end.\n",
        "my_string[::i]                # Get a string going from start to end with step size i.\n",
        "```\n",
        "\n",
        "You can also have negative step size. `my_string[::-1]` is the idiomatic way to reverse a string.\n",
        "\n",
        "\n",
        "![Blocks](images/string-slicing.png)\n",
        "\n",
        "**Tip:** Slicing and accessing values via indices is very useful and can be applied to other python objects, which have a fixed sequence, such as lists (we will see how in the subsequent notebooks). Try to understand what is going on with string slicing - it will be very helpful in rest of the course! \n",
        "\n",
        "Do you know what the following statements will print?"
      ]
    },
    {
      "cell_type": "code",
      "metadata": {
        "colab": {
          "base_uri": "https://localhost:8080/"
        },
        "id": "JHTQVR8Q-UBf",
        "outputId": "60575376-b744-4893-ca73-4b4f400728fd"
      },
      "source": [
        "print(my_string[1:4]) "
      ],
      "execution_count": 17,
      "outputs": [
        {
          "output_type": "stream",
          "name": "stdout",
          "text": [
            "and\n"
          ]
        }
      ]
    },
    {
      "cell_type": "code",
      "metadata": {
        "colab": {
          "base_uri": "https://localhost:8080/"
        },
        "id": "_nEjOCWi-UBf",
        "outputId": "a48e9361-00ae-4bde-a915-7f18429c3b4c"
      },
      "source": [
        "print(my_string[1:4:1]) "
      ],
      "execution_count": 18,
      "outputs": [
        {
          "output_type": "stream",
          "name": "stdout",
          "text": [
            "and\n"
          ]
        }
      ]
    },
    {
      "cell_type": "code",
      "metadata": {
        "colab": {
          "base_uri": "https://localhost:8080/"
        },
        "id": "fErDMzo6-UBf",
        "outputId": "add3fd7c-e4dc-4a1d-b43b-009cfd51c6d3"
      },
      "source": [
        "print(my_string[11:14])"
      ],
      "execution_count": 19,
      "outputs": [
        {
          "output_type": "stream",
          "name": "stdout",
          "text": [
            "are\n"
          ]
        }
      ]
    },
    {
      "cell_type": "code",
      "metadata": {
        "colab": {
          "base_uri": "https://localhost:8080/"
        },
        "id": "QoS3RDcD-UBg",
        "outputId": "3e3c97c1-4c7c-4b84-c1c1-85022b9d18b0"
      },
      "source": [
        "print(my_string[15:])"
      ],
      "execution_count": 20,
      "outputs": [
        {
          "output_type": "stream",
          "name": "stdout",
          "text": [
            "yummy\n"
          ]
        }
      ]
    },
    {
      "cell_type": "code",
      "metadata": {
        "colab": {
          "base_uri": "https://localhost:8080/"
        },
        "id": "qoeAKLOi-UBg",
        "outputId": "54c2db9d-5334-4338-f0b5-a08c16aab4c9"
      },
      "source": [
        "print(my_string[:9])"
      ],
      "execution_count": 21,
      "outputs": [
        {
          "output_type": "stream",
          "name": "stdout",
          "text": [
            "Sandwiche\n"
          ]
        }
      ]
    },
    {
      "cell_type": "code",
      "metadata": {
        "colab": {
          "base_uri": "https://localhost:8080/"
        },
        "id": "6DGP4SHN-UBg",
        "outputId": "f02518ad-32c6-4dfa-bf57-6839228e312e"
      },
      "source": [
        "print('cow'[::2])"
      ],
      "execution_count": 22,
      "outputs": [
        {
          "output_type": "stream",
          "name": "stdout",
          "text": [
            "cw\n"
          ]
        }
      ]
    },
    {
      "cell_type": "code",
      "metadata": {
        "colab": {
          "base_uri": "https://localhost:8080/"
        },
        "id": "CGOAcCuJ-UBg",
        "outputId": "148ff2fb-444a-4807-dbff-45423bb563d8"
      },
      "source": [
        "print('cow'[::-2])"
      ],
      "execution_count": 23,
      "outputs": [
        {
          "output_type": "stream",
          "name": "stdout",
          "text": [
            "wc\n"
          ]
        }
      ]
    },
    {
      "cell_type": "code",
      "metadata": {
        "colab": {
          "base_uri": "https://localhost:8080/"
        },
        "id": "LInh9Nml-UBg",
        "outputId": "04d23a00-85fe-4bda-e151-6befccf9d32f"
      },
      "source": [
        "# a fun trick to reverse sequences:\n",
        "print(my_string[::-1])"
      ],
      "execution_count": 24,
      "outputs": [
        {
          "output_type": "stream",
          "name": "stdout",
          "text": [
            "ymmuy era sehciwdnaS\n"
          ]
        }
      ]
    },
    {
      "cell_type": "code",
      "metadata": {
        "colab": {
          "base_uri": "https://localhost:8080/"
        },
        "id": "ueVKKz8U-UBg",
        "outputId": "1250d205-35fb-4aae-df76-7cafaf58934a"
      },
      "source": [
        "# You can do something similar with lists (you don't have to understand this is detail now - but we'll show you an\n",
        "# example already, so you've seen it):\n",
        "\n",
        "my_list = ['a', 'bunch', 'of', 'words']\n",
        "print(my_list[3])\n",
        "print(my_list[2:4])\n",
        "print(my_list[-1])"
      ],
      "execution_count": 25,
      "outputs": [
        {
          "output_type": "stream",
          "name": "stdout",
          "text": [
            "words\n",
            "['of', 'words']\n",
            "words\n"
          ]
        }
      ]
    },
    {
      "cell_type": "markdown",
      "metadata": {
        "id": "JAt1NxKP-UBg"
      },
      "source": [
        "## 3. Immutability\n",
        "\n",
        "The **mutability** of an object refers to whether an object can change or not. Strings are **immutable**, meaning that they *cannot* be changed. It is possible to create a new string-object based on the old one, but we cannot modify the existing string-object. The cells below demonstrate this."
      ]
    },
    {
      "cell_type": "code",
      "metadata": {
        "colab": {
          "base_uri": "https://localhost:8080/"
        },
        "id": "4bWcIkzL-UBh",
        "outputId": "764311bb-8cfa-4764-a68e-19d8e99985f2"
      },
      "source": [
        "# This is fine, because we are creating a new string. The old one remains unchanged:\n",
        "fruit = 'guanabana'\n",
        "island = fruit[:5] \n",
        "print(island, 'island')\n",
        "print(fruit, 'fruit')"
      ],
      "execution_count": 26,
      "outputs": [
        {
          "output_type": "stream",
          "name": "stdout",
          "text": [
            "guana island\n",
            "guanabana fruit\n"
          ]
        }
      ]
    },
    {
      "cell_type": "code",
      "metadata": {
        "colab": {
          "base_uri": "https://localhost:8080/"
        },
        "id": "M8njxPt6-UBh",
        "outputId": "aa677dd4-31a4-44aa-91b9-3f9ccc450320"
      },
      "source": [
        "# This works because we are creating a new string and overwriting our old one\n",
        "fruit = fruit[5:] + 'na' \n",
        "print(fruit)"
      ],
      "execution_count": 27,
      "outputs": [
        {
          "output_type": "stream",
          "name": "stdout",
          "text": [
            "banana\n"
          ]
        }
      ]
    },
    {
      "cell_type": "code",
      "metadata": {
        "colab": {
          "base_uri": "https://localhost:8080/",
          "height": 200
        },
        "id": "0-HzhfwZ-UBi",
        "outputId": "48ede76b-ca99-45b7-cd90-f79cb6dcdd56"
      },
      "source": [
        "# This attempt to change the ending into `aan' does not work because now we are trying to change an existing string\n",
        "fruit[4:5] = 'an' \n",
        "print(fruit)"
      ],
      "execution_count": 28,
      "outputs": [
        {
          "output_type": "error",
          "ename": "TypeError",
          "evalue": "ignored",
          "traceback": [
            "\u001b[0;31m---------------------------------------------------------------------------\u001b[0m",
            "\u001b[0;31mTypeError\u001b[0m                                 Traceback (most recent call last)",
            "\u001b[0;32m<ipython-input-28-7c8ba9eca2c5>\u001b[0m in \u001b[0;36m<module>\u001b[0;34m()\u001b[0m\n\u001b[1;32m      1\u001b[0m \u001b[0;31m# This attempt to change the ending into `aan' does not work because now we are trying to change an existing string\u001b[0m\u001b[0;34m\u001b[0m\u001b[0;34m\u001b[0m\u001b[0;34m\u001b[0m\u001b[0m\n\u001b[0;32m----> 2\u001b[0;31m \u001b[0mfruit\u001b[0m\u001b[0;34m[\u001b[0m\u001b[0;36m4\u001b[0m\u001b[0;34m:\u001b[0m\u001b[0;36m5\u001b[0m\u001b[0;34m]\u001b[0m \u001b[0;34m=\u001b[0m \u001b[0;34m'an'\u001b[0m\u001b[0;34m\u001b[0m\u001b[0;34m\u001b[0m\u001b[0m\n\u001b[0m\u001b[1;32m      3\u001b[0m \u001b[0mprint\u001b[0m\u001b[0;34m(\u001b[0m\u001b[0mfruit\u001b[0m\u001b[0;34m)\u001b[0m\u001b[0;34m\u001b[0m\u001b[0;34m\u001b[0m\u001b[0m\n",
            "\u001b[0;31mTypeError\u001b[0m: 'str' object does not support item assignment"
          ]
        }
      ]
    },
    {
      "cell_type": "code",
      "metadata": {
        "colab": {
          "base_uri": "https://localhost:8080/"
        },
        "id": "SmrkDHW8-UBi",
        "outputId": "734d6f56-2be7-4972-b1a2-7775213bfafa"
      },
      "source": [
        "# We could do this with a list though (don't worry about this yet - it is just meant to show the contrast)\n",
        "\n",
        "fruits = ['cherry', 'blueberry', 'banana']\n",
        "fruits[2:3] = ['rasperry', 'kiwi']\n",
        "fruits"
      ],
      "execution_count": 29,
      "outputs": [
        {
          "output_type": "execute_result",
          "data": {
            "text/plain": [
              "['cherry', 'blueberry', 'rasperry', 'kiwi']"
            ]
          },
          "metadata": {},
          "execution_count": 29
        }
      ]
    },
    {
      "cell_type": "code",
      "metadata": {
        "colab": {
          "base_uri": "https://localhost:8080/"
        },
        "id": "2rRDuycI-UBi",
        "outputId": "0b3341e4-95dd-4221-ae37-02f806bf402f"
      },
      "source": [
        "# If we want to modify a string by exchanging characters, we need to do:\n",
        "fruit = fruit[:4] + 'an'\n",
        "print(fruit)"
      ],
      "execution_count": 30,
      "outputs": [
        {
          "output_type": "stream",
          "name": "stdout",
          "text": [
            "banaan\n"
          ]
        }
      ]
    },
    {
      "cell_type": "markdown",
      "metadata": {
        "id": "mAoEtz1T-UBi"
      },
      "source": [
        "The reasons for why strings are immutable are beyond the scope of this notebook. Just remember that if you want to modify a string, you need to overwrite the entire string, and you cannot modify parts of it by using individual indices."
      ]
    },
    {
      "cell_type": "markdown",
      "metadata": {
        "id": "QSc79PFx-UBi"
      },
      "source": [
        "## 4. Comparing strings\n",
        "\n",
        "In Python it is possible to use **comparison operators** (as used in conditional statements) on strings. These operators are: \n",
        "\n",
        "* == ('is the same as') \n",
        "* != ('is not the same as')\n",
        "* < ('is smaller than')\n",
        "* <= ('is the same as or smaller than')\n",
        "* \\> ('is greater than')\n",
        "* \\>= ('is the same as or greater than')\n",
        " \n",
        "\n",
        "**Attention** \n",
        "'=' is used to assign a value to a variable whereas '==' is used to compare two values. If you get errors in comparisons, check if you used the correct operator. \n",
        "\n",
        "Some of these symbols are probably familiar to you from your math classes. Most likely, you have used them before to compare numbers. However, we can also use them to compare strings!  \n",
        "\n",
        "There are a number of things we have to know about python when comparing strings:\n",
        "\n",
        "* String comparison is always case-sensitive \n",
        "* Internally, characters are represented as numerical values, which can be ranked. You can use the smaller than/greater than operators to put words in lexicographical order. This is similar to the alphabetical order you would use with a dictionary, except that all the uppercase letters come before all the lowercase letters (so first *A, B, C, etc.* and then *a, b, c, etc.*)\n",
        "\n",
        "**Hint**: In practice, you will often use == and !=. The 'greater than' and 'smaller than' operators are used in sorting algorithms (e.g. to sort a list of strings in alphabetical order), but you will hardly ever use them directly to compare strings."
      ]
    },
    {
      "cell_type": "code",
      "metadata": {
        "colab": {
          "base_uri": "https://localhost:8080/"
        },
        "id": "9_mw1rdN-UBi",
        "outputId": "8f6b9c00-f18d-4c68-8d19-7505a69d03a5"
      },
      "source": [
        "print('a' == 'a')\n",
        "print('a' != 'b')\n",
        "print('a' == 'A')  # string comparison is case-sensitive\n",
        "print('a' < 'b')   # alphabetical order\n",
        "print('A' < 'a')   # uppercase comes before lowercase\n",
        "print('B' < 'a')   # uppercase comes before lowercase\n",
        "print()\n",
        "print('orange' == 'Orange')\n",
        "print('orange' > 'Orange')\n",
        "print('orange' < 'Orange')\n",
        "print('orange' > 'banana')\n",
        "print('Orange' > 'banana')"
      ],
      "execution_count": 31,
      "outputs": [
        {
          "output_type": "stream",
          "name": "stdout",
          "text": [
            "True\n",
            "True\n",
            "False\n",
            "True\n",
            "True\n",
            "True\n",
            "\n",
            "False\n",
            "True\n",
            "False\n",
            "True\n",
            "False\n"
          ]
        }
      ]
    },
    {
      "cell_type": "markdown",
      "metadata": {
        "id": "WqPpmo67-UBj"
      },
      "source": [
        "Another way of comparing strings is to check whether a string is part of another string, which can be done using **the `in` operator**. It returns `True` if the string contains the relevant substring, and `False` if it doesn't. These two values (`True` and `False`) are called **boolean values**, or *booleans* for short. We'll talk about them in more detail later. Here are some examples to try (can you predict what will happen before running them?):"
      ]
    },
    {
      "cell_type": "code",
      "metadata": {
        "colab": {
          "base_uri": "https://localhost:8080/"
        },
        "id": "TXyZhtDS-UBj",
        "outputId": "ae15eae8-2667-4474-cefd-7699481c37b3"
      },
      "source": [
        "\"fun\" in \"function\""
      ],
      "execution_count": 32,
      "outputs": [
        {
          "output_type": "execute_result",
          "data": {
            "text/plain": [
              "True"
            ]
          },
          "metadata": {},
          "execution_count": 32
        }
      ]
    },
    {
      "cell_type": "code",
      "metadata": {
        "colab": {
          "base_uri": "https://localhost:8080/"
        },
        "id": "iQ6f4o_c-UBj",
        "outputId": "b19735fc-3b8a-4bb9-b21a-d9c9b35f50c2"
      },
      "source": [
        "\"I\" in \"Team\""
      ],
      "execution_count": 33,
      "outputs": [
        {
          "output_type": "execute_result",
          "data": {
            "text/plain": [
              "False"
            ]
          },
          "metadata": {},
          "execution_count": 33
        }
      ]
    },
    {
      "cell_type": "code",
      "metadata": {
        "colab": {
          "base_uri": "https://localhost:8080/"
        },
        "id": "cOC8QRaU-UBj",
        "outputId": "2455db73-44b1-44ad-b712-1cb12f975ef5"
      },
      "source": [
        "\"am\" in \"Team\""
      ],
      "execution_count": 34,
      "outputs": [
        {
          "output_type": "execute_result",
          "data": {
            "text/plain": [
              "True"
            ]
          },
          "metadata": {},
          "execution_count": 34
        }
      ]
    },
    {
      "cell_type": "code",
      "metadata": {
        "colab": {
          "base_uri": "https://localhost:8080/"
        },
        "id": "3lh2L8Ae-UBj",
        "outputId": "5e293164-b225-4fab-98c5-92addb0502be"
      },
      "source": [
        "\"App\" in \"apple\" # Capitals are not the same as lowercase characters!"
      ],
      "execution_count": 35,
      "outputs": [
        {
          "output_type": "execute_result",
          "data": {
            "text/plain": [
              "False"
            ]
          },
          "metadata": {},
          "execution_count": 35
        }
      ]
    },
    {
      "cell_type": "code",
      "metadata": {
        "colab": {
          "base_uri": "https://localhost:8080/"
        },
        "id": "AKZTFP4T-UBj",
        "outputId": "4673f820-d53b-49a3-a25c-87e53f5aea04"
      },
      "source": [
        "\"apple\" in \"apple\" "
      ],
      "execution_count": 36,
      "outputs": [
        {
          "output_type": "execute_result",
          "data": {
            "text/plain": [
              "True"
            ]
          },
          "metadata": {},
          "execution_count": 36
        }
      ]
    },
    {
      "cell_type": "code",
      "metadata": {
        "colab": {
          "base_uri": "https://localhost:8080/"
        },
        "id": "4iPR2prP-UBj",
        "outputId": "d0430032-ed3f-409b-f95e-666ffa98bc94"
      },
      "source": [
        "\"applepie\" in \"apple\""
      ],
      "execution_count": 37,
      "outputs": [
        {
          "output_type": "execute_result",
          "data": {
            "text/plain": [
              "False"
            ]
          },
          "metadata": {},
          "execution_count": 37
        }
      ]
    },
    {
      "cell_type": "markdown",
      "metadata": {
        "id": "pL3gkAuU-UBj"
      },
      "source": [
        "## 5. Printing, concatenating and inserting strings\n",
        "\n",
        "You will often find yourself concatenating and printing combinations of strings. Consider the following examples:"
      ]
    },
    {
      "cell_type": "code",
      "metadata": {
        "colab": {
          "base_uri": "https://localhost:8080/"
        },
        "id": "CUW6P9zE-UBk",
        "outputId": "06d5c964-fd24-4d50-8fc9-5ab518120717"
      },
      "source": [
        "print(\"Hello\", \"World\")\n",
        "print(\"Hello \" + \"World\")"
      ],
      "execution_count": 38,
      "outputs": [
        {
          "output_type": "stream",
          "name": "stdout",
          "text": [
            "Hello World\n",
            "Hello World\n"
          ]
        }
      ]
    },
    {
      "cell_type": "markdown",
      "metadata": {
        "id": "Ounj831o-UBk"
      },
      "source": [
        "Even though they may look similar, there are two different things happening here. Simply said: the plus in the expression is doing concatenation, but the comma is not doing concatenation.\n",
        "\n",
        "**The 'print()' function**, which we have seen many times now, will print as strings everything in a comma-separated sequence of expressions to your screen, and it will separate the results with single blanks by default. Note that you can mix types: anything that is not already a string is automatically converted to its string representation."
      ]
    },
    {
      "cell_type": "code",
      "metadata": {
        "colab": {
          "base_uri": "https://localhost:8080/"
        },
        "id": "rcN9Tg_L-UBk",
        "outputId": "6b868494-b2b1-416a-d1ee-2e72c63988d2"
      },
      "source": [
        "number = 5\n",
        "print(\"I have\", number, \"apples\")"
      ],
      "execution_count": 39,
      "outputs": [
        {
          "output_type": "stream",
          "name": "stdout",
          "text": [
            "I have 5 apples\n"
          ]
        }
      ]
    },
    {
      "cell_type": "markdown",
      "metadata": {
        "id": "bprTFe_K-UBk"
      },
      "source": [
        "**String concatenation**, on the other hand, happens when we merge two strings into a single object using the + operator. No single blanks are inserted, and you cannot concatenate mix types. So, if you want to merge a string and an integer, you will need to convert the integer to a string."
      ]
    },
    {
      "cell_type": "code",
      "metadata": {
        "colab": {
          "base_uri": "https://localhost:8080/"
        },
        "id": "r2vEHNbm-UBk",
        "outputId": "f4c38086-6376-4b16-f29c-90abdf4ffbd1"
      },
      "source": [
        "number = 5\n",
        "print(\"I have \" + str(number) + \" apples\")"
      ],
      "execution_count": 40,
      "outputs": [
        {
          "output_type": "stream",
          "name": "stdout",
          "text": [
            "I have 5 apples\n"
          ]
        }
      ]
    },
    {
      "cell_type": "markdown",
      "metadata": {
        "id": "tHEAXKYw-UBk"
      },
      "source": [
        "Optionally, we can assign the concatenated string to a variable:"
      ]
    },
    {
      "cell_type": "code",
      "metadata": {
        "colab": {
          "base_uri": "https://localhost:8080/"
        },
        "id": "RtAB6JUM-UBk",
        "outputId": "80fb8437-64c3-4827-a4cd-6aaee6d4fd7a"
      },
      "source": [
        "my_string = \"I have \" + str(number) + \" apples\"\n",
        "print(my_string)"
      ],
      "execution_count": 41,
      "outputs": [
        {
          "output_type": "stream",
          "name": "stdout",
          "text": [
            "I have 5 apples\n"
          ]
        }
      ]
    },
    {
      "cell_type": "markdown",
      "metadata": {
        "id": "BrYM05IY-UBk"
      },
      "source": [
        "In addition to using + to concatenate strings, we can also use the multiplication sign \\* in combination with an integer for repeating strings (note that we again need to add a blank after 'apples' if we want it to be inserted):"
      ]
    },
    {
      "cell_type": "code",
      "metadata": {
        "colab": {
          "base_uri": "https://localhost:8080/"
        },
        "id": "N7FuhgRt-UBk",
        "outputId": "e16cf6a4-c7b9-47b1-e992-d22f3f34f259"
      },
      "source": [
        "my_string = \"apples \" * 5\n",
        "print(my_string)"
      ],
      "execution_count": 42,
      "outputs": [
        {
          "output_type": "stream",
          "name": "stdout",
          "text": [
            "apples apples apples apples apples \n"
          ]
        }
      ]
    },
    {
      "cell_type": "markdown",
      "metadata": {
        "id": "7UDvIO3m-UBl"
      },
      "source": [
        "The difference between \",\" and \"+\" when printing and concatenating strings can be confusing at first. Have a look at these examples to get a better sense of their differences."
      ]
    },
    {
      "cell_type": "code",
      "metadata": {
        "colab": {
          "base_uri": "https://localhost:8080/"
        },
        "id": "_z_9WEy6-UBl",
        "outputId": "a6ba0e07-ed86-4a2e-d049-08d37b585e66"
      },
      "source": [
        "print(\"Hello\", \"World\")"
      ],
      "execution_count": 43,
      "outputs": [
        {
          "output_type": "stream",
          "name": "stdout",
          "text": [
            "Hello World\n"
          ]
        }
      ]
    },
    {
      "cell_type": "code",
      "metadata": {
        "colab": {
          "base_uri": "https://localhost:8080/"
        },
        "id": "jS4PUtbn-UBl",
        "outputId": "c48ae006-d40d-417d-f17c-de691691db7c"
      },
      "source": [
        "print(\"Hello\" + \"World\")"
      ],
      "execution_count": 44,
      "outputs": [
        {
          "output_type": "stream",
          "name": "stdout",
          "text": [
            "HelloWorld\n"
          ]
        }
      ]
    },
    {
      "cell_type": "code",
      "metadata": {
        "colab": {
          "base_uri": "https://localhost:8080/"
        },
        "id": "a96IgJ8S-UBl",
        "outputId": "83561bd0-541c-4376-8e14-83b824718e4b"
      },
      "source": [
        "print(\"Hello \" + \"World\")"
      ],
      "execution_count": 45,
      "outputs": [
        {
          "output_type": "stream",
          "name": "stdout",
          "text": [
            "Hello World\n"
          ]
        }
      ]
    },
    {
      "cell_type": "code",
      "metadata": {
        "colab": {
          "base_uri": "https://localhost:8080/"
        },
        "id": "1Ow9sDLu-UBl",
        "outputId": "2946352f-e924-46fd-b2a3-563ae1333c63"
      },
      "source": [
        "print(5, \"eggs\")"
      ],
      "execution_count": 46,
      "outputs": [
        {
          "output_type": "stream",
          "name": "stdout",
          "text": [
            "5 eggs\n"
          ]
        }
      ]
    },
    {
      "cell_type": "code",
      "metadata": {
        "colab": {
          "base_uri": "https://localhost:8080/"
        },
        "id": "lcKtKQGi-UBl",
        "outputId": "5eb6ae2c-d196-4d8a-880e-f972b0e3eb9b"
      },
      "source": [
        "print(str(5), \"eggs\")"
      ],
      "execution_count": 47,
      "outputs": [
        {
          "output_type": "stream",
          "name": "stdout",
          "text": [
            "5 eggs\n"
          ]
        }
      ]
    },
    {
      "cell_type": "code",
      "metadata": {
        "colab": {
          "base_uri": "https://localhost:8080/",
          "height": 165
        },
        "id": "fVPY_DU--UBl",
        "outputId": "665039d4-d263-42c1-be72-201d947b45be"
      },
      "source": [
        "print(5 + \" eggs\")"
      ],
      "execution_count": 48,
      "outputs": [
        {
          "output_type": "error",
          "ename": "TypeError",
          "evalue": "ignored",
          "traceback": [
            "\u001b[0;31m---------------------------------------------------------------------------\u001b[0m",
            "\u001b[0;31mTypeError\u001b[0m                                 Traceback (most recent call last)",
            "\u001b[0;32m<ipython-input-48-f6bbf80946b0>\u001b[0m in \u001b[0;36m<module>\u001b[0;34m()\u001b[0m\n\u001b[0;32m----> 1\u001b[0;31m \u001b[0mprint\u001b[0m\u001b[0;34m(\u001b[0m\u001b[0;36m5\u001b[0m \u001b[0;34m+\u001b[0m \u001b[0;34m\" eggs\"\u001b[0m\u001b[0;34m)\u001b[0m\u001b[0;34m\u001b[0m\u001b[0;34m\u001b[0m\u001b[0m\n\u001b[0m",
            "\u001b[0;31mTypeError\u001b[0m: unsupported operand type(s) for +: 'int' and 'str'"
          ]
        }
      ]
    },
    {
      "cell_type": "code",
      "metadata": {
        "colab": {
          "base_uri": "https://localhost:8080/"
        },
        "id": "r_GWxRHl-UBl",
        "outputId": "c49dd656-c02a-49f8-e14b-0897def4fe4f"
      },
      "source": [
        "print(str(5) + \" eggs\")"
      ],
      "execution_count": 49,
      "outputs": [
        {
          "output_type": "stream",
          "name": "stdout",
          "text": [
            "5 eggs\n"
          ]
        }
      ]
    },
    {
      "cell_type": "code",
      "metadata": {
        "colab": {
          "base_uri": "https://localhost:8080/"
        },
        "id": "mMKzPXEx-UBl",
        "outputId": "6a80282c-2304-4e23-b742-1de845d40829"
      },
      "source": [
        "text = \"Hello\" + \"World\"\n",
        "print(text)\n",
        "print(type(text))"
      ],
      "execution_count": 50,
      "outputs": [
        {
          "output_type": "stream",
          "name": "stdout",
          "text": [
            "HelloWorld\n",
            "<class 'str'>\n"
          ]
        }
      ]
    },
    {
      "cell_type": "code",
      "metadata": {
        "colab": {
          "base_uri": "https://localhost:8080/"
        },
        "id": "JR-2S9OW-UBl",
        "outputId": "24217824-1844-49a9-d9a1-4a1312dc9f77"
      },
      "source": [
        "text = \"Hello\", \"World\"\n",
        "print(text)\n",
        "print(type(text))"
      ],
      "execution_count": 51,
      "outputs": [
        {
          "output_type": "stream",
          "name": "stdout",
          "text": [
            "('Hello', 'World')\n",
            "<class 'tuple'>\n"
          ]
        }
      ]
    },
    {
      "cell_type": "markdown",
      "metadata": {
        "id": "d2dcIHus-UBm"
      },
      "source": [
        "### 5.1 Using f-strings"
      ]
    },
    {
      "cell_type": "markdown",
      "metadata": {
        "id": "wbLagxI9-UBm"
      },
      "source": [
        "We can imagine that string concatenation can get rather confusing and unreadable if we have more variables. Consider the following example:"
      ]
    },
    {
      "cell_type": "code",
      "metadata": {
        "colab": {
          "base_uri": "https://localhost:8080/"
        },
        "id": "9E5E5oyz-UBm",
        "outputId": "d309cc2a-f0a5-4f3e-ea9b-38f69f3ecac9"
      },
      "source": [
        "name = \"Pia\"\n",
        "age = 26\n",
        "country = \"Austria\"\n",
        "residence = \"The Netherlands\"\n",
        "\n",
        "introduction = \"Hello. My name is \" + name + \". I'm \" +  str(age) + \" years old and I'm from \" + country + \\\n",
        "\", but I live in \"+ residence +'.'\n",
        "print(introduction)"
      ],
      "execution_count": 52,
      "outputs": [
        {
          "output_type": "stream",
          "name": "stdout",
          "text": [
            "Hello. My name is Pia. I'm 26 years old and I'm from Austria, but I live in The Netherlands.\n"
          ]
        }
      ]
    },
    {
      "cell_type": "markdown",
      "metadata": {
        "id": "L6jJq1kO-UBm"
      },
      "source": [
        "Luckily, there is a way to make the code a lot more easy to understand and nicely formatted. In Python, you can use a\n",
        "string formatting mechanism called [Literal String Interpolation](https://www.python.org/dev/peps/pep-0498/). Strings that are formatted using this mechanism are called **f-strings**, after the leading character used to denote such strings, and standing for \"formatted strings\". It works as follows:"
      ]
    },
    {
      "cell_type": "code",
      "metadata": {
        "colab": {
          "base_uri": "https://localhost:8080/",
          "height": 35
        },
        "id": "C3sZJ9nN-UBm",
        "outputId": "d6007f14-77d9-4b3c-d21f-ec7d80130f70"
      },
      "source": [
        "name=\"Pia\" \n",
        "age=26\n",
        "country=\"Austria\"\n",
        "residence = \"The Netherlands\"\n",
        "introduction = f\"Hello. My name is {name}. I'm {age} years old and I'm from {country}, but I live in {residence}.\"\n",
        "introduction"
      ],
      "execution_count": 53,
      "outputs": [
        {
          "output_type": "execute_result",
          "data": {
            "application/vnd.google.colaboratory.intrinsic+json": {
              "type": "string"
            },
            "text/plain": [
              "\"Hello. My name is Pia. I'm 26 years old and I'm from Austria, but I live in The Netherlands.\""
            ]
          },
          "metadata": {},
          "execution_count": 53
        }
      ]
    },
    {
      "cell_type": "markdown",
      "metadata": {
        "id": "Q7zhRE8d-UBm"
      },
      "source": [
        "We can even do cool stuff like this with f-strings:"
      ]
    },
    {
      "cell_type": "code",
      "metadata": {
        "colab": {
          "base_uri": "https://localhost:8080/"
        },
        "id": "rLbeS90i-UBm",
        "outputId": "c9cbc7e8-2eff-44f0-c6ef-2dd22bd256ba"
      },
      "source": [
        "text = f\"Soon, I'm turning {age+1} years.\"\n",
        "print(text)"
      ],
      "execution_count": 54,
      "outputs": [
        {
          "output_type": "stream",
          "name": "stdout",
          "text": [
            "Soon, I'm turning 27 years.\n"
          ]
        }
      ]
    },
    {
      "cell_type": "markdown",
      "metadata": {
        "id": "jY6IhZhv-UBm"
      },
      "source": [
        "Other formatting methods that you may come across include [%-formatting](https://docs.python.org/3/library/stdtypes.html#printf-style-string-formatting) and [str.format()](https://docs.python.org/3/library/string.html#formatstrings), but we recommend that you use f-strings because they are the most intuitive.\n",
        "\n",
        "Using f-strings can be extremely useful if you're dealing with a lot of data you want to modify in a similar way. Suppose you want to create many new files containing data and name them according to a specific system. You can create a kind of template name and then fill in specific information using variables. (More about files later.)"
      ]
    },
    {
      "cell_type": "markdown",
      "metadata": {
        "id": "e9Pof32A-UBm"
      },
      "source": [
        "## 6. String methods\n",
        "\n",
        "A **method** is a function that is associated with an object. For example, the **string-method `lower()`** turns a string into all lowercase characters, and **the string method `upper()`** makes strings uppercase. You can call this method using the **dot-notation** as shown below:"
      ]
    },
    {
      "cell_type": "code",
      "metadata": {
        "colab": {
          "base_uri": "https://localhost:8080/"
        },
        "id": "0GTdwdvh-UBn",
        "outputId": "c13c078b-f898-4cf2-dff0-9f9cece8cbdd"
      },
      "source": [
        "string_1 = 'Hello, world!'\n",
        "print(string_1)         # The original string.\n",
        "print(string_1.lower()) # Lowercased.\n",
        "print(string_1.upper())# Uppercased."
      ],
      "execution_count": 55,
      "outputs": [
        {
          "output_type": "stream",
          "name": "stdout",
          "text": [
            "Hello, world!\n",
            "hello, world!\n",
            "HELLO, WORLD!\n"
          ]
        }
      ]
    },
    {
      "cell_type": "markdown",
      "metadata": {
        "id": "EoQOtGHO-UBn"
      },
      "source": [
        "### 6.1 Learning about methods\n",
        "\n",
        "So how do you find out what kind of methods an object has? There are two options:\n",
        "\n",
        "1. Read the documentation. See [here](https://docs.python.org/3.5/library/stdtypes.html#string-methods) for the string methods.\n",
        "2. Use the **`dir()` function**, which returns a list of method names (as well as attributes of the object). If you want to know what a specific method does, use the **`help()` function**.\n",
        "\n",
        "Run the code below to see what the output of `dir()` looks like. \n",
        "\n",
        "The method names that start and end with double underscores ('dunder methods') are Python-internal. They are what makes general methods like `len()` work (`len()` internally calls the `string.__len__()` function), and cause Python to know what to do when you, for example, use a for-loop with a string.\n",
        "\n",
        "The other method names indicate common and useful methods. "
      ]
    },
    {
      "cell_type": "code",
      "metadata": {
        "colab": {
          "base_uri": "https://localhost:8080/"
        },
        "id": "Z3m3OYRQ-UBn",
        "outputId": "a736167c-cc76-43ac-d081-0d756e563332"
      },
      "source": [
        "# Run this cell to see all methods for strings\n",
        "dir(str)"
      ],
      "execution_count": 56,
      "outputs": [
        {
          "output_type": "execute_result",
          "data": {
            "text/plain": [
              "['__add__',\n",
              " '__class__',\n",
              " '__contains__',\n",
              " '__delattr__',\n",
              " '__dir__',\n",
              " '__doc__',\n",
              " '__eq__',\n",
              " '__format__',\n",
              " '__ge__',\n",
              " '__getattribute__',\n",
              " '__getitem__',\n",
              " '__getnewargs__',\n",
              " '__gt__',\n",
              " '__hash__',\n",
              " '__init__',\n",
              " '__init_subclass__',\n",
              " '__iter__',\n",
              " '__le__',\n",
              " '__len__',\n",
              " '__lt__',\n",
              " '__mod__',\n",
              " '__mul__',\n",
              " '__ne__',\n",
              " '__new__',\n",
              " '__reduce__',\n",
              " '__reduce_ex__',\n",
              " '__repr__',\n",
              " '__rmod__',\n",
              " '__rmul__',\n",
              " '__setattr__',\n",
              " '__sizeof__',\n",
              " '__str__',\n",
              " '__subclasshook__',\n",
              " 'capitalize',\n",
              " 'casefold',\n",
              " 'center',\n",
              " 'count',\n",
              " 'encode',\n",
              " 'endswith',\n",
              " 'expandtabs',\n",
              " 'find',\n",
              " 'format',\n",
              " 'format_map',\n",
              " 'index',\n",
              " 'isalnum',\n",
              " 'isalpha',\n",
              " 'isascii',\n",
              " 'isdecimal',\n",
              " 'isdigit',\n",
              " 'isidentifier',\n",
              " 'islower',\n",
              " 'isnumeric',\n",
              " 'isprintable',\n",
              " 'isspace',\n",
              " 'istitle',\n",
              " 'isupper',\n",
              " 'join',\n",
              " 'ljust',\n",
              " 'lower',\n",
              " 'lstrip',\n",
              " 'maketrans',\n",
              " 'partition',\n",
              " 'replace',\n",
              " 'rfind',\n",
              " 'rindex',\n",
              " 'rjust',\n",
              " 'rpartition',\n",
              " 'rsplit',\n",
              " 'rstrip',\n",
              " 'split',\n",
              " 'splitlines',\n",
              " 'startswith',\n",
              " 'strip',\n",
              " 'swapcase',\n",
              " 'title',\n",
              " 'translate',\n",
              " 'upper',\n",
              " 'zfill']"
            ]
          },
          "metadata": {},
          "execution_count": 56
        }
      ]
    },
    {
      "cell_type": "markdown",
      "metadata": {
        "id": "4FZmICvK-UBn"
      },
      "source": [
        "If you'd like to know what one of these methods does, you can just use `help()` (or look it up online):"
      ]
    },
    {
      "cell_type": "code",
      "metadata": {
        "colab": {
          "base_uri": "https://localhost:8080/"
        },
        "id": "hkjoEHmF-UBn",
        "outputId": "7d8c8ad0-43fe-4e80-b3c2-929c84f40b4b"
      },
      "source": [
        "help(str.upper)"
      ],
      "execution_count": 57,
      "outputs": [
        {
          "output_type": "stream",
          "name": "stdout",
          "text": [
            "Help on method_descriptor:\n",
            "\n",
            "upper(self, /)\n",
            "    Return a copy of the string converted to uppercase.\n",
            "\n"
          ]
        }
      ]
    },
    {
      "cell_type": "markdown",
      "metadata": {
        "id": "ujsKqsW9-UBn"
      },
      "source": [
        "It's important to note that string methods only *return* the result. They do not change the string itself."
      ]
    },
    {
      "cell_type": "code",
      "metadata": {
        "colab": {
          "base_uri": "https://localhost:8080/"
        },
        "id": "5bQKjcaw-UBn",
        "outputId": "bc26be11-b9f3-4c7f-8419-b1ed972373a2"
      },
      "source": [
        "x = 'test'    # Defining x.\n",
        "y = x.upper() # Using x.upper(), assigning the result to variable y.\n",
        "print(y)      # Print y.\n",
        "print(x)      # Print x. It is unchanged."
      ],
      "execution_count": 58,
      "outputs": [
        {
          "output_type": "stream",
          "name": "stdout",
          "text": [
            "TEST\n",
            "test\n"
          ]
        }
      ]
    },
    {
      "cell_type": "markdown",
      "metadata": {
        "id": "0VaKIKT8-UBn"
      },
      "source": [
        "Below we illustrate some of the string methods. Try to understand what is happening. Use the `help()` function to find more information about each of these methods."
      ]
    },
    {
      "cell_type": "code",
      "metadata": {
        "colab": {
          "base_uri": "https://localhost:8080/"
        },
        "id": "0HVPbizb-UBn",
        "outputId": "b85246d5-0f66-4d8e-eb9d-0f761f37fa39"
      },
      "source": [
        "# Find out more about each of the methods used below by changing the name of the method\n",
        "help(str.strip)"
      ],
      "execution_count": 59,
      "outputs": [
        {
          "output_type": "stream",
          "name": "stdout",
          "text": [
            "Help on method_descriptor:\n",
            "\n",
            "strip(self, chars=None, /)\n",
            "    Return a copy of the string with leading and trailing whitespace removed.\n",
            "    \n",
            "    If chars is given and not None, remove characters in chars instead.\n",
            "\n"
          ]
        }
      ]
    },
    {
      "cell_type": "code",
      "metadata": {
        "colab": {
          "base_uri": "https://localhost:8080/"
        },
        "id": "iH9TrlM9-UBo",
        "outputId": "7d43a3f8-3ffa-4b70-b5b8-2b47df28e520"
      },
      "source": [
        "s = ' Humpty Dumpty sat on the wall '\n",
        "print(s)\n",
        "s = s.strip() \n",
        "print(s)\n",
        "\n",
        "print(s.upper())\n",
        "print(s.lower())\n",
        "\n",
        "print(s.count(\"u\"))\n",
        "print(s.count(\"U\"))\n",
        "\n",
        "print(s.find('sat'))\n",
        "print(s.find('t', 12))\n",
        "print(s.find('q', 12))\n",
        "\n",
        "print(s.replace('sat on', 'fell off'))\n",
        "\n",
        "words = s.split()    # This returns a list, which we will talk about later.\n",
        "for word in words:   # But you can iterate over each word in this manner\n",
        "    print(word.capitalize())\n",
        "\n",
        "print('-'.join(words))"
      ],
      "execution_count": 60,
      "outputs": [
        {
          "output_type": "stream",
          "name": "stdout",
          "text": [
            " Humpty Dumpty sat on the wall \n",
            "Humpty Dumpty sat on the wall\n",
            "HUMPTY DUMPTY SAT ON THE WALL\n",
            "humpty dumpty sat on the wall\n",
            "2\n",
            "0\n",
            "14\n",
            "16\n",
            "-1\n",
            "Humpty Dumpty fell off the wall\n",
            "Humpty\n",
            "Dumpty\n",
            "Sat\n",
            "On\n",
            "The\n",
            "Wall\n",
            "Humpty-Dumpty-sat-on-the-wall\n"
          ]
        }
      ]
    },
    {
      "cell_type": "markdown",
      "metadata": {
        "id": "O9pvJpn2-UBo"
      },
      "source": [
        "## Exercises"
      ]
    },
    {
      "cell_type": "markdown",
      "metadata": {
        "id": "23U5y3ur-UBo"
      },
      "source": [
        "### Exercise 1: \n",
        "Can you identify and explain the errors in the following lines of code? Correct them please!"
      ]
    },
    {
      "cell_type": "code",
      "metadata": {
        "colab": {
          "base_uri": "https://localhost:8080/",
          "height": 130
        },
        "id": "0OaMBGFz-UBo",
        "outputId": "a11702ea-b7b1-4013-d901-1029b404b16c"
      },
      "source": [
        "print(\"A message\").\n",
        "print(\"A message')\n",
        "print('A message\"')"
      ],
      "execution_count": 61,
      "outputs": [
        {
          "output_type": "error",
          "ename": "SyntaxError",
          "evalue": "ignored",
          "traceback": [
            "\u001b[0;36m  File \u001b[0;32m\"<ipython-input-61-bbe716cb111a>\"\u001b[0;36m, line \u001b[0;32m1\u001b[0m\n\u001b[0;31m    print(\"A message\").\u001b[0m\n\u001b[0m                       ^\u001b[0m\n\u001b[0;31mSyntaxError\u001b[0m\u001b[0;31m:\u001b[0m invalid syntax\n"
          ]
        }
      ]
    },
    {
      "cell_type": "markdown",
      "metadata": {
        "id": "U8nyoxLw-UBo"
      },
      "source": [
        "### Exercise 2: \n",
        "Can you print the following? Try using both positive and negative indices.\n",
        "\n",
        "- the letter 'd' in my_string \n",
        "- the letter 'c' in my_string"
      ]
    },
    {
      "cell_type": "code",
      "metadata": {
        "id": "aFIwIklr-UBo"
      },
      "source": [
        "my_string = \"Sandwiches are yummy\"\n",
        "# your code here"
      ],
      "execution_count": 62,
      "outputs": []
    },
    {
      "cell_type": "markdown",
      "metadata": {
        "id": "GDv2-879-UBo"
      },
      "source": [
        "Can you print the following? Try using both positive and negative indices.\n",
        "\n",
        "- make a new string containing your first name and print its first letter\n",
        "- print the number of letters in your name"
      ]
    },
    {
      "cell_type": "code",
      "metadata": {
        "id": "wTa-ceEX-UBo"
      },
      "source": [
        "# your code here"
      ],
      "execution_count": 63,
      "outputs": []
    },
    {
      "cell_type": "markdown",
      "metadata": {
        "id": "ybDkqr6b-UBo"
      },
      "source": [
        "### Exercise 3: \n",
        "Can you print all a's in the word 'banana'?"
      ]
    },
    {
      "cell_type": "code",
      "metadata": {
        "id": "P20JTfLA-UBp"
      },
      "source": [
        "# your code here"
      ],
      "execution_count": 64,
      "outputs": []
    },
    {
      "cell_type": "markdown",
      "metadata": {
        "id": "qdPAU3-U-UBp"
      },
      "source": [
        "Can you print 'banana' in reverse ('ananab')?"
      ]
    },
    {
      "cell_type": "code",
      "metadata": {
        "id": "hh1ug_u6-UBp"
      },
      "source": [
        "# your code here"
      ],
      "execution_count": 65,
      "outputs": []
    },
    {
      "cell_type": "markdown",
      "metadata": {
        "id": "MQQwZz_q-UBp"
      },
      "source": [
        "Can you exchange the first and last characters in `my_string` ('aananb')? Create a new variable `new_string` to store your result."
      ]
    },
    {
      "cell_type": "code",
      "metadata": {
        "colab": {
          "base_uri": "https://localhost:8080/",
          "height": 130
        },
        "id": "-nrxm448-UBp",
        "outputId": "63eb1f89-3886-4aab-9cdc-e48c1544a16e"
      },
      "source": [
        "my_string = \"banana\"\n",
        "new_string = # your code here"
      ],
      "execution_count": 66,
      "outputs": [
        {
          "output_type": "error",
          "ename": "SyntaxError",
          "evalue": "ignored",
          "traceback": [
            "\u001b[0;36m  File \u001b[0;32m\"<ipython-input-66-53d1cca64adc>\"\u001b[0;36m, line \u001b[0;32m2\u001b[0m\n\u001b[0;31m    new_string = # your code here\u001b[0m\n\u001b[0m                                 ^\u001b[0m\n\u001b[0;31mSyntaxError\u001b[0m\u001b[0;31m:\u001b[0m invalid syntax\n"
          ]
        }
      ]
    },
    {
      "cell_type": "markdown",
      "metadata": {
        "id": "F45ZSCqV-UBp"
      },
      "source": [
        "### Exercise 4: \n",
        "Find a way to fix the spacing problem below keeping the \"+\"."
      ]
    },
    {
      "cell_type": "code",
      "metadata": {
        "colab": {
          "base_uri": "https://localhost:8080/"
        },
        "id": "FgSV5Mnx-UBp",
        "outputId": "eec29f6b-1eb3-4bf1-cd68-5961904e9e5d"
      },
      "source": [
        "name = \"Bruce Banner\"\n",
        "alterego = \"The Hulk\"\n",
        "colour = \"Green\"\n",
        "country = \"USA\"\n",
        "\n",
        "print(\"His name is\" + name + \"and his alter ego is\" + alterego + \n",
        "      \", a big\" + colour + \"superhero from the\" + country + \".\")"
      ],
      "execution_count": 67,
      "outputs": [
        {
          "output_type": "stream",
          "name": "stdout",
          "text": [
            "His name isBruce Bannerand his alter ego isThe Hulk, a bigGreensuperhero from theUSA.\n"
          ]
        }
      ]
    },
    {
      "cell_type": "markdown",
      "metadata": {
        "id": "AWt_VaeE-UBp"
      },
      "source": [
        "How would you print the same sentence using \",\"?"
      ]
    },
    {
      "cell_type": "code",
      "metadata": {
        "colab": {
          "base_uri": "https://localhost:8080/"
        },
        "id": "EGk9eGRF-UBp",
        "outputId": "6fc9f3fc-5342-410e-f8c0-7ae1a5d3082b"
      },
      "source": [
        "name = \"Bruce Banner\"\n",
        "alterego = \"The Hulk\"\n",
        "colour = \"Green\"\n",
        "country = \"USA\"\n",
        "\n",
        "print(\"His name is\" + name + \"and his alter ego is\" + alterego + \n",
        "      \", a big\" + colour + \"superhero from the\" + country + \".\")"
      ],
      "execution_count": 68,
      "outputs": [
        {
          "output_type": "stream",
          "name": "stdout",
          "text": [
            "His name isBruce Bannerand his alter ego isThe Hulk, a bigGreensuperhero from theUSA.\n"
          ]
        }
      ]
    },
    {
      "cell_type": "markdown",
      "metadata": {
        "id": "0reobm1j-UBq"
      },
      "source": [
        "Can you rewrite the code below using an f-string?"
      ]
    },
    {
      "cell_type": "code",
      "metadata": {
        "colab": {
          "base_uri": "https://localhost:8080/"
        },
        "id": "h9e3Go7l-UBq",
        "outputId": "e3a29117-1b2d-4348-f571-9e0d09859c63"
      },
      "source": [
        "name = \"Bruce Banner\"\n",
        "alterego = \"The Hulk\"\n",
        "colour = \"green\"\n",
        "country = \"the USA\"\n",
        "birth_year = 1969\n",
        "current_year = 2017\n",
        "\n",
        "print(\"His name is \" + name + \" and his alter ego is \" + alterego + \n",
        "      \", a big \" + colour + \" superhero from \" + country + \". He was born in \" + str(birth_year) + \n",
        "      \", so he must be \" + str(current_year - birth_year - 1) + \" or \" + str(current_year - birth_year) + \n",
        "      \" years old now.\")"
      ],
      "execution_count": 69,
      "outputs": [
        {
          "output_type": "stream",
          "name": "stdout",
          "text": [
            "His name is Bruce Banner and his alter ego is The Hulk, a big green superhero from the USA. He was born in 1969, so he must be 47 or 48 years old now.\n"
          ]
        }
      ]
    },
    {
      "cell_type": "markdown",
      "metadata": {
        "id": "EW5V8cFB-UBq"
      },
      "source": [
        "### Exercise 5: \n",
        "Replace all a's by o's in 'banana' using a string method."
      ]
    },
    {
      "cell_type": "code",
      "metadata": {
        "id": "UUbQT5n4-UBq"
      },
      "source": [
        "my_string = \"banana\"\n",
        "# your code here"
      ],
      "execution_count": 70,
      "outputs": []
    },
    {
      "cell_type": "markdown",
      "metadata": {
        "id": "-69sOQ02-UBq"
      },
      "source": [
        "Remove all spaces in the sentence using a string method."
      ]
    },
    {
      "cell_type": "code",
      "metadata": {
        "id": "H7irBazQ-UBq"
      },
      "source": [
        "my_string = \"Humpty Dumpty sat on the wall\"\n",
        "# your code here"
      ],
      "execution_count": 71,
      "outputs": []
    },
    {
      "cell_type": "markdown",
      "metadata": {
        "id": "14LllqIA-UBq"
      },
      "source": [
        "What do the methods `lstrip()` and `rstrip()` do? Try them out below."
      ]
    },
    {
      "cell_type": "code",
      "metadata": {
        "id": "ck8dYtai-UBq"
      },
      "source": [
        "# find out what lstrip() and rstrip() do"
      ],
      "execution_count": 72,
      "outputs": []
    },
    {
      "cell_type": "markdown",
      "metadata": {
        "id": "faaFtmmR-UBq"
      },
      "source": [
        "What do the methods `startswith()` and `endswith()` do? Try them out below."
      ]
    },
    {
      "cell_type": "code",
      "metadata": {
        "id": "yZNdfyEs-UBr"
      },
      "source": [
        "# find out what startswith() and endswith() do"
      ],
      "execution_count": 73,
      "outputs": []
    },
    {
      "cell_type": "code",
      "metadata": {
        "id": "__EMJ5d3-rUS"
      },
      "source": [
        ""
      ],
      "execution_count": 73,
      "outputs": []
    }
  ]
}