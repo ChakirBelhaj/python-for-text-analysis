{
  "nbformat": 4,
  "nbformat_minor": 0,
  "metadata": {
    "kernelspec": {
      "display_name": "Python 3",
      "language": "python",
      "name": "python3"
    },
    "language_info": {
      "codemirror_mode": {
        "name": "ipython",
        "version": 3
      },
      "file_extension": ".py",
      "mimetype": "text/x-python",
      "name": "python",
      "nbconvert_exporter": "python",
      "pygments_lexer": "ipython3",
      "version": "3.8.3"
    },
    "colab": {
      "name": "Chapter 11 - Functions and scope.ipynb",
      "provenance": [],
      "include_colab_link": true
    }
  },
  "cells": [
    {
      "cell_type": "markdown",
      "metadata": {
        "id": "view-in-github",
        "colab_type": "text"
      },
      "source": [
        "<a href=\"https://colab.research.google.com/github/cltl/python-for-text-analysis/blob/colab/Chapters-colab/Chapter_11_Functions_and_scope.ipynb\" target=\"_parent\"><img src=\"https://colab.research.google.com/assets/colab-badge.svg\" alt=\"Open In Colab\"/></a>"
      ]
    },
    {
      "cell_type": "code",
      "metadata": {
        "id": "wHYCJVXbBdqL"
      },
      "source": [
        "%%capture\n",
        "!wget https://github.com/cltl/python-for-text-analysis/raw/master/zips/Data.zip\n",
        "!wget https://github.com/cltl/python-for-text-analysis/raw/master/zips/images.zip\n",
        "!wget https://github.com/cltl/python-for-text-analysis/raw/master/zips/Extra_Material.zip\n",
        "\n",
        "!unzip Data.zip -d ../\n",
        "!unzip images.zip -d ./\n",
        "!unzip Extra_Material.zip -d ../\n",
        "\n",
        "!rm Data.zip\n",
        "!rm Extra_Material.zip\n",
        "!rm images.zip"
      ],
      "execution_count": 1,
      "outputs": []
    },
    {
      "cell_type": "markdown",
      "metadata": {
        "id": "WTUiXOfgBcxN"
      },
      "source": [
        "# Chapter 11: Functions and scope\n",
        "*We use an example from [this website](http://anh.cs.luc.edu/python/hands-on/3.1/handsonHtml/functions.html) to show you some of the basics of writing a function. \n",
        "We use some materials from [this other Python course](https://github.com/kadarakos/python-course).*"
      ]
    },
    {
      "cell_type": "markdown",
      "metadata": {
        "id": "8Up2rQG7BcxR"
      },
      "source": [
        "We have seen that Python has several built-in functions (e.g. `print()` or `max()`). But you can also create a function. A function is a reusable block of code that performs a specific task. Once you have defined a function, you can use it at any place in your Python script. You can even import a function from an external module (as we will see in the next chapter). Therefore, they are beneficial for tasks that you will perform more often. Plus, functions are a convenient way to order your code and make it more readable!\n",
        "\n",
        "### At the end of this chapter, you will be able to:\n",
        "* write a function\n",
        "* work with function inputs\n",
        "* understand the difference between (keyword and positional) arguments and parameters\n",
        "* return zero, one, or multiple values\n",
        "* write function docstrings\n",
        "* understand the scope of variables\n",
        "* store your function in a Python module and call it\n",
        "* debug your functions\n",
        "\n",
        "### If you want to learn more about these topics, you might find the following link useful:\n",
        "* [Tutorial: Defining Functions of your Own](http://anh.cs.luc.edu/python/hands-on/3.1/handsonHtml/functions.html)\n",
        "* [The docstrings main formats](http://daouzli.com/blog/docstring.html)\n",
        "* [PEP 287 -- reStructured Docstring Format](https://www.python.org/dev/peps/pep-0287/)\n",
        "* [Introduction to assert](https://www.programiz.com/python-programming/assert-statement)\n",
        "\n",
        "**Now let's get started!**"
      ]
    },
    {
      "cell_type": "markdown",
      "metadata": {
        "id": "uuRuk9-xBcxS"
      },
      "source": [
        "If you have **questions** about this chapter, please contact us **(cltl.python.course@gmail.com)**."
      ]
    },
    {
      "cell_type": "markdown",
      "metadata": {
        "id": "qJkSURpaBcxT"
      },
      "source": [
        "# 1. Writing a function\n",
        "\n",
        "A **function** is an isolated chunk of code that has a name, gets zero or more parameters, and returns a value. In general, a function will do something for you based on the input parameters you pass it, and it will typically return a result. You are not limited to using functions available in the standard library or the ones provided by external parties. You can also write your own functions!\n",
        "\n",
        "Whenever you are writing a function, you need to think of the following things:\n",
        "* What is the purpose of the function?\n",
        "* How should I name the function?\n",
        "* What input does the function need?\n",
        "* What output should the function generate?\n",
        "\n",
        "## 1.1. Why use a function?\n",
        "\n",
        "There are several good reasons why functions are a vital component of any non-ridiculous programmer:\n",
        "\n",
        "* encapsulation: wrapping a piece of useful code into a function so that it can be used without knowledge of the specifics\n",
        "* generalization: making a piece of code useful in varied circumstances through parameters\n",
        "* manageability: Dividing a complex program up into easy-to-manage chunks\n",
        "* maintainability: using meaningful names to make the program better readable and understandable\n",
        "* reusability: a good function may be useful in multiple programs\n",
        "* recursion!\n",
        "\n",
        "## 1.2. How to define a function\n",
        "\n",
        "Let's say we want to sing a birthday song to Emily. Then we print the following lines:"
      ]
    },
    {
      "cell_type": "code",
      "metadata": {
        "colab": {
          "base_uri": "https://localhost:8080/"
        },
        "id": "El6xMMTNBcxU",
        "outputId": "50e01d15-9587-43c9-a837-194dbd7c2287"
      },
      "source": [
        "print(\"Happy Birthday to you!\")\n",
        "print(\"Happy Birthday to you!\")\n",
        "print(\"Happy Birthday, dear Emily.\")\n",
        "print(\"Happy Birthday to you!\")"
      ],
      "execution_count": 2,
      "outputs": [
        {
          "output_type": "stream",
          "name": "stdout",
          "text": [
            "Happy Birthday to you!\n",
            "Happy Birthday to you!\n",
            "Happy Birthday, dear Emily.\n",
            "Happy Birthday to you!\n"
          ]
        }
      ]
    },
    {
      "cell_type": "markdown",
      "metadata": {
        "id": "nlC7zf9ZBcxV"
      },
      "source": [
        "This could be the purpose of a function: to print the lines of a birthday song for Emily. \n",
        "Now, we define a function to do this. Here is how you define a function:\n",
        "\n",
        "* write `def`;\n",
        "* the name you would like to call your function;\n",
        "* a set of parentheses containing the parameter(s) of your function;\n",
        "* a colon;\n",
        "* a docstring describing what your function does;\n",
        "* the function definition;\n",
        "* ending with a return statement\n",
        "\n",
        "Statements must be indented so that Python knows what belongs in the function and what not. Functions are only executed when you call them. It is good practice to define your functions at the top of your program or in another Python module.\n",
        "\n",
        "We give the function a clear name, `happy_birthday_to_emily`, and we define the function as shown below. Note that we specify what it does in the docstring at the beginning of the function:"
      ]
    },
    {
      "cell_type": "code",
      "metadata": {
        "id": "2Ytj54QaBcxW"
      },
      "source": [
        "def happy_birthday_to_emily(): # Function definition\n",
        "    \"\"\"\n",
        "    Print a birthday song to Emily.\n",
        "    \"\"\"\n",
        "    print(\"Happy Birthday to you!\")\n",
        "    print(\"Happy Birthday to you!\")\n",
        "    print(\"Happy Birthday, dear Emily.\")\n",
        "    print(\"Happy Birthday to you!\")"
      ],
      "execution_count": 3,
      "outputs": []
    },
    {
      "cell_type": "markdown",
      "metadata": {
        "id": "zSk47b4GBcxX"
      },
      "source": [
        "If we execute the code above, we don't get any output. That's because we only told Python: \"Here's a function to do this, please remember it.\" If we actually want Python to execute everything inside this function, we have to *call* it:"
      ]
    },
    {
      "cell_type": "markdown",
      "metadata": {
        "id": "KzUpBJHSBcxX"
      },
      "source": [
        "## 1.3 How to call a function"
      ]
    },
    {
      "cell_type": "markdown",
      "metadata": {
        "id": "n3ZdxIHdBcxY"
      },
      "source": [
        "It is important to distinguish between a function **definition** and a function **call**. We illustrate this in 1.3.1. You can also call functions from within other functions. This will become useful when you split up your code into small chunks that can be combined to solve a larger problem. This is illustrated in 1.3.2. \n",
        "\n",
        "\n",
        "### 1.3.1) A simple function call\n",
        "A function is **defined** once. After the definition, Python has remembered what this function does in its memory.\n",
        "A function is **executed/called** as many times as we like. When calling a function, you should always use parenthesis. \n"
      ]
    },
    {
      "cell_type": "code",
      "metadata": {
        "colab": {
          "base_uri": "https://localhost:8080/"
        },
        "id": "v5DypvpwBcxY",
        "outputId": "3fdf8d16-017d-4a55-e528-7773e0da5437"
      },
      "source": [
        "# function definition:\n",
        "\n",
        "def happy_birthday_to_emily(): # Function definition\n",
        "    \"\"\"\n",
        "    Print a birthday song to Emily.\n",
        "    \"\"\"\n",
        "    print(\"Happy Birthday to you!\")\n",
        "    print(\"Happy Birthday to you!\")\n",
        "    print(\"Happy Birthday, dear Emily.\")\n",
        "    print(\"Happy Birthday to you!\")\n",
        "    \n",
        "# function call:\n",
        "\n",
        "print('Function call 1')\n",
        "\n",
        "happy_birthday_to_emily()\n",
        "\n",
        "print()\n",
        "# We can call the function as many times as we want (but we define it only once)\n",
        "print('Function call 2')\n",
        "\n",
        "happy_birthday_to_emily()\n",
        "\n",
        "print()\n",
        "\n",
        "print('Function call 3')\n",
        "\n",
        "happy_birthday_to_emily()\n",
        "\n",
        "print()\n",
        "# This will not call the function \n",
        "\n",
        "print('This is not a function call')\n",
        "happy_birthday_to_emily"
      ],
      "execution_count": 4,
      "outputs": [
        {
          "output_type": "stream",
          "name": "stdout",
          "text": [
            "Function call 1\n",
            "Happy Birthday to you!\n",
            "Happy Birthday to you!\n",
            "Happy Birthday, dear Emily.\n",
            "Happy Birthday to you!\n",
            "\n",
            "Function call 2\n",
            "Happy Birthday to you!\n",
            "Happy Birthday to you!\n",
            "Happy Birthday, dear Emily.\n",
            "Happy Birthday to you!\n",
            "\n",
            "Function call 3\n",
            "Happy Birthday to you!\n",
            "Happy Birthday to you!\n",
            "Happy Birthday, dear Emily.\n",
            "Happy Birthday to you!\n",
            "\n",
            "This is not a function call\n"
          ]
        },
        {
          "output_type": "execute_result",
          "data": {
            "text/plain": [
              "<function __main__.happy_birthday_to_emily>"
            ]
          },
          "metadata": {},
          "execution_count": 4
        }
      ]
    },
    {
      "cell_type": "markdown",
      "metadata": {
        "id": "AC_xjXoABcxY"
      },
      "source": [
        "### 1.3.2 Calling a function from within another function\n",
        "\n",
        "We can also define functions that call other functions, which is very helpful if we want to split our task into smaller, more manageable subtasks:"
      ]
    },
    {
      "cell_type": "code",
      "metadata": {
        "colab": {
          "base_uri": "https://localhost:8080/"
        },
        "id": "FxP2VVuzBcxZ",
        "outputId": "f3bdad67-acd8-4574-cb91-b31d45084a10"
      },
      "source": [
        "def new_line():\n",
        "    \"\"\"Print a new line.\"\"\"\n",
        "    print()\n",
        "\n",
        "def two_new_lines():\n",
        "    \"\"\"Print two new lines.\"\"\"\n",
        "    new_line()\n",
        "    new_line()\n",
        "\n",
        "print(\"Printing a single line...\")\n",
        "new_line()\n",
        "print(\"Printing two lines...\")\n",
        "two_new_lines()\n",
        "print(\"Printed two lines\")"
      ],
      "execution_count": 5,
      "outputs": [
        {
          "output_type": "stream",
          "name": "stdout",
          "text": [
            "Printing a single line...\n",
            "\n",
            "Printing two lines...\n",
            "\n",
            "\n",
            "Printed two lines\n"
          ]
        }
      ]
    },
    {
      "cell_type": "markdown",
      "metadata": {
        "id": "v2y1ln2rBcxZ"
      },
      "source": [
        "You can do the same tricks that we learnt to apply on the built-in functions, like asking for `help` or for a function `type`:"
      ]
    },
    {
      "cell_type": "code",
      "metadata": {
        "colab": {
          "base_uri": "https://localhost:8080/"
        },
        "id": "7Uk_3ZRQBcxZ",
        "outputId": "b947ed82-8ddd-452f-ce20-da8ac9be58b6"
      },
      "source": [
        "help(happy_birthday_to_emily)"
      ],
      "execution_count": 6,
      "outputs": [
        {
          "output_type": "stream",
          "name": "stdout",
          "text": [
            "Help on function happy_birthday_to_emily in module __main__:\n",
            "\n",
            "happy_birthday_to_emily()\n",
            "    Print a birthday song to Emily.\n",
            "\n"
          ]
        }
      ]
    },
    {
      "cell_type": "code",
      "metadata": {
        "colab": {
          "base_uri": "https://localhost:8080/"
        },
        "id": "BlKVkjUUBcxa",
        "outputId": "5dbddf24-985a-4771-c255-783333cae5e0"
      },
      "source": [
        "type(happy_birthday_to_emily)"
      ],
      "execution_count": 7,
      "outputs": [
        {
          "output_type": "execute_result",
          "data": {
            "text/plain": [
              "function"
            ]
          },
          "metadata": {},
          "execution_count": 7
        }
      ]
    },
    {
      "cell_type": "markdown",
      "metadata": {
        "id": "uRqhS4gEBcxa"
      },
      "source": [
        "The help we get on a function will become more interesting once we learn about function inputs and outputs ;-)"
      ]
    },
    {
      "cell_type": "markdown",
      "metadata": {
        "id": "-ZXIHfCHBcxa"
      },
      "source": [
        "## 1.4 Working with function input\n"
      ]
    },
    {
      "cell_type": "markdown",
      "metadata": {
        "id": "aIwVgzkzBcxa"
      },
      "source": [
        "### 1.4.1 Parameters and arguments"
      ]
    },
    {
      "cell_type": "markdown",
      "metadata": {
        "id": "wqbUvAl4Bcxa"
      },
      "source": [
        "We use parameters and arguments to make a function execute a task depending on the input we provide. For instance, we can change the function above to input the name of a person and print a birthday song using this name. This results in a more generic function.\n",
        "\n",
        "To understand how we use **parameters** and **arguments**, keep in mind the distinction between function *definition* and function *call*.\n",
        "\n",
        "**Parameter**: The variable `name` in the **function definition** below is a **parameter**. Variables used in **function definitions** are called **parameters**. \n",
        "\n",
        "**Argument**: The variable `my_name` in the function call below is a value for the parameter `name` at the time when the function is called. We refer to such variables as **arguments**. We use arguments so we can direct the function to do different kinds of work when we call it at different times."
      ]
    },
    {
      "cell_type": "code",
      "metadata": {
        "id": "D9frejiuBcxb"
      },
      "source": [
        "# function definition with using the parameter `name'\n",
        "def happy_birthday(name): \n",
        "    \"\"\"\n",
        "    Print a birthday song with the \"name\" of the person inserted.\n",
        "    \"\"\"\n",
        "    print(\"Happy Birthday to you!\")\n",
        "    print(\"Happy Birthday to you!\")\n",
        "    print(f\"Happy Birthday, dear {name}.\")\n",
        "    print(\"Happy Birthday to you!\")"
      ],
      "execution_count": 8,
      "outputs": []
    },
    {
      "cell_type": "code",
      "metadata": {
        "colab": {
          "base_uri": "https://localhost:8080/"
        },
        "id": "GcBjYjb2Bcxb",
        "outputId": "200b3408-eea5-49ba-ac44-821a7a4ac84f"
      },
      "source": [
        "# function call using specifying the value of the argument\n",
        "happy_birthday(\"James\")"
      ],
      "execution_count": 9,
      "outputs": [
        {
          "output_type": "stream",
          "name": "stdout",
          "text": [
            "Happy Birthday to you!\n",
            "Happy Birthday to you!\n",
            "Happy Birthday, dear James.\n",
            "Happy Birthday to you!\n"
          ]
        }
      ]
    },
    {
      "cell_type": "markdown",
      "metadata": {
        "id": "19m1m1NSBcxb"
      },
      "source": [
        "We can also store the name in a variable:"
      ]
    },
    {
      "cell_type": "code",
      "metadata": {
        "jupyter": {
          "outputs_hidden": true
        },
        "colab": {
          "base_uri": "https://localhost:8080/"
        },
        "id": "jmWx-gYqBcxb",
        "outputId": "f3b85b7a-623d-4c44-9c05-7474af3262e1"
      },
      "source": [
        "my_name=\"James\"\n",
        "happy_birthday(my_name)"
      ],
      "execution_count": 10,
      "outputs": [
        {
          "output_type": "stream",
          "name": "stdout",
          "text": [
            "Happy Birthday to you!\n",
            "Happy Birthday to you!\n",
            "Happy Birthday, dear James.\n",
            "Happy Birthday to you!\n"
          ]
        }
      ]
    },
    {
      "cell_type": "markdown",
      "metadata": {
        "id": "TiRQEZTWBcxc"
      },
      "source": [
        "If we forgot to specify the name, we get an error:"
      ]
    },
    {
      "cell_type": "code",
      "metadata": {
        "jupyter": {
          "outputs_hidden": true
        },
        "colab": {
          "base_uri": "https://localhost:8080/",
          "height": 165
        },
        "id": "Og4Z3nXpBcxc",
        "outputId": "eea0a63d-9347-4c8b-e756-b09b5faa4d64"
      },
      "source": [
        "happy_birthday()"
      ],
      "execution_count": 11,
      "outputs": [
        {
          "output_type": "error",
          "ename": "TypeError",
          "evalue": "ignored",
          "traceback": [
            "\u001b[0;31m---------------------------------------------------------------------------\u001b[0m",
            "\u001b[0;31mTypeError\u001b[0m                                 Traceback (most recent call last)",
            "\u001b[0;32m<ipython-input-11-e6218e6c7f60>\u001b[0m in \u001b[0;36m<module>\u001b[0;34m()\u001b[0m\n\u001b[0;32m----> 1\u001b[0;31m \u001b[0mhappy_birthday\u001b[0m\u001b[0;34m(\u001b[0m\u001b[0;34m)\u001b[0m\u001b[0;34m\u001b[0m\u001b[0;34m\u001b[0m\u001b[0m\n\u001b[0m",
            "\u001b[0;31mTypeError\u001b[0m: happy_birthday() missing 1 required positional argument: 'name'"
          ]
        }
      ]
    },
    {
      "cell_type": "markdown",
      "metadata": {
        "id": "b37jzxwvBcxc"
      },
      "source": [
        "Functions can have multiple parameters. We can for example multiply two numbers in a function (using the two parameters x and y) and then call the function by giving it two arguments:"
      ]
    },
    {
      "cell_type": "code",
      "metadata": {
        "colab": {
          "base_uri": "https://localhost:8080/"
        },
        "id": "vMJCo5dRBcxc",
        "outputId": "f1a144ab-d28a-45ab-ee0f-cb00b789626a"
      },
      "source": [
        "def multiply(x, y):\n",
        "    \"\"\"Multiply two numeric values.\"\"\"\n",
        "    result = x * y\n",
        "    print(result)\n",
        "       \n",
        "multiply(2020,5278238)\n",
        "multiply(2,3)"
      ],
      "execution_count": 12,
      "outputs": [
        {
          "output_type": "stream",
          "name": "stdout",
          "text": [
            "10662040760\n",
            "6\n"
          ]
        }
      ]
    },
    {
      "cell_type": "markdown",
      "metadata": {
        "id": "n1_DXjxxBcxd"
      },
      "source": [
        "### 1.4.2 Positional vs keyword parameters and arguments"
      ]
    },
    {
      "cell_type": "markdown",
      "metadata": {
        "id": "WtIRrLdaBcxd"
      },
      "source": [
        "The function definition tells Python which parameters are positional and which are keyword. As you might remember, positional means that you have to give an argument for that parameter;  keyword means that you can give an argument value, but this is not necessary because there is a default value.\n",
        "\n",
        "So, to summarize these two notes, we distinguish between:\n",
        "\n",
        "1) **positional parameters**: (we indicate these when defining a function, and they are compulsory when calling the function)\n",
        "\n",
        "2) **keyword parameters**: (we indicate these when defining a function, but they have a default value - and are optional when calling the function)"
      ]
    },
    {
      "cell_type": "markdown",
      "metadata": {
        "id": "R7YJ03UoBcxd"
      },
      "source": [
        "For example, if we want to have a function that can either multiply two or three numbers, we can make the third parameter a keyword parameter with a default of 1 (remember that any number multiplied with 1 results in that number):"
      ]
    },
    {
      "cell_type": "code",
      "metadata": {
        "id": "fJHwkpFwBcxd"
      },
      "source": [
        "def multiply(x, y, third_number=1): # x and y are positional parameters, third_number is a keyword parameter\n",
        "    \"\"\"Multiply two or three numbers and print the result.\"\"\"\n",
        "    result=x*y*third_number\n",
        "    print(result)"
      ],
      "execution_count": 13,
      "outputs": []
    },
    {
      "cell_type": "code",
      "metadata": {
        "colab": {
          "base_uri": "https://localhost:8080/"
        },
        "id": "PwenO-2KBcxf",
        "outputId": "eb2771fa-d9bf-411e-b849-3fedc1f1231b"
      },
      "source": [
        "multiply(2,3) # We only specify values for the positional parameters\n",
        "multiply(2,3,third_number=4) # We specify values for both the positional parameters, and the keyword parameter"
      ],
      "execution_count": 14,
      "outputs": [
        {
          "output_type": "stream",
          "name": "stdout",
          "text": [
            "6\n",
            "24\n"
          ]
        }
      ]
    },
    {
      "cell_type": "markdown",
      "metadata": {
        "id": "-0_FCbPwBcxf"
      },
      "source": [
        "If we do not specify a value for a positional parameter, the function call will fail (with a very helpful error message):"
      ]
    },
    {
      "cell_type": "code",
      "metadata": {
        "colab": {
          "base_uri": "https://localhost:8080/",
          "height": 165
        },
        "id": "JxCVZMfIBcxf",
        "outputId": "e37ca50f-f01e-4b94-a781-18e4f41bd643"
      },
      "source": [
        "multiply(3)"
      ],
      "execution_count": 15,
      "outputs": [
        {
          "output_type": "error",
          "ename": "TypeError",
          "evalue": "ignored",
          "traceback": [
            "\u001b[0;31m---------------------------------------------------------------------------\u001b[0m",
            "\u001b[0;31mTypeError\u001b[0m                                 Traceback (most recent call last)",
            "\u001b[0;32m<ipython-input-15-38b1e4e308d4>\u001b[0m in \u001b[0;36m<module>\u001b[0;34m()\u001b[0m\n\u001b[0;32m----> 1\u001b[0;31m \u001b[0mmultiply\u001b[0m\u001b[0;34m(\u001b[0m\u001b[0;36m3\u001b[0m\u001b[0;34m)\u001b[0m\u001b[0;34m\u001b[0m\u001b[0;34m\u001b[0m\u001b[0m\n\u001b[0m",
            "\u001b[0;31mTypeError\u001b[0m: multiply() missing 1 required positional argument: 'y'"
          ]
        }
      ]
    },
    {
      "cell_type": "markdown",
      "metadata": {
        "id": "uWzlj4J5Bcxf"
      },
      "source": [
        "## 1.5 Output: the `return` statement"
      ]
    },
    {
      "cell_type": "markdown",
      "metadata": {
        "id": "yAkoa82HBcxg"
      },
      "source": [
        "Functions can have a **return** statement. The `return` statement returns a value back to the caller and **always** ends the execution of the function. This also allows us to use the result of a function outside of that function by assigning it to a variable:"
      ]
    },
    {
      "cell_type": "code",
      "metadata": {
        "colab": {
          "base_uri": "https://localhost:8080/"
        },
        "id": "y98qxDvcBcxg",
        "outputId": "995f992b-e918-4fe2-d2fe-6c17ec20454c"
      },
      "source": [
        "def multiply(x, y):\n",
        "    \"\"\"Multiply two numbers and return the result.\"\"\"\n",
        "    multiplied = x * y\n",
        "    return multiplied\n",
        "\n",
        "#here we assign the returned value to variable z\n",
        "result = multiply(2, 5)\n",
        "\n",
        "print(result)"
      ],
      "execution_count": 16,
      "outputs": [
        {
          "output_type": "stream",
          "name": "stdout",
          "text": [
            "10\n"
          ]
        }
      ]
    },
    {
      "cell_type": "markdown",
      "metadata": {
        "id": "aEmRf5RwBcxg"
      },
      "source": [
        "We can also print the result directly (without assigning it to a variable), which gives us the same effect as using the print statements we used before:"
      ]
    },
    {
      "cell_type": "code",
      "metadata": {
        "jupyter": {
          "outputs_hidden": true
        },
        "colab": {
          "base_uri": "https://localhost:8080/"
        },
        "id": "wktOIFVQBcxg",
        "outputId": "fe550459-f5a8-46f1-c291-7901b75ec1c3"
      },
      "source": [
        "print(multiply(30,20))"
      ],
      "execution_count": 17,
      "outputs": [
        {
          "output_type": "stream",
          "name": "stdout",
          "text": [
            "600\n"
          ]
        }
      ]
    },
    {
      "cell_type": "markdown",
      "metadata": {
        "id": "aOizaiWBBcxg"
      },
      "source": [
        "If we assign the result to a variable, but do not use the return statement, the function cannot return it. Instead, it returns `None` (as you can try out below).\n",
        "\n",
        "This is important to realize: even functions without a `return` statement do return a value, albeit a rather boring one. This value is called `None` (it’s a built-in name). You have seen this already with list methods - for example `list.append(val)` adds a value to a list, but does not return anything explicitly.\n"
      ]
    },
    {
      "cell_type": "code",
      "metadata": {
        "jupyter": {
          "outputs_hidden": true
        },
        "colab": {
          "base_uri": "https://localhost:8080/"
        },
        "id": "jb_4E1oUBcxh",
        "outputId": "cf123bea-ed92-4b5c-b3df-468bdfa547df"
      },
      "source": [
        "def multiply_no_return(x, y):\n",
        "    \"\"\"Multiply two numbers and does not return the result.\"\"\"\n",
        "    result = x * y\n",
        "    \n",
        "is_this_a_result = multiply_no_return(2,3)\n",
        "print(is_this_a_result)"
      ],
      "execution_count": 18,
      "outputs": [
        {
          "output_type": "stream",
          "name": "stdout",
          "text": [
            "None\n"
          ]
        }
      ]
    },
    {
      "cell_type": "markdown",
      "metadata": {
        "id": "wVucxbyXBcxh"
      },
      "source": [
        "**Returning multiple values**\n",
        "\n",
        "Similarly as the input, a function can also return **multiple values** as output. We call such a collection of values a *tuple* (does this term sound familiar ;-)?).\n"
      ]
    },
    {
      "cell_type": "code",
      "metadata": {
        "jupyter": {
          "outputs_hidden": true
        },
        "colab": {
          "base_uri": "https://localhost:8080/"
        },
        "id": "BEkdidW5Bcxh",
        "outputId": "828e359d-3bd5-4f6c-c17a-79d6b0eee728"
      },
      "source": [
        "def calculate(x,y):\n",
        "    \"\"\"Calculate product and sum of two numbers.\"\"\"\n",
        "    product = x * y\n",
        "    summed = x + y\n",
        "    \n",
        "    #we return a tuple of values\n",
        "    return product, summed\n",
        "\n",
        "# the function returned a tuple and we unpack it to var1 and var2\n",
        "var1, var2 = calculate(10,5)\n",
        "\n",
        "print(\"product:\",var1,\"sum:\",var2)"
      ],
      "execution_count": 19,
      "outputs": [
        {
          "output_type": "stream",
          "name": "stdout",
          "text": [
            "product: 50 sum: 15\n"
          ]
        }
      ]
    },
    {
      "cell_type": "markdown",
      "metadata": {
        "id": "cMW3sc2XBcxh"
      },
      "source": [
        "Make sure you actually save your 2 values into 2 variables, or else you end up with errors or unexpected behavior:"
      ]
    },
    {
      "cell_type": "code",
      "metadata": {
        "jupyter": {
          "outputs_hidden": true
        },
        "colab": {
          "base_uri": "https://localhost:8080/",
          "height": 217
        },
        "id": "GELxD7uHBcxi",
        "outputId": "3921189f-1234-49fa-dcb9-e538a0a577ac"
      },
      "source": [
        "#this will assign `var` to a tuple:\n",
        "var = calculate(10,5)\n",
        "print(var)\n",
        "\n",
        "#this will generate an error\n",
        "var1, var2, var3 = calculate(10,5)"
      ],
      "execution_count": 20,
      "outputs": [
        {
          "output_type": "stream",
          "name": "stdout",
          "text": [
            "(50, 15)\n"
          ]
        },
        {
          "output_type": "error",
          "ename": "ValueError",
          "evalue": "ignored",
          "traceback": [
            "\u001b[0;31m---------------------------------------------------------------------------\u001b[0m",
            "\u001b[0;31mValueError\u001b[0m                                Traceback (most recent call last)",
            "\u001b[0;32m<ipython-input-20-6a58b694ee1c>\u001b[0m in \u001b[0;36m<module>\u001b[0;34m()\u001b[0m\n\u001b[1;32m      4\u001b[0m \u001b[0;34m\u001b[0m\u001b[0m\n\u001b[1;32m      5\u001b[0m \u001b[0;31m#this will generate an error\u001b[0m\u001b[0;34m\u001b[0m\u001b[0;34m\u001b[0m\u001b[0;34m\u001b[0m\u001b[0m\n\u001b[0;32m----> 6\u001b[0;31m \u001b[0mvar1\u001b[0m\u001b[0;34m,\u001b[0m \u001b[0mvar2\u001b[0m\u001b[0;34m,\u001b[0m \u001b[0mvar3\u001b[0m \u001b[0;34m=\u001b[0m \u001b[0mcalculate\u001b[0m\u001b[0;34m(\u001b[0m\u001b[0;36m10\u001b[0m\u001b[0;34m,\u001b[0m\u001b[0;36m5\u001b[0m\u001b[0;34m)\u001b[0m\u001b[0;34m\u001b[0m\u001b[0;34m\u001b[0m\u001b[0m\n\u001b[0m",
            "\u001b[0;31mValueError\u001b[0m: not enough values to unpack (expected 3, got 2)"
          ]
        }
      ]
    },
    {
      "cell_type": "markdown",
      "metadata": {
        "id": "qKi0ur1wBcxi"
      },
      "source": [
        "Saving the resulting values in different variables can be useful when you want to use them in different places in your code:"
      ]
    },
    {
      "cell_type": "code",
      "metadata": {
        "jupyter": {
          "outputs_hidden": true
        },
        "colab": {
          "base_uri": "https://localhost:8080/"
        },
        "id": "yotK2cxDBcxi",
        "outputId": "1cdef34f-6b56-4ef6-ec56-65c0ee7d5dc4"
      },
      "source": [
        "def sum_and_diff_len_strings(string1, string2):\n",
        "    \"\"\"\n",
        "    Return the sum of and difference between the lengths of two strings.\n",
        "    \"\"\"\n",
        "    sum_strings = len(string1) + len(string2)\n",
        "    diff_strings = len(string1) - len(string2)\n",
        "    return sum_strings, diff_strings\n",
        "\n",
        "sum_strings, diff_strings = sum_and_diff_len_strings(\"horse\", \"dog\")\n",
        "print(\"Sum:\", sum_strings)\n",
        "print(\"Difference:\", diff_strings)"
      ],
      "execution_count": 21,
      "outputs": [
        {
          "output_type": "stream",
          "name": "stdout",
          "text": [
            "Sum: 8\n",
            "Difference: 2\n"
          ]
        }
      ]
    },
    {
      "cell_type": "markdown",
      "metadata": {
        "id": "uEjjJpgSBcxi"
      },
      "source": [
        "## 1.6 Documenting your functions with docstrings\n",
        "\n",
        "**Docstring** is a string that occurs as the first statement in a function definition.\n",
        "\n",
        "For consistency, always use \"\"\"triple double quotes\"\"\" around docstrings. Triple quotes are used even though the string fits on one line. This makes it easy to expand it later.\n",
        "\n",
        "There's no blank line either before or after the docstring.\n",
        "\n",
        "The docstring is a phrase ending in a period. It prescribes the function or method's effect as a command (\"Do this\", \"Return that\"), not as a description; e.g., don't write \"Returns the pathname ...\".\n",
        "\n",
        "In practice, there are several formats for writing docstrings, and all of them contain more information than the single sentence description we mention here. Probably the most well-known format is reStructured Text. Here is an example of a function description in reStructured Text (reST):\n"
      ]
    },
    {
      "cell_type": "code",
      "metadata": {
        "id": "uhV2WN2_Bcxi"
      },
      "source": [
        "def my_function(param1, param2):\n",
        "    \"\"\"\n",
        "    This is a reST style.\n",
        "\n",
        "    :param param1: this is a first param\n",
        "    :param param2: this is a second param\n",
        "    :returns: this is a description of what is returned\n",
        "    \"\"\"\n",
        "    return "
      ],
      "execution_count": 22,
      "outputs": []
    },
    {
      "cell_type": "markdown",
      "metadata": {
        "id": "DMUAmYltBcxi"
      },
      "source": [
        "You can see that this docstring describes the function goal, its parameters, its outputs, and the errors it raises.\n",
        "\n",
        "It is a good practice to write a docstring for your functions, so we will always do this! For now we will stick with  single-sentence docstrings\n",
        "\n",
        "You can read more about this topic [here](http://daouzli.com/blog/docstring.html), [here](https://stackoverflow.com/questions/3898572/what-is-the-standard-python-docstring-format), and [here](https://www.python.org/dev/peps/pep-0287/)."
      ]
    },
    {
      "cell_type": "markdown",
      "metadata": {
        "id": "w2qHbYvxBcxi"
      },
      "source": [
        "## 1.7 Debugging a function\n",
        "Sometimes, it can hard to write a function that works perfectly. A common practice in programming is to check whether the function performs as you expect it to do. The `assert` statement is one way of debugging your function. The syntax is as follows:\n",
        "\n",
        "assert `code` == `your expected output`,`message to show when code does not work as you'd expected`"
      ]
    },
    {
      "cell_type": "markdown",
      "metadata": {
        "id": "lvLuWM4MBcxj"
      },
      "source": [
        "Let's try this on our simple function."
      ]
    },
    {
      "cell_type": "code",
      "metadata": {
        "id": "-9ESiligBcxj"
      },
      "source": [
        "def is_even(p):\n",
        "    \"\"\"Check whether a number is even.\"\"\"\n",
        "    if p % 2 == 1:\n",
        "        return False\n",
        "    else:\n",
        "        return True"
      ],
      "execution_count": 23,
      "outputs": []
    },
    {
      "cell_type": "markdown",
      "metadata": {
        "id": "z2Gpur_-Bcxj"
      },
      "source": [
        "If the function output is what you expect, Python will show nothing."
      ]
    },
    {
      "cell_type": "code",
      "metadata": {
        "id": "u8zFLSCIBcxj"
      },
      "source": [
        "input_value = 2\n",
        "expected_output = True\n",
        "actual_output = is_even(input_value)\n",
        "assert actual_output == expected_output, f'expected {expected_output}, got {actual_output}'"
      ],
      "execution_count": 24,
      "outputs": []
    },
    {
      "cell_type": "markdown",
      "metadata": {
        "id": "5Z9F9QTbBcxj"
      },
      "source": [
        "However, when the actual output is different from what we expected, we got an error. Let's say we made a mistake in writing the function."
      ]
    },
    {
      "cell_type": "code",
      "metadata": {
        "id": "PGmTdi-nBcxj"
      },
      "source": [
        "def is_even(p):\n",
        "    \"\"\"Check whether a number is even.\"\"\"\n",
        "    if p % 2 == 1:\n",
        "        return False\n",
        "    else:\n",
        "        return False"
      ],
      "execution_count": 25,
      "outputs": []
    },
    {
      "cell_type": "code",
      "metadata": {
        "colab": {
          "base_uri": "https://localhost:8080/",
          "height": 200
        },
        "id": "3GL9I07RBcxj",
        "outputId": "f625bd10-c6e2-4ac4-ad7c-dd6c89cdad58"
      },
      "source": [
        "input_value = 2\n",
        "expected_output = True\n",
        "actual_output = is_even(input_value)\n",
        "assert actual_output == expected_output, f'expected {expected_output}, got {actual_output}'"
      ],
      "execution_count": 26,
      "outputs": [
        {
          "output_type": "error",
          "ename": "AssertionError",
          "evalue": "ignored",
          "traceback": [
            "\u001b[0;31m---------------------------------------------------------------------------\u001b[0m",
            "\u001b[0;31mAssertionError\u001b[0m                            Traceback (most recent call last)",
            "\u001b[0;32m<ipython-input-26-a7297b31118a>\u001b[0m in \u001b[0;36m<module>\u001b[0;34m()\u001b[0m\n\u001b[1;32m      2\u001b[0m \u001b[0mexpected_output\u001b[0m \u001b[0;34m=\u001b[0m \u001b[0;32mTrue\u001b[0m\u001b[0;34m\u001b[0m\u001b[0;34m\u001b[0m\u001b[0m\n\u001b[1;32m      3\u001b[0m \u001b[0mactual_output\u001b[0m \u001b[0;34m=\u001b[0m \u001b[0mis_even\u001b[0m\u001b[0;34m(\u001b[0m\u001b[0minput_value\u001b[0m\u001b[0;34m)\u001b[0m\u001b[0;34m\u001b[0m\u001b[0;34m\u001b[0m\u001b[0m\n\u001b[0;32m----> 4\u001b[0;31m \u001b[0;32massert\u001b[0m \u001b[0mactual_output\u001b[0m \u001b[0;34m==\u001b[0m \u001b[0mexpected_output\u001b[0m\u001b[0;34m,\u001b[0m \u001b[0;34mf'expected {expected_output}, got {actual_output}'\u001b[0m\u001b[0;34m\u001b[0m\u001b[0;34m\u001b[0m\u001b[0m\n\u001b[0m",
            "\u001b[0;31mAssertionError\u001b[0m: expected True, got False"
          ]
        }
      ]
    },
    {
      "cell_type": "markdown",
      "metadata": {
        "id": "iBzJHmWoBcxk"
      },
      "source": [
        "## 1.8 Storing a function in a Python module"
      ]
    },
    {
      "cell_type": "markdown",
      "metadata": {
        "id": "QSlPMELhBcxk"
      },
      "source": [
        "Since Python functions are nice blocks of code with a clear focus, wouldn't it be nice if we can store them in a file? By doing this, we make our code visually very appealing since we are only left with functions calls instead of function definitions."
      ]
    },
    {
      "cell_type": "markdown",
      "metadata": {
        "id": "LQYZtD4GBcxk"
      },
      "source": [
        "Please open the file **utils_chapter11.py** (is in the same folder as the notebook you are now reading). In it, you will find three of the functions that we've shown so far in this notebook. So, how can we use those functions? We can `import` the function using the following syntax:\n",
        "\n",
        "`from` `NAME OF FILE WITHOUT .PY` `import` `function name`"
      ]
    },
    {
      "cell_type": "code",
      "metadata": {
        "colab": {
          "base_uri": "https://localhost:8080/",
          "height": 304
        },
        "id": "8M-NrvSjBcxk",
        "outputId": "ed350fb2-4a2a-457f-d33a-626d4cd6de96"
      },
      "source": [
        "from utils_chapter11 import happy_birthday"
      ],
      "execution_count": 27,
      "outputs": [
        {
          "output_type": "error",
          "ename": "ModuleNotFoundError",
          "evalue": "ignored",
          "traceback": [
            "\u001b[0;31m---------------------------------------------------------------------------\u001b[0m",
            "\u001b[0;31mModuleNotFoundError\u001b[0m                       Traceback (most recent call last)",
            "\u001b[0;32m<ipython-input-27-8052e074f2fd>\u001b[0m in \u001b[0;36m<module>\u001b[0;34m()\u001b[0m\n\u001b[0;32m----> 1\u001b[0;31m \u001b[0;32mfrom\u001b[0m \u001b[0mutils_chapter11\u001b[0m \u001b[0;32mimport\u001b[0m \u001b[0mhappy_birthday\u001b[0m\u001b[0;34m\u001b[0m\u001b[0;34m\u001b[0m\u001b[0m\n\u001b[0m",
            "\u001b[0;31mModuleNotFoundError\u001b[0m: No module named 'utils_chapter11'",
            "",
            "\u001b[0;31m---------------------------------------------------------------------------\u001b[0;32m\nNOTE: If your import is failing due to a missing package, you can\nmanually install dependencies using either !pip or !apt.\n\nTo view examples of installing some common dependencies, click the\n\"Open Examples\" button below.\n\u001b[0;31m---------------------------------------------------------------------------\u001b[0m\n"
          ],
          "errorDetails": {
            "actions": [
              {
                "action": "open_url",
                "actionText": "Open Examples",
                "url": "/notebooks/snippets/importing_libraries.ipynb"
              }
            ]
          }
        }
      ]
    },
    {
      "cell_type": "code",
      "metadata": {
        "colab": {
          "base_uri": "https://localhost:8080/"
        },
        "id": "sZjfu37SBcxk",
        "outputId": "63ff81f7-c660-4d84-edf6-5a7b70c0d4d0"
      },
      "source": [
        "happy_birthday('George')"
      ],
      "execution_count": 28,
      "outputs": [
        {
          "output_type": "stream",
          "name": "stdout",
          "text": [
            "Happy Birthday to you!\n",
            "Happy Birthday to you!\n",
            "Happy Birthday, dear George.\n",
            "Happy Birthday to you!\n"
          ]
        }
      ]
    },
    {
      "cell_type": "code",
      "metadata": {
        "colab": {
          "base_uri": "https://localhost:8080/",
          "height": 304
        },
        "id": "P7rPOqhIBcxk",
        "outputId": "42cfce7f-b5f2-4662-991a-af5f73ac254e"
      },
      "source": [
        "from utils_chapter11 import multiply"
      ],
      "execution_count": 29,
      "outputs": [
        {
          "output_type": "error",
          "ename": "ModuleNotFoundError",
          "evalue": "ignored",
          "traceback": [
            "\u001b[0;31m---------------------------------------------------------------------------\u001b[0m",
            "\u001b[0;31mModuleNotFoundError\u001b[0m                       Traceback (most recent call last)",
            "\u001b[0;32m<ipython-input-29-31789a6dc37f>\u001b[0m in \u001b[0;36m<module>\u001b[0;34m()\u001b[0m\n\u001b[0;32m----> 1\u001b[0;31m \u001b[0;32mfrom\u001b[0m \u001b[0mutils_chapter11\u001b[0m \u001b[0;32mimport\u001b[0m \u001b[0mmultiply\u001b[0m\u001b[0;34m\u001b[0m\u001b[0;34m\u001b[0m\u001b[0m\n\u001b[0m",
            "\u001b[0;31mModuleNotFoundError\u001b[0m: No module named 'utils_chapter11'",
            "",
            "\u001b[0;31m---------------------------------------------------------------------------\u001b[0;32m\nNOTE: If your import is failing due to a missing package, you can\nmanually install dependencies using either !pip or !apt.\n\nTo view examples of installing some common dependencies, click the\n\"Open Examples\" button below.\n\u001b[0;31m---------------------------------------------------------------------------\u001b[0m\n"
          ],
          "errorDetails": {
            "actions": [
              {
                "action": "open_url",
                "actionText": "Open Examples",
                "url": "/notebooks/snippets/importing_libraries.ipynb"
              }
            ]
          }
        }
      ]
    },
    {
      "cell_type": "code",
      "metadata": {
        "colab": {
          "base_uri": "https://localhost:8080/"
        },
        "id": "jZSH8oKpBcxk",
        "outputId": "483c8e8a-acf4-4b4a-b7c2-ea5d5ec15b4c"
      },
      "source": [
        "multiply(1,2)"
      ],
      "execution_count": 30,
      "outputs": [
        {
          "output_type": "execute_result",
          "data": {
            "text/plain": [
              "2"
            ]
          },
          "metadata": {},
          "execution_count": 30
        }
      ]
    },
    {
      "cell_type": "code",
      "metadata": {
        "colab": {
          "base_uri": "https://localhost:8080/",
          "height": 304
        },
        "id": "mfsevqT-Bcxl",
        "outputId": "f4867225-8189-4505-c7b8-7b5034ca5f2b"
      },
      "source": [
        "from utils_chapter11 import is_even"
      ],
      "execution_count": 31,
      "outputs": [
        {
          "output_type": "error",
          "ename": "ModuleNotFoundError",
          "evalue": "ignored",
          "traceback": [
            "\u001b[0;31m---------------------------------------------------------------------------\u001b[0m",
            "\u001b[0;31mModuleNotFoundError\u001b[0m                       Traceback (most recent call last)",
            "\u001b[0;32m<ipython-input-31-d0e57f413769>\u001b[0m in \u001b[0;36m<module>\u001b[0;34m()\u001b[0m\n\u001b[0;32m----> 1\u001b[0;31m \u001b[0;32mfrom\u001b[0m \u001b[0mutils_chapter11\u001b[0m \u001b[0;32mimport\u001b[0m \u001b[0mis_even\u001b[0m\u001b[0;34m\u001b[0m\u001b[0;34m\u001b[0m\u001b[0m\n\u001b[0m",
            "\u001b[0;31mModuleNotFoundError\u001b[0m: No module named 'utils_chapter11'",
            "",
            "\u001b[0;31m---------------------------------------------------------------------------\u001b[0;32m\nNOTE: If your import is failing due to a missing package, you can\nmanually install dependencies using either !pip or !apt.\n\nTo view examples of installing some common dependencies, click the\n\"Open Examples\" button below.\n\u001b[0;31m---------------------------------------------------------------------------\u001b[0m\n"
          ],
          "errorDetails": {
            "actions": [
              {
                "action": "open_url",
                "actionText": "Open Examples",
                "url": "/notebooks/snippets/importing_libraries.ipynb"
              }
            ]
          }
        }
      ]
    },
    {
      "cell_type": "code",
      "metadata": {
        "colab": {
          "base_uri": "https://localhost:8080/"
        },
        "id": "B2_JQ7RbBcxl",
        "outputId": "9166f21c-79f7-4857-d691-07df3b9740e3"
      },
      "source": [
        "is_it_even = is_even(5)\n",
        "print(is_it_even)"
      ],
      "execution_count": 32,
      "outputs": [
        {
          "output_type": "stream",
          "name": "stdout",
          "text": [
            "False\n"
          ]
        }
      ]
    },
    {
      "cell_type": "markdown",
      "metadata": {
        "id": "NArgvknwBcxl"
      },
      "source": [
        "# 2. Variable scope\n",
        "Please note: scope is a hard concept to grasp, but we think it is important to introduce it here. We will do our best to repeat it during the course."
      ]
    },
    {
      "cell_type": "markdown",
      "metadata": {
        "id": "24sXtu2IBcxl"
      },
      "source": [
        "Any variables you declare in a function, as well as the arguments that are passed to a function will only exist within the **scope** of that function, i.e., inside the function itself. The following code will produce an error, because the variable `x` does not exist outside of the function:"
      ]
    },
    {
      "cell_type": "code",
      "metadata": {
        "jupyter": {
          "outputs_hidden": true
        },
        "colab": {
          "base_uri": "https://localhost:8080/",
          "height": 200
        },
        "id": "6IM7z5UlBcxl",
        "outputId": "fdbccd55-3dda-4d9f-cc1b-26ca21f01de7"
      },
      "source": [
        "def setx():\n",
        "    \"\"\"Set the value of a variable to 1.\"\"\"\n",
        "    x = 1\n",
        "    \n",
        "\n",
        "setx()\n",
        "print(x)"
      ],
      "execution_count": 33,
      "outputs": [
        {
          "output_type": "error",
          "ename": "NameError",
          "evalue": "ignored",
          "traceback": [
            "\u001b[0;31m---------------------------------------------------------------------------\u001b[0m",
            "\u001b[0;31mNameError\u001b[0m                                 Traceback (most recent call last)",
            "\u001b[0;32m<ipython-input-33-86e07b97a991>\u001b[0m in \u001b[0;36m<module>\u001b[0;34m()\u001b[0m\n\u001b[1;32m      5\u001b[0m \u001b[0;34m\u001b[0m\u001b[0m\n\u001b[1;32m      6\u001b[0m \u001b[0msetx\u001b[0m\u001b[0;34m(\u001b[0m\u001b[0;34m)\u001b[0m\u001b[0;34m\u001b[0m\u001b[0;34m\u001b[0m\u001b[0m\n\u001b[0;32m----> 7\u001b[0;31m \u001b[0mprint\u001b[0m\u001b[0;34m(\u001b[0m\u001b[0mx\u001b[0m\u001b[0;34m)\u001b[0m\u001b[0;34m\u001b[0m\u001b[0;34m\u001b[0m\u001b[0m\n\u001b[0m",
            "\u001b[0;31mNameError\u001b[0m: name 'x' is not defined"
          ]
        }
      ]
    },
    {
      "cell_type": "markdown",
      "metadata": {
        "id": "5wQpLdYVBcxl"
      },
      "source": [
        "Even when we return x, it does not exist outside of the function:"
      ]
    },
    {
      "cell_type": "code",
      "metadata": {
        "jupyter": {
          "outputs_hidden": true
        },
        "colab": {
          "base_uri": "https://localhost:8080/",
          "height": 200
        },
        "id": "mmAN9y-ZBcxl",
        "outputId": "2a943e72-45b3-4394-8951-700a187a53c0"
      },
      "source": [
        "def setx():\n",
        "    \"\"\"Set the value of a variable to 1.\"\"\"\n",
        "    x = 1\n",
        "    return x\n",
        "    \n",
        "setx()\n",
        "print(x)"
      ],
      "execution_count": 34,
      "outputs": [
        {
          "output_type": "error",
          "ename": "NameError",
          "evalue": "ignored",
          "traceback": [
            "\u001b[0;31m---------------------------------------------------------------------------\u001b[0m",
            "\u001b[0;31mNameError\u001b[0m                                 Traceback (most recent call last)",
            "\u001b[0;32m<ipython-input-34-9f09cff1c6e6>\u001b[0m in \u001b[0;36m<module>\u001b[0;34m()\u001b[0m\n\u001b[1;32m      5\u001b[0m \u001b[0;34m\u001b[0m\u001b[0m\n\u001b[1;32m      6\u001b[0m \u001b[0msetx\u001b[0m\u001b[0;34m(\u001b[0m\u001b[0;34m)\u001b[0m\u001b[0;34m\u001b[0m\u001b[0;34m\u001b[0m\u001b[0m\n\u001b[0;32m----> 7\u001b[0;31m \u001b[0mprint\u001b[0m\u001b[0;34m(\u001b[0m\u001b[0mx\u001b[0m\u001b[0;34m)\u001b[0m\u001b[0;34m\u001b[0m\u001b[0;34m\u001b[0m\u001b[0m\n\u001b[0m",
            "\u001b[0;31mNameError\u001b[0m: name 'x' is not defined"
          ]
        }
      ]
    },
    {
      "cell_type": "markdown",
      "metadata": {
        "id": "royVl6r8Bcxm"
      },
      "source": [
        "Also consider this:"
      ]
    },
    {
      "cell_type": "code",
      "metadata": {
        "jupyter": {
          "outputs_hidden": true
        },
        "colab": {
          "base_uri": "https://localhost:8080/"
        },
        "id": "IODOdrNtBcxm",
        "outputId": "25ffbe92-6c45-463d-c922-0fc8b1a6c996"
      },
      "source": [
        "x = 0\n",
        "def setx():\n",
        "    \"\"\"Set the value of a variable to 1.\"\"\"\n",
        "    x = 1\n",
        "setx()\n",
        "print(x)"
      ],
      "execution_count": 35,
      "outputs": [
        {
          "output_type": "stream",
          "name": "stdout",
          "text": [
            "0\n"
          ]
        }
      ]
    },
    {
      "cell_type": "markdown",
      "metadata": {
        "id": "C-WBBozABcxm"
      },
      "source": [
        "In fact, this code has produced two completely unrelated `x`'s!\n",
        "\n",
        "So, you can not read a local variable outside of the local context. Nevertheless, it is possible to read a global variable from within a function, in a strictly read-only fashion."
      ]
    },
    {
      "cell_type": "code",
      "metadata": {
        "jupyter": {
          "outputs_hidden": true
        },
        "colab": {
          "base_uri": "https://localhost:8080/"
        },
        "id": "k3-S01uCBcxm",
        "outputId": "ffa5fc51-01aa-4a64-af78-ac466783811c"
      },
      "source": [
        "x = 1\n",
        "def getx():\n",
        "    \"\"\"Print the value of a variable x.\"\"\"\n",
        "    print(x)\n",
        "    \n",
        "getx()"
      ],
      "execution_count": 36,
      "outputs": [
        {
          "output_type": "stream",
          "name": "stdout",
          "text": [
            "1\n"
          ]
        }
      ]
    },
    {
      "cell_type": "markdown",
      "metadata": {
        "id": "XjbcNHJxBcxm"
      },
      "source": [
        "You can use two built-in functions in Python when you are unsure whether a variable is local or global. The function `locals()` returns a list of all local variables, and the function `globals()` - a list of all global variables. Note that there are many non-interesting system variables that these functions return, so in practice it is best to check for membership with the `in` operator. For example:"
      ]
    },
    {
      "cell_type": "code",
      "metadata": {
        "jupyter": {
          "outputs_hidden": true
        },
        "colab": {
          "base_uri": "https://localhost:8080/"
        },
        "id": "tihu0cBPBcxm",
        "outputId": "0da92b9f-3678-48e5-e987-e627603d28f6"
      },
      "source": [
        "a=3\n",
        "b=2\n",
        "\n",
        "def setb():\n",
        "    \"\"\"Set the value of a variable b to 11.\"\"\"\n",
        "    b=11\n",
        "    c=20\n",
        "    print(\"Is 'a' defined locally in the function:\", 'a' in locals())\n",
        "    print(\"Is 'b' defined locally in the function:\", 'b' in locals())\n",
        "    print(\"Is 'b' defined globally:\", 'b' in globals())\n",
        "    \n",
        "setb()\n",
        "\n",
        "print(\"Is 'a' defined globally:\", 'a' in globals())\n",
        "print(\"Is 'b' defined globally:\", 'b' in globals())\n",
        "\n",
        "print(\"Is 'c' defined globally:\", 'c' in globals())"
      ],
      "execution_count": 37,
      "outputs": [
        {
          "output_type": "stream",
          "name": "stdout",
          "text": [
            "Is 'a' defined locally in the function: False\n",
            "Is 'b' defined locally in the function: True\n",
            "Is 'b' defined globally: True\n",
            "Is 'a' defined globally: True\n",
            "Is 'b' defined globally: True\n",
            "Is 'c' defined globally: False\n"
          ]
        }
      ]
    },
    {
      "cell_type": "markdown",
      "metadata": {
        "id": "Qod8fo72Bcxm"
      },
      "source": [
        "Finally, note that the local context stays local to the function, and is not shared even with other functions called within a function, for example:"
      ]
    },
    {
      "cell_type": "code",
      "metadata": {
        "jupyter": {
          "outputs_hidden": true
        },
        "colab": {
          "base_uri": "https://localhost:8080/"
        },
        "id": "_9zD5cGhBcxn",
        "outputId": "2b93850b-d06a-4793-94f5-7e6fdf3d745a"
      },
      "source": [
        "def setb_again():\n",
        "    \"\"\"Set the value of a variable to 3.\"\"\"\n",
        "    b=3\n",
        "    print(\"in 'setb_again' b =\", b)\n",
        "\n",
        "def setb():\n",
        "    \"\"\"Set the value of a variable b to 2.\"\"\"\n",
        "    b=2\n",
        "    setb_again()\n",
        "    print(\"in 'setb' b =\", b)\n",
        "b=1\n",
        "setb()\n",
        "print(\"global b =\", b)"
      ],
      "execution_count": 38,
      "outputs": [
        {
          "output_type": "stream",
          "name": "stdout",
          "text": [
            "in 'setb_again' b = 3\n",
            "in 'setb' b = 2\n",
            "global b = 1\n"
          ]
        }
      ]
    },
    {
      "cell_type": "markdown",
      "metadata": {
        "id": "1z_PYJeOBcxn"
      },
      "source": [
        "We call the function `setb()` from the global context, and we call the function `setb_again()` from the context of the function `setb()`. The variable `b` in the function `setb_again()` is set to 3, but this does not affect the value of this variable in the function `setb()` which is still 2. And as we saw before, the changes in `setb()` do not influence the value of the global variable (`b=1`)."
      ]
    },
    {
      "cell_type": "markdown",
      "metadata": {
        "id": "QvMPTAD4Bcxn"
      },
      "source": [
        "# Exercises"
      ]
    },
    {
      "cell_type": "markdown",
      "metadata": {
        "id": "-xCHsg4aBcxn"
      },
      "source": [
        "**Exercise 1:** \n",
        "\n",
        "Write a function that converts meters to centimeters and prints the resulting value."
      ]
    },
    {
      "cell_type": "code",
      "metadata": {
        "jupyter": {
          "outputs_hidden": true
        },
        "id": "Z9vBJfhaBcxn"
      },
      "source": [
        "# you code here"
      ],
      "execution_count": 39,
      "outputs": []
    },
    {
      "cell_type": "markdown",
      "metadata": {
        "id": "74gxgiPzBcxn"
      },
      "source": [
        "**Exercise 2**: \n",
        "\n",
        "Add another keyword parameter `message` to the multiply function, which will allow a user to print a message. The default value of this keyword parameter should be an empty string. Test this with 2 messages of your choice. Also test it without specifying a value for the keyword argument when calling a function."
      ]
    },
    {
      "cell_type": "code",
      "metadata": {
        "jupyter": {
          "outputs_hidden": true
        },
        "id": "8TqUEYqfBcxn"
      },
      "source": [
        "# function to modify:\n",
        "\n",
        "def multiply(x, y, third_number=1): \n",
        "    \"\"\"Multiply two or three numbers and print the result.\"\"\"\n",
        "    result=x*y*third_number\n",
        "    print(result)"
      ],
      "execution_count": 40,
      "outputs": []
    },
    {
      "cell_type": "markdown",
      "metadata": {
        "id": "tknvpHH7Bcxn"
      },
      "source": [
        "**Exercise 3:** \n",
        "\n",
        "Write a function called `multiple_new_lines` which takes as argument an integer and prints that many newlines by calling the function newLine."
      ]
    },
    {
      "cell_type": "code",
      "metadata": {
        "jupyter": {
          "outputs_hidden": true
        },
        "id": "6pVDF6JvBcxn"
      },
      "source": [
        "def new_line():\n",
        "    \"\"\"Print a new line.\"\"\"\n",
        "    print()\n",
        "    \n",
        "# you code here"
      ],
      "execution_count": 41,
      "outputs": []
    },
    {
      "cell_type": "markdown",
      "metadata": {
        "id": "-v4S9UD5Bcxo"
      },
      "source": [
        "**Exercise 4:** \n",
        "\n",
        "Let's refactor the happy birthday function to have no repetition. Note that previously we print \"Happy birthday to you!\" three times. Make another function `happy_birthday_to_you()` that only prints this line and call it inside the function `happy_birthday(name)`."
      ]
    },
    {
      "cell_type": "code",
      "metadata": {
        "jupyter": {
          "outputs_hidden": true
        },
        "colab": {
          "base_uri": "https://localhost:8080/",
          "height": 130
        },
        "id": "NQHSFtiOBcxo",
        "outputId": "b037a7e8-8b66-4886-eb9b-78dd23781394"
      },
      "source": [
        "def happy_birthday_to_you():\n",
        "    # your code here\n",
        "\n",
        "# original function - replace the print statements by the happy_birthday_to_you() function:\n",
        "def happy_birthday(name): \n",
        "    \"\"\"\n",
        "    Print a birthday song with the \"name\" of the person inserted.\n",
        "    \"\"\"\n",
        "    print(\"Happy Birthday to you!\")\n",
        "    print(\"Happy Birthday to you!\")\n",
        "    print(\"Happy Birthday, dear \" + name + \".\")\n",
        "    print(\"Happy Birthday to you!\")"
      ],
      "execution_count": 42,
      "outputs": [
        {
          "output_type": "error",
          "ename": "IndentationError",
          "evalue": "ignored",
          "traceback": [
            "\u001b[0;36m  File \u001b[0;32m\"<ipython-input-42-5837c57d89af>\"\u001b[0;36m, line \u001b[0;32m5\u001b[0m\n\u001b[0;31m    def happy_birthday(name):\u001b[0m\n\u001b[0m      ^\u001b[0m\n\u001b[0;31mIndentationError\u001b[0m\u001b[0;31m:\u001b[0m expected an indented block\n"
          ]
        }
      ]
    },
    {
      "cell_type": "markdown",
      "metadata": {
        "id": "GMcP9EO0Bcxo"
      },
      "source": [
        "**Exercise 5:** \n",
        "\n",
        "Try to figure out what is going on in the following examples. How does Python deal with the order of calling functions?"
      ]
    },
    {
      "cell_type": "code",
      "metadata": {
        "jupyter": {
          "outputs_hidden": true
        },
        "colab": {
          "base_uri": "https://localhost:8080/"
        },
        "id": "WlLNS51yBcxo",
        "outputId": "956a0544-4c94-4dce-c719-0ac192963391"
      },
      "source": [
        "def multiply(x, y, third_number=1): \n",
        "    \"\"\"Multiply two or three numbers and print the result.\"\"\"\n",
        "    result=x*y*third_number\n",
        "    \n",
        "    return result\n",
        "    \n",
        "print(multiply(1+1,6-2))\n",
        "print(multiply(multiply(4,2),multiply(2,5)))\n",
        "print(len(str(multiply(10,100))))\n"
      ],
      "execution_count": 43,
      "outputs": [
        {
          "output_type": "stream",
          "name": "stdout",
          "text": [
            "8\n",
            "80\n",
            "4\n"
          ]
        }
      ]
    },
    {
      "cell_type": "markdown",
      "metadata": {
        "id": "MIMOze0mBcxo"
      },
      "source": [
        "**Exercise 6:** \n",
        "\n",
        "Complete this code to switch the values of two variables:"
      ]
    },
    {
      "cell_type": "code",
      "metadata": {
        "jupyter": {
          "outputs_hidden": true
        },
        "colab": {
          "base_uri": "https://localhost:8080/",
          "height": 130
        },
        "id": "qjk7iWfwBcxo",
        "outputId": "06ce2b5a-c4f6-4af5-d32b-58e2ef8f8164"
      },
      "source": [
        "def switch_two_values(x,y):\n",
        "# your code here\n",
        "    \n",
        "a='orange'\n",
        "b='apple'\n",
        "\n",
        "a,b = switch_two_values(a,b) # `a` should contain \"apple\" after this call, and `b` should contain \"orange\"\n",
        "\n",
        "print(a,b)"
      ],
      "execution_count": 44,
      "outputs": [
        {
          "output_type": "error",
          "ename": "IndentationError",
          "evalue": "ignored",
          "traceback": [
            "\u001b[0;36m  File \u001b[0;32m\"<ipython-input-44-37801101baba>\"\u001b[0;36m, line \u001b[0;32m4\u001b[0m\n\u001b[0;31m    a='orange'\u001b[0m\n\u001b[0m    ^\u001b[0m\n\u001b[0;31mIndentationError\u001b[0m\u001b[0;31m:\u001b[0m expected an indented block\n"
          ]
        }
      ]
    },
    {
      "cell_type": "code",
      "metadata": {
        "collapsed": true,
        "jupyter": {
          "outputs_hidden": true
        },
        "id": "vylaCJNHBcxo"
      },
      "source": [
        ""
      ],
      "execution_count": 44,
      "outputs": []
    }
  ]
}