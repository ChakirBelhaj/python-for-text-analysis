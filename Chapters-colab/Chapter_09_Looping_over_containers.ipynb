{
  "nbformat": 4,
  "nbformat_minor": 0,
  "metadata": {
    "kernelspec": {
      "display_name": "Python 3",
      "language": "python",
      "name": "python3"
    },
    "language_info": {
      "codemirror_mode": {
        "name": "ipython",
        "version": 3
      },
      "file_extension": ".py",
      "mimetype": "text/x-python",
      "name": "python",
      "nbconvert_exporter": "python",
      "pygments_lexer": "ipython3",
      "version": "3.8.3"
    },
    "colab": {
      "name": "Chapter 09 - Looping over containers.ipynb",
      "provenance": [],
      "include_colab_link": true
    }
  },
  "cells": [
    {
      "cell_type": "markdown",
      "metadata": {
        "id": "view-in-github",
        "colab_type": "text"
      },
      "source": [
        "<a href=\"https://colab.research.google.com/github/cltl/python-for-text-analysis/blob/colab/Chapters-colab/Chapter_09_Looping_over_containers.ipynb\" target=\"_parent\"><img src=\"https://colab.research.google.com/assets/colab-badge.svg\" alt=\"Open In Colab\"/></a>"
      ]
    },
    {
      "cell_type": "code",
      "metadata": {
        "id": "c0E6OGp9A03K"
      },
      "source": [
        "%%capture\n",
        "!wget https://github.com/cltl/python-for-text-analysis/raw/master/zips/Data.zip\n",
        "!wget https://github.com/cltl/python-for-text-analysis/raw/master/zips/images.zip\n",
        "!wget https://github.com/cltl/python-for-text-analysis/raw/master/zips/Extra_Material.zip\n",
        "\n",
        "!unzip Data.zip -d ../\n",
        "!unzip images.zip -d ./\n",
        "!unzip Extra_Material.zip -d ../\n",
        "\n",
        "!rm Data.zip\n",
        "!rm Extra_Material.zip\n",
        "!rm images.zip"
      ],
      "execution_count": 1,
      "outputs": []
    },
    {
      "cell_type": "markdown",
      "metadata": {
        "id": "adbq6KFoAxo4"
      },
      "source": [
        "# Chapter 9 - Looping over containers\n",
        "So far, you have been introduced to **integers** (e.g., 1), **strings** (e.g., 'hello'), **lists** (e.g. [1, 'a', 3]), and **sets** (e.g., {1, 2, 'Python'}). You have learned how to create and inspect them using methods and built-in functions. \n",
        "\n",
        "However, you'll find that most of the time, you want to carry out some operation for all the items in a sequence. Built-in functions and methods are then not always the answer. However, the **for-loop** is!\n",
        "\n",
        "This chapter aims to introduce you to the **for-loop**, which is the most commonly used loop.\n",
        "\n",
        "**At the end of this chapter, you will be able to:**\n",
        "* loop over a list\n",
        "* loop over a set\n",
        "* loop over a string\n",
        "* work with a new data structure: tuples\n",
        "* use two slightly more advanced concepts:\n",
        "    * break\n",
        "    * continue\n",
        "    \n",
        "**If you want to learn more about these topics, you might find the following links useful:**\n",
        "* [Loop like a native](https://www.youtube.com/watch?v=EnSu9hHGq5o): really good video "
      ]
    },
    {
      "cell_type": "markdown",
      "metadata": {
        "id": "8acnD_BoAxo8"
      },
      "source": [
        "If you have **questions** about this chapter, please contact us **(cltl.python.course@gmail.com)**."
      ]
    },
    {
      "cell_type": "markdown",
      "metadata": {
        "id": "-zFd1scdAxo9"
      },
      "source": [
        "## 1. Looping over a list\n",
        "Let's look at an example using a **for-loop** over a list."
      ]
    },
    {
      "cell_type": "code",
      "metadata": {
        "colab": {
          "base_uri": "https://localhost:8080/"
        },
        "id": "8BBLqWgrAxo9",
        "outputId": "e50adeab-20ae-42fa-b84f-83cdd60f3dc9"
      },
      "source": [
        "for number in [1,2,3]:\n",
        "    print(number)"
      ],
      "execution_count": 2,
      "outputs": [
        {
          "output_type": "stream",
          "name": "stdout",
          "text": [
            "1\n",
            "2\n",
            "3\n"
          ]
        }
      ]
    },
    {
      "cell_type": "markdown",
      "metadata": {
        "id": "D2t2g7N5Axo_"
      },
      "source": [
        "This loop prints the numbers 1, 2, and 3, each on a new line. The variable name **number** is just something I have chosen. It could have been anything, even something like **sugar_bunny**. But **number** is nice and descriptive. \n",
        "\n",
        "OK, so how does the loop work?\n",
        "\n",
        "* The Python interpreter starts by checking whether there's anything to iterate over. If the list is empty, it just passes over the for-loop and does nothing.\n",
        "* Then, the first value in the iterable (in this case a list) gets assigned to the variable **number**.\n",
        "* Following this, we enter a **for-loop context**, indicated by the indentation (four spaces preceding the print function). This **for-loop context** can be as big as you want. All Python cares about is those four spaces. Everything that is indented is part of the **for-loop context**.\n",
        "* Then, Python carries out all the operations in the **for-loop context**. In this case, this is just **print(number)**. Because number refers to the first element of the list, it prints 1.\n",
        "* Once all operations in the **for-loop context** have been carried out, the interpreter checks if there are any more elements in the list. If so, the next value (in this case 2) gets assigned to the variable **number**.\n",
        "* Then, we move to step 3 again: enter the **for-loop context**, carry out all the operations, and check if there's another element in the list, and so on, until there are no more elements left."
      ]
    },
    {
      "cell_type": "markdown",
      "metadata": {
        "id": "P39U-7D7AxpA"
      },
      "source": [
        "Please note that if a container (in this case a list) is empty, we will not print anything."
      ]
    },
    {
      "cell_type": "code",
      "metadata": {
        "id": "onpTHAXwAxpB"
      },
      "source": [
        "for number in []:\n",
        "    print(number)"
      ],
      "execution_count": 3,
      "outputs": []
    },
    {
      "cell_type": "markdown",
      "metadata": {
        "id": "W-60dmOHAxpC"
      },
      "source": [
        "Loops work extremely well with **if-statements**"
      ]
    },
    {
      "cell_type": "code",
      "metadata": {
        "colab": {
          "base_uri": "https://localhost:8080/"
        },
        "id": "NnEawl6eAxpC",
        "outputId": "cbd7fb1b-8358-4919-f4cf-8c0c87d9be20"
      },
      "source": [
        "for item in ['Python', 'is', 'really', 'nice', 'right?']:\n",
        "    if item.startswith('r'):\n",
        "        print(item, 'startswith the letter r')\n",
        "    else:\n",
        "        print(item, 'does not start with the letter r')"
      ],
      "execution_count": 4,
      "outputs": [
        {
          "output_type": "stream",
          "name": "stdout",
          "text": [
            "Python does not start with the letter r\n",
            "is does not start with the letter r\n",
            "really startswith the letter r\n",
            "nice does not start with the letter r\n",
            "right? startswith the letter r\n"
          ]
        }
      ]
    },
    {
      "cell_type": "markdown",
      "metadata": {
        "id": "b0nvdy9XAxpD"
      },
      "source": [
        "### Tip: \n",
        "\n",
        "You can reverse the order of a list by using list.reverse() or list[::-1]:"
      ]
    },
    {
      "cell_type": "code",
      "metadata": {
        "scrolled": true,
        "colab": {
          "base_uri": "https://localhost:8080/"
        },
        "id": "1edLRjAPAxpD",
        "outputId": "17b355e8-1347-443d-8b53-782c1df97615"
      },
      "source": [
        "a_list = [1,2,3,4]\n",
        "a_list.reverse()\n",
        "\n",
        "for item in a_list:\n",
        "    print(item)"
      ],
      "execution_count": 5,
      "outputs": [
        {
          "output_type": "stream",
          "name": "stdout",
          "text": [
            "4\n",
            "3\n",
            "2\n",
            "1\n"
          ]
        }
      ]
    },
    {
      "cell_type": "code",
      "metadata": {
        "colab": {
          "base_uri": "https://localhost:8080/"
        },
        "id": "C8hG4QPpAxpE",
        "outputId": "e4e6f3df-047c-4d6e-d112-f5d27f10a45c"
      },
      "source": [
        "a_list = [1,2,3,4]\n",
        "\n",
        "for item in a_list[::-1]:\n",
        "    print(item)"
      ],
      "execution_count": 6,
      "outputs": [
        {
          "output_type": "stream",
          "name": "stdout",
          "text": [
            "4\n",
            "3\n",
            "2\n",
            "1\n"
          ]
        }
      ]
    },
    {
      "cell_type": "markdown",
      "metadata": {
        "id": "xVFPkOnnAxpE"
      },
      "source": [
        "## 2. Looping over a set\n",
        "It is also possible to loop over a set"
      ]
    },
    {
      "cell_type": "code",
      "metadata": {
        "colab": {
          "base_uri": "https://localhost:8080/"
        },
        "id": "c_bRS-bEAxpF",
        "outputId": "0e92ac35-2a88-4fa3-8ad2-be1faa5635ee"
      },
      "source": [
        "a_set = {'sets', 'are', 'unordered'}\n",
        "for item in a_set:\n",
        "    print(item)"
      ],
      "execution_count": 7,
      "outputs": [
        {
          "output_type": "stream",
          "name": "stdout",
          "text": [
            "are\n",
            "unordered\n",
            "sets\n"
          ]
        }
      ]
    },
    {
      "cell_type": "markdown",
      "metadata": {
        "id": "Mb40viqGAxpF"
      },
      "source": [
        "## 3. Looping over a string\n",
        "Although you might not expect this, you can actually loop over a string. You will not want to use this very often, but note that it is possible. You may encounter it later on, when you do it accidentally (instead of looping over a list). "
      ]
    },
    {
      "cell_type": "code",
      "metadata": {
        "colab": {
          "base_uri": "https://localhost:8080/"
        },
        "id": "r0XZ3_W9AxpF",
        "outputId": "dc32ef83-795f-4893-bcc1-7a3fec1b655e"
      },
      "source": [
        "word = \"hippopotamus\"\n",
        "\n",
        "for letter in word:\n",
        "    print(letter)\n",
        "    "
      ],
      "execution_count": 8,
      "outputs": [
        {
          "output_type": "stream",
          "name": "stdout",
          "text": [
            "h\n",
            "i\n",
            "p\n",
            "p\n",
            "o\n",
            "p\n",
            "o\n",
            "t\n",
            "a\n",
            "m\n",
            "u\n",
            "s\n"
          ]
        }
      ]
    },
    {
      "cell_type": "code",
      "metadata": {
        "colab": {
          "base_uri": "https://localhost:8080/"
        },
        "id": "dN_776lYAxpG",
        "outputId": "70740627-9764-441a-b080-a5585d35f004"
      },
      "source": [
        "# a more advanced example...\n",
        "\n",
        "text = 'Python can be confusing!'\n",
        "words = text.split()\n",
        "\n",
        "# something went wrong here - can you fix it?\n",
        "for word in text:\n",
        "    print(word)"
      ],
      "execution_count": 9,
      "outputs": [
        {
          "output_type": "stream",
          "name": "stdout",
          "text": [
            "P\n",
            "y\n",
            "t\n",
            "h\n",
            "o\n",
            "n\n",
            " \n",
            "c\n",
            "a\n",
            "n\n",
            " \n",
            "b\n",
            "e\n",
            " \n",
            "c\n",
            "o\n",
            "n\n",
            "f\n",
            "u\n",
            "s\n",
            "i\n",
            "n\n",
            "g\n",
            "!\n"
          ]
        }
      ]
    },
    {
      "cell_type": "markdown",
      "metadata": {
        "id": "-oRGxIhTAxpG"
      },
      "source": [
        "## 4. Tuples"
      ]
    },
    {
      "cell_type": "markdown",
      "metadata": {
        "id": "xp6icCwLAxpG"
      },
      "source": [
        "One data structure (a new one!) is very frequently used with for loops. This data structure is a tuple. It's very simple to create a tuple."
      ]
    },
    {
      "cell_type": "code",
      "metadata": {
        "colab": {
          "base_uri": "https://localhost:8080/"
        },
        "id": "jnhxJC59AxpH",
        "outputId": "74a0dc1a-b6dc-4fdb-8267-ab03a9d0fc36"
      },
      "source": [
        "a_tuple = (1, 'a', 2)\n",
        "print(a_tuple)"
      ],
      "execution_count": 10,
      "outputs": [
        {
          "output_type": "stream",
          "name": "stdout",
          "text": [
            "(1, 'a', 2)\n"
          ]
        }
      ]
    },
    {
      "cell_type": "markdown",
      "metadata": {
        "id": "CXhVsBNPAxpH"
      },
      "source": [
        "* a tuple is defined in the same way as a list, except that the whole set of elements is enclosed in parentheses instead of square brackets.\n",
        "* the elements of a tuple have a defined order, just like a list.\n",
        "* tuples can contain **immutable** objects.\n",
        "* tuples can contain **mutable** objects, but we would advise you not to use sets and lists in tuples\n",
        "* items cannot be added or removed (with some exceptions which are not important here)\n",
        "* a tuple can be empty\n",
        "* tuples have two methods: **index** and **count**\n",
        "\n",
        "**Important for use**\n",
        "* you can unpack tuples\n",
        "* tuples are often used with for-loops"
      ]
    },
    {
      "cell_type": "code",
      "metadata": {
        "colab": {
          "base_uri": "https://localhost:8080/"
        },
        "id": "1cM2sAHFAxpH",
        "outputId": "b59a9961-41aa-4a39-fd41-863b10d04245"
      },
      "source": [
        "help(tuple)"
      ],
      "execution_count": 11,
      "outputs": [
        {
          "output_type": "stream",
          "name": "stdout",
          "text": [
            "Help on class tuple in module builtins:\n",
            "\n",
            "class tuple(object)\n",
            " |  tuple(iterable=(), /)\n",
            " |  \n",
            " |  Built-in immutable sequence.\n",
            " |  \n",
            " |  If no argument is given, the constructor returns an empty tuple.\n",
            " |  If iterable is specified the tuple is initialized from iterable's items.\n",
            " |  \n",
            " |  If the argument is a tuple, the return value is the same object.\n",
            " |  \n",
            " |  Methods defined here:\n",
            " |  \n",
            " |  __add__(self, value, /)\n",
            " |      Return self+value.\n",
            " |  \n",
            " |  __contains__(self, key, /)\n",
            " |      Return key in self.\n",
            " |  \n",
            " |  __eq__(self, value, /)\n",
            " |      Return self==value.\n",
            " |  \n",
            " |  __ge__(self, value, /)\n",
            " |      Return self>=value.\n",
            " |  \n",
            " |  __getattribute__(self, name, /)\n",
            " |      Return getattr(self, name).\n",
            " |  \n",
            " |  __getitem__(self, key, /)\n",
            " |      Return self[key].\n",
            " |  \n",
            " |  __getnewargs__(self, /)\n",
            " |  \n",
            " |  __gt__(self, value, /)\n",
            " |      Return self>value.\n",
            " |  \n",
            " |  __hash__(self, /)\n",
            " |      Return hash(self).\n",
            " |  \n",
            " |  __iter__(self, /)\n",
            " |      Implement iter(self).\n",
            " |  \n",
            " |  __le__(self, value, /)\n",
            " |      Return self<=value.\n",
            " |  \n",
            " |  __len__(self, /)\n",
            " |      Return len(self).\n",
            " |  \n",
            " |  __lt__(self, value, /)\n",
            " |      Return self<value.\n",
            " |  \n",
            " |  __mul__(self, value, /)\n",
            " |      Return self*value.\n",
            " |  \n",
            " |  __ne__(self, value, /)\n",
            " |      Return self!=value.\n",
            " |  \n",
            " |  __repr__(self, /)\n",
            " |      Return repr(self).\n",
            " |  \n",
            " |  __rmul__(self, value, /)\n",
            " |      Return value*self.\n",
            " |  \n",
            " |  count(self, value, /)\n",
            " |      Return number of occurrences of value.\n",
            " |  \n",
            " |  index(self, value, start=0, stop=9223372036854775807, /)\n",
            " |      Return first index of value.\n",
            " |      \n",
            " |      Raises ValueError if the value is not present.\n",
            " |  \n",
            " |  ----------------------------------------------------------------------\n",
            " |  Static methods defined here:\n",
            " |  \n",
            " |  __new__(*args, **kwargs) from builtins.type\n",
            " |      Create and return a new object.  See help(type) for accurate signature.\n",
            "\n"
          ]
        }
      ]
    },
    {
      "cell_type": "markdown",
      "metadata": {
        "id": "3XZcbyjoAxpI"
      },
      "source": [
        "A tuple can be empty. You can use **()** or **tuple()**:"
      ]
    },
    {
      "cell_type": "code",
      "metadata": {
        "colab": {
          "base_uri": "https://localhost:8080/"
        },
        "id": "MGr-rFYTAxpI",
        "outputId": "628f04b8-2706-464e-c1a6-52366ec47b7e"
      },
      "source": [
        "an_empty_tuple = ()\n",
        "print(an_empty_tuple)"
      ],
      "execution_count": 12,
      "outputs": [
        {
          "output_type": "stream",
          "name": "stdout",
          "text": [
            "()\n"
          ]
        }
      ]
    },
    {
      "cell_type": "code",
      "metadata": {
        "colab": {
          "base_uri": "https://localhost:8080/"
        },
        "id": "sEvB_9_QAxpI",
        "outputId": "1b63fe84-49a7-4c07-8f6e-cfabec40dc9a"
      },
      "source": [
        "another_empty_tuple = tuple()\n",
        "print(another_empty_tuple)"
      ],
      "execution_count": 13,
      "outputs": [
        {
          "output_type": "stream",
          "name": "stdout",
          "text": [
            "()\n"
          ]
        }
      ]
    },
    {
      "cell_type": "markdown",
      "metadata": {
        "id": "X4aCZzBiAxpI"
      },
      "source": [
        "## 5. Unpacking variables\n",
        "\n",
        "It's possible to **unpack** tuples to separate variables"
      ]
    },
    {
      "cell_type": "code",
      "metadata": {
        "colab": {
          "base_uri": "https://localhost:8080/"
        },
        "id": "UqS6uTExAxpJ",
        "outputId": "fbdf0647-00ef-483d-998c-76fa013d9e29"
      },
      "source": [
        "a_tuple = (1, 'a', 2)\n",
        "first_el, second_el, third_el = a_tuple\n",
        "print(first_el)\n",
        "print(second_el)\n",
        "print(third_el)"
      ],
      "execution_count": 14,
      "outputs": [
        {
          "output_type": "stream",
          "name": "stdout",
          "text": [
            "1\n",
            "a\n",
            "2\n"
          ]
        }
      ]
    },
    {
      "cell_type": "markdown",
      "metadata": {
        "id": "Qv_-gnjKAxpJ"
      },
      "source": [
        "### 5.1 Using tuples in a for-loop\n",
        "\n",
        "In addition, **tuples are often used with for-loops**. When working with Python, it's quite common that you end up with data structures like the following example:"
      ]
    },
    {
      "cell_type": "code",
      "metadata": {
        "id": "kTvvtOuEAxpJ"
      },
      "source": [
        "language_data = [('the', 'determiner'),\n",
        "                 ('house', 'noun'),\n",
        "                 ('is', 'verb'),\n",
        "                 ('big', 'adjective')]"
      ],
      "execution_count": 15,
      "outputs": []
    },
    {
      "cell_type": "markdown",
      "metadata": {
        "id": "52cVZgPjAxpJ"
      },
      "source": [
        "Usually, you would like to loop through such an example. One way of doing that is the following:"
      ]
    },
    {
      "cell_type": "code",
      "metadata": {
        "colab": {
          "base_uri": "https://localhost:8080/"
        },
        "id": "PNp_rJgoAxpJ",
        "outputId": "ba7caaea-4a2f-4842-aae5-184cc8307392"
      },
      "source": [
        "for item in language_data:\n",
        "    print(item[0], item[1])"
      ],
      "execution_count": 16,
      "outputs": [
        {
          "output_type": "stream",
          "name": "stdout",
          "text": [
            "the determiner\n",
            "house noun\n",
            "is verb\n",
            "big adjective\n"
          ]
        }
      ]
    },
    {
      "cell_type": "markdown",
      "metadata": {
        "id": "P-TdT9ipAxpJ"
      },
      "source": [
        "However, we can unpack the tuple **within** the for-loop to make it more readable:"
      ]
    },
    {
      "cell_type": "code",
      "metadata": {
        "colab": {
          "base_uri": "https://localhost:8080/"
        },
        "id": "9FmZEULAAxpL",
        "outputId": "38ffeb30-96d3-4463-9846-71e1cbc73685"
      },
      "source": [
        "for word, part_of_speech in language_data:\n",
        "    print(word, part_of_speech)"
      ],
      "execution_count": 17,
      "outputs": [
        {
          "output_type": "stream",
          "name": "stdout",
          "text": [
            "the determiner\n",
            "house noun\n",
            "is verb\n",
            "big adjective\n"
          ]
        }
      ]
    },
    {
      "cell_type": "markdown",
      "metadata": {
        "id": "bwA0eIWeAxpM"
      },
      "source": [
        "**Note about unpacking**\n",
        "\n",
        "Unpacking is an operation that can also be used with other containers, for instance, with lists:"
      ]
    },
    {
      "cell_type": "code",
      "metadata": {
        "colab": {
          "base_uri": "https://localhost:8080/"
        },
        "id": "JptuFbI3AxpM",
        "outputId": "c47e5d32-86ad-4cfd-b0d9-bfb654c57273"
      },
      "source": [
        "a_list = [1,2,3]\n",
        "first_el, second_el, third_el = a_list\n",
        "print(first_el)\n",
        "print(second_el)\n",
        "print(third_el)"
      ],
      "execution_count": 18,
      "outputs": [
        {
          "output_type": "stream",
          "name": "stdout",
          "text": [
            "1\n",
            "2\n",
            "3\n"
          ]
        }
      ]
    },
    {
      "cell_type": "markdown",
      "metadata": {
        "id": "l2glvXK2AxpM"
      },
      "source": [
        "## 6. Continue and break"
      ]
    },
    {
      "cell_type": "markdown",
      "metadata": {
        "id": "GrlKicNeAxpM"
      },
      "source": [
        "**break**\n",
        "\n",
        "The break statement lets us escape a loop."
      ]
    },
    {
      "cell_type": "code",
      "metadata": {
        "colab": {
          "base_uri": "https://localhost:8080/"
        },
        "id": "emOAHsPtAxpM",
        "outputId": "2e2dbfe8-af01-475a-d72b-375cbd62e48a"
      },
      "source": [
        "word = \"hippopotamus\"\n",
        "\n",
        "for letter in word:\n",
        "    print(letter)\n",
        "    if letter ==\"o\":\n",
        "        break"
      ],
      "execution_count": 19,
      "outputs": [
        {
          "output_type": "stream",
          "name": "stdout",
          "text": [
            "h\n",
            "i\n",
            "p\n",
            "p\n",
            "o\n"
          ]
        }
      ]
    },
    {
      "cell_type": "markdown",
      "metadata": {
        "id": "rUwL6hnWAxpN"
      },
      "source": [
        "**continue**\n",
        "\n",
        "The continue statement ends the current iteration and jumps to the top of the loop and starts the next iteration."
      ]
    },
    {
      "cell_type": "code",
      "metadata": {
        "colab": {
          "base_uri": "https://localhost:8080/"
        },
        "id": "rWRIDazfAxpN",
        "outputId": "8099c605-d76f-4461-ab62-123780576ae9"
      },
      "source": [
        "word = \"hippopotamus\"\n",
        "\n",
        "for letter in word:\n",
        "    if letter ==\"o\":\n",
        "        continue\n",
        "    print(letter)"
      ],
      "execution_count": 20,
      "outputs": [
        {
          "output_type": "stream",
          "name": "stdout",
          "text": [
            "h\n",
            "i\n",
            "p\n",
            "p\n",
            "p\n",
            "t\n",
            "a\n",
            "m\n",
            "u\n",
            "s\n"
          ]
        }
      ]
    },
    {
      "cell_type": "markdown",
      "metadata": {
        "id": "xaYt3WxxAxpN"
      },
      "source": [
        "In the two examples above, not all letters in the word 'hippopotamus' are printed. Both break and continue teleport you to another part of the code. break teleports out of the loop, continue teleports you to the next iteration of the loop."
      ]
    },
    {
      "cell_type": "markdown",
      "metadata": {
        "id": "9GS8cJ3YAxpN"
      },
      "source": [
        "## Exercises"
      ]
    },
    {
      "cell_type": "markdown",
      "metadata": {
        "id": "eeRPweMwAxpN"
      },
      "source": [
        "### Exercise 1:\n",
        "\n",
        "Use a loop to print each word in the list in a new line (i.e. only use a single print statement and do not use '\\n' to start a new line)."
      ]
    },
    {
      "cell_type": "code",
      "metadata": {
        "id": "7cICNF5QAxpN"
      },
      "source": [
        "sentence = 'Now I know a lot about looping'\n",
        "word_list = sentence.split()\n",
        "\n",
        "# your code here\n"
      ],
      "execution_count": 21,
      "outputs": []
    },
    {
      "cell_type": "markdown",
      "metadata": {
        "id": "mHIZyNP4AxpO"
      },
      "source": [
        "### Exercise 2:\n",
        "\n",
        "We have a collection of numbers and want to know how many unique numbers we have. Then we want to print each of them on a single line using a single print statment and not using '\\n' to stat a new line. "
      ]
    },
    {
      "cell_type": "code",
      "metadata": {
        "colab": {
          "base_uri": "https://localhost:8080/",
          "height": 130
        },
        "id": "6rFg-blbAxpO",
        "outputId": "b19b5ac0-f5bd-4619-bfb6-207dd653fadf"
      },
      "source": [
        "number_collection = [1,2,2,3,50, 50, 60, 57, 58, 3, 37, 37]\n",
        "unique_number = # your code here\n",
        "\n",
        "# print each number on a single line\n",
        "# your code here"
      ],
      "execution_count": 22,
      "outputs": [
        {
          "output_type": "error",
          "ename": "SyntaxError",
          "evalue": "ignored",
          "traceback": [
            "\u001b[0;36m  File \u001b[0;32m\"<ipython-input-22-a0fe6e64e306>\"\u001b[0;36m, line \u001b[0;32m2\u001b[0m\n\u001b[0;31m    unique_number = # your code here\u001b[0m\n\u001b[0m                                    ^\u001b[0m\n\u001b[0;31mSyntaxError\u001b[0m\u001b[0;31m:\u001b[0m invalid syntax\n"
          ]
        }
      ]
    },
    {
      "cell_type": "markdown",
      "metadata": {
        "id": "DlZcuF0aAxpO"
      },
      "source": [
        "### Exercise 3:\n",
        "    \n",
        "Why might unpacking lists in this way sometimes be a bad idea? \n",
        "Hint: Think of mutability and consider the code below.\n"
      ]
    },
    {
      "cell_type": "code",
      "metadata": {
        "colab": {
          "base_uri": "https://localhost:8080/",
          "height": 287
        },
        "id": "-Ij0J8epAxpO",
        "outputId": "17d85b7d-1f85-4f48-9195-f9c7d1c64c23"
      },
      "source": [
        "a_list = [1,2,3]\n",
        "first_el, second_el, third_el = a_list\n",
        "print(first_el)\n",
        "print(second_el)\n",
        "print(third_el)\n",
        "\n",
        "a_list.append(5)\n",
        "first_el, second_el, third_el = a_list\n",
        "print(first_el)\n",
        "print(second_el)\n",
        "print(third_el)"
      ],
      "execution_count": 23,
      "outputs": [
        {
          "output_type": "stream",
          "name": "stdout",
          "text": [
            "1\n",
            "2\n",
            "3\n"
          ]
        },
        {
          "output_type": "error",
          "ename": "ValueError",
          "evalue": "ignored",
          "traceback": [
            "\u001b[0;31m---------------------------------------------------------------------------\u001b[0m",
            "\u001b[0;31mValueError\u001b[0m                                Traceback (most recent call last)",
            "\u001b[0;32m<ipython-input-23-05538825c6d8>\u001b[0m in \u001b[0;36m<module>\u001b[0;34m()\u001b[0m\n\u001b[1;32m      6\u001b[0m \u001b[0;34m\u001b[0m\u001b[0m\n\u001b[1;32m      7\u001b[0m \u001b[0ma_list\u001b[0m\u001b[0;34m.\u001b[0m\u001b[0mappend\u001b[0m\u001b[0;34m(\u001b[0m\u001b[0;36m5\u001b[0m\u001b[0;34m)\u001b[0m\u001b[0;34m\u001b[0m\u001b[0;34m\u001b[0m\u001b[0m\n\u001b[0;32m----> 8\u001b[0;31m \u001b[0mfirst_el\u001b[0m\u001b[0;34m,\u001b[0m \u001b[0msecond_el\u001b[0m\u001b[0;34m,\u001b[0m \u001b[0mthird_el\u001b[0m \u001b[0;34m=\u001b[0m \u001b[0ma_list\u001b[0m\u001b[0;34m\u001b[0m\u001b[0;34m\u001b[0m\u001b[0m\n\u001b[0m\u001b[1;32m      9\u001b[0m \u001b[0mprint\u001b[0m\u001b[0;34m(\u001b[0m\u001b[0mfirst_el\u001b[0m\u001b[0;34m)\u001b[0m\u001b[0;34m\u001b[0m\u001b[0;34m\u001b[0m\u001b[0m\n\u001b[1;32m     10\u001b[0m \u001b[0mprint\u001b[0m\u001b[0;34m(\u001b[0m\u001b[0msecond_el\u001b[0m\u001b[0;34m)\u001b[0m\u001b[0;34m\u001b[0m\u001b[0;34m\u001b[0m\u001b[0m\n",
            "\u001b[0;31mValueError\u001b[0m: too many values to unpack (expected 3)"
          ]
        }
      ]
    },
    {
      "cell_type": "code",
      "metadata": {
        "colab": {
          "base_uri": "https://localhost:8080/",
          "height": 235
        },
        "id": "at7NbNtXAxpO",
        "outputId": "93879ef9-6cb4-463f-b556-f3fc9b40df40"
      },
      "source": [
        "a_list.append(5)\n",
        "first_el, second_el, third_el = a_list\n",
        "print(first_el)\n",
        "print(second_el)\n",
        "print(third_el)"
      ],
      "execution_count": 24,
      "outputs": [
        {
          "output_type": "error",
          "ename": "ValueError",
          "evalue": "ignored",
          "traceback": [
            "\u001b[0;31m---------------------------------------------------------------------------\u001b[0m",
            "\u001b[0;31mValueError\u001b[0m                                Traceback (most recent call last)",
            "\u001b[0;32m<ipython-input-24-f311c40aedb4>\u001b[0m in \u001b[0;36m<module>\u001b[0;34m()\u001b[0m\n\u001b[1;32m      1\u001b[0m \u001b[0ma_list\u001b[0m\u001b[0;34m.\u001b[0m\u001b[0mappend\u001b[0m\u001b[0;34m(\u001b[0m\u001b[0;36m5\u001b[0m\u001b[0;34m)\u001b[0m\u001b[0;34m\u001b[0m\u001b[0;34m\u001b[0m\u001b[0m\n\u001b[0;32m----> 2\u001b[0;31m \u001b[0mfirst_el\u001b[0m\u001b[0;34m,\u001b[0m \u001b[0msecond_el\u001b[0m\u001b[0;34m,\u001b[0m \u001b[0mthird_el\u001b[0m \u001b[0;34m=\u001b[0m \u001b[0ma_list\u001b[0m\u001b[0;34m\u001b[0m\u001b[0;34m\u001b[0m\u001b[0m\n\u001b[0m\u001b[1;32m      3\u001b[0m \u001b[0mprint\u001b[0m\u001b[0;34m(\u001b[0m\u001b[0mfirst_el\u001b[0m\u001b[0;34m)\u001b[0m\u001b[0;34m\u001b[0m\u001b[0;34m\u001b[0m\u001b[0m\n\u001b[1;32m      4\u001b[0m \u001b[0mprint\u001b[0m\u001b[0;34m(\u001b[0m\u001b[0msecond_el\u001b[0m\u001b[0;34m)\u001b[0m\u001b[0;34m\u001b[0m\u001b[0;34m\u001b[0m\u001b[0m\n\u001b[1;32m      5\u001b[0m \u001b[0mprint\u001b[0m\u001b[0;34m(\u001b[0m\u001b[0mthird_el\u001b[0m\u001b[0;34m)\u001b[0m\u001b[0;34m\u001b[0m\u001b[0;34m\u001b[0m\u001b[0m\n",
            "\u001b[0;31mValueError\u001b[0m: too many values to unpack (expected 3)"
          ]
        }
      ]
    },
    {
      "cell_type": "markdown",
      "metadata": {
        "id": "grPY-aK8AxpO"
      },
      "source": [
        "### Exercise 4:\n",
        "    \n",
        "You could even do this with a set. However, not a good idea either? Why? Hint: Think about order. "
      ]
    },
    {
      "cell_type": "code",
      "metadata": {
        "colab": {
          "base_uri": "https://localhost:8080/"
        },
        "id": "_eT2sK3QAxpP",
        "outputId": "d205599a-bdc0-41f7-f53d-afa79dcf5933"
      },
      "source": [
        "a_set = {1,2,3,}\n",
        "first_el, second_el, third_el = a_set\n",
        "print(first_el)\n",
        "print(second_el)\n",
        "print(third_el)\n"
      ],
      "execution_count": 25,
      "outputs": [
        {
          "output_type": "stream",
          "name": "stdout",
          "text": [
            "1\n",
            "2\n",
            "3\n"
          ]
        }
      ]
    },
    {
      "cell_type": "markdown",
      "metadata": {
        "id": "8UnYNODAAxpP"
      },
      "source": [
        "### Exercise 5:\n",
        "\n",
        "Please use the **break** statement to make the loop stop after word 'really'"
      ]
    },
    {
      "cell_type": "code",
      "metadata": {
        "colab": {
          "base_uri": "https://localhost:8080/"
        },
        "id": "LgwCDojGAxpP",
        "outputId": "49749d35-395a-4c38-b345-06a0ce7e5fa1"
      },
      "source": [
        "['Python', 'is', 'really', 'nice', 'right?']\n",
        "# your code here"
      ],
      "execution_count": 26,
      "outputs": [
        {
          "output_type": "execute_result",
          "data": {
            "text/plain": [
              "['Python', 'is', 'really', 'nice', 'right?']"
            ]
          },
          "metadata": {},
          "execution_count": 26
        }
      ]
    },
    {
      "cell_type": "markdown",
      "metadata": {
        "id": "WnLjF6YkAxpP"
      },
      "source": [
        "Please use the **continue** statement to make sure that words that start with the letter 'r' are not printed"
      ]
    },
    {
      "cell_type": "code",
      "metadata": {
        "colab": {
          "base_uri": "https://localhost:8080/"
        },
        "id": "9JPbeLeoAxpP",
        "outputId": "980f7975-ddd7-400f-cc87-c3c61c0b32f7"
      },
      "source": [
        "['Python', 'is', 'really', 'nice', 'right?']\n",
        "# your code here"
      ],
      "execution_count": 27,
      "outputs": [
        {
          "output_type": "execute_result",
          "data": {
            "text/plain": [
              "['Python', 'is', 'really', 'nice', 'right?']"
            ]
          },
          "metadata": {},
          "execution_count": 27
        }
      ]
    },
    {
      "cell_type": "code",
      "metadata": {
        "id": "09Ji5QfFAxpP"
      },
      "source": [
        ""
      ],
      "execution_count": 27,
      "outputs": []
    }
  ]
}