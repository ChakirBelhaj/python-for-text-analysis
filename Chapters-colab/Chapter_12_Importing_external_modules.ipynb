{
  "nbformat": 4,
  "nbformat_minor": 0,
  "metadata": {
    "kernelspec": {
      "display_name": "Python 3",
      "language": "python",
      "name": "python3"
    },
    "language_info": {
      "codemirror_mode": {
        "name": "ipython",
        "version": 3
      },
      "file_extension": ".py",
      "mimetype": "text/x-python",
      "name": "python",
      "nbconvert_exporter": "python",
      "pygments_lexer": "ipython3",
      "version": "3.8.3"
    },
    "colab": {
      "name": "Chapter 12 - Importing external modules.ipynb",
      "provenance": [],
      "include_colab_link": true
    }
  },
  "cells": [
    {
      "cell_type": "markdown",
      "metadata": {
        "id": "view-in-github",
        "colab_type": "text"
      },
      "source": [
        "<a href=\"https://colab.research.google.com/github/cltl/python-for-text-analysis/blob/colab/Chapters-colab/Chapter_12_Importing_external_modules.ipynb\" target=\"_parent\"><img src=\"https://colab.research.google.com/assets/colab-badge.svg\" alt=\"Open In Colab\"/></a>"
      ]
    },
    {
      "cell_type": "code",
      "metadata": {
        "id": "6EX7TnR9B2rP"
      },
      "source": [
        "%%capture\n",
        "!wget https://github.com/cltl/python-for-text-analysis/raw/master/zips/Data.zip\n",
        "!wget https://github.com/cltl/python-for-text-analysis/raw/master/zips/images.zip\n",
        "!wget https://github.com/cltl/python-for-text-analysis/raw/master/zips/Extra_Material.zip\n",
        "\n",
        "!unzip Data.zip -d ../\n",
        "!unzip images.zip -d ./\n",
        "!unzip Extra_Material.zip -d ../\n",
        "\n",
        "!rm Data.zip\n",
        "!rm Extra_Material.zip\n",
        "!rm images.zip"
      ],
      "execution_count": 1,
      "outputs": []
    },
    {
      "cell_type": "markdown",
      "metadata": {
        "id": "ZQcyo5cJB1_A"
      },
      "source": [
        "# Chapter 12: Importing external modules\n",
        "*We use some materials from [this other Python course](https://github.com/kadarakos/python-course).*"
      ]
    },
    {
      "cell_type": "markdown",
      "metadata": {
        "id": "pHZvdCmDB1_H"
      },
      "source": [
        "Most of the functionality we have used thus far is built into the Python language itself. Now we have also learned how to write our own functions. Often, however, you need to use external modules in your code. A lot of external modules are already available in the Python Standard Library, for a wide variety of tasks. There are also countless third-party providers of Python modules.\n",
        "\n",
        "### At the end of this chapter, you will be able to:\n",
        "* import an entire module\n",
        "* import a specific function from a module\n",
        "* use `dir` and `help` to get information about a module or function\n",
        "* import a few commonly used modules: random, datetime, and requests\n",
        "\n",
        "**If you want to learn more about these topics, you might find the following links useful:**\n",
        "* [Tutorial: The import statement](https://www.tutorialspoint.com/python/python_modules.htm)\n",
        "* [Video: OS Module - Use Underlying Operating System Functionality](https://www.youtube.com/watch?v=tJxcKyFMTGo)"
      ]
    },
    {
      "cell_type": "markdown",
      "metadata": {
        "id": "FSZQY9VpB1_J"
      },
      "source": [
        "If you have **questions** about this chapter, please contact us **(cltl.python.course@gmail.com)**."
      ]
    },
    {
      "cell_type": "markdown",
      "metadata": {
        "id": "T8muKBYJB1_J"
      },
      "source": [
        "# 1. Importing a module or a function"
      ]
    },
    {
      "cell_type": "markdown",
      "metadata": {
        "id": "A7R1-QFYB1_K"
      },
      "source": [
        "**Python modules**\n",
        "\n",
        "A Python module is a Python file (i.e., a file ending in .py) which contains function definitions and statements. You can already write one yourself! (More about this in the next chapter.)\n",
        "\n",
        "Some modules are part of the Python standard library and contain useful functions. You can import these modules and use the functions as explained below.\n",
        "\n",
        "More on modules can be found here: https://docs.python.org/3/tutorial/modules.html"
      ]
    },
    {
      "cell_type": "markdown",
      "metadata": {
        "id": "gl25c0QoB1_L"
      },
      "source": [
        "To use an external module in your code, you need to **import** it explicitely. Consider, for example, the module `random` from the standard library, which contains functions for generating random numbers:"
      ]
    },
    {
      "cell_type": "code",
      "metadata": {
        "colab": {
          "base_uri": "https://localhost:8080/"
        },
        "id": "npCDsSaMB1_M",
        "outputId": "4789c8c3-1b43-4d48-b813-eb031a0a6e3c"
      },
      "source": [
        "import random\n",
        "print(random.randint(0, 100))"
      ],
      "execution_count": 2,
      "outputs": [
        {
          "output_type": "stream",
          "name": "stdout",
          "text": [
            "0\n"
          ]
        }
      ]
    },
    {
      "cell_type": "markdown",
      "metadata": {
        "id": "I7mO8EGhB1_P"
      },
      "source": [
        "**Note the syntax used:** using the dot, we indicate that our machine should look for the `randint()` method inside the `random` module we just imported. You can import an entire module or import only a specific function in the module. We could also have imported the (single) method we needed as follows:"
      ]
    },
    {
      "cell_type": "code",
      "metadata": {
        "colab": {
          "base_uri": "https://localhost:8080/"
        },
        "id": "U_nbXvUvB1_Q",
        "outputId": "a40ebca3-fec7-4784-b45d-85bb09aba997"
      },
      "source": [
        "from random import randint\n",
        "print(randint(0, 100))"
      ],
      "execution_count": 3,
      "outputs": [
        {
          "output_type": "stream",
          "name": "stdout",
          "text": [
            "29\n"
          ]
        }
      ]
    },
    {
      "cell_type": "markdown",
      "metadata": {
        "id": "SN_rbByWB1_R"
      },
      "source": [
        "In this case we wouldn't have to specify where our machine should find the `randint()` function: note that we don't need to use the module random in the function call in this case."
      ]
    },
    {
      "cell_type": "markdown",
      "metadata": {
        "id": "nUvKVexCB1_R"
      },
      "source": [
        "# 2. Getting help"
      ]
    },
    {
      "cell_type": "markdown",
      "metadata": {
        "id": "EmIODfkoB1_R"
      },
      "source": [
        "We might not understand how an external method works, or what input it needs, or what are the output values it returns. In that case, we can use `help()` (just as we did with functions and methods):"
      ]
    },
    {
      "cell_type": "code",
      "metadata": {
        "colab": {
          "base_uri": "https://localhost:8080/"
        },
        "id": "EYXlTRPtB1_S",
        "outputId": "39934fef-90c3-4868-f9bb-c32df781ea6f"
      },
      "source": [
        "help(randint)"
      ],
      "execution_count": 4,
      "outputs": [
        {
          "output_type": "stream",
          "name": "stdout",
          "text": [
            "Help on method randint in module random:\n",
            "\n",
            "randint(a, b) method of random.Random instance\n",
            "    Return random integer in range [a, b], including both end points.\n",
            "\n"
          ]
        }
      ]
    },
    {
      "cell_type": "markdown",
      "metadata": {
        "id": "ZaXWWmEaB1_T"
      },
      "source": [
        "If we like the `randint()` method, we might also be interested which other methods are offered in the `random` package. We can use `dir()` for this:"
      ]
    },
    {
      "cell_type": "code",
      "metadata": {
        "colab": {
          "base_uri": "https://localhost:8080/"
        },
        "id": "KqNscOgCB1_T",
        "outputId": "020725a9-2c51-4cac-c7d3-24ea2873799b"
      },
      "source": [
        "dir(random)"
      ],
      "execution_count": 5,
      "outputs": [
        {
          "output_type": "execute_result",
          "data": {
            "text/plain": [
              "['BPF',\n",
              " 'LOG4',\n",
              " 'NV_MAGICCONST',\n",
              " 'RECIP_BPF',\n",
              " 'Random',\n",
              " 'SG_MAGICCONST',\n",
              " 'SystemRandom',\n",
              " 'TWOPI',\n",
              " '_BuiltinMethodType',\n",
              " '_MethodType',\n",
              " '_Sequence',\n",
              " '_Set',\n",
              " '__all__',\n",
              " '__builtins__',\n",
              " '__cached__',\n",
              " '__doc__',\n",
              " '__file__',\n",
              " '__loader__',\n",
              " '__name__',\n",
              " '__package__',\n",
              " '__spec__',\n",
              " '_acos',\n",
              " '_bisect',\n",
              " '_ceil',\n",
              " '_cos',\n",
              " '_e',\n",
              " '_exp',\n",
              " '_inst',\n",
              " '_itertools',\n",
              " '_log',\n",
              " '_os',\n",
              " '_pi',\n",
              " '_random',\n",
              " '_sha512',\n",
              " '_sin',\n",
              " '_sqrt',\n",
              " '_test',\n",
              " '_test_generator',\n",
              " '_urandom',\n",
              " '_warn',\n",
              " 'betavariate',\n",
              " 'choice',\n",
              " 'choices',\n",
              " 'expovariate',\n",
              " 'gammavariate',\n",
              " 'gauss',\n",
              " 'getrandbits',\n",
              " 'getstate',\n",
              " 'lognormvariate',\n",
              " 'normalvariate',\n",
              " 'paretovariate',\n",
              " 'randint',\n",
              " 'random',\n",
              " 'randrange',\n",
              " 'sample',\n",
              " 'seed',\n",
              " 'setstate',\n",
              " 'shuffle',\n",
              " 'triangular',\n",
              " 'uniform',\n",
              " 'vonmisesvariate',\n",
              " 'weibullvariate']"
            ]
          },
          "metadata": {},
          "execution_count": 5
        }
      ]
    },
    {
      "cell_type": "markdown",
      "metadata": {
        "id": "eoYkWrXKB1_T"
      },
      "source": [
        " You can also (temporarily) change the names of the functions you import:"
      ]
    },
    {
      "cell_type": "code",
      "metadata": {
        "colab": {
          "base_uri": "https://localhost:8080/"
        },
        "id": "PgRaATBQB1_U",
        "outputId": "919cddf5-975c-499a-acc0-e968f0645a17"
      },
      "source": [
        "from random import randint as random_number\n",
        "print(random_number(0, 100))"
      ],
      "execution_count": 6,
      "outputs": [
        {
          "output_type": "stream",
          "name": "stdout",
          "text": [
            "61\n"
          ]
        }
      ]
    },
    {
      "cell_type": "markdown",
      "metadata": {
        "id": "6Ce3DJOLB1_U"
      },
      "source": [
        "If you want to import the entire module, it works the same way (using the syntax we have already seen above). Changing the name can be useful if we want to shorten it (as shown below)."
      ]
    },
    {
      "cell_type": "code",
      "metadata": {
        "colab": {
          "base_uri": "https://localhost:8080/"
        },
        "id": "_6P4C0cXB1_U",
        "outputId": "961ccf46-106b-415b-b54b-f634399e359b"
      },
      "source": [
        "import random as rn\n",
        "print(rn.randint(0,4))"
      ],
      "execution_count": 7,
      "outputs": [
        {
          "output_type": "stream",
          "name": "stdout",
          "text": [
            "0\n"
          ]
        }
      ]
    },
    {
      "cell_type": "markdown",
      "metadata": {
        "id": "ZyOleK1oB1_V"
      },
      "source": [
        "# 3. Other useful modules"
      ]
    },
    {
      "cell_type": "markdown",
      "metadata": {
        "id": "kZwV71A9B1_V"
      },
      "source": [
        "There are plenty of very useful modules out there, so it is a good practice to check if someone has already created a module for a task that you are facing. Here, we'll show\n",
        "\n",
        "* datetime (module to manipulate dates)\n",
        "* requests (module to download the content of a webpage)\n"
      ]
    },
    {
      "cell_type": "markdown",
      "metadata": {
        "id": "8w6Qnm_FB1_V"
      },
      "source": [
        "## 3.1 Datetime"
      ]
    },
    {
      "cell_type": "code",
      "metadata": {
        "colab": {
          "base_uri": "https://localhost:8080/"
        },
        "id": "kfZcC8rbB1_V",
        "outputId": "095d374f-ead6-4432-e224-c29cf3e01db0"
      },
      "source": [
        "import datetime\n",
        "\n",
        "print(datetime.datetime.now())"
      ],
      "execution_count": 8,
      "outputs": [
        {
          "output_type": "stream",
          "name": "stdout",
          "text": [
            "2021-09-29 10:09:30.480212\n"
          ]
        }
      ]
    },
    {
      "cell_type": "markdown",
      "metadata": {
        "id": "a95f2S7tB1_W"
      },
      "source": [
        "We can decipher the output ourselves: the first value is the current year, the second the current month, then day, hour, minute, etc. We can also see what Python tells us about this result:"
      ]
    },
    {
      "cell_type": "code",
      "metadata": {
        "colab": {
          "base_uri": "https://localhost:8080/"
        },
        "id": "VfU4OiMpB1_W",
        "outputId": "f814058a-143e-4ed1-fcbb-6bf2c6a98f0d"
      },
      "source": [
        "help(datetime.datetime.now)"
      ],
      "execution_count": 9,
      "outputs": [
        {
          "output_type": "stream",
          "name": "stdout",
          "text": [
            "Help on built-in function now:\n",
            "\n",
            "now(tz=None) method of builtins.type instance\n",
            "    Returns new datetime object representing current time local to tz.\n",
            "    \n",
            "      tz\n",
            "        Timezone object.\n",
            "    \n",
            "    If no tz is specified, uses local timezone.\n",
            "\n"
          ]
        }
      ]
    },
    {
      "cell_type": "markdown",
      "metadata": {
        "id": "wyErrpPMB1_W"
      },
      "source": [
        "## 3.2 Requests"
      ]
    },
    {
      "cell_type": "code",
      "metadata": {
        "colab": {
          "base_uri": "https://localhost:8080/"
        },
        "id": "Uq4gj0bSB1_W",
        "outputId": "64dcddc8-79d1-45eb-b399-dc27327c881d"
      },
      "source": [
        "import requests\n",
        "a=requests.get(\"https://tae898.github.io\")\n",
        "print(a.content)"
      ],
      "execution_count": 17,
      "outputs": [
        {
          "output_type": "stream",
          "name": "stdout",
          "text": [
            "b'<!DOCTYPE html><html lang=\"en-us\" >\\n\\n<head>\\n\\n  <meta charset=\"utf-8\">\\n  <meta name=\"viewport\" content=\"width=device-width, initial-scale=1\">\\n  <meta http-equiv=\"X-UA-Compatible\" content=\"IE=edge\">\\n  <meta name=\"generator\" content=\"Source Themes Academic 4.8.0\">\\n\\n  \\n\\n  \\n  \\n\\n  \\n  \\n  \\n  \\n  \\n    \\n    \\n    \\n  \\n  \\n\\n  <meta name=\"author\" content=\"Taewoon Kim\">\\n\\n  \\n  \\n  \\n    \\n  \\n  <meta name=\"description\" content=\"Artificial Intelligence Engineer\">\\n\\n  \\n  <link rel=\"alternate\" hreflang=\"en-us\" href=\"/\">\\n\\n  \\n\\n\\n\\n\\n\\n\\n\\n  \\n\\n\\n\\n  \\n  \\n  \\n  <meta name=\"theme-color\" content=\"#2962ff\">\\n  \\n\\n  \\n  \\n\\n  \\n  \\n  \\n  \\n    \\n    \\n      <link rel=\"stylesheet\" href=\"https://cdnjs.cloudflare.com/ajax/libs/academicons/1.8.6/css/academicons.min.css\" integrity=\"sha256-uFVgMKfistnJAfoCUQigIl+JfUaP47GrRKjf6CTPVmw=\" crossorigin=\"anonymous\">\\n    \\n    <link rel=\"stylesheet\" href=\"https://cdnjs.cloudflare.com/ajax/libs/font-awesome/5.14.0/css/all.min.css\" integrity=\"sha256-FMvZuGapsJLjouA6k7Eo2lusoAX9i0ShlWFG6qt7SLc=\" crossorigin=\"anonymous\">\\n    <link rel=\"stylesheet\" href=\"https://cdnjs.cloudflare.com/ajax/libs/fancybox/3.5.7/jquery.fancybox.min.css\" integrity=\"sha256-Vzbj7sDDS/woiFS3uNKo8eIuni59rjyNGtXfstRzStA=\" crossorigin=\"anonymous\">\\n\\n    \\n    \\n    \\n      \\n    \\n    \\n      \\n      \\n        \\n          <link rel=\"stylesheet\" href=\"https://cdnjs.cloudflare.com/ajax/libs/highlight.js/10.1.2/styles/github.min.css\" crossorigin=\"anonymous\" title=\"hl-light\">\\n          <link rel=\"stylesheet\" href=\"https://cdnjs.cloudflare.com/ajax/libs/highlight.js/10.1.2/styles/dracula.min.css\" crossorigin=\"anonymous\" title=\"hl-dark\" disabled>\\n        \\n      \\n    \\n\\n    \\n    <link rel=\"stylesheet\" href=\"https://cdnjs.cloudflare.com/ajax/libs/leaflet/1.5.1/leaflet.css\" integrity=\"sha256-SHMGCYmST46SoyGgo4YR/9AlK1vf3ff84Aq9yK4hdqM=\" crossorigin=\"anonymous\">\\n    \\n\\n    \\n\\n    \\n    \\n      \\n\\n      \\n      \\n\\n      \\n    \\n      \\n\\n      \\n      \\n\\n      \\n    \\n      \\n\\n      \\n      \\n\\n      \\n    \\n      \\n\\n      \\n      \\n\\n      \\n    \\n      \\n\\n      \\n      \\n\\n      \\n    \\n      \\n\\n      \\n      \\n\\n      \\n    \\n      \\n\\n      \\n      \\n\\n      \\n    \\n      \\n\\n      \\n      \\n\\n      \\n    \\n      \\n\\n      \\n      \\n\\n      \\n    \\n      \\n\\n      \\n      \\n\\n      \\n    \\n      \\n\\n      \\n      \\n\\n      \\n    \\n      \\n\\n      \\n      \\n\\n      \\n        <script src=\"https://cdnjs.cloudflare.com/ajax/libs/lazysizes/5.1.2/lazysizes.min.js\" integrity=\"sha256-Md1qLToewPeKjfAHU1zyPwOutccPAm5tahnaw7Osw0A=\" crossorigin=\"anonymous\" async></script>\\n      \\n    \\n      \\n\\n      \\n      \\n\\n      \\n    \\n      \\n\\n      \\n      \\n\\n      \\n    \\n      \\n\\n      \\n      \\n        \\n      \\n\\n      \\n    \\n      \\n\\n      \\n      \\n\\n      \\n    \\n      \\n\\n      \\n      \\n\\n      \\n    \\n\\n  \\n\\n  \\n  \\n  \\n    \\n      \\n      \\n      <link rel=\"stylesheet\" href=\"https://fonts.googleapis.com/css?family=Montserrat:400,700%7CRoboto:400,400italic,700%7CRoboto+Mono&display=swap\">\\n    \\n  \\n\\n  \\n  \\n  \\n  \\n  <link rel=\"stylesheet\" href=\"/css/academic.css\">\\n\\n  \\n\\n\\n\\n\\n  \\n\\n\\n  \\n  \\n  <script src=\"https://identity.netlify.com/v1/netlify-identity-widget.js\"></script>\\n  \\n\\n  \\n  <link rel=\"alternate\" href=\"/index.xml\" type=\"application/rss+xml\" title=\"Taewoon Kim\">\\n  \\n\\n  <link rel=\"manifest\" href=\"/index.webmanifest\">\\n  <link rel=\"icon\" type=\"image/png\" href=\"/images/icon_hu3fe8004869202247175e7257b80d7a5b_247389_32x32_fill_lanczos_center_2.png\">\\n  <link rel=\"apple-touch-icon\" type=\"image/png\" href=\"/images/icon_hu3fe8004869202247175e7257b80d7a5b_247389_192x192_fill_lanczos_center_2.png\">\\n\\n  <link rel=\"canonical\" href=\"/\">\\n\\n  \\n  \\n  \\n  \\n  \\n  \\n  \\n    \\n    \\n  \\n  \\n  <meta property=\"twitter:card\" content=\"summary\">\\n  \\n  <meta property=\"og:site_name\" content=\"Taewoon Kim\">\\n  <meta property=\"og:url\" content=\"/\">\\n  <meta property=\"og:title\" content=\"Taewoon Kim\">\\n  <meta property=\"og:description\" content=\"Artificial Intelligence Engineer\"><meta property=\"og:image\" content=\"/images/icon_hu3fe8004869202247175e7257b80d7a5b_247389_512x512_fill_lanczos_center_2.png\">\\n  <meta property=\"twitter:image\" content=\"/images/icon_hu3fe8004869202247175e7257b80d7a5b_247389_512x512_fill_lanczos_center_2.png\"><meta property=\"og:locale\" content=\"en-us\">\\n  \\n    \\n  \\n\\n  \\n\\n<script type=\"application/ld+json\">\\n{\\n  \"@context\": \"https://schema.org\",\\n  \"@type\": \"WebSite\",\\n  \"potentialAction\": {\\n    \"@type\": \"SearchAction\",\\n    \"target\": \"/?q={search_term_string}\",\\n    \"query-input\": \"required name=search_term_string\"\\n  },\\n  \"url\": \"/\"\\n}\\n</script>\\n\\n\\n  \\n\\n\\n  \\n\\n\\n  \\n\\n\\n\\n\\n\\n  <title>Taewoon Kim</title>\\n\\n</head>\\n\\n\\n<body id=\"top\" data-spy=\"scroll\" data-offset=\"70\" data-target=\"#navbar-main\" class=\" \">\\n\\n  \\n  \\n  \\n    <script>window.staDarkLightChooser = true;</script>\\n  \\n  \\n    <script>const isSiteThemeDark = false;</script>\\n  \\n  \\n  <script src=\"/js/load-theme.js\"></script>\\n\\n  <aside class=\"search-results\" id=\"search\">\\n  <div class=\"container\">\\n    <section class=\"search-header\">\\n\\n      <div class=\"row no-gutters justify-content-between mb-3\">\\n        <div class=\"col-6\">\\n          <h1>Search</h1>\\n        </div>\\n        <div class=\"col-6 col-search-close\">\\n          <a class=\"js-search\" href=\"#\"><i class=\"fas fa-times-circle text-muted\" aria-hidden=\"true\"></i></a>\\n        </div>\\n      </div>\\n\\n      <div id=\"search-box\">\\n        \\n        <input name=\"q\" id=\"search-query\" placeholder=\"Search...\" autocapitalize=\"off\"\\n        autocomplete=\"off\" autocorrect=\"off\" spellcheck=\"false\" type=\"search\" class=\"form-control\">\\n        \\n      </div>\\n\\n    </section>\\n    <section class=\"section-search-results\">\\n\\n      <div id=\"search-hits\">\\n        \\n      </div>\\n\\n    </section>\\n  </div>\\n</aside>\\n\\n\\n  \\n\\n\\n\\n\\n\\n\\n\\n\\n\\n\\n\\n\\n<nav class=\"navbar navbar-expand-lg navbar-light compensate-for-scrollbar\" id=\"navbar-main\">\\n  <div class=\"container\">\\n\\n    \\n    <div class=\"d-none d-lg-inline-flex\">\\n      <a class=\"navbar-brand\" href=\"/\">Taewoon Kim</a>\\n    </div>\\n    \\n\\n    \\n\\n    \\n    <div class=\"navbar-brand-mobile-wrapper d-inline-flex d-lg-none\">\\n      <a class=\"navbar-brand\" href=\"/\">Taewoon Kim</a>\\n    </div>\\n    \\n\\n    \\n    \\n    <div class=\"navbar-collapse main-menu-item collapse justify-content-start\" id=\"navbar-content\">\\n\\n      \\n      <ul class=\"navbar-nav d-md-inline-flex\">\\n        \\n\\n      \\n\\n        \\n      </ul>\\n    </div>\\n\\n    <ul class=\"nav-icons navbar-nav flex-row ml-auto d-flex pl-md-2\">\\n      \\n      <li class=\"nav-item\">\\n        <a class=\"nav-link js-search\" href=\"#\" aria-label=\"Search\"><i class=\"fas fa-search\" aria-hidden=\"true\"></i></a>\\n      </li>\\n      \\n\\n      \\n      <li class=\"nav-item dropdown theme-dropdown\">\\n        <a href=\"#\" class=\"nav-link js-theme-selector\" data-toggle=\"dropdown\" aria-haspopup=\"true\">\\n          <i class=\"fas fa-palette\" aria-hidden=\"true\"></i>\\n        </a>\\n        <div class=\"dropdown-menu\">\\n          <a href=\"#\" class=\"dropdown-item js-set-theme-light\">\\n            <span>Light</span>\\n          </a>\\n          <a href=\"#\" class=\"dropdown-item js-set-theme-dark\">\\n            <span>Dark</span>\\n          </a>\\n          <a href=\"#\" class=\"dropdown-item js-set-theme-auto\">\\n            <span>Automatic</span>\\n          </a>\\n        </div>\\n      </li>\\n      \\n\\n      \\n\\n    </ul>\\n\\n  </div>\\n</nav>\\n\\n\\n\\n  \\n\\n\\n\\n\\n\\n\\n\\n\\n\\n\\n\\n  \\n<span class=\"js-widget-page d-none\"></span>\\n\\n\\n\\n\\n\\n  \\n  \\n  \\n  \\n\\n\\n\\n\\n  \\n  \\n  \\n\\n  \\n\\n  \\n\\n  \\n\\n  \\n\\n  \\n  \\n\\n  \\n\\n  \\n  \\n\\n  \\n  \\n  \\n\\n  \\n  \\n  \\n  \\n  \\n\\n  \\n  \\n\\n  \\n\\n  <section id=\"about\" class=\"home-section wg-about   \"  >\\n    <div class=\"container\">\\n      \\n\\n\\n\\n\\n  \\n\\n\\n\\n\\n\\n\\n\\n\\n\\n\\n<div class=\"row\">\\n  <div class=\"col-12 col-lg-4\">\\n    <div id=\"profile\">\\n\\n      \\n      \\n      <img class=\"avatar avatar-circle\" src=\"/author/taewoon-kim/avatar_hu31b92099a83f565511bb237eb6d30323_259740_270x270_fill_q90_lanczos_center.jpg\" alt=\"Taewoon Kim\">\\n      \\n\\n      <div class=\"portrait-title\">\\n        <h2>Taewoon Kim</h2>\\n        <h3>Artificial Intelligence Engineer</h3>\\n\\n        \\n      </div>\\n\\n      <ul class=\"network-icon\" aria-hidden=\"true\">\\n        \\n        \\n        \\n        \\n          \\n        \\n        \\n        \\n        \\n        \\n        <li>\\n          <a href=\"mailto:tae898@gmail.com\" >\\n            <i class=\"fas fa-envelope big-icon\"></i>\\n          </a>\\n        </li>\\n        \\n        \\n        \\n        \\n        \\n        \\n        \\n        \\n          \\n        \\n        <li>\\n          <a href=\"https://scholar.google.com/citations?hl=en&amp;user=dJ4ksGoAAAAJ\" target=\"_blank\" rel=\"noopener\">\\n            <i class=\"ai ai-google-scholar big-icon\"></i>\\n          </a>\\n        </li>\\n        \\n        \\n        \\n        \\n          \\n        \\n        \\n        \\n        \\n        \\n          \\n        \\n        <li>\\n          <a href=\"https://www.linkedin.com/in/tae898\" target=\"_blank\" rel=\"noopener\">\\n            <i class=\"fab fa-linkedin big-icon\"></i>\\n          </a>\\n        </li>\\n        \\n        \\n        \\n        \\n          \\n        \\n        \\n        \\n        \\n        \\n          \\n        \\n        <li>\\n          <a href=\"https://github.com/tae898\" target=\"_blank\" rel=\"noopener\">\\n            <i class=\"fab fa-github big-icon\"></i>\\n          </a>\\n        </li>\\n        \\n        \\n        \\n        \\n          \\n        \\n        \\n        \\n        \\n        \\n          \\n        \\n        <li>\\n          <a href=\"http://youtube.com/c/tae898\" target=\"_blank\" rel=\"noopener\">\\n            <i class=\"fab fa-youtube big-icon\"></i>\\n          </a>\\n        </li>\\n        \\n        \\n        \\n        \\n          \\n        \\n        \\n        \\n        \\n        \\n          \\n        \\n        <li>\\n          <a href=\"https://twitter.com/tae898\" target=\"_blank\" rel=\"noopener\">\\n            <i class=\"fab fa-twitter big-icon\"></i>\\n          </a>\\n        </li>\\n        \\n      </ul>\\n\\n    </div>\\n  </div>\\n  <div class=\"col-12 col-lg-8\">\\n\\n    \\n    <h1>What do I want?</h1>\\n\\n    <p>Currently, my research includes cognitive science, natural language processing, knowledge representation and reasoning, and reinforcement learning. More specifically, I am working on creating a machine, agent, AI, robot, or whatever you call it, which has a human-like memory system. I believe creating such a machine allows us to understand and work with them better than otherwise.</p>\\n<p>I like scientific and engineering challenges in general. Not only that, I especially like when I can get inspirations from the fields that I\\xe2\\x80\\x99m not so familiar with (e.g., cognitive science, linguistics, etc.). I\\xe2\\x80\\x99m always up for challenges.</p>\\n\\n\\n    <div class=\"row\">\\n\\n      \\n      <div class=\"col-md-5\">\\n        <h3>Interests</h3>\\n        <ul class=\"ul-interests\">\\n          \\n          <li>Human-Robot Interaction</li>\\n          \\n          <li>Multimodal Deep Learning</li>\\n          \\n          <li>End-to-End Deep Learning</li>\\n          \\n          <li>Long-Term Memory</li>\\n          \\n        </ul>\\n      </div>\\n      \\n\\n      \\n      <div class=\"col-md-7\">\\n        <h3>Education</h3>\\n        <ul class=\"ul-edu fa-ul\">\\n          \\n          <li>\\n            <i class=\"fa-li fas fa-graduation-cap\"></i>\\n            <div class=\"description\">\\n              <p class=\"course\">PhD in Artificial Intelligence, 2024</p>\\n              <p class=\"institution\">Vrije Universiteit Amsterdam</p>\\n            </div>\\n          </li>\\n          \\n          <li>\\n            <i class=\"fa-li fas fa-graduation-cap\"></i>\\n            <div class=\"description\">\\n              <p class=\"course\">MSc in Computer Science, 2018</p>\\n              <p class=\"institution\">Hamburg University of Technology</p>\\n            </div>\\n          </li>\\n          \\n          <li>\\n            <i class=\"fa-li fas fa-graduation-cap\"></i>\\n            <div class=\"description\">\\n              <p class=\"course\">BSc in Electrical and Electronics Engineering, 2015</p>\\n              <p class=\"institution\">Yonsei University</p>\\n            </div>\\n          </li>\\n          \\n        </ul>\\n      </div>\\n      \\n\\n    </div>\\n  </div>\\n</div>\\n\\n    </div>\\n  </section>\\n\\n\\n\\n\\n      \\n\\n    \\n    \\n    \\n      <script src=\"https://cdnjs.cloudflare.com/ajax/libs/jquery/3.5.1/jquery.min.js\" integrity=\"sha256-9/aliU8dGd2tb6OSsuzixeV4y/faTqgFtohetphbbj0=\" crossorigin=\"anonymous\"></script>\\n      <script src=\"https://cdnjs.cloudflare.com/ajax/libs/jquery.imagesloaded/4.1.4/imagesloaded.pkgd.min.js\" integrity=\"sha256-lqvxZrPLtfffUl2G/e7szqSvPBILGbwmsGE1MKlOi0Q=\" crossorigin=\"anonymous\"></script>\\n      <script src=\"https://cdnjs.cloudflare.com/ajax/libs/jquery.isotope/3.0.6/isotope.pkgd.min.js\" integrity=\"sha256-CBrpuqrMhXwcLLUd5tvQ4euBHCdh7wGlDfNz8vbu/iI=\" crossorigin=\"anonymous\"></script>\\n      <script src=\"https://cdnjs.cloudflare.com/ajax/libs/fancybox/3.5.7/jquery.fancybox.min.js\" integrity=\"sha256-yt2kYMy0w8AbtF89WXb2P1rfjcP/HTHLT7097U8Y5b8=\" crossorigin=\"anonymous\"></script>\\n      <script src=\"https://cdnjs.cloudflare.com/ajax/libs/instant.page/5.1.0/instantpage.min.js\" integrity=\"sha512-1+qUtKoh9XZW7j+6LhRMAyOrgSQKenQ4mluTR+cvxXjP1Z54RxZuzstR/H9kgPXQsVB8IW7DMDFUJpzLjvhGSQ==\" crossorigin=\"anonymous\"></script>\\n\\n      \\n\\n      \\n        \\n        <script src=\"https://cdnjs.cloudflare.com/ajax/libs/highlight.js/10.1.2/highlight.min.js\" integrity=\"sha512-7t8APmYpzEsZP7CYoA7RfMPV9Bb+PJHa9x2WiUnDXZx3XHveuyWUtvNOexhkierl5flZ3tr92dP1mMS+SGlD+A==\" crossorigin=\"anonymous\"></script>\\n        \\n        <script src=\"https://cdnjs.cloudflare.com/ajax/libs/highlight.js/10.1.2/languages/r.min.js\"></script>\\n        \\n      \\n\\n    \\n\\n    \\n    \\n      <script src=\"https://cdnjs.cloudflare.com/ajax/libs/leaflet/1.5.1/leaflet.js\" integrity=\"sha256-EErZamuLefUnbMBQbsEqu1USa+btR2oIlCpBJbyD4/g=\" crossorigin=\"anonymous\"></script>\\n    \\n\\n    \\n    \\n    <script>const code_highlighting = true;</script>\\n    \\n\\n    \\n    \\n    \\n    \\n    \\n    \\n    <script>\\n      const search_config = {\"indexURI\":\"/index.json\",\"minLength\":1,\"threshold\":0.3};\\n      const i18n = {\"no_results\":\"No results found\",\"placeholder\":\"Search...\",\"results\":\"results found\"};\\n      const content_type = {\\n        \\'post\\': \"Posts\",\\n        \\'project\\': \"Projects\",\\n        \\'publication\\' : \"Publications\",\\n        \\'talk\\' : \"Talks\",\\n        \\'slides\\' : \"Slides\"\\n        };\\n    </script>\\n    \\n\\n    \\n    \\n\\n    \\n    \\n    <script id=\"search-hit-fuse-template\" type=\"text/x-template\">\\n      <div class=\"search-hit\" id=\"summary-{{key}}\">\\n      <div class=\"search-hit-content\">\\n        <div class=\"search-hit-name\">\\n          <a href=\"{{relpermalink}}\">{{title}}</a>\\n          <div class=\"article-metadata search-hit-type\">{{type}}</div>\\n          <p class=\"search-hit-description\">{{snippet}}</p>\\n        </div>\\n      </div>\\n      </div>\\n    </script>\\n    \\n\\n    \\n    \\n    <script src=\"https://cdnjs.cloudflare.com/ajax/libs/fuse.js/3.2.1/fuse.min.js\" integrity=\"sha256-VzgmKYmhsGNNN4Ph1kMW+BjoYJM2jV5i4IlFoeZA9XI=\" crossorigin=\"anonymous\"></script>\\n    <script src=\"https://cdnjs.cloudflare.com/ajax/libs/mark.js/8.11.1/jquery.mark.min.js\" integrity=\"sha256-4HLtjeVgH0eIB3aZ9mLYF6E8oU5chNdjU6p6rrXpl9U=\" crossorigin=\"anonymous\"></script>\\n    \\n\\n    \\n    \\n\\n    \\n    \\n    <script>\\n      if (window.netlifyIdentity) {\\n        window.netlifyIdentity.on(\"init\", user => {\\n          if (!user) {\\n            window.netlifyIdentity.on(\"login\", () => {\\n              document.location.href = \"/admin/\";\\n            });\\n          }\\n        });\\n      }\\n    </script>\\n    \\n\\n    \\n    \\n\\n    \\n    \\n\\n    \\n    \\n    \\n    \\n    \\n    \\n    \\n    \\n    \\n      \\n    \\n    \\n    \\n    \\n    <script src=\"/js/academic.min.3b2b658c61ebd725bd5fc606c89fe44c.js\"></script>\\n\\n    \\n\\n\\n\\n\\n\\n\\n  \\n  \\n  <div class=\"container\">\\n    <footer class=\"site-footer\">\\n  \\n\\n  <p class=\"powered-by\">\\n    \\n  </p>\\n\\n  \\n  \\n\\n\\n\\n\\n\\n\\n  <p class=\"powered-by\">\\n    \\n    Published with\\n    <a href=\"https://sourcethemes.com/academic/\" target=\"_blank\" rel=\"noopener\">Academic Website Builder</a>\\n    \\n\\n    \\n    <span class=\"float-right\" aria-hidden=\"true\">\\n      <a href=\"#\" class=\"back-to-top\">\\n        <span class=\"button_icon\">\\n          <i class=\"fas fa-chevron-up fa-2x\"></i>\\n        </span>\\n      </a>\\n    </span>\\n    \\n  </p>\\n</footer>\\n\\n  </div>\\n  \\n\\n  \\n<div id=\"modal\" class=\"modal fade\" role=\"dialog\">\\n  <div class=\"modal-dialog\">\\n    <div class=\"modal-content\">\\n      <div class=\"modal-header\">\\n        <h5 class=\"modal-title\">Cite</h5>\\n        <button type=\"button\" class=\"close\" data-dismiss=\"modal\" aria-label=\"Close\">\\n          <span aria-hidden=\"true\">&times;</span>\\n        </button>\\n      </div>\\n      <div class=\"modal-body\">\\n        <pre><code class=\"tex hljs\"></code></pre>\\n      </div>\\n      <div class=\"modal-footer\">\\n        <a class=\"btn btn-outline-primary my-1 js-copy-cite\" href=\"#\" target=\"_blank\">\\n          <i class=\"fas fa-copy\"></i> Copy\\n        </a>\\n        <a class=\"btn btn-outline-primary my-1 js-download-cite\" href=\"#\" target=\"_blank\">\\n          <i class=\"fas fa-download\"></i> Download\\n        </a>\\n        <div id=\"modal-error\"></div>\\n      </div>\\n    </div>\\n  </div>\\n</div>\\n\\n</body>\\n</html>\\n'\n"
          ]
        }
      ]
    },
    {
      "cell_type": "markdown",
      "metadata": {
        "id": "EPCu3Tu5B1_X"
      },
      "source": [
        "Don't worry too much about the response: it is a format called HTML (which is basically behind all web pages) and one would need to write some more code to extract the useful information from it. But: it is really impressive that we can retrieve any webpage from the web with just three lines of code! If you want to have a quick look at how to extract content, feel free to check out the beautifulsoup module. "
      ]
    },
    {
      "cell_type": "markdown",
      "metadata": {
        "id": "X_9h4GSyB1_X"
      },
      "source": [
        "So, how does one **find** a useful module for a specific task? Answer: Google it ;-)"
      ]
    },
    {
      "cell_type": "markdown",
      "metadata": {
        "id": "muswLFjEB1_X"
      },
      "source": [
        "# Exercises"
      ]
    },
    {
      "cell_type": "markdown",
      "metadata": {
        "id": "rZn2mXCNB1_X"
      },
      "source": [
        "**Exercise 1:** \n",
        "\n",
        "Check which arguments should be supplied to the `random.sample()` method and what is their intention. Then call this function with different arguments."
      ]
    },
    {
      "cell_type": "code",
      "metadata": {
        "id": "m5RTGHyhB1_X"
      },
      "source": [
        "# your code here"
      ],
      "execution_count": 18,
      "outputs": []
    },
    {
      "cell_type": "markdown",
      "metadata": {
        "id": "PTS72FjDB1_X"
      },
      "source": [
        "**Exercise 2**\n",
        "\n",
        "Figure out what the os module does and think about tasks it could be used for. "
      ]
    },
    {
      "cell_type": "code",
      "metadata": {
        "id": "mBBeG7tnB1_Y"
      },
      "source": [
        "# play around here"
      ],
      "execution_count": 19,
      "outputs": []
    },
    {
      "cell_type": "code",
      "metadata": {
        "id": "gsDQCyCHB1_Y"
      },
      "source": [
        ""
      ],
      "execution_count": 12,
      "outputs": []
    }
  ]
}