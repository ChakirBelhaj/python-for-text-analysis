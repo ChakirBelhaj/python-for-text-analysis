{
  "nbformat": 4,
  "nbformat_minor": 0,
  "metadata": {
    "anaconda-cloud": {},
    "kernelspec": {
      "name": "python3",
      "display_name": "Python 3.8.10 64-bit ('nlp': conda)"
    },
    "language_info": {
      "codemirror_mode": {
        "name": "ipython",
        "version": 3
      },
      "file_extension": ".py",
      "mimetype": "text/x-python",
      "name": "python",
      "nbconvert_exporter": "python",
      "pygments_lexer": "ipython3",
      "version": "3.8.10"
    },
    "interpreter": {
      "hash": "6106edc083458b68f61c14c570e0f5152b4e1e25a61780539c3fe413e38ae5e6"
    },
    "colab": {
      "name": "Chapter 18 - Data formats III (XML).ipynb",
      "provenance": [],
      "include_colab_link": true
    }
  },
  "cells": [
    {
      "cell_type": "markdown",
      "metadata": {
        "id": "view-in-github",
        "colab_type": "text"
      },
      "source": [
        "<a href=\"https://colab.research.google.com/github/cltl/python-for-text-analysis/blob/colab/Chapters-colab/Chapter_18_Data_formats_III_(XML).ipynb\" target=\"_parent\"><img src=\"https://colab.research.google.com/assets/colab-badge.svg\" alt=\"Open In Colab\"/></a>"
      ]
    },
    {
      "cell_type": "code",
      "metadata": {
        "id": "5hVVYukoG2Tc"
      },
      "source": [
        "%%capture\n",
        "!wget https://github.com/cltl/python-for-text-analysis/raw/master/zips/Data.zip\n",
        "!wget https://github.com/cltl/python-for-text-analysis/raw/master/zips/images.zip\n",
        "!wget https://github.com/cltl/python-for-text-analysis/raw/master/zips/Extra_Material.zip\n",
        "\n",
        "!unzip Data.zip -d ../\n",
        "!unzip images.zip -d ./\n",
        "!unzip Extra_Material.zip -d ../\n",
        "\n",
        "!rm Data.zip\n",
        "!rm Extra_Material.zip\n",
        "!rm images.zip"
      ],
      "execution_count": 1,
      "outputs": []
    },
    {
      "cell_type": "markdown",
      "metadata": {
        "id": "ueeN-vHZGyy1"
      },
      "source": [
        "# Chapter 18 - Data Formats III (XML)\n",
        "\n",
        "In this chapter, we will learn how to work with one of the most popular structured data formats: [XML](http://www.w3schools.com/xml/). XML is used a lot in Natural Language Processing (NLP), and it is important that you know how to work with it. In theory, you could load XML data just as you read in a text file, but the structure is much too complicated to extract information manually. Therefore, we use an existing library. \n",
        "\n",
        "### At the end of this chapter, you will be able to\n",
        "* read an XML file using `etree.parse`\n",
        "* read XML from string using `etree.fromstring`\n",
        "* convert an XML element to a string using `etree.tostring`\n",
        "* use the following methods and attributes of an XML element (of type `lxml.etree._Element`):\n",
        "    * to access elements: methods `find`, `findall`, and `getchildren`\n",
        "    * to access attributes: method `get`\n",
        "    * to access element information: attributes `tag` and `text`  \n",
        "\n",
        "* [not needed for assignment] create your own XML and write it to a file\n",
        "\n",
        "### If you want to learn more about this chapter, you might find the following links useful:\n",
        "* [XML](http://www.w3schools.com/xml/)\n",
        "* [detailled XML introduction](http://www.dfki.de/~uschaefer/esslli09/xmlquerylang.pdf)\n",
        "* [NAF XML](http://www.newsreader-project.eu/files/2013/01/techreport.pdf)\n",
        "* [Xpath](http://www.w3schools.com/xml/xpath_syntax.asp)\n",
        "* Other structured data formats: [JSON-LD](http://json-ld.org/), [MicroData](https://www.w3.org/TR/microdata/), [RDF](https://www.w3.org/RDF/)\n",
        "\n",
        "If you have **questions** about this chapter, please contact us at cltl.python.course@gmail.com."
      ]
    },
    {
      "cell_type": "markdown",
      "metadata": {
        "id": "RUxpVJ0vGyy5"
      },
      "source": [
        "## 1. Introduction to XML\n",
        "\n",
        "Natural language processing (NLP) is all about text data. More specifically, we usually want to annotate (manually or automatically) textual data with information about:\n",
        "\n",
        "* [part of speech](https://en.wikipedia.org/wiki/Part_of_speech)\n",
        "* [word senses](https://en.wikipedia.org/wiki/Word_sense)\n",
        "* [syntactic information (in particulay dependencies)](https://en.wikipedia.org/wiki/Dependency_grammar)\n",
        "* [entities](https://en.wikipedia.org/wiki/Entity_linking)\n",
        "* [semantic role labelling](https://en.wikipedia.org/wiki/Semantic_role_labeling)\n",
        "* Events\n",
        "* many many many more.....\n",
        "\n",
        "How should we represent such annotated data? This is what you get from using NLTK tools:"
      ]
    },
    {
      "cell_type": "code",
      "metadata": {
        "colab": {
          "base_uri": "https://localhost:8080/"
        },
        "id": "cDt58R_lGyy5",
        "outputId": "3eb1dd1c-232a-43d7-f772-60d4899e5aa2"
      },
      "source": [
        "import nltk\n",
        "nltk.download('punkt')\n",
        "nltk.download('averaged_perceptron_tagger')"
      ],
      "execution_count": 7,
      "outputs": [
        {
          "output_type": "stream",
          "name": "stdout",
          "text": [
            "[nltk_data] Downloading package punkt to /root/nltk_data...\n",
            "[nltk_data]   Package punkt is already up-to-date!\n",
            "[nltk_data] Downloading package averaged_perceptron_tagger to\n",
            "[nltk_data]     /root/nltk_data...\n",
            "[nltk_data]   Unzipping taggers/averaged_perceptron_tagger.zip.\n"
          ]
        },
        {
          "output_type": "execute_result",
          "data": {
            "text/plain": [
              "True"
            ]
          },
          "metadata": {},
          "execution_count": 7
        }
      ]
    },
    {
      "cell_type": "code",
      "metadata": {
        "colab": {
          "base_uri": "https://localhost:8080/"
        },
        "id": "hKLGbQgtGyy6",
        "outputId": "d6add757-fa15-49dd-8181-19bd686f7ce4"
      },
      "source": [
        "text = nltk.word_tokenize(\"Tom Cruise is an actor.\")\n",
        "text_pos_tagged = nltk.pos_tag(text)\n",
        "print(text_pos_tagged)\n",
        "print(type(text_pos_tagged), type(text_pos_tagged[0]))"
      ],
      "execution_count": 8,
      "outputs": [
        {
          "output_type": "stream",
          "name": "stdout",
          "text": [
            "[('Tom', 'NNP'), ('Cruise', 'NNP'), ('is', 'VBZ'), ('an', 'DT'), ('actor', 'NN'), ('.', '.')]\n",
            "<class 'list'> <class 'tuple'>\n"
          ]
        }
      ]
    },
    {
      "cell_type": "markdown",
      "metadata": {
        "id": "cAZEF45fGyy7"
      },
      "source": [
        "In this example, we see that the format is a list of [tuples](https://docs.python.org/3/tutorial/datastructures.html#tuples-and-sequences).  The first element of each tuple is the word and the second element is the part of speech tag. Great, so far, this works.  \n",
        "\n",
        "However, we usually want to store more information. For instance, we may want to indicate that *Tom Cruise* is a named entity. We could also represent syntactic information about this sentence. Now we start to run into difficulties because some annotations are for single words and some are for combinations of words. In addition, we have more than one annotation per token. Data structures such as CSV and TSV are not great at **representing** linguistic information. So is there a format that is better at it? The answer is yes and the format is XML. "
      ]
    },
    {
      "cell_type": "markdown",
      "metadata": {
        "id": "sJsmb6R5Gyy7"
      },
      "source": [
        "## 2. Terminology\n",
        "Let's look at an example (the line numbers are there for explanation purposes). On purpose, we start with a non-linguistic, hopefully intuitive example. In the folder `../Data/xml_data` this XML is stored as the file `course.xml`. You can inspect this file using a text editor (e.g. [Atom](https://atom.io/), [BBEdit](https://www.barebones.com/products/bbedit/download.html) or [Notepad++](https://notepad-plus-plus.org))."
      ]
    },
    {
      "cell_type": "markdown",
      "metadata": {
        "id": "Es8MMNpiGyy8"
      },
      "source": [
        "```xml\n",
        "1.  <Course>\n",
        "2.      <person role=\"coordinator\">Van der Vliet</person>\n",
        "3.      <person role=\"instructor\">Van Miltenburg</person>\n",
        "4.      <person role=\"instructor\">Van Son</person>\n",
        "5.      <person role=\"instructor\">Postma</person>\n",
        "7.      <person role=\"student\">Baloche</person>\n",
        "8.      <person role=\"student\">De Boer</person>\n",
        "9.      <animal role=\"student\">Rubber duck</animal>\n",
        "10.     <person role=\"student\">Van Doorn</person>\n",
        "11.     <person role=\"student\">De Jager</person>\n",
        "12.     <person role=\"student\">King</person>\n",
        "13.     <person role=\"student\">Kingham</person>\n",
        "14.     <person role=\"student\">Mózes</person>\n",
        "15.     <person role=\"student\">Rübsaam</person>\n",
        "16.     <person role=\"student\">Torsi</person>\n",
        "17.     <person role=\"student\">Witteman</person>\n",
        "18.     <person role=\"student\">Wouterse</person>\n",
        "19.     <person/>\n",
        "20. </Course>\n",
        "```"
      ]
    },
    {
      "cell_type": "markdown",
      "metadata": {
        "id": "O09EMGdEGyy9"
      },
      "source": [
        "### 2.1 Elements\n",
        "Line 1 to 19 all show examples of [XML elements](http://www.w3schools.com/xml/xml_elements.asp). Each XML element contains a **starting tag** (e.g. ```<person>```) and an **end tag** (e.g. ```</person>```). An element can contain:\n",
        "* **text** *Van der Vliet* on line 2\n",
        "* **attributes**: *role* attribute in lines 2 to 18\n",
        "* **elements**: elements can contain other elements, e.g. *person* elements inside the *Course* element. The terminology to talk about this is as follows. In this example, we call `person` the `child` of `Course` and `Course` the `parent` of `person`.\n",
        "\n",
        "Please note that on line 19 the **starting tag** and **end tag** are combined. This happens when an element has no children and/or no text. The syntax for an element is then **``` <START_TAG/>```**."
      ]
    },
    {
      "cell_type": "markdown",
      "metadata": {
        "id": "hdfZhjylGyy9"
      },
      "source": [
        "### 2.2 Root element\n",
        "A special element is the **root** element. In our example, `Course` is our [root element](https://en.wikipedia.org/wiki/Root_element). The element starts at line 1 (```<Course>```) and ends at line 19 (```</Course>```). Notice the difference between the begin tag (no '/') and the end tag (with '/'). A root element is special in that it is the only element, which is the sole parent element to all the other elements."
      ]
    },
    {
      "cell_type": "markdown",
      "metadata": {
        "id": "fKHdJHbZGyy-"
      },
      "source": [
        "### 2.3 Attributes\n",
        "Elements can contain [attributes](http://www.w3schools.com/xml/xml_attributes.asp), which contain information about the element. In this case, this information is the `role` a person has in the course. All attributes are located in the start tag of an XML element."
      ]
    },
    {
      "cell_type": "markdown",
      "metadata": {
        "id": "7vi_SCdQGyy-"
      },
      "source": [
        "## 3. Working with XML in Python\n",
        "Now that we know the basics of XML, we want to be able to access it in Python. In order to work with XML, we will use the [**lxml**](http://lxml.de/) library."
      ]
    },
    {
      "cell_type": "code",
      "metadata": {
        "id": "_-j8nJhQGyy-"
      },
      "source": [
        "from lxml import etree"
      ],
      "execution_count": 9,
      "outputs": []
    },
    {
      "cell_type": "markdown",
      "metadata": {
        "id": "Q3sURPeVGyy_"
      },
      "source": [
        "We will focus on the following methods/attributes:\n",
        "* **to parse the XML from file or string**: the methods `etree.parse()` and `etree.fromstring()`\n",
        "* **to access the root element**: the methods `getroot()`\n",
        "* **to access elements**: the methods `find()`, `findall()`, and `getchildren()`\n",
        "* **to access attributes**: the method `get()`\n",
        "* **to access element information**: the attributes `tag` and `text`"
      ]
    },
    {
      "cell_type": "markdown",
      "metadata": {
        "id": "S1mBtHpIGyy_"
      },
      "source": [
        "### 3.1 Parsing XML from file or string\n",
        "\n",
        "The **`etree.fromstring()`** is used to parse XML from a string:"
      ]
    },
    {
      "cell_type": "code",
      "metadata": {
        "colab": {
          "base_uri": "https://localhost:8080/"
        },
        "id": "QfYrqwdVGyy_",
        "outputId": "a4d4eee2-1bce-4ba6-960e-7babed451edd"
      },
      "source": [
        "xml_string = \"\"\"\n",
        "<Course>\n",
        "    <person role=\"coordinator\">Van der Vliet</person>\n",
        "    <person role=\"instructor\">Van Miltenburg</person>\n",
        "    <person role=\"instructor\">Van Son</person>\n",
        "    <person role=\"instructor\">Marten Postma</person>\n",
        "    <person role=\"student\">Baloche</person>\n",
        "    <person role=\"student\">De Boer</person>\n",
        "    <animal role=\"student\">Rubber duck</animal>\n",
        "    <person role=\"student\">Van Doorn</person>\n",
        "    <person role=\"student\">De Jager</person>\n",
        "    <person role=\"student\">King</person>\n",
        "    <person role=\"student\">Kingham</person>\n",
        "    <person role=\"student\">Mózes</person>\n",
        "    <person role=\"student\">Rübsaam</person>\n",
        "    <person role=\"student\">Torsi</person>\n",
        "    <person role=\"student\">Witteman</person>\n",
        "    <person role=\"student\">Wouterse</person>\n",
        "    <person/>\n",
        "</Course>\n",
        "\"\"\"\n",
        "\n",
        "tree = etree.fromstring(xml_string)\n",
        "print(type(tree))"
      ],
      "execution_count": 10,
      "outputs": [
        {
          "output_type": "stream",
          "name": "stdout",
          "text": [
            "<class 'lxml.etree._Element'>\n"
          ]
        }
      ]
    },
    {
      "cell_type": "code",
      "metadata": {
        "colab": {
          "base_uri": "https://localhost:8080/"
        },
        "id": "GDHgwtzBGyy_",
        "outputId": "e7d141b7-4aad-43ac-9f65-60d100431b78"
      },
      "source": [
        "# printing the tree only shows a reference to the tree, but not the tree itself \n",
        "# To access information, you will have to use the methods we introduce below.\n",
        "print(tree)"
      ],
      "execution_count": 11,
      "outputs": [
        {
          "output_type": "stream",
          "name": "stdout",
          "text": [
            "<Element Course at 0x7f81058ba500>\n"
          ]
        }
      ]
    },
    {
      "cell_type": "markdown",
      "metadata": {
        "id": "HEfZenrwGyzA"
      },
      "source": [
        "The **`etree.parse()`** method is used to load XML files on your computer:"
      ]
    },
    {
      "cell_type": "code",
      "metadata": {
        "colab": {
          "base_uri": "https://localhost:8080/"
        },
        "id": "_34asKmcGyzA",
        "outputId": "9309c30c-7370-47f7-f713-1b7a4ab7715f"
      },
      "source": [
        "tree = etree.parse('../Data/xml_data/course.xml')\n",
        "print(tree)\n",
        "print(type(tree))"
      ],
      "execution_count": 12,
      "outputs": [
        {
          "output_type": "stream",
          "name": "stdout",
          "text": [
            "<lxml.etree._ElementTree object at 0x7f810510aeb0>\n",
            "<class 'lxml.etree._ElementTree'>\n"
          ]
        }
      ]
    },
    {
      "cell_type": "markdown",
      "metadata": {
        "id": "iQlPhw0xGyzA"
      },
      "source": [
        "As you can see, `etree.parse()` returns an `ElementTree`, whereas `etree.fromstring()` returns an `Element`. One of the important differences is that the `ElementTree` class serialises as a complete document, as opposed to a single `Element`. This includes top-level processing instructions and comments, as well as a DOCTYPE and other DTD content in the document. For now, it's not too important that you know what these are; just remember that there is a difference btween `ElementTree` and `Element`."
      ]
    },
    {
      "cell_type": "markdown",
      "metadata": {
        "id": "wBWsAiR6GyzA"
      },
      "source": [
        "### 3.1 Accessing root element\n",
        "\n",
        "While `etree.fromstring()` gives you the root element right away, `etree.parse()` does not. In order to access the root element of `ElementTree`, we first need to use the **`getroot()`** method. Note that this does not show the XML element itself, but only a reference. In order to show the element itself, we can use the **`etree.dump()`** method.\n",
        "\n",
        "**Hint:** etree.dump is helpful for inspecting (parts of) an xml structure you have loaded from a file. You will see examples of this later. "
      ]
    },
    {
      "cell_type": "code",
      "metadata": {
        "colab": {
          "base_uri": "https://localhost:8080/"
        },
        "id": "T-sTy0-qGyzB",
        "outputId": "07cb519a-abf5-4d3e-aea1-fe29b03c42d1"
      },
      "source": [
        "root = tree.getroot()\n",
        "print('root', type(root), root)\n",
        "print()\n",
        "print('etree.dump example')\n",
        "etree.dump(root, pretty_print=True)"
      ],
      "execution_count": 13,
      "outputs": [
        {
          "output_type": "stream",
          "name": "stdout",
          "text": [
            "root <class 'lxml.etree._Element'> <Element Course at 0x7f810510aaa0>\n",
            "\n",
            "etree.dump example\n",
            "<Course>\n",
            "    <person role=\"coordinator\">Van der Vliet</person>\n",
            "    <person role=\"instructor\">Van Miltenburg</person>\n",
            "    <person role=\"instructor\">Van Son</person>\n",
            "    <person role=\"instructor\">Marten Postma</person>\n",
            "    <person role=\"student\">Baloche</person>\n",
            "    <person role=\"student\">De Boer</person>\n",
            "    <animal role=\"student\">Rubber duck</animal>\n",
            "    <person role=\"student\">Van Doorn</person>\n",
            "    <person role=\"student\">De Jager</person>\n",
            "    <person role=\"student\">King</person>\n",
            "    <person role=\"student\">Kingham</person>\n",
            "    <person role=\"student\">Mózes</person>\n",
            "    <person role=\"student\">Rübsaam</person>\n",
            "    <person role=\"student\">Torsi</person>\n",
            "    <person role=\"student\">Witteman</person>\n",
            "    <person role=\"student\">Wouterse</person>\n",
            "    <person/>\n",
            "</Course>\n"
          ]
        }
      ]
    },
    {
      "cell_type": "markdown",
      "metadata": {
        "id": "CDbAGO9AGyzB"
      },
      "source": [
        "As with any python object, we can use the built-in function **`dir()`** to list all methods of an element (which has the type **`lxml.etree._Element`**) , some of which will be illustrated below."
      ]
    },
    {
      "cell_type": "code",
      "metadata": {
        "colab": {
          "base_uri": "https://localhost:8080/"
        },
        "id": "hczzbBXcGyzB",
        "outputId": "34e861fc-435a-4e09-dc12-22053c71ea74"
      },
      "source": [
        "print(type(root))\n",
        "dir(root)"
      ],
      "execution_count": 14,
      "outputs": [
        {
          "output_type": "stream",
          "name": "stdout",
          "text": [
            "<class 'lxml.etree._Element'>\n"
          ]
        },
        {
          "output_type": "execute_result",
          "data": {
            "text/plain": [
              "['__bool__',\n",
              " '__class__',\n",
              " '__contains__',\n",
              " '__copy__',\n",
              " '__deepcopy__',\n",
              " '__delattr__',\n",
              " '__delitem__',\n",
              " '__dir__',\n",
              " '__doc__',\n",
              " '__eq__',\n",
              " '__format__',\n",
              " '__ge__',\n",
              " '__getattribute__',\n",
              " '__getitem__',\n",
              " '__gt__',\n",
              " '__hash__',\n",
              " '__init__',\n",
              " '__init_subclass__',\n",
              " '__iter__',\n",
              " '__le__',\n",
              " '__len__',\n",
              " '__lt__',\n",
              " '__ne__',\n",
              " '__new__',\n",
              " '__reduce__',\n",
              " '__reduce_ex__',\n",
              " '__repr__',\n",
              " '__reversed__',\n",
              " '__setattr__',\n",
              " '__setitem__',\n",
              " '__sizeof__',\n",
              " '__str__',\n",
              " '__subclasshook__',\n",
              " '_init',\n",
              " 'addnext',\n",
              " 'addprevious',\n",
              " 'append',\n",
              " 'attrib',\n",
              " 'base',\n",
              " 'clear',\n",
              " 'cssselect',\n",
              " 'extend',\n",
              " 'find',\n",
              " 'findall',\n",
              " 'findtext',\n",
              " 'get',\n",
              " 'getchildren',\n",
              " 'getiterator',\n",
              " 'getnext',\n",
              " 'getparent',\n",
              " 'getprevious',\n",
              " 'getroottree',\n",
              " 'index',\n",
              " 'insert',\n",
              " 'items',\n",
              " 'iter',\n",
              " 'iterancestors',\n",
              " 'iterchildren',\n",
              " 'iterdescendants',\n",
              " 'iterfind',\n",
              " 'itersiblings',\n",
              " 'itertext',\n",
              " 'keys',\n",
              " 'makeelement',\n",
              " 'nsmap',\n",
              " 'prefix',\n",
              " 'remove',\n",
              " 'replace',\n",
              " 'set',\n",
              " 'sourceline',\n",
              " 'tag',\n",
              " 'tail',\n",
              " 'text',\n",
              " 'values',\n",
              " 'xpath']"
            ]
          },
          "metadata": {},
          "execution_count": 14
        }
      ]
    },
    {
      "cell_type": "markdown",
      "metadata": {
        "id": "5gXutYPtGyzB"
      },
      "source": [
        "### 3.2 Accessing elements\n",
        "There are several ways of accessing XML elements. The **`find()`** method returns the *first* matching child."
      ]
    },
    {
      "cell_type": "code",
      "metadata": {
        "colab": {
          "base_uri": "https://localhost:8080/"
        },
        "id": "n8VrBB9kGyzB",
        "outputId": "1a1da6ff-887d-4fee-f9ea-4a74a607b60e"
      },
      "source": [
        "first_person_el = root.find('person')\n",
        "# Printing the element itself again only shows a reference\n",
        "print(first_person_el)\n",
        "#instead, we use etree.dump:\n",
        "etree.dump(first_person_el, pretty_print=True)"
      ],
      "execution_count": 15,
      "outputs": [
        {
          "output_type": "stream",
          "name": "stdout",
          "text": [
            "<Element person at 0x7f8104e9e730>\n",
            "<person role=\"coordinator\">Van der Vliet</person>\n",
            "    \n"
          ]
        }
      ]
    },
    {
      "cell_type": "markdown",
      "metadata": {
        "id": "Dl4fdMsBGyzC"
      },
      "source": [
        "In order to get a list of all person children, we can use the **`findall()`** method.\n",
        "Notice that this does not return the `animal` since we are looking for `person` elements."
      ]
    },
    {
      "cell_type": "code",
      "metadata": {
        "colab": {
          "base_uri": "https://localhost:8080/"
        },
        "id": "HRZpqfYjGyzC",
        "outputId": "0c3eacce-7360-4f66-8c1e-6e37007bb3d8"
      },
      "source": [
        "all_person_els = root.findall('person')\n",
        "# Check how many we found\n",
        "print(len(all_person_els))\n",
        "all_person_els"
      ],
      "execution_count": 16,
      "outputs": [
        {
          "output_type": "stream",
          "name": "stdout",
          "text": [
            "16\n"
          ]
        },
        {
          "output_type": "execute_result",
          "data": {
            "text/plain": [
              "[<Element person at 0x7f8104e9e730>,\n",
              " <Element person at 0x7f8104ea87d0>,\n",
              " <Element person at 0x7f8104ea8820>,\n",
              " <Element person at 0x7f8104ea8870>,\n",
              " <Element person at 0x7f8104ea88c0>,\n",
              " <Element person at 0x7f8104ea8910>,\n",
              " <Element person at 0x7f8104ea8960>,\n",
              " <Element person at 0x7f8104ea89b0>,\n",
              " <Element person at 0x7f8104ea8a00>,\n",
              " <Element person at 0x7f8104ea8a50>,\n",
              " <Element person at 0x7f8104ea8aa0>,\n",
              " <Element person at 0x7f8104ea8af0>,\n",
              " <Element person at 0x7f8104ea8b40>,\n",
              " <Element person at 0x7f8104ea8b90>,\n",
              " <Element person at 0x7f8104ea8be0>,\n",
              " <Element person at 0x7f8104ea8c30>]"
            ]
          },
          "metadata": {},
          "execution_count": 16
        }
      ]
    },
    {
      "cell_type": "markdown",
      "metadata": {
        "id": "X3dfBamMGyzC"
      },
      "source": [
        "Sometimes, we simple want all the children, while ignoring the start tags. This can be achieved using the **`getchildren()`** method. The list created below will contain all elements under root (including the animal element)"
      ]
    },
    {
      "cell_type": "code",
      "metadata": {
        "colab": {
          "base_uri": "https://localhost:8080/"
        },
        "id": "C9vX5Qt7GyzC",
        "outputId": "90eca87f-ef67-45b8-bedc-d390423d2ab0"
      },
      "source": [
        "all_child_els = root.getchildren()\n",
        "print(len(all_child_els))\n",
        "all_child_els"
      ],
      "execution_count": 17,
      "outputs": [
        {
          "output_type": "stream",
          "name": "stdout",
          "text": [
            "17\n"
          ]
        },
        {
          "output_type": "execute_result",
          "data": {
            "text/plain": [
              "[<Element person at 0x7f8104e9e730>,\n",
              " <Element person at 0x7f8104ea87d0>,\n",
              " <Element person at 0x7f8104ea8820>,\n",
              " <Element person at 0x7f8104ea8870>,\n",
              " <Element person at 0x7f8104ea88c0>,\n",
              " <Element person at 0x7f8104ea8910>,\n",
              " <Element animal at 0x7f8104eb1140>,\n",
              " <Element person at 0x7f8104ea8960>,\n",
              " <Element person at 0x7f8104ea89b0>,\n",
              " <Element person at 0x7f8104ea8a00>,\n",
              " <Element person at 0x7f8104ea8a50>,\n",
              " <Element person at 0x7f8104ea8aa0>,\n",
              " <Element person at 0x7f8104ea8af0>,\n",
              " <Element person at 0x7f8104ea8b40>,\n",
              " <Element person at 0x7f8104ea8b90>,\n",
              " <Element person at 0x7f8104ea8be0>,\n",
              " <Element person at 0x7f8104ea8c30>]"
            ]
          },
          "metadata": {},
          "execution_count": 17
        }
      ]
    },
    {
      "cell_type": "markdown",
      "metadata": {
        "id": "9yX1E5OyGyzC"
      },
      "source": [
        "### 3.3 Accessing element information\n",
        "We will now show how to access the attributes, text, and tag of an element."
      ]
    },
    {
      "cell_type": "markdown",
      "metadata": {
        "id": "CLK99dVuGyzC"
      },
      "source": [
        "The **`get()`** method is used to access the attribute of an element.\n",
        "**Attention**: If an attribute does not exist, it will return `None`. Hence, there will not be an error."
      ]
    },
    {
      "cell_type": "code",
      "metadata": {
        "colab": {
          "base_uri": "https://localhost:8080/"
        },
        "id": "uTr6aSMMGyzD",
        "outputId": "273c9054-cee2-405f-9928-c96a01228c1c"
      },
      "source": [
        "first_person_el = root.find('person')\n",
        "role_first_person_el = first_person_el.get('role')\n",
        "attribute_not_found = first_person_el.get('blabla')\n",
        "print('role first person element:', role_first_person_el)\n",
        "print('value if not found:', attribute_not_found)"
      ],
      "execution_count": 18,
      "outputs": [
        {
          "output_type": "stream",
          "name": "stdout",
          "text": [
            "role first person element: coordinator\n",
            "value if not found: None\n"
          ]
        }
      ]
    },
    {
      "cell_type": "markdown",
      "metadata": {
        "id": "yKKYN7FVGyzD"
      },
      "source": [
        "The **text** of an element is found in the attribute **`text`**:"
      ]
    },
    {
      "cell_type": "code",
      "metadata": {
        "colab": {
          "base_uri": "https://localhost:8080/"
        },
        "id": "Qc3lCJCnGyzD",
        "outputId": "be64b94b-34b7-4458-e543-a4642a165a7f"
      },
      "source": [
        "print(first_person_el.text)"
      ],
      "execution_count": 19,
      "outputs": [
        {
          "output_type": "stream",
          "name": "stdout",
          "text": [
            "Van der Vliet\n"
          ]
        }
      ]
    },
    {
      "cell_type": "markdown",
      "metadata": {
        "id": "JFPxB02PGyzD"
      },
      "source": [
        "The **tag** of an element is found in the attribute **`tag`**:"
      ]
    },
    {
      "cell_type": "code",
      "metadata": {
        "colab": {
          "base_uri": "https://localhost:8080/"
        },
        "id": "NYUcQf1ZGyzD",
        "outputId": "e812f9a3-841c-4754-9001-c5189ac32d58"
      },
      "source": [
        "print(first_person_el.tag)"
      ],
      "execution_count": 20,
      "outputs": [
        {
          "output_type": "stream",
          "name": "stdout",
          "text": [
            "person\n"
          ]
        }
      ]
    },
    {
      "cell_type": "markdown",
      "metadata": {
        "id": "OTCl3MBTGyzD"
      },
      "source": [
        "## 4 How to deal with more than one layer\n",
        "In our previous example, we had an XML with only one nested layer (**person**). However, XML can deal with many more. \n",
        "\n",
        "\n",
        "Let's look at such an example and think about how you would access the first **`target`** element, i.e. \n",
        "```xml\n",
        "\n",
        "<target id=\"t1\" />\n",
        "```"
      ]
    },
    {
      "cell_type": "markdown",
      "metadata": {
        "id": "2smUm-GUGyzE"
      },
      "source": [
        "```xml\n",
        "\n",
        "<NAF xml:lang=\"en\" version=\"v3\">\n",
        "    <terms>\n",
        "        <term id=\"t1\" type=\"open\" lemma=\"Tom\" pos=\"N\" morphofeat=\"NNP\">\n",
        "        <term id=\"t2\" type=\"open\" lemma=\"Cruise\" pos=\"N\" morphofeat=\"NNP\">\n",
        "        <term id=\"t3\" type=\"open\" lemma=\"be\" pos=\"V\" morphofeat=\"VBZ\">\n",
        "        <term id=\"t4\" type=\"open\" lemma=\"an\" pos=\"R\" morphofeat=\"DT\">\n",
        "        <term id=\"t5\" type=\"open\" lemma=\"actor\" pos=\"N\" morphofeat=\"NN\">\n",
        "    </terms>\n",
        "    <entities>\n",
        "        <entity id=\"e3\" type=\"PERSON\">\n",
        "              <references>\n",
        "                  <span>\n",
        "                      <target id=\"t1\" />\n",
        "                      <target id=\"t2\" />\n",
        "                  </span>\n",
        "              </references>\n",
        "        </entity>\n",
        "    </entities>\n",
        "</NAF>\n",
        "```"
      ]
    },
    {
      "cell_type": "markdown",
      "metadata": {
        "id": "qJ6scfzXGyzE"
      },
      "source": [
        "Again, we use `etree.fromstring()` to load XML from a string:"
      ]
    },
    {
      "cell_type": "code",
      "metadata": {
        "colab": {
          "base_uri": "https://localhost:8080/"
        },
        "id": "x6sfIskAGyzE",
        "outputId": "1552d20f-98d7-4672-e3bb-2997bc69493f"
      },
      "source": [
        "naf_string = \"\"\"\n",
        "<NAF xml:lang=\"en\" version=\"v3\">\n",
        "    <text>\n",
        "        <wf id=\"w1\" offset=\"0\" length=\"3\" sent=\"1\" para=\"1\">tom</wf>\n",
        "        <wf id=\"w2\" offset=\"4\" length=\"6\" sent=\"1\" para=\"1\">cruise</wf>\n",
        "        <wf id=\"w3\" offset=\"11\" length=\"2\" sent=\"1\" para=\"1\">is</wf>\n",
        "        <wf id=\"w4\" offset=\"14\" length=\"2\" sent=\"1\" para=\"1\">an</wf>\n",
        "        <wf id=\"w5\" offset=\"17\" length=\"5\" sent=\"1\" para=\"1\">actor</wf>\n",
        "    </text>\n",
        "    <terms>\n",
        "        <term id=\"t1\" type=\"open\" lemma=\"Tom\" pos=\"N\" morphofeat=\"NNP\"/>\n",
        "        <term id=\"t2\" type=\"open\" lemma=\"Cruise\" pos=\"N\" morphofeat=\"NNP\"/>\n",
        "        <term id=\"t3\" type=\"open\" lemma=\"be\" pos=\"V\" morphofeat=\"VBZ\"/>\n",
        "        <term id=\"t4\" type=\"open\" lemma=\"an\" pos=\"R\" morphofeat=\"DT\"/>\n",
        "        <term id=\"t5\" type=\"open\" lemma=\"actor\" pos=\"N\" morphofeat=\"NN\"/>\n",
        "    </terms> \n",
        "    <entities>\n",
        "        <entity id=\"e3\" type=\"PERSON\">\n",
        "              <references>\n",
        "                  <span>\n",
        "                      <target id=\"t1\" />\n",
        "                      <target id=\"t2\" />\n",
        "                  </span>\n",
        "              </references>\n",
        "        </entity>\n",
        "    </entities>\n",
        "</NAF>\n",
        "\"\"\"\n",
        "\n",
        "naf = etree.fromstring(naf_string)\n",
        "print(type(naf))\n",
        "etree.dump(naf, pretty_print=True)"
      ],
      "execution_count": 21,
      "outputs": [
        {
          "output_type": "stream",
          "name": "stdout",
          "text": [
            "<class 'lxml.etree._Element'>\n",
            "<NAF xml:lang=\"en\" version=\"v3\">\n",
            "    <text>\n",
            "        <wf id=\"w1\" offset=\"0\" length=\"3\" sent=\"1\" para=\"1\">tom</wf>\n",
            "        <wf id=\"w2\" offset=\"4\" length=\"6\" sent=\"1\" para=\"1\">cruise</wf>\n",
            "        <wf id=\"w3\" offset=\"11\" length=\"2\" sent=\"1\" para=\"1\">is</wf>\n",
            "        <wf id=\"w4\" offset=\"14\" length=\"2\" sent=\"1\" para=\"1\">an</wf>\n",
            "        <wf id=\"w5\" offset=\"17\" length=\"5\" sent=\"1\" para=\"1\">actor</wf>\n",
            "    </text>\n",
            "    <terms>\n",
            "        <term id=\"t1\" type=\"open\" lemma=\"Tom\" pos=\"N\" morphofeat=\"NNP\"/>\n",
            "        <term id=\"t2\" type=\"open\" lemma=\"Cruise\" pos=\"N\" morphofeat=\"NNP\"/>\n",
            "        <term id=\"t3\" type=\"open\" lemma=\"be\" pos=\"V\" morphofeat=\"VBZ\"/>\n",
            "        <term id=\"t4\" type=\"open\" lemma=\"an\" pos=\"R\" morphofeat=\"DT\"/>\n",
            "        <term id=\"t5\" type=\"open\" lemma=\"actor\" pos=\"N\" morphofeat=\"NN\"/>\n",
            "    </terms> \n",
            "    <entities>\n",
            "        <entity id=\"e3\" type=\"PERSON\">\n",
            "              <references>\n",
            "                  <span>\n",
            "                      <target id=\"t1\"/>\n",
            "                      <target id=\"t2\"/>\n",
            "                  </span>\n",
            "              </references>\n",
            "        </entity>\n",
            "    </entities>\n",
            "</NAF>\n"
          ]
        }
      ]
    },
    {
      "cell_type": "markdown",
      "metadata": {
        "id": "C09_oumbGyzE"
      },
      "source": [
        "Please note that the structure is as follows:\n",
        "* the **`NAF`** element is the parent of the elements **`text`**, **`terms`**, and **`entities`**\n",
        "* the **`wf`** elements are children of the **`text`** element, which provides us information about the position of words in the text, e.g. that *tom* is the first word in the text (**`id=\"w1`\"**) and in the first sentence (**sent=\"1\"**)\n",
        "* the **`term`** elements are children of the **`term`** elements, which provide us information about lemmatization and part of speech\n",
        "* the **`entity`** element is a child of the **`entities`** element. We learn from the **`entity`** element that the terms **`t1`** and **`t2`** (e.g. Tom Cruise) form an entity of type **`person`**."
      ]
    },
    {
      "cell_type": "markdown",
      "metadata": {
        "id": "kREOMPyKGyzE"
      },
      "source": [
        "One way of accessing the first **`target`** element is by going one level at a time:"
      ]
    },
    {
      "cell_type": "code",
      "metadata": {
        "colab": {
          "base_uri": "https://localhost:8080/"
        },
        "id": "jdTYd5BeGyzG",
        "outputId": "e9152c85-3bb2-49dc-ebfd-52c331e3a203"
      },
      "source": [
        "entities_el = naf.find('entities')\n",
        "entity_el = entities_el.find('entity')\n",
        "references_el = entity_el.find('references')\n",
        "span_el = references_el.find('span')\n",
        "target_el = span_el.find('target')\n",
        "etree.dump(target_el, pretty_print=True)"
      ],
      "execution_count": 22,
      "outputs": [
        {
          "output_type": "stream",
          "name": "stdout",
          "text": [
            "<target id=\"t1\"/>\n",
            "                      \n"
          ]
        }
      ]
    },
    {
      "cell_type": "markdown",
      "metadata": {
        "id": "SxUvlHkmGyzG"
      },
      "source": [
        "Is there a better way? The answer is yes! The following way is an easier way to find our `target` element:"
      ]
    },
    {
      "cell_type": "code",
      "metadata": {
        "colab": {
          "base_uri": "https://localhost:8080/"
        },
        "id": "2bH7_lm7GyzG",
        "outputId": "a691b810-ab5e-4c9b-9197-0299d3ffb902"
      },
      "source": [
        "target_el = naf.find('entities/entity/references/span/target')\n",
        "etree.dump(target_el, pretty_print=True)"
      ],
      "execution_count": 23,
      "outputs": [
        {
          "output_type": "stream",
          "name": "stdout",
          "text": [
            "<target id=\"t1\"/>\n",
            "                      \n"
          ]
        }
      ]
    },
    {
      "cell_type": "markdown",
      "metadata": {
        "id": "G8nwOfhuGyzH"
      },
      "source": [
        "You can also use **`findall()`** to find *all* `target` elements:\n",
        "\n",
        "(Note that **findall()** returns a list of xml elements. We can use a loop to iterate over them and print them individually.)"
      ]
    },
    {
      "cell_type": "code",
      "metadata": {
        "colab": {
          "base_uri": "https://localhost:8080/"
        },
        "id": "9MuZ4LZ7GyzH",
        "outputId": "411f875f-9e59-44f1-ae77-bfc5243509b1"
      },
      "source": [
        "\n",
        "for target_el in naf.findall('entities/entity/references/span/target'):\n",
        "    etree.dump(target_el, pretty_print=True)"
      ],
      "execution_count": 24,
      "outputs": [
        {
          "output_type": "stream",
          "name": "stdout",
          "text": [
            "<target id=\"t1\"/>\n",
            "                      \n",
            "<target id=\"t2\"/>\n",
            "                  \n"
          ]
        }
      ]
    },
    {
      "cell_type": "markdown",
      "metadata": {
        "id": "OSI_SdAaGyzH"
      },
      "source": [
        "## 5. Extracting infromation from XML\n",
        "\n",
        "\n",
        "Often, we want to extract information from an XML file, so we can analyze and possibly manipulate it in python. It can be very useful to use python containers for this. In the following example, we want to collect all tokens (i.e. words as they appear in text) of a part of speech.\n",
        "\n",
        "To do this, we have to extract infromation from the token layer and combine it with infromation from the term layer."
      ]
    },
    {
      "cell_type": "code",
      "metadata": {
        "colab": {
          "base_uri": "https://localhost:8080/"
        },
        "id": "VqOaXBLbGyzH",
        "outputId": "9282ab59-3b6e-4ef7-f038-60552dcbcb75"
      },
      "source": [
        "path_to_tokens = 'text/wf'\n",
        "path_to_terms = 'terms/term'\n",
        "\n",
        "\n",
        "# We define dictionaries to map identifiers to tokens ('word forms') and term tags including pos information.\n",
        "# We can use the identifiers to map the tokens to the pos tags in the next step\n",
        "tokens = naf.findall(path_to_tokens)\n",
        "terms = naf.findall(path_to_terms)\n",
        "\n",
        "id_token_dict = dict()\n",
        "id_pos_dict = dict()\n",
        "\n",
        "# map ids to tokens\n",
        "for token in tokens:\n",
        "    id_token_dict[token.get('id')] = token.text\n",
        "#map ids to terms\n",
        "for term in terms:\n",
        "    id_pos_dict[term.get('id')] = term.get('pos')\n",
        " \n",
        " #use ids to map tokens to pos tags\n",
        "for token_id, token in id_token_dict.items():\n",
        "    # term identifiers start with a t, token identifiers with a w. The numbers correspond. \n",
        "    term_id = token_id.replace('w', 't')\n",
        "    pos = id_pos_dict[term_id]\n",
        "    print(token, pos)"
      ],
      "execution_count": 25,
      "outputs": [
        {
          "output_type": "stream",
          "name": "stdout",
          "text": [
            "tom N\n",
            "cruise N\n",
            "is V\n",
            "an R\n",
            "actor N\n"
          ]
        }
      ]
    },
    {
      "cell_type": "markdown",
      "metadata": {
        "id": "ua7ZOjFDGyzH"
      },
      "source": [
        "## 6. EXTRA: Creating your own XML\n",
        "\n",
        "Please note that this section is optional, meaning that you don't need to understand this section in order to complete the assignment. \n",
        "\n",
        "There are three main steps:\n",
        "* **Step a:** Create an XML object with a root element\n",
        "* **Step b:** Creating child elements and adding them\n",
        "* **Step c:** Writing to a file"
      ]
    },
    {
      "cell_type": "markdown",
      "metadata": {
        "id": "HdwyKG3LGyzH"
      },
      "source": [
        "### Step a: Create an XML object with a root element\n",
        "You create a new XML object by:\n",
        "* creating the **`root`** element -> using **`etree.Element`** \n",
        "* creating the main XML object -> using **`etree.ElementTree`**\n",
        "\n",
        "You do not have to fully understand how this works. Please make sure you can reuse this code snippet when you create your own XML."
      ]
    },
    {
      "cell_type": "code",
      "metadata": {
        "id": "u93LEtjiGyzH"
      },
      "source": [
        "our_root = etree.Element('Course')\n",
        "our_tree = etree.ElementTree(our_root)"
      ],
      "execution_count": 26,
      "outputs": []
    },
    {
      "cell_type": "markdown",
      "metadata": {
        "id": "rihbKRtbGyzH"
      },
      "source": [
        "We can inspect what we have created by using the `etree.dump()` method. As you can see, we only have the root node `Course` currently in our document."
      ]
    },
    {
      "cell_type": "code",
      "metadata": {
        "colab": {
          "base_uri": "https://localhost:8080/"
        },
        "id": "-eFt8Y_CGyzI",
        "outputId": "5ba6ef6a-36a2-41fa-da4b-0defadd54ffb"
      },
      "source": [
        "etree.dump(our_root, pretty_print=True)"
      ],
      "execution_count": 27,
      "outputs": [
        {
          "output_type": "stream",
          "name": "stdout",
          "text": [
            "<Course/>\n"
          ]
        }
      ]
    },
    {
      "cell_type": "markdown",
      "metadata": {
        "id": "Dc_K2LOQGyzI"
      },
      "source": [
        "As you see, we created an XML object, containing only the root element **Course**."
      ]
    },
    {
      "cell_type": "markdown",
      "metadata": {
        "id": "PdOOH0O7GyzI"
      },
      "source": [
        "### Step b: Creating child elements and adding them\n",
        "There are two ways to add child elements to the root element. The first is to create an element using the **`etree.Element()`** method and using `append()` to add it to the root:"
      ]
    },
    {
      "cell_type": "code",
      "metadata": {
        "colab": {
          "base_uri": "https://localhost:8080/"
        },
        "id": "bKrRDBnWGyzI",
        "outputId": "825bb7a9-d0ff-4f2b-b576-8b8095764cfd"
      },
      "source": [
        "# Define tag, attributes and text of the new element\n",
        "tag = 'person' # what the start and end tag will be \n",
        "attributes = {'role': 'student'} # dictionary of attributes, can be more than one\n",
        "name_student = 'Lee' # the text of the elements\n",
        "\n",
        "# Create new Element\n",
        "new_person_element = etree.Element(tag, attrib=attributes)\n",
        "new_person_element.text = name_student\n",
        "\n",
        "# Add to root\n",
        "our_root.append(new_person_element)\n",
        "\n",
        "# Inspect the current XML\n",
        "etree.dump(our_root, pretty_print=True)"
      ],
      "execution_count": 28,
      "outputs": [
        {
          "output_type": "stream",
          "name": "stdout",
          "text": [
            "<Course>\n",
            "  <person role=\"student\">Lee</person>\n",
            "</Course>\n"
          ]
        }
      ]
    },
    {
      "cell_type": "markdown",
      "metadata": {
        "id": "XJ_MwOPGGyzI"
      },
      "source": [
        "However, this is so common that there is a shorter and much more efficient way to do this: by using **`etree.SubElement()`**. It accepts the same arguments as the `etree.Element()` method, but additionally requires the parent as first argument:"
      ]
    },
    {
      "cell_type": "code",
      "metadata": {
        "colab": {
          "base_uri": "https://localhost:8080/"
        },
        "id": "BGMFjBZOGyzI",
        "outputId": "c7580dcd-1a75-4c9d-f556-19eae599d6fa"
      },
      "source": [
        "# Define tag, attributes and text of the new element\n",
        "tag = 'person' \n",
        "attributes = {'role': 'student'} \n",
        "name_student = 'Pitt' \n",
        "\n",
        "# Add to root\n",
        "another_person_element = etree.SubElement(our_root, tag, attrib=attributes) # parent is our_root\n",
        "another_person_element.text = name_student\n",
        "\n",
        "# Inspect the current XML\n",
        "etree.dump(our_root, pretty_print=True)"
      ],
      "execution_count": 29,
      "outputs": [
        {
          "output_type": "stream",
          "name": "stdout",
          "text": [
            "<Course>\n",
            "  <person role=\"student\">Lee</person>\n",
            "  <person role=\"student\">Pitt</person>\n",
            "</Course>\n"
          ]
        }
      ]
    },
    {
      "cell_type": "markdown",
      "metadata": {
        "id": "UnkYeb6NGyzI"
      },
      "source": [
        "As we have seen before, XML can have multiple nested layers. Creating these works the same way as adding child elements to the root, but now we specify one of the other elements as the parent (in this case, `new_person_element`)."
      ]
    },
    {
      "cell_type": "code",
      "metadata": {
        "colab": {
          "base_uri": "https://localhost:8080/"
        },
        "id": "zBrVgOHeGyzI",
        "outputId": "3ea2e4b5-2643-4955-f13c-dfc2a6b3ede3"
      },
      "source": [
        "# Define tag, attributes and text of the new element\n",
        "tag = 'pet'\n",
        "attributes = {'role': 'joy'}\n",
        "name_pet = 'Romeo'\n",
        "\n",
        "# Add to new_person_element\n",
        "new_pet_element = etree.SubElement(new_person_element, tag, attrib=attributes) # parent is new_person_element\n",
        "new_pet_element.text = name_pet\n",
        "\n",
        "# Inspect the current XML\n",
        "etree.dump(our_root, pretty_print=True) "
      ],
      "execution_count": 30,
      "outputs": [
        {
          "output_type": "stream",
          "name": "stdout",
          "text": [
            "<Course>\n",
            "  <person role=\"student\">Lee<pet role=\"joy\">Romeo</pet></person>\n",
            "  <person role=\"student\">Pitt</person>\n",
            "</Course>\n"
          ]
        }
      ]
    },
    {
      "cell_type": "markdown",
      "metadata": {
        "id": "8gKtGk4gGyzJ"
      },
      "source": [
        "### Step c: Writing to a file\n",
        "This is how we can write our selfmade XML to a file. Please inspect `../Data/xml_data/selfmade.xml` using a text editor to check if it worked."
      ]
    },
    {
      "cell_type": "code",
      "metadata": {
        "id": "6rtemvuyGyzJ"
      },
      "source": [
        "with open('../Data/xml_data/selfmade.xml', 'wb') as outfile:\n",
        "    our_tree.write(outfile,\n",
        "                   pretty_print=True,\n",
        "                   xml_declaration=True,\n",
        "                   encoding='utf-8')"
      ],
      "execution_count": 31,
      "outputs": []
    },
    {
      "cell_type": "markdown",
      "metadata": {
        "id": "-wE5IsFOGyzJ"
      },
      "source": [
        "## Exercises"
      ]
    },
    {
      "cell_type": "markdown",
      "metadata": {
        "id": "IplMqkFuGyzJ"
      },
      "source": [
        "### Exercise 1:\n",
        "\n",
        "Have another look at the XML below. Then print the following information:\n",
        "* the names of all students\n",
        "* the names of all instructors whose name starts with 'Van'\n",
        "* all names containing a space\n",
        "* the role of 'Rubber duck'"
      ]
    },
    {
      "cell_type": "code",
      "metadata": {
        "colab": {
          "base_uri": "https://localhost:8080/"
        },
        "id": "aP17g1_-GyzJ",
        "outputId": "fc1e0e6d-b54a-4ebf-c487-e5376682b85b"
      },
      "source": [
        "xml_string = \"\"\"\n",
        "<Course>\n",
        "    <person role=\"coordinator\">Van der Vliet</person>\n",
        "    <person role=\"instructor\">Van Miltenburg</person>\n",
        "    <person role=\"instructor\">Van Son</person>\n",
        "    <person role=\"instructor\">Marten Postma</person>\n",
        "    <person role=\"student\">Baloche</person>\n",
        "    <person role=\"student\">De Boer</person>\n",
        "    <animal role=\"student\">Rubber duck</animal>\n",
        "    <person role=\"student\">Van Doorn</person>\n",
        "    <person role=\"student\">De Jager</person>\n",
        "    <person role=\"student\">King</person>\n",
        "    <person role=\"student\">Kingham</person>\n",
        "    <person role=\"student\">Mózes</person>\n",
        "    <person role=\"student\">Rübsaam</person>\n",
        "    <person role=\"student\">Torsi</person>\n",
        "    <person role=\"student\">Witteman</person>\n",
        "    <person role=\"student\">Wouterse</person>\n",
        "    <person/>\n",
        "</Course>\n",
        "\"\"\"\n",
        "\n",
        "tree = etree.fromstring(xml_string)\n",
        "print(type(tree))"
      ],
      "execution_count": 32,
      "outputs": [
        {
          "output_type": "stream",
          "name": "stdout",
          "text": [
            "<class 'lxml.etree._Element'>\n"
          ]
        }
      ]
    },
    {
      "cell_type": "code",
      "metadata": {
        "id": "tszVMYUaGyzJ"
      },
      "source": [
        ""
      ],
      "execution_count": 32,
      "outputs": []
    },
    {
      "cell_type": "code",
      "metadata": {
        "id": "ZED3gi_3GyzJ"
      },
      "source": [
        ""
      ],
      "execution_count": 32,
      "outputs": []
    },
    {
      "cell_type": "code",
      "metadata": {
        "id": "2SokCmZOGyzK"
      },
      "source": [
        ""
      ],
      "execution_count": 32,
      "outputs": []
    },
    {
      "cell_type": "code",
      "metadata": {
        "id": "7c2cylsBGyzK"
      },
      "source": [
        ""
      ],
      "execution_count": 32,
      "outputs": []
    },
    {
      "cell_type": "markdown",
      "metadata": {
        "id": "NfCkU_9dGyzK"
      },
      "source": [
        "### Exercise 2:\n",
        "In the folder `../Data/xml_data` there is an XML file called `framenet.xml`, which is a simplified version of the data provided by the [FrameNet project](https://framenet.icsi.berkeley.edu/fndrupal/).\n",
        "\n",
        "FrameNet is a lexical database describing **semantic frames**, which are representations of events or situations and the participants in it. For example, cooking typically involves a person doing the cooking (`Cook`), the food that is to be cooked (`Food`), something to hold the food while cooking (`Container`) and a source of heat (`Heating_instrument`). In FrameNet, this is represented as a frame called `Apply_heat`. The `Cook`, `Food`, `Heating_instrument` and `Container` are called **frame elements (FEs)**. Words that evoke this frame, such as *fry*, *bake*, *boil*, and *broil*, are called **lexical units (LUs)** of the `Apply_heat` frame. FrameNet also contains relations between frames. For example, `Apply_heat` has relations with the `Absorb_heat`, `Cooking_creation` and `Intentionally_affect` frames. In FrameNet, frame descriptions are stored in XML format.\n",
        "\n",
        "`framenet.xml` contains the information about the frame `Waking_up`. Parse the XML file and print the following:\n",
        "* the name of the frame\n",
        "* the names of all lexical units\n",
        "* the definitions of all lexical units\n",
        "* the related frames with their type of relation to `Waking_up` (e.g. `Event` with the `Inherits from` relation)"
      ]
    },
    {
      "cell_type": "code",
      "metadata": {
        "id": "enocAXVuGyzK"
      },
      "source": [
        ""
      ],
      "execution_count": 32,
      "outputs": []
    },
    {
      "cell_type": "code",
      "metadata": {
        "id": "faSjHBWiGyzK"
      },
      "source": [
        ""
      ],
      "execution_count": 32,
      "outputs": []
    },
    {
      "cell_type": "markdown",
      "metadata": {
        "id": "G1H78jpbGyzK"
      },
      "source": [
        "## Exercise 3:\n",
        "\n",
        "Something were we collect information from multiple files. Not created yet. "
      ]
    },
    {
      "cell_type": "code",
      "metadata": {
        "id": "5ONEllFQGyzK"
      },
      "source": [
        ""
      ],
      "execution_count": 32,
      "outputs": []
    },
    {
      "cell_type": "code",
      "metadata": {
        "id": "iiNjcpjNGyzK"
      },
      "source": [
        ""
      ],
      "execution_count": 32,
      "outputs": []
    }
  ]
}