{
  "nbformat": 4,
  "nbformat_minor": 0,
  "metadata": {
    "anaconda-cloud": {},
    "kernelspec": {
      "display_name": "Python 3",
      "language": "python",
      "name": "python3"
    },
    "language_info": {
      "codemirror_mode": {
        "name": "ipython",
        "version": 3
      },
      "file_extension": ".py",
      "mimetype": "text/x-python",
      "name": "python",
      "nbconvert_exporter": "python",
      "pygments_lexer": "ipython3",
      "version": "3.8.3"
    },
    "colab": {
      "name": "Chapter 04 - Boolean Expressions and Conditions.ipynb",
      "provenance": [],
      "include_colab_link": true
    }
  },
  "cells": [
    {
      "cell_type": "markdown",
      "metadata": {
        "id": "view-in-github",
        "colab_type": "text"
      },
      "source": [
        "<a href=\"https://colab.research.google.com/github/cltl/python-for-text-analysis/blob/colab/Chapters-colab/Chapter_04_Boolean_Expressions_and_Conditions.ipynb\" target=\"_parent\"><img src=\"https://colab.research.google.com/assets/colab-badge.svg\" alt=\"Open In Colab\"/></a>"
      ]
    },
    {
      "cell_type": "code",
      "metadata": {
        "id": "1X-Ycl_b-05h"
      },
      "source": [
        "%%capture\n",
        "!wget https://github.com/cltl/python-for-text-analysis/raw/master/zips/Data.zip\n",
        "!wget https://github.com/cltl/python-for-text-analysis/raw/master/zips/images.zip\n",
        "!wget https://github.com/cltl/python-for-text-analysis/raw/master/zips/Extra_Material.zip\n",
        "\n",
        "!unzip Data.zip -d ../\n",
        "!unzip images.zip -d ./\n",
        "!unzip Extra_Material.zip -d ../\n",
        "\n",
        "!rm Data.zip\n",
        "!rm Extra_Materil.zip\n",
        "!rm images.zip"
      ],
      "execution_count": 1,
      "outputs": []
    },
    {
      "cell_type": "markdown",
      "metadata": {
        "id": "1Pv95wgA-0Ol"
      },
      "source": [
        "# Chapter 4 - Boolean Expressions and Conditions\n",
        "\n",
        "*This notebook uses code snippets and explanations from [this course](https://github.com/kadarakos/python-course/blob/master/Chapter%202%20-%20Conditions.ipynb).*\n",
        "\n",
        "So far, we have learned how to use Python as a basic calculator and how to store information in variables. Now we will set the first steps to an actual useful program. A lot of programming has to do with executing code if a particular condition holds. This enables a program to act upon its inputs. For example: an app on your phone might give a warning if the battery level is lower than 5%. This means that the program needs to check if the variable `battery_level` is lower than the value of 5. We can do these checks using so called Boolean expressions. These Boolean expressions are the main element in probably one of the most used things in Python: *if statements*.\n",
        "\n",
        "#### At the end of this topic, you will be able to:\n",
        "* work with and understand *boolean expressions*\n",
        "* work with and understand *if statements*\n",
        "* understand what *indentation* is\n",
        "* understand what *nesting* is\n",
        "\n",
        "\n",
        "#### If you want to learn more about these topics, you might find the following links useful:\n",
        "* Documentation: [Built-in Types (boolean expressions)](https://docs.python.org/3.5/library/stdtypes.html#)\n",
        "* Video: [Python Booleans](https://www.youtube.com/watch?v=9OK32jb_TdI)\n",
        "* Video: [Conditionals](https://www.youtube.com/watch?v=mQrci1kAwh4)\n",
        "* Explanation: [if elif else](http://www.programiz.com/python-programming/if-elif-else)\n",
        "\n",
        "If you have **questions** about this chapter, please contact us(cltl.python.course@gmail.com)**."
      ]
    },
    {
      "cell_type": "markdown",
      "metadata": {
        "id": "haRDxFIT-0Op"
      },
      "source": [
        "## 1. Boolean expressions\n",
        "A **Boolean expression** (or simply: boolean) is an expression that results in the type `bool` in Python. Possible values are either **`True`** or **`False`**. Boolean expressions are the building blocks of programming. Any expression that results in `True` or `False` can be considered a Boolean expression. "
      ]
    },
    {
      "cell_type": "markdown",
      "metadata": {
        "id": "P2NIdGSK-0Op"
      },
      "source": [
        "So far you've mainly seen:"
      ]
    },
    {
      "cell_type": "code",
      "metadata": {
        "colab": {
          "base_uri": "https://localhost:8080/"
        },
        "id": "UpaHS1s1-0Op",
        "outputId": "c29a1ad9-16d7-49d3-809b-b6eb78806ee0"
      },
      "source": [
        "print(type('this is a string'))\n",
        "print(type(101))\n",
        "print(type(0.8))"
      ],
      "execution_count": 2,
      "outputs": [
        {
          "output_type": "stream",
          "name": "stdout",
          "text": [
            "<class 'str'>\n",
            "<class 'int'>\n",
            "<class 'float'>\n"
          ]
        }
      ]
    },
    {
      "cell_type": "markdown",
      "metadata": {
        "id": "nl-O1zLU-0Oq"
      },
      "source": [
        "Now we're introducing:"
      ]
    },
    {
      "cell_type": "code",
      "metadata": {
        "colab": {
          "base_uri": "https://localhost:8080/"
        },
        "id": "0aeQVPHE-0Or",
        "outputId": "311d76f2-fb70-414e-c0af-a01dfbe7d305"
      },
      "source": [
        "print(type(False))\n",
        "print(type(True))"
      ],
      "execution_count": 3,
      "outputs": [
        {
          "output_type": "stream",
          "name": "stdout",
          "text": [
            "<class 'bool'>\n",
            "<class 'bool'>\n"
          ]
        }
      ]
    },
    {
      "cell_type": "markdown",
      "metadata": {
        "id": "ha7P9w8x-0Or"
      },
      "source": [
        "### 1.1 Comparison operators\n",
        "\n",
        "Here is a list of **[comparison operators](https://docs.python.org/3/library/stdtypes.html#comparisons)** used in Boolean expressions:\n",
        "\n",
        "(You have already used these operators in the previous chapters, but we are treating them in more detail here.) \n",
        "\n",
        "\n",
        "| Operator | Meaning | `True` | `False` |\n",
        "|-----------|--------|--------|--------|\n",
        "| `==` |\tequal\t | `2 == 2` | `2 == 3` | \n",
        "| `!=` |\tnot equal\t| `3 != 2` | `2 != 2` |\n",
        "| `<` | less than | `2 < 13`  | `2 < 2` |\n",
        "| `<=` |\tless than or equal to \t|  `2 <= 2` | `3 <= 2`  |\n",
        "| `>` |\tgreater than \t | `13 > 2`  | `2 > 13`  |\n",
        "| `>=` |\tgreather than or equal to   |  `3 >= 3`  | `2 >= 3`  |\n",
        "\n",
        "Remember that the single = is reserved for assignment! Boolean expressions look at variables but never change them."
      ]
    },
    {
      "cell_type": "code",
      "metadata": {
        "colab": {
          "base_uri": "https://localhost:8080/"
        },
        "id": "j9BZ-U0o-0Os",
        "outputId": "e0d11b5a-7bfd-42fc-c7d7-6fc0d62910b2"
      },
      "source": [
        "print(2 < 5)\n",
        "print(2 <= 5)\n",
        "print(3 > 7)\n",
        "print(3 >= 7)\n",
        "print(3 == 3)\n",
        "print(\"school\" == \"school\")\n",
        "print(\"Python\" != \"SPSS\")"
      ],
      "execution_count": 4,
      "outputs": [
        {
          "output_type": "stream",
          "name": "stdout",
          "text": [
            "True\n",
            "True\n",
            "False\n",
            "False\n",
            "True\n",
            "True\n",
            "True\n"
          ]
        }
      ]
    },
    {
      "cell_type": "markdown",
      "metadata": {
        "id": "247Ot4Q2-0Ot"
      },
      "source": [
        "The relevant 'logical operators' that we used here are: <, <=, >,>=,==,!=. In Python-speak, we say that such a logical expression gets 'evaluated' when you run the code. The outcome of such an evaluation is a 'binary value' or a so-called 'boolean' that can take only two possible values: `True` or `False`. You can assign such a boolean to a variable:"
      ]
    },
    {
      "cell_type": "code",
      "metadata": {
        "colab": {
          "base_uri": "https://localhost:8080/"
        },
        "id": "FR8oUugu-0Ot",
        "outputId": "bbe7a73d-6a51-4135-a1a4-8bf0bb811b6b"
      },
      "source": [
        "greater = 5 > 2\n",
        "print(greater, type(greater))\n",
        "greater = 5 < 2\n",
        "print(greater, type(greater))"
      ],
      "execution_count": 5,
      "outputs": [
        {
          "output_type": "stream",
          "name": "stdout",
          "text": [
            "True <class 'bool'>\n",
            "False <class 'bool'>\n"
          ]
        }
      ]
    },
    {
      "cell_type": "markdown",
      "metadata": {
        "id": "IkZ0Gu7u-0Ot"
      },
      "source": [
        "Let's look at some examples. Try to guess the output based on the information about the operators in the table above. Hence, will the expression result in `True` or `False` in the following examples?"
      ]
    },
    {
      "cell_type": "code",
      "metadata": {
        "colab": {
          "base_uri": "https://localhost:8080/"
        },
        "id": "W-nSDt31-0Ou",
        "outputId": "eab6e676-6732-4298-b7fb-15bc0bb0cc67"
      },
      "source": [
        "print(5 == 5)"
      ],
      "execution_count": 6,
      "outputs": [
        {
          "output_type": "stream",
          "name": "stdout",
          "text": [
            "True\n"
          ]
        }
      ]
    },
    {
      "cell_type": "code",
      "metadata": {
        "colab": {
          "base_uri": "https://localhost:8080/"
        },
        "id": "jVzx_lVN-0Ou",
        "outputId": "b0ce1311-686d-425f-e7ba-f5a6d36a4a43"
      },
      "source": [
        "print(5 == 4)"
      ],
      "execution_count": 7,
      "outputs": [
        {
          "output_type": "stream",
          "name": "stdout",
          "text": [
            "False\n"
          ]
        }
      ]
    },
    {
      "cell_type": "code",
      "metadata": {
        "colab": {
          "base_uri": "https://localhost:8080/"
        },
        "id": "sLceeAqm-0Ou",
        "outputId": "14dfe20d-2b56-438e-fcd8-e0326e43ae2c"
      },
      "source": [
        "print(10 < 20)"
      ],
      "execution_count": 8,
      "outputs": [
        {
          "output_type": "stream",
          "name": "stdout",
          "text": [
            "True\n"
          ]
        }
      ]
    },
    {
      "cell_type": "code",
      "metadata": {
        "colab": {
          "base_uri": "https://localhost:8080/"
        },
        "id": "D2NQmD5V-0Ou",
        "outputId": "b5a80c48-75b4-477b-a0a0-90fae9672f2f"
      },
      "source": [
        "print(10 < 8)"
      ],
      "execution_count": 9,
      "outputs": [
        {
          "output_type": "stream",
          "name": "stdout",
          "text": [
            "False\n"
          ]
        }
      ]
    },
    {
      "cell_type": "code",
      "metadata": {
        "colab": {
          "base_uri": "https://localhost:8080/"
        },
        "id": "AASNAhxM-0Ov",
        "outputId": "0a346823-8efa-4ea7-d9b5-b1959c11582e"
      },
      "source": [
        "print(10 < 10)"
      ],
      "execution_count": 10,
      "outputs": [
        {
          "output_type": "stream",
          "name": "stdout",
          "text": [
            "False\n"
          ]
        }
      ]
    },
    {
      "cell_type": "code",
      "metadata": {
        "colab": {
          "base_uri": "https://localhost:8080/"
        },
        "id": "mRysyDQ3-0Ov",
        "outputId": "91f92de6-9c67-4739-ac83-a0036f50ad8c"
      },
      "source": [
        "print(10 <= 10)"
      ],
      "execution_count": 11,
      "outputs": [
        {
          "output_type": "stream",
          "name": "stdout",
          "text": [
            "True\n"
          ]
        }
      ]
    },
    {
      "cell_type": "code",
      "metadata": {
        "colab": {
          "base_uri": "https://localhost:8080/"
        },
        "id": "WeYFNxhs-0Ov",
        "outputId": "90da7570-14af-4a6a-9ff2-e16c832ba49c"
      },
      "source": [
        "print(20 >= 21)"
      ],
      "execution_count": 12,
      "outputs": [
        {
          "output_type": "stream",
          "name": "stdout",
          "text": [
            "False\n"
          ]
        }
      ]
    },
    {
      "cell_type": "code",
      "metadata": {
        "colab": {
          "base_uri": "https://localhost:8080/"
        },
        "id": "KcNZocmF-0Ov",
        "outputId": "6b8fd4bf-5c4c-4db8-e73e-7dcc078c8b57"
      },
      "source": [
        "print(20 == 20)"
      ],
      "execution_count": 13,
      "outputs": [
        {
          "output_type": "stream",
          "name": "stdout",
          "text": [
            "True\n"
          ]
        }
      ]
    },
    {
      "cell_type": "code",
      "metadata": {
        "colab": {
          "base_uri": "https://localhost:8080/"
        },
        "id": "4MOj9jT3-0Ow",
        "outputId": "319dc769-61be-4597-ddc1-cb00870657e6"
      },
      "source": [
        "print(1 == '1')"
      ],
      "execution_count": 14,
      "outputs": [
        {
          "output_type": "stream",
          "name": "stdout",
          "text": [
            "False\n"
          ]
        }
      ]
    },
    {
      "cell_type": "code",
      "metadata": {
        "colab": {
          "base_uri": "https://localhost:8080/"
        },
        "id": "bLUVV-Cz-0Ow",
        "outputId": "87eaf57f-3c48-4dd3-b485-d3cf81c50041"
      },
      "source": [
        "print(1 != 2)"
      ],
      "execution_count": 15,
      "outputs": [
        {
          "output_type": "stream",
          "name": "stdout",
          "text": [
            "True\n"
          ]
        }
      ]
    },
    {
      "cell_type": "code",
      "metadata": {
        "colab": {
          "base_uri": "https://localhost:8080/"
        },
        "id": "ZWpGi4oM-0Ow",
        "outputId": "f820ad14-d70a-4156-916b-82b887ca31c1"
      },
      "source": [
        "boolean_expression = 5 == 4\n",
        "print(boolean_expression)"
      ],
      "execution_count": 16,
      "outputs": [
        {
          "output_type": "stream",
          "name": "stdout",
          "text": [
            "False\n"
          ]
        }
      ]
    },
    {
      "cell_type": "markdown",
      "metadata": {
        "id": "5U6QHxwT-0Ow"
      },
      "source": [
        "### 1.2 Membership operators\n",
        "Python also has so-called **[membership operators](https://docs.python.org/3.5/reference/expressions.html#not-in)**:\n",
        "\n",
        "| Operator | function | `True` | `False` |\n",
        "|-----------|--------|--------|--------|\n",
        "| `in` | left object is a member of right object | `\"c\" in \"cat\"` | `\"f\" in \"cat\"` |\n",
        "| `not in` |left object is NOT a member of right object\t|  `\"f\"  not in \"cat\"` | `\"c\" not in \"cat\"` |\n",
        "\n",
        "We have already seen the operator **`in`** being used for checking whether a string (single or multiple characters) is a substring of another one:"
      ]
    },
    {
      "cell_type": "code",
      "metadata": {
        "colab": {
          "base_uri": "https://localhost:8080/"
        },
        "id": "AcqpiJSK-0Ow",
        "outputId": "18bfd299-f98e-4a45-ddee-00d31a7d5c51"
      },
      "source": [
        "print(\"fun\" in \"function\")\n",
        "print(\"pie\" in \"python\")"
      ],
      "execution_count": 17,
      "outputs": [
        {
          "output_type": "stream",
          "name": "stdout",
          "text": [
            "True\n",
            "False\n"
          ]
        }
      ]
    },
    {
      "cell_type": "markdown",
      "metadata": {
        "id": "lBPgWZEl-0Ox"
      },
      "source": [
        "We can only use membership operators with *iterables* (i.e. python objects that can be split up into smaller components - e.g. characters of a string). The following will therefore not work, because an integer is not iterable:"
      ]
    },
    {
      "cell_type": "code",
      "metadata": {
        "colab": {
          "base_uri": "https://localhost:8080/",
          "height": 165
        },
        "id": "NdwsgSmr-0Ox",
        "outputId": "7cb1e14e-9811-435a-f754-315e335320f3"
      },
      "source": [
        "print(5 in 10)"
      ],
      "execution_count": 18,
      "outputs": [
        {
          "output_type": "error",
          "ename": "TypeError",
          "evalue": "ignored",
          "traceback": [
            "\u001b[0;31m---------------------------------------------------------------------------\u001b[0m",
            "\u001b[0;31mTypeError\u001b[0m                                 Traceback (most recent call last)",
            "\u001b[0;32m<ipython-input-18-8bc003175eb8>\u001b[0m in \u001b[0;36m<module>\u001b[0;34m()\u001b[0m\n\u001b[0;32m----> 1\u001b[0;31m \u001b[0mprint\u001b[0m\u001b[0;34m(\u001b[0m\u001b[0;36m5\u001b[0m \u001b[0;32min\u001b[0m \u001b[0;36m10\u001b[0m\u001b[0;34m)\u001b[0m\u001b[0;34m\u001b[0m\u001b[0;34m\u001b[0m\u001b[0m\n\u001b[0m",
            "\u001b[0;31mTypeError\u001b[0m: argument of type 'int' is not iterable"
          ]
        }
      ]
    },
    {
      "cell_type": "markdown",
      "metadata": {
        "id": "2yHCurXE-0Ox"
      },
      "source": [
        "However, we can use membership operators with other types of 'containers', such as *lists*. We will discuss lists in much more detail later on, but they represent ordered sequences of objects like strings, integers or a combination. We can use *in* and *not in* to check whether an object is a member of a list:"
      ]
    },
    {
      "cell_type": "code",
      "metadata": {
        "id": "DEAAOEKs-0Ox"
      },
      "source": [
        "letters = ['a','b','c','d']\n",
        "numbers = [1,2,3,4,5]\n",
        "mixed = [1,2,3,'a','b','c']"
      ],
      "execution_count": 19,
      "outputs": []
    },
    {
      "cell_type": "code",
      "metadata": {
        "colab": {
          "base_uri": "https://localhost:8080/"
        },
        "id": "vkKLBzsG-0Ox",
        "outputId": "9a954e49-8228-41e6-f877-0d6b962d4734"
      },
      "source": [
        "print('a' in letters)"
      ],
      "execution_count": 20,
      "outputs": [
        {
          "output_type": "stream",
          "name": "stdout",
          "text": [
            "True\n"
          ]
        }
      ]
    },
    {
      "cell_type": "code",
      "metadata": {
        "colab": {
          "base_uri": "https://localhost:8080/"
        },
        "id": "gZN0UtAQ-0Ox",
        "outputId": "1594aa95-5370-4d65-e957-e5dbd05a5aef"
      },
      "source": [
        "print('g' not in letters)"
      ],
      "execution_count": 21,
      "outputs": [
        {
          "output_type": "stream",
          "name": "stdout",
          "text": [
            "True\n"
          ]
        }
      ]
    },
    {
      "cell_type": "code",
      "metadata": {
        "colab": {
          "base_uri": "https://localhost:8080/"
        },
        "id": "aTgS2Hrl-0Ox",
        "outputId": "fe7f10d9-4f18-49c8-df09-fccc4f721539"
      },
      "source": [
        "print('d' in mixed)"
      ],
      "execution_count": 22,
      "outputs": [
        {
          "output_type": "stream",
          "name": "stdout",
          "text": [
            "False\n"
          ]
        }
      ]
    },
    {
      "cell_type": "code",
      "metadata": {
        "colab": {
          "base_uri": "https://localhost:8080/"
        },
        "id": "KyTuHXBn-0Oy",
        "outputId": "d866a727-005b-4a13-c16f-c1ecf6c97fb5"
      },
      "source": [
        "print(1 in numbers)"
      ],
      "execution_count": 23,
      "outputs": [
        {
          "output_type": "stream",
          "name": "stdout",
          "text": [
            "True\n"
          ]
        }
      ]
    },
    {
      "cell_type": "code",
      "metadata": {
        "colab": {
          "base_uri": "https://localhost:8080/"
        },
        "id": "NwWWotHs-0Oy",
        "outputId": "12697c27-0a8c-41af-8d04-b0b6ede40bb3"
      },
      "source": [
        "print(3 not in mixed)"
      ],
      "execution_count": 24,
      "outputs": [
        {
          "output_type": "stream",
          "name": "stdout",
          "text": [
            "False\n"
          ]
        }
      ]
    },
    {
      "cell_type": "code",
      "metadata": {
        "colab": {
          "base_uri": "https://localhost:8080/"
        },
        "id": "Me9CTCUw-0Oy",
        "outputId": "519332f9-ac30-4bf4-8b06-2899574e4b38"
      },
      "source": [
        "print('a' not in 'hello world')"
      ],
      "execution_count": 25,
      "outputs": [
        {
          "output_type": "stream",
          "name": "stdout",
          "text": [
            "True\n"
          ]
        }
      ]
    },
    {
      "cell_type": "markdown",
      "metadata": {
        "id": "f4ObvWmI-0Oy"
      },
      "source": [
        "### 1.3 And, or, and not\n",
        "\n",
        "Finally, boolean operations are often performed using the [**boolean operators `and`, `or` and `not`**](https://docs.python.org/3.5/library/stdtypes.html#boolean-operations-and-or-not). Given two boolean expressions, **bool1** and **bool2**, this is how they work:\n",
        "\n",
        "| operation | function | `True` | `False` | \n",
        "|-----------|--------|----------|---------|\n",
        "| **bool1** `and` **bool2** | `True` if both **bool1** and **bool2** are `True`, otherwise `False` | (`5 == 5 and 3 < 5`) | (`5 == 5 and 3 > 5`) |\n",
        "| **bool1** `or` **bool2** |\t`True` when at least one of the boolean expressions is `True`, otherwise `False`\t|  (`5 == 5 or 3 > 5`) | (`5 != 5 or 3 > 5`) |\n",
        "| `not` **bool1** | `True` if **bool1** is `False`, otherwise `False` | (`not 5 != 5`) | (`not 5 == 5`) |"
      ]
    },
    {
      "cell_type": "markdown",
      "metadata": {
        "id": "ATIKWq-Q-0Oy"
      },
      "source": [
        "Here are some examples of **`and`**:"
      ]
    },
    {
      "cell_type": "code",
      "metadata": {
        "id": "EsthHEBz-0Oy"
      },
      "source": [
        "letters = ['a','b','c','d']\n",
        "numbers = [1,2,3,4,5]"
      ],
      "execution_count": 26,
      "outputs": []
    },
    {
      "cell_type": "code",
      "metadata": {
        "colab": {
          "base_uri": "https://localhost:8080/"
        },
        "id": "JzMdl2du-0Oy",
        "outputId": "9b62199d-a202-4290-9c88-80ab73493b74"
      },
      "source": [
        "print('a' in letters and 2 in numbers)"
      ],
      "execution_count": 27,
      "outputs": [
        {
          "output_type": "stream",
          "name": "stdout",
          "text": [
            "True\n"
          ]
        }
      ]
    },
    {
      "cell_type": "code",
      "metadata": {
        "colab": {
          "base_uri": "https://localhost:8080/"
        },
        "id": "1JuCLdzY-0Oz",
        "outputId": "aef44ccd-ee15-4d6d-d4fe-b8013901ebdf"
      },
      "source": [
        "print(\"z\" in letters and 3 in numbers)"
      ],
      "execution_count": 28,
      "outputs": [
        {
          "output_type": "stream",
          "name": "stdout",
          "text": [
            "False\n"
          ]
        }
      ]
    },
    {
      "cell_type": "code",
      "metadata": {
        "colab": {
          "base_uri": "https://localhost:8080/"
        },
        "id": "qbyNy-Vd-0Oz",
        "outputId": "96f7d8d5-de82-4374-9a05-3b9eae71c849"
      },
      "source": [
        "print(\"f\" in letters and 0 in numbers)"
      ],
      "execution_count": 29,
      "outputs": [
        {
          "output_type": "stream",
          "name": "stdout",
          "text": [
            "False\n"
          ]
        }
      ]
    },
    {
      "cell_type": "markdown",
      "metadata": {
        "id": "C6sz1UK1-0Oz"
      },
      "source": [
        "Here are some examples of **`or`**:"
      ]
    },
    {
      "cell_type": "code",
      "metadata": {
        "id": "-1NM4mTB-0Oz"
      },
      "source": [
        "letters = ['a','b','c','d']\n",
        "numbers = [1,2,3,4,5]"
      ],
      "execution_count": 30,
      "outputs": []
    },
    {
      "cell_type": "code",
      "metadata": {
        "colab": {
          "base_uri": "https://localhost:8080/"
        },
        "id": "pOEQ4c1l-0Oz",
        "outputId": "f74df172-47dc-4d7c-e0b3-d881c954aaae"
      },
      "source": [
        "print('f' in letters or 2 in numbers)"
      ],
      "execution_count": 31,
      "outputs": [
        {
          "output_type": "stream",
          "name": "stdout",
          "text": [
            "True\n"
          ]
        }
      ]
    },
    {
      "cell_type": "code",
      "metadata": {
        "colab": {
          "base_uri": "https://localhost:8080/"
        },
        "id": "oZhrWikY-0Oz",
        "outputId": "94f43972-3f21-467f-8666-ed80baf466ed"
      },
      "source": [
        "print('a' in letters or 2 in numbers)"
      ],
      "execution_count": 32,
      "outputs": [
        {
          "output_type": "stream",
          "name": "stdout",
          "text": [
            "True\n"
          ]
        }
      ]
    },
    {
      "cell_type": "code",
      "metadata": {
        "colab": {
          "base_uri": "https://localhost:8080/"
        },
        "id": "Bb162D_J-0Oz",
        "outputId": "36c4e2a9-bfb5-4c27-a1c6-a1d65bc72666"
      },
      "source": [
        "print('f' in letters or 10 in numbers)"
      ],
      "execution_count": 33,
      "outputs": [
        {
          "output_type": "stream",
          "name": "stdout",
          "text": [
            "False\n"
          ]
        }
      ]
    },
    {
      "cell_type": "markdown",
      "metadata": {
        "id": "oYRMqPjF-0Oz"
      },
      "source": [
        "Here are some example of **`not`**:"
      ]
    },
    {
      "cell_type": "code",
      "metadata": {
        "id": "uOCWWidP-0O0"
      },
      "source": [
        "a_string = \"hello\"\n",
        "letters = ['a','b','c','d']\n",
        "numbers = [1,2,3,4,5]"
      ],
      "execution_count": 34,
      "outputs": []
    },
    {
      "cell_type": "code",
      "metadata": {
        "colab": {
          "base_uri": "https://localhost:8080/"
        },
        "id": "CJ9MHqza-0O0",
        "outputId": "7cb9c635-3d61-4ef0-f833-28a1e82b854b"
      },
      "source": [
        "print(not a_string.endswith(\"o\"))"
      ],
      "execution_count": 35,
      "outputs": [
        {
          "output_type": "stream",
          "name": "stdout",
          "text": [
            "False\n"
          ]
        }
      ]
    },
    {
      "cell_type": "code",
      "metadata": {
        "colab": {
          "base_uri": "https://localhost:8080/"
        },
        "id": "XgFIOdxL-0O0",
        "outputId": "0e16ffbc-f491-4623-dad0-f4ded6b643f7"
      },
      "source": [
        "print(not a_string.startswith(\"o\"))"
      ],
      "execution_count": 36,
      "outputs": [
        {
          "output_type": "stream",
          "name": "stdout",
          "text": [
            "True\n"
          ]
        }
      ]
    },
    {
      "cell_type": "code",
      "metadata": {
        "colab": {
          "base_uri": "https://localhost:8080/"
        },
        "id": "DRo4PRxp-0O0",
        "outputId": "1ee59529-e6d3-4cb1-b091-24788a737890"
      },
      "source": [
        "print(not 'x' in letters)"
      ],
      "execution_count": 37,
      "outputs": [
        {
          "output_type": "stream",
          "name": "stdout",
          "text": [
            "True\n"
          ]
        }
      ]
    },
    {
      "cell_type": "code",
      "metadata": {
        "colab": {
          "base_uri": "https://localhost:8080/"
        },
        "id": "RllsIT-j-0O0",
        "outputId": "f6f1a9dd-141f-4113-dd71-4a798ecabcbc"
      },
      "source": [
        "print(not 4 == 4)"
      ],
      "execution_count": 38,
      "outputs": [
        {
          "output_type": "stream",
          "name": "stdout",
          "text": [
            "False\n"
          ]
        }
      ]
    },
    {
      "cell_type": "code",
      "metadata": {
        "colab": {
          "base_uri": "https://localhost:8080/"
        },
        "id": "giymHzqb-0O0",
        "outputId": "fce15754-8c69-4e72-f2c2-175e4a763ed7"
      },
      "source": [
        "print(not (4 == 4 and \"4\" == 4))"
      ],
      "execution_count": 39,
      "outputs": [
        {
          "output_type": "stream",
          "name": "stdout",
          "text": [
            "True\n"
          ]
        }
      ]
    },
    {
      "cell_type": "markdown",
      "metadata": {
        "id": "cW1ZYpJN-0O0"
      },
      "source": [
        "Note that for some of these, there are alternative ways of writing them. For example, `'x not in y'` and `'not x in y'` are identical, and so are `'not x == y'` and `'x != y'`. For now, it does not really matter which one you use. If you want to read more about it, have a look [here](https://stackoverflow.com/questions/8738388/order-of-syntax-for-using-not-and-in-keywords) and [here](https://stackoverflow.com/questions/31026754/python-if-not-vs-if/31026976)."
      ]
    },
    {
      "cell_type": "code",
      "metadata": {
        "colab": {
          "base_uri": "https://localhost:8080/"
        },
        "id": "2JaOnLyz-0O0",
        "outputId": "6c1f11f2-a266-4935-e6f8-06da02e975f7"
      },
      "source": [
        "print(not 'x' in letters)\n",
        "print('x' not in letters)"
      ],
      "execution_count": 40,
      "outputs": [
        {
          "output_type": "stream",
          "name": "stdout",
          "text": [
            "True\n",
            "True\n"
          ]
        }
      ]
    },
    {
      "cell_type": "code",
      "metadata": {
        "colab": {
          "base_uri": "https://localhost:8080/"
        },
        "id": "zdPr1NT_-0O0",
        "outputId": "49b16806-d404-457c-b50c-b3ba62b905ec"
      },
      "source": [
        "print(not 4 == 4)\n",
        "print(4 != 4)"
      ],
      "execution_count": 41,
      "outputs": [
        {
          "output_type": "stream",
          "name": "stdout",
          "text": [
            "False\n",
            "False\n"
          ]
        }
      ]
    },
    {
      "cell_type": "markdown",
      "metadata": {
        "id": "ReeJWcfp-0O0"
      },
      "source": [
        "### 1.4 EXTRA: `all()` and `any()`\n",
        "Take a look at the following example. Do you think it is clear?"
      ]
    },
    {
      "cell_type": "code",
      "metadata": {
        "colab": {
          "base_uri": "https://localhost:8080/"
        },
        "id": "VYVVw-aw-0O1",
        "outputId": "b3321a6e-b53c-4b52-fa96-3367b463d5fd"
      },
      "source": [
        "print(\"test\" != \"testing\" and 1 == 1 and 2 == 2 or 20 in [1, 20, 3, 4,5])"
      ],
      "execution_count": 42,
      "outputs": [
        {
          "output_type": "stream",
          "name": "stdout",
          "text": [
            "True\n"
          ]
        }
      ]
    },
    {
      "cell_type": "markdown",
      "metadata": {
        "id": "Y_guI7-L-0O1"
      },
      "source": [
        "Not really, right? Luckily, Python has another trick to deal with this type of examples: [**`all` and `any`**]((https://docs.python.org/3/library/functions.html#all). Given a list of boolean expressions, this is how they work:\n",
        "\n",
        "| operation | function |\n",
        "|-----------|--------|\n",
        "| `all` | True if all boolean expressions are True, otherwise False |\t\n",
        "| `any` | True if at least one boolean expression is True, otherwise False |\n",
        "\n",
        "If you don't completely understand `all()` and `any()`, don't worry, you will not necessarily need them right now. They are just a nice alternative to make your code more readable and you may appreciate that in the future."
      ]
    },
    {
      "cell_type": "markdown",
      "metadata": {
        "id": "GcRomzNY-0O1"
      },
      "source": [
        "Here are some examples of **`all()`**:"
      ]
    },
    {
      "cell_type": "code",
      "metadata": {
        "id": "DO77AeSx-0O1"
      },
      "source": [
        "letters = ['a','b','c','d']\n",
        "numbers = [1,2,3,4,5]"
      ],
      "execution_count": 43,
      "outputs": []
    },
    {
      "cell_type": "code",
      "metadata": {
        "colab": {
          "base_uri": "https://localhost:8080/"
        },
        "id": "VQ6_Gy-Z-0O1",
        "outputId": "811dbffa-4907-4c6e-9710-d40cd9ea2b66"
      },
      "source": [
        "list_bools1 = ['a' in letters, \n",
        "                2 in numbers]\n",
        "print(list_bools1)\n",
        "boolean_expression1 = all(list_bools1)\n",
        "print(boolean_expression1)"
      ],
      "execution_count": 44,
      "outputs": [
        {
          "output_type": "stream",
          "name": "stdout",
          "text": [
            "[True, True]\n",
            "True\n"
          ]
        }
      ]
    },
    {
      "cell_type": "code",
      "metadata": {
        "colab": {
          "base_uri": "https://localhost:8080/"
        },
        "id": "Gp7zKbaH-0O1",
        "outputId": "2bd61b68-fe1d-4581-9542-4ba054b7f89d"
      },
      "source": [
        "list_bools2 = ['a' in letters, \n",
        "                20 in numbers]\n",
        "print(list_bools2)\n",
        "boolean_expression2 = all(list_bools2)\n",
        "print(boolean_expression2)"
      ],
      "execution_count": 45,
      "outputs": [
        {
          "output_type": "stream",
          "name": "stdout",
          "text": [
            "[True, False]\n",
            "False\n"
          ]
        }
      ]
    },
    {
      "cell_type": "markdown",
      "metadata": {
        "id": "0OMcGKKw-0O1"
      },
      "source": [
        "Here are some examples of **`any()`**:"
      ]
    },
    {
      "cell_type": "code",
      "metadata": {
        "colab": {
          "base_uri": "https://localhost:8080/"
        },
        "id": "mfDUhZa5-0O1",
        "outputId": "6b740073-236a-4a98-afff-5185f6a14a2f"
      },
      "source": [
        "list_bools3 = ['f' in letters, \n",
        "                200 in numbers]\n",
        "print(list_bools3)\n",
        "boolean_expression3 = any(list_bools3)\n",
        "print(boolean_expression3)"
      ],
      "execution_count": 46,
      "outputs": [
        {
          "output_type": "stream",
          "name": "stdout",
          "text": [
            "[False, False]\n",
            "False\n"
          ]
        }
      ]
    },
    {
      "cell_type": "code",
      "metadata": {
        "colab": {
          "base_uri": "https://localhost:8080/"
        },
        "id": "4fQo0jG1-0O2",
        "outputId": "377a92e1-87e2-4a2e-f542-a4a3064ac389"
      },
      "source": [
        "list_bools4 = ['a' in letters, \n",
        "               20 in numbers,\n",
        "               2 in numbers]\n",
        "print(list_bools4)\n",
        "boolean_expression4 =  any(list_bools4)\n",
        "print(boolean_expression4)"
      ],
      "execution_count": 47,
      "outputs": [
        {
          "output_type": "stream",
          "name": "stdout",
          "text": [
            "[True, False, True]\n",
            "True\n"
          ]
        }
      ]
    },
    {
      "cell_type": "markdown",
      "metadata": {
        "id": "sZoCk4LA-0O2"
      },
      "source": [
        "## 2. Conditions: `if` statements\n",
        "You might wonder why we took quite some time explaining boolean expresisons. One of the reasons is that they are the main element in probably one of the most used things in Python: **`if` statements**. The following picture explains what happens in an `if` statement in Python.\n",
        "![if_else](images/if_else_statement.jpg)"
      ]
    },
    {
      "cell_type": "markdown",
      "metadata": {
        "id": "BQ58AqWr-0O2"
      },
      "source": [
        "Let's look at an example (modify the value of *number* to understand what is happening here):"
      ]
    },
    {
      "cell_type": "code",
      "metadata": {
        "colab": {
          "base_uri": "https://localhost:8080/"
        },
        "id": "bBpC6ESN-0O2",
        "outputId": "36115fa8-5006-4120-dd12-efbff72ea2ec"
      },
      "source": [
        "number = 2 # try changing this value to 6\n",
        "if number <= 5:\n",
        "    print(number)"
      ],
      "execution_count": 48,
      "outputs": [
        {
          "output_type": "stream",
          "name": "stdout",
          "text": [
            "2\n"
          ]
        }
      ]
    },
    {
      "cell_type": "markdown",
      "metadata": {
        "id": "X8y4lA0N-0O2"
      },
      "source": [
        "You can use as many `if` statements as you like:"
      ]
    },
    {
      "cell_type": "code",
      "metadata": {
        "colab": {
          "base_uri": "https://localhost:8080/"
        },
        "id": "M41kJ34_-0O2",
        "outputId": "9defe08c-9f78-4585-b5bd-65f762b0e9db"
      },
      "source": [
        "number = 5\n",
        "if number == 5: \n",
        "    print(\"number equals 5\")\n",
        "if number > 4: \n",
        "    print(\"number is greater than 4\")\n",
        "if number >= 5:\n",
        "    print(\"number is greater than or equals 5\")\n",
        "if number < 6: \n",
        "    print(\"number is less than 6\") \n",
        "if number <= 5:\n",
        "    print(\"number is less than or equals 5\")\n",
        "if number != 6 :\n",
        "    print(\"number does not equal 6\")"
      ],
      "execution_count": 49,
      "outputs": [
        {
          "output_type": "stream",
          "name": "stdout",
          "text": [
            "number equals 5\n",
            "number is greater than 4\n",
            "number is greater than or equals 5\n",
            "number is less than 6\n",
            "number is less than or equals 5\n",
            "number does not equal 6\n"
          ]
        }
      ]
    },
    {
      "cell_type": "markdown",
      "metadata": {
        "id": "X3UGg8FZ-0O2"
      },
      "source": [
        "### 2.1 Two-way decisions\n",
        "\n",
        "But what if we want to have options for two different scenarios? We could just use a bunch of `if` statements. However, Python has a more efficient way. Apart from `if` we also have the **`else` statement** for two-way decisions (modify the value of `number` to understand what is happening here):"
      ]
    },
    {
      "cell_type": "code",
      "metadata": {
        "colab": {
          "base_uri": "https://localhost:8080/"
        },
        "id": "iCy8siYY-0O2",
        "outputId": "fee3f5a0-6b53-4f5a-aaa7-7770cdda8ccf"
      },
      "source": [
        "number = 10 # try changing this value to 2\n",
        "if number <= 5:\n",
        "    print(number)\n",
        "else:\n",
        "    print('number is higher than 5')"
      ],
      "execution_count": 50,
      "outputs": [
        {
          "output_type": "stream",
          "name": "stdout",
          "text": [
            "number is higher than 5\n"
          ]
        }
      ]
    },
    {
      "cell_type": "markdown",
      "metadata": {
        "id": "ft7ZTII4-0O2"
      },
      "source": [
        "Now Python always runs one of the two pieces of code. It's like arriving at a fork in the road and choosing one path to follow."
      ]
    },
    {
      "cell_type": "markdown",
      "metadata": {
        "id": "tguWjwfq-0O3"
      },
      "source": [
        "### 2.2 Multi-way decisions\n",
        "\n",
        "But of course we don't have to stop there. If you have multiple options, you can use the **`elif` statement**. For every `if` block, you can have one `if` statement, multiple `elif` statements and one `else` statement. So now we know the entire **`if-elif-else` construct**:\n",
        "\n",
        "![if_elif_else](images/if_elif_else.png)"
      ]
    },
    {
      "cell_type": "code",
      "metadata": {
        "colab": {
          "base_uri": "https://localhost:8080/"
        },
        "id": "hhNNcfaE-0O3",
        "outputId": "0a520b51-88a3-40f0-98c4-6574e47992bb"
      },
      "source": [
        "age = 21\n",
        "if age < 12:\n",
        "    print(\"You're still a child!\")\n",
        "elif age < 18:\n",
        "    print(\"You are a teenager!\")\n",
        "elif age < 30:\n",
        "    print(\"You're pretty young!\")\n",
        "else:\n",
        "    print(\"Wow, you're old!\")"
      ],
      "execution_count": 51,
      "outputs": [
        {
          "output_type": "stream",
          "name": "stdout",
          "text": [
            "You're pretty young!\n"
          ]
        }
      ]
    },
    {
      "cell_type": "markdown",
      "metadata": {
        "id": "UAHtZMkw-0O3"
      },
      "source": [
        "First the `if` statement will be evaluated. Only if that statement turns out to be `False` the computer will proceed to evaluate the `elif` statement. If the `elif` statements in turn would prove to be `False`, the machine will proceed and execute the lines of code associated with the `else` statement. You can think of this coding structure as a decision tree! Remember: if somewhere along the tree, your machine comes across a logical expression which is `True`, it won't bother anymore to evaluate the remaining options! Note that the statements are evaluated in order of occurence."
      ]
    },
    {
      "cell_type": "markdown",
      "metadata": {
        "id": "lqlYbUlo-0O3"
      },
      "source": [
        "Can you identify the difference between the code above and the code below? (Try changing `age`)"
      ]
    },
    {
      "cell_type": "code",
      "metadata": {
        "colab": {
          "base_uri": "https://localhost:8080/"
        },
        "id": "gmY5Wxcz-0O3",
        "outputId": "1df5abca-ec7b-4d58-d15c-a7e23c54d309"
      },
      "source": [
        "age = 21\n",
        "if age < 12:\n",
        "    print(\"You're still a child!\")\n",
        "if age < 18:\n",
        "    print(\"You are a teenager!\")\n",
        "if age < 30:\n",
        "    print(\"You're pretty young!\")\n",
        "else:\n",
        "    print(\"Wow, you're old!\")"
      ],
      "execution_count": 52,
      "outputs": [
        {
          "output_type": "stream",
          "name": "stdout",
          "text": [
            "You're pretty young!\n"
          ]
        }
      ]
    },
    {
      "cell_type": "markdown",
      "metadata": {
        "id": "Zsz4Ohb0-0O3"
      },
      "source": [
        "**Remember:** \n",
        "- `if-if`: your code wil check all the `if` statements\n",
        "- `if-elif`: if one condition results to `True`, it will not check the other conditions\n",
        "\n",
        "Unless you *need* to check all conditions, using `if-elif` is usually preferred because it's *more efficient*."
      ]
    },
    {
      "cell_type": "markdown",
      "metadata": {
        "id": "zIilDBbW-0O3"
      },
      "source": [
        "## 3. Indentation\n",
        "\n",
        "Let's take another look at the example from above (we've added line numbers):\n",
        "```python\n",
        "1. if number <= 5:\n",
        "2.     print(number)\n",
        "3. else:\n",
        "4.     print('number is higher than 5')\n",
        "```\n",
        "You might have noticed that line 2 starts with 4 spaces. This is on purpose! The indentation lets Python know when it needs to execute the piece of code. When the boolean expression in line 1 is `True`, Python executes the code from the next line that starts four spaces or one tab (an indent) to the right. This is called **indentation**. All statements with the same distance to the right belong to the same 'block' of code.\n",
        "\n",
        "Unlike other languages, Python does not make use of curly braces to mark the start and end of pieces of code, like `if` statements. The only delimiter is a colon (:) and the indentation of the code. Both four spaces and tabs can be used for indentation. This indentation must be used consistently throughout your code. The most popular way to indent is four spaces (see [stackoverflow](http://stackoverflow.com/questions/120926/why-does-python-pep-8-strongly-recommend-spaces-over-tabs-for-indentation)). For now, you do not have to worry about this, since a tab is automatically converted to four spaces in notebooks.\n",
        "\n",
        "Take a look at the code below. We see that the indented block is not executed, but the unindented lines of code are. Now go ahead and change the value of the `person` variable. The conversation should be a bit longer now! "
      ]
    },
    {
      "cell_type": "code",
      "metadata": {
        "colab": {
          "base_uri": "https://localhost:8080/"
        },
        "id": "0n_SM0hM-0O4",
        "outputId": "c91bbb5d-99f5-4840-9127-39a01a1d56a0"
      },
      "source": [
        "person = \"John\"\n",
        "print(\"hello!\")\n",
        "if person == \"Alice\":\n",
        "    print(\"how are you today?\")                  #this is indented\n",
        "    print(\"do you want to join me for lunch?\")   #this is indented\n",
        "elif person == \"Lisa\":\n",
        "    print(\"let's talk some other time!\")         #this is indented\n",
        "print(\"goodbye!\")"
      ],
      "execution_count": 53,
      "outputs": [
        {
          "output_type": "stream",
          "name": "stdout",
          "text": [
            "hello!\n",
            "goodbye!\n"
          ]
        }
      ]
    },
    {
      "cell_type": "markdown",
      "metadata": {
        "id": "T4wt3u2o-0O4"
      },
      "source": [
        "### 3.1 Nesting\n",
        "\n",
        "We have seen that all statements with the same distance to the right belong to the same block of code, i.e. the statements within a block line up vertically. The block ends at a line less indented or the end of the file. \n",
        "Blocks can contain blocks as welll; this way, we get a nested block structure. The block that has to be more deeply **nested** is simply indented further to the right:\n",
        "\n",
        "![Blocks](images/blocks.png)\n",
        "\n",
        "There may be a situation when you want to check for another condition after a condition resolves to `True`. In such a situation, you can use the nested `if` construct. As you can see if you run the code below, the second `if` statement is only executed if the first `if` statement returns `True`. Try changing the value of x to see what the code does."
      ]
    },
    {
      "cell_type": "code",
      "metadata": {
        "colab": {
          "base_uri": "https://localhost:8080/"
        },
        "id": "QRDT68q5-0O4",
        "outputId": "c5e37915-7a35-4cac-eb40-e5ff428095a6"
      },
      "source": [
        "x = float(input(\"Enter a number: \"))\n",
        "if x >= 0:\n",
        "    if x == 0:\n",
        "        print(\"Zero\")\n",
        "    else:\n",
        "        print(\"Positive number\")\n",
        "else:\n",
        "    print(\"Negative number\")"
      ],
      "execution_count": 55,
      "outputs": [
        {
          "output_type": "stream",
          "name": "stdout",
          "text": [
            "Enter a number: 1\n",
            "Positive number\n"
          ]
        }
      ]
    },
    {
      "cell_type": "markdown",
      "metadata": {
        "id": "jiiQgljs-0O4"
      },
      "source": [
        "## Exercises"
      ]
    },
    {
      "cell_type": "markdown",
      "metadata": {
        "id": "SkIlF9ee-0O4"
      },
      "source": [
        "### Exercise 1: \n",
        "It's important to practice a lot with boolean expressions. Here is a list of them, which orginate from [learnpythonthehardway](http://learnpythonthehardway.org/book/ex28.html). Try to guess the output."
      ]
    },
    {
      "cell_type": "code",
      "metadata": {
        "colab": {
          "base_uri": "https://localhost:8080/"
        },
        "id": "7Gy0Okjo-0O4",
        "outputId": "ebeebc69-95fb-4ed2-ce3e-9068024407b7"
      },
      "source": [
        "print(True and True)"
      ],
      "execution_count": 56,
      "outputs": [
        {
          "output_type": "stream",
          "name": "stdout",
          "text": [
            "True\n"
          ]
        }
      ]
    },
    {
      "cell_type": "code",
      "metadata": {
        "colab": {
          "base_uri": "https://localhost:8080/"
        },
        "id": "ng_NVIQ9-0O4",
        "outputId": "03df8958-b556-442e-ad0b-cf59d6978271"
      },
      "source": [
        "print(False and True)"
      ],
      "execution_count": 57,
      "outputs": [
        {
          "output_type": "stream",
          "name": "stdout",
          "text": [
            "False\n"
          ]
        }
      ]
    },
    {
      "cell_type": "code",
      "metadata": {
        "colab": {
          "base_uri": "https://localhost:8080/"
        },
        "id": "8Hl-maVl-0O4",
        "outputId": "64f2d779-82da-481d-ae55-dae4e403e046"
      },
      "source": [
        "print(1 == 1 and 2 == 1)"
      ],
      "execution_count": 58,
      "outputs": [
        {
          "output_type": "stream",
          "name": "stdout",
          "text": [
            "False\n"
          ]
        }
      ]
    },
    {
      "cell_type": "code",
      "metadata": {
        "colab": {
          "base_uri": "https://localhost:8080/"
        },
        "id": "DFt9RLmC-0O5",
        "outputId": "3839e6d7-9879-4bd3-fc84-816456687690"
      },
      "source": [
        "print(\"test\" == \"test\")"
      ],
      "execution_count": 59,
      "outputs": [
        {
          "output_type": "stream",
          "name": "stdout",
          "text": [
            "True\n"
          ]
        }
      ]
    },
    {
      "cell_type": "code",
      "metadata": {
        "colab": {
          "base_uri": "https://localhost:8080/"
        },
        "id": "jn-9vYHH-0O5",
        "outputId": "2b5d7233-fbab-4b3c-b781-6785ffb5b0f2"
      },
      "source": [
        "print(1 == 1 or 2 != 1)"
      ],
      "execution_count": 60,
      "outputs": [
        {
          "output_type": "stream",
          "name": "stdout",
          "text": [
            "True\n"
          ]
        }
      ]
    },
    {
      "cell_type": "code",
      "metadata": {
        "colab": {
          "base_uri": "https://localhost:8080/"
        },
        "id": "xTEXK259-0O5",
        "outputId": "5e7fefa0-7d44-4a8b-cba8-2a456d9e1b0d"
      },
      "source": [
        "print(True and 1 == 1)"
      ],
      "execution_count": 61,
      "outputs": [
        {
          "output_type": "stream",
          "name": "stdout",
          "text": [
            "True\n"
          ]
        }
      ]
    },
    {
      "cell_type": "code",
      "metadata": {
        "colab": {
          "base_uri": "https://localhost:8080/"
        },
        "id": "Bzl7S7BF-0O5",
        "outputId": "77264c90-9c18-472d-d9af-3ae7f91780f9"
      },
      "source": [
        "print(False and 0 != 0)"
      ],
      "execution_count": 62,
      "outputs": [
        {
          "output_type": "stream",
          "name": "stdout",
          "text": [
            "False\n"
          ]
        }
      ]
    },
    {
      "cell_type": "code",
      "metadata": {
        "colab": {
          "base_uri": "https://localhost:8080/"
        },
        "id": "FAsAuzO--0O5",
        "outputId": "9e26ee8a-bd5e-4bc4-bcbb-9eb02955d383"
      },
      "source": [
        "print(True or 1 == 1)"
      ],
      "execution_count": 63,
      "outputs": [
        {
          "output_type": "stream",
          "name": "stdout",
          "text": [
            "True\n"
          ]
        }
      ]
    },
    {
      "cell_type": "code",
      "metadata": {
        "colab": {
          "base_uri": "https://localhost:8080/"
        },
        "id": "F9XhrGS--0O5",
        "outputId": "56ea115f-335f-4e5e-b168-31ff3216037f"
      },
      "source": [
        "print(\"test\" == \"testing\")"
      ],
      "execution_count": 64,
      "outputs": [
        {
          "output_type": "stream",
          "name": "stdout",
          "text": [
            "False\n"
          ]
        }
      ]
    },
    {
      "cell_type": "code",
      "metadata": {
        "colab": {
          "base_uri": "https://localhost:8080/"
        },
        "id": "9fkm3DcO-0O5",
        "outputId": "3e21ac4b-35c1-4131-a138-1bcc2ecff688"
      },
      "source": [
        "print(1 != 0 and 2 == 1)"
      ],
      "execution_count": 65,
      "outputs": [
        {
          "output_type": "stream",
          "name": "stdout",
          "text": [
            "False\n"
          ]
        }
      ]
    },
    {
      "cell_type": "code",
      "metadata": {
        "colab": {
          "base_uri": "https://localhost:8080/"
        },
        "id": "LqqD9ILv-0O5",
        "outputId": "ec1b96aa-6f6e-4348-b69a-ea7c1865b3d3"
      },
      "source": [
        "print(\"test\" != \"testing\")"
      ],
      "execution_count": 66,
      "outputs": [
        {
          "output_type": "stream",
          "name": "stdout",
          "text": [
            "True\n"
          ]
        }
      ]
    },
    {
      "cell_type": "code",
      "metadata": {
        "colab": {
          "base_uri": "https://localhost:8080/"
        },
        "id": "VE8w0UFe-0O5",
        "outputId": "37814067-f6b4-4daa-d995-faf7a3b2eb3a"
      },
      "source": [
        "print(\"test\" == 1)"
      ],
      "execution_count": 67,
      "outputs": [
        {
          "output_type": "stream",
          "name": "stdout",
          "text": [
            "False\n"
          ]
        }
      ]
    },
    {
      "cell_type": "code",
      "metadata": {
        "colab": {
          "base_uri": "https://localhost:8080/"
        },
        "id": "XzkzM2cW-0O5",
        "outputId": "08f8edff-86fd-45c3-a3a1-316dcadd2c64"
      },
      "source": [
        "print(not (True and False))"
      ],
      "execution_count": 68,
      "outputs": [
        {
          "output_type": "stream",
          "name": "stdout",
          "text": [
            "True\n"
          ]
        }
      ]
    },
    {
      "cell_type": "code",
      "metadata": {
        "colab": {
          "base_uri": "https://localhost:8080/"
        },
        "id": "daGef2L3-0O6",
        "outputId": "1044891b-4b67-49b5-fbea-69ed7b5fb93d"
      },
      "source": [
        "print(not (1 == 1 and 0 != 1))"
      ],
      "execution_count": 69,
      "outputs": [
        {
          "output_type": "stream",
          "name": "stdout",
          "text": [
            "False\n"
          ]
        }
      ]
    },
    {
      "cell_type": "code",
      "metadata": {
        "colab": {
          "base_uri": "https://localhost:8080/"
        },
        "id": "DJG_PX1c-0O6",
        "outputId": "857fb464-e56b-4c0c-890b-b65d8aa51c6b"
      },
      "source": [
        "print(not (10 == 1 or 1000 == 1000))"
      ],
      "execution_count": 70,
      "outputs": [
        {
          "output_type": "stream",
          "name": "stdout",
          "text": [
            "False\n"
          ]
        }
      ]
    },
    {
      "cell_type": "code",
      "metadata": {
        "colab": {
          "base_uri": "https://localhost:8080/"
        },
        "id": "VwvpCjFS-0O6",
        "outputId": "648d519c-d1bd-4b47-94bc-ff8d4017a9e1"
      },
      "source": [
        "print(not (1 != 10 or 3 == 4))"
      ],
      "execution_count": 71,
      "outputs": [
        {
          "output_type": "stream",
          "name": "stdout",
          "text": [
            "False\n"
          ]
        }
      ]
    },
    {
      "cell_type": "code",
      "metadata": {
        "colab": {
          "base_uri": "https://localhost:8080/"
        },
        "id": "QPyzNTpG-0O6",
        "outputId": "ee6cebcd-3708-4249-aaf9-16cd20476400"
      },
      "source": [
        "print(not (\"testing\" == \"testing\" and \"Zed\" == \"Cool Guy\"))"
      ],
      "execution_count": 72,
      "outputs": [
        {
          "output_type": "stream",
          "name": "stdout",
          "text": [
            "True\n"
          ]
        }
      ]
    },
    {
      "cell_type": "code",
      "metadata": {
        "colab": {
          "base_uri": "https://localhost:8080/"
        },
        "id": "9khKb0S--0O6",
        "outputId": "4003ebb5-cfb0-4fd3-c92d-f2c82a200c8c"
      },
      "source": [
        "print(1 == 1 and (not (\"testing\" == 1 or 1 == 0)))"
      ],
      "execution_count": 73,
      "outputs": [
        {
          "output_type": "stream",
          "name": "stdout",
          "text": [
            "True\n"
          ]
        }
      ]
    },
    {
      "cell_type": "code",
      "metadata": {
        "colab": {
          "base_uri": "https://localhost:8080/"
        },
        "id": "geeAl8tC-0O6",
        "outputId": "f3796a25-9ea0-4c3a-ce94-67279e4a7bd3"
      },
      "source": [
        "print(\"chunky\" == \"bacon\" and (not (3 == 4 or 3 == 3)))"
      ],
      "execution_count": 74,
      "outputs": [
        {
          "output_type": "stream",
          "name": "stdout",
          "text": [
            "False\n"
          ]
        }
      ]
    },
    {
      "cell_type": "code",
      "metadata": {
        "colab": {
          "base_uri": "https://localhost:8080/"
        },
        "id": "eLY1SY5r-0O6",
        "outputId": "95c59aa0-f575-434c-ec32-6f27c6c45cec"
      },
      "source": [
        "print(3 == 3 and (not (\"testing\" == \"testing\" or \"Python\" == \"Fun\")))"
      ],
      "execution_count": 75,
      "outputs": [
        {
          "output_type": "stream",
          "name": "stdout",
          "text": [
            "False\n"
          ]
        }
      ]
    },
    {
      "cell_type": "code",
      "metadata": {
        "colab": {
          "base_uri": "https://localhost:8080/"
        },
        "id": "2T_fZIBM-0O6",
        "outputId": "258156e9-d4ef-4e84-c9d3-cce9f5eee2ec"
      },
      "source": [
        "print(\"test\" != \"testing\" and 1 == 1 and 2 == 2 and 20 in [1, 20, 3, 4,5])"
      ],
      "execution_count": 76,
      "outputs": [
        {
          "output_type": "stream",
          "name": "stdout",
          "text": [
            "True\n"
          ]
        }
      ]
    },
    {
      "cell_type": "markdown",
      "metadata": {
        "id": "bLs6FFBH-0O6"
      },
      "source": [
        "### Exercise 2: \n",
        "Write a small program that defines a variable `weight`. If the weight is > 50 pounds, print \"There is a $25 charge for luggage that heavy.\" If it is not, print: \"Thank you for your business.\" If the weight is exactly 50, print: \"Pfiew! The weight is just right!\". Change the value of weight a couple of times to check whether your code works. Make use of the logical operators and the if-elif-else construct!"
      ]
    },
    {
      "cell_type": "code",
      "metadata": {
        "id": "ci3EI2n3-0O6"
      },
      "source": [
        "# insert your code here"
      ],
      "execution_count": 77,
      "outputs": []
    },
    {
      "cell_type": "markdown",
      "metadata": {
        "id": "JmgpPCO9-0O7"
      },
      "source": [
        "### Exercise 3: \n",
        "What's wrong in the following code? Correct the mistake."
      ]
    },
    {
      "cell_type": "code",
      "metadata": {
        "colab": {
          "base_uri": "https://localhost:8080/",
          "height": 130
        },
        "id": "JSNR5v7--0O7",
        "outputId": "5fb01c34-e03d-4076-bf9a-bc6ba8cb95ab"
      },
      "source": [
        "my_string = \"hello\"\n",
        "if my_string == \"hello\":\n",
        "print(\"world\")"
      ],
      "execution_count": 78,
      "outputs": [
        {
          "output_type": "error",
          "ename": "IndentationError",
          "evalue": "ignored",
          "traceback": [
            "\u001b[0;36m  File \u001b[0;32m\"<ipython-input-78-85995c264b2f>\"\u001b[0;36m, line \u001b[0;32m3\u001b[0m\n\u001b[0;31m    print(\"world\")\u001b[0m\n\u001b[0m        ^\u001b[0m\n\u001b[0;31mIndentationError\u001b[0m\u001b[0;31m:\u001b[0m expected an indented block\n"
          ]
        }
      ]
    },
    {
      "cell_type": "markdown",
      "metadata": {
        "id": "0iwxQnOl-0O7"
      },
      "source": [
        "Why is the last line in the following code red? Correct the mistake."
      ]
    },
    {
      "cell_type": "code",
      "metadata": {
        "colab": {
          "base_uri": "https://localhost:8080/"
        },
        "id": "awRzSV0_-0O7",
        "outputId": "362c513d-f5c1-4b53-b521-73f9b7a9cbcd"
      },
      "source": [
        "my_string = \"hello\"\n",
        "if my_string == \"hello\":\n",
        "  print(\"world\")"
      ],
      "execution_count": 79,
      "outputs": [
        {
          "output_type": "stream",
          "name": "stdout",
          "text": [
            "world\n"
          ]
        }
      ]
    },
    {
      "cell_type": "markdown",
      "metadata": {
        "id": "ADy8v-7N-0O7"
      },
      "source": [
        "What's wrong in the following code? Correct the mistake."
      ]
    },
    {
      "cell_type": "code",
      "metadata": {
        "colab": {
          "base_uri": "https://localhost:8080/",
          "height": 130
        },
        "id": "eWGV9orF-0O7",
        "outputId": "50fb207e-4fb5-42ec-bedc-336813b26c1d"
      },
      "source": [
        "my_string = \"hello\"\n",
        "if my_string == \"hello\"\n",
        "    print(\"world\")"
      ],
      "execution_count": 80,
      "outputs": [
        {
          "output_type": "error",
          "ename": "SyntaxError",
          "evalue": "ignored",
          "traceback": [
            "\u001b[0;36m  File \u001b[0;32m\"<ipython-input-80-1525ca2de3b3>\"\u001b[0;36m, line \u001b[0;32m2\u001b[0m\n\u001b[0;31m    if my_string == \"hello\"\u001b[0m\n\u001b[0m                           ^\u001b[0m\n\u001b[0;31mSyntaxError\u001b[0m\u001b[0;31m:\u001b[0m invalid syntax\n"
          ]
        }
      ]
    },
    {
      "cell_type": "markdown",
      "metadata": {
        "id": "tcuaaqaP-0O7"
      },
      "source": [
        "What's wrong in the following code? Correct the mistake."
      ]
    },
    {
      "cell_type": "code",
      "metadata": {
        "colab": {
          "base_uri": "https://localhost:8080/",
          "height": 130
        },
        "id": "Mj-TpNuf-0O7",
        "outputId": "285a7852-12e4-4e54-b24d-fb5b54c6cc33"
      },
      "source": [
        "my_string = \"hello\"\n",
        "if my_string = \"hello\":\n",
        "    print(\"world\")"
      ],
      "execution_count": 81,
      "outputs": [
        {
          "output_type": "error",
          "ename": "SyntaxError",
          "evalue": "ignored",
          "traceback": [
            "\u001b[0;36m  File \u001b[0;32m\"<ipython-input-81-02926d3f6c77>\"\u001b[0;36m, line \u001b[0;32m2\u001b[0m\n\u001b[0;31m    if my_string = \"hello\":\u001b[0m\n\u001b[0m                 ^\u001b[0m\n\u001b[0;31mSyntaxError\u001b[0m\u001b[0;31m:\u001b[0m invalid syntax\n"
          ]
        }
      ]
    },
    {
      "cell_type": "markdown",
      "metadata": {
        "id": "eq5o7FDY-0O7"
      },
      "source": [
        "### Exercise 4: \n",
        "Can you rewrite the code below without nesting? Hint: use the `if-elif-else` construct."
      ]
    },
    {
      "cell_type": "code",
      "metadata": {
        "colab": {
          "base_uri": "https://localhost:8080/"
        },
        "id": "k0Wzv8pA-0O8",
        "outputId": "9ef5174c-696e-44b0-9baf-e1d6bce21beb"
      },
      "source": [
        "x = float(input(\"Enter a number: \"))\n",
        "if x >= 0:\n",
        "    if x == 0:\n",
        "        print(\"Zero\")\n",
        "    else:\n",
        "        print(\"Positive number\")\n",
        "else:\n",
        "    print(\"Negative number\")"
      ],
      "execution_count": 83,
      "outputs": [
        {
          "output_type": "stream",
          "name": "stdout",
          "text": [
            "Enter a number: -1\n",
            "Negative number\n"
          ]
        }
      ]
    },
    {
      "cell_type": "markdown",
      "metadata": {
        "id": "C3QRXri8-0O8"
      },
      "source": [
        "### Exercise 5: \n",
        "A friend wants your advice on how much oranges he should buy. Write a program that will give the advice to buy 24 oranges if the price is lower than 1.50 EUR per kg, 12 oranges if the price is between 1.50 EUR and 3 EUR, and only 1 orange if the price is higher than 3 EUR. But also tell him that he should only buy them if the oranges are fresh; otherwise, he should not get any. Use nesting and the if-elif-else construct."
      ]
    },
    {
      "cell_type": "code",
      "metadata": {
        "id": "TidlOsQ6-0O8"
      },
      "source": [
        "orange_quality = \"fresh\"\n",
        "orange_price = 1.75\n",
        "# your code here"
      ],
      "execution_count": 84,
      "outputs": []
    },
    {
      "cell_type": "code",
      "metadata": {
        "id": "8fE-hSVd_Gs9"
      },
      "source": [
        ""
      ],
      "execution_count": 84,
      "outputs": []
    }
  ]
}