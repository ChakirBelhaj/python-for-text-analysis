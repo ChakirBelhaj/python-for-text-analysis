{
  "nbformat": 4,
  "nbformat_minor": 0,
  "metadata": {
    "kernelspec": {
      "display_name": "Python 3",
      "language": "python",
      "name": "python3"
    },
    "language_info": {
      "codemirror_mode": {
        "name": "ipython",
        "version": 3
      },
      "file_extension": ".py",
      "mimetype": "text/x-python",
      "name": "python",
      "nbconvert_exporter": "python",
      "pygments_lexer": "ipython3",
      "version": "3.8.3"
    },
    "colab": {
      "name": "Chapter 13 - Working with Python files.ipynb",
      "provenance": [],
      "include_colab_link": true
    }
  },
  "cells": [
    {
      "cell_type": "markdown",
      "metadata": {
        "id": "view-in-github",
        "colab_type": "text"
      },
      "source": [
        "<a href=\"https://colab.research.google.com/github/cltl/python-for-text-analysis/blob/colab/Chapters-colab/Chapter_13_Working_with_Python_files.ipynb\" target=\"_parent\"><img src=\"https://colab.research.google.com/assets/colab-badge.svg\" alt=\"Open In Colab\"/></a>"
      ]
    },
    {
      "cell_type": "code",
      "metadata": {
        "id": "vIy4uPvpCSeF"
      },
      "source": [
        "%%capture\n",
        "!wget https://github.com/cltl/python-for-text-analysis/raw/master/zips/Data.zip\n",
        "!wget https://github.com/cltl/python-for-text-analysis/raw/master/zips/images.zip\n",
        "!wget https://github.com/cltl/python-for-text-analysis/raw/master/zips/Extra_Material.zip\n",
        "\n",
        "!unzip Data.zip -d ../\n",
        "!unzip images.zip -d ./\n",
        "!unzip Extra_Material.zip -d ../\n",
        "\n",
        "!rm Data.zip\n",
        "!rm Extra_Material.zip\n",
        "!rm images.zip"
      ],
      "execution_count": 1,
      "outputs": []
    },
    {
      "cell_type": "markdown",
      "metadata": {
        "id": "_hn7hdscCQaH"
      },
      "source": [
        "# Chapter 13 - Working with Python files"
      ]
    },
    {
      "cell_type": "markdown",
      "metadata": {
        "id": "_nfE4lJRCQaM"
      },
      "source": [
        "In the previous blocks, we've mainly used notebooks to develop and run our Python code. In this chapter, we'll introduce how to create Python modules (.py files) and how to run them. The most common way to work with Python is actually to use .py files, which is why it is important that you know how to work with them. You can see python files as one cell in a notebook without any markdown."
      ]
    },
    {
      "cell_type": "markdown",
      "metadata": {
        "id": "C047pV0VCQaM"
      },
      "source": [
        "Before we write actual code in a .py file, we will explain the basics you need to know for doing this:\n",
        "\n",
        "* Choosing an editor\n",
        "* starting the terminal (from which you will run your .py files)\n",
        "\n",
        "**At the end of this chapter, you will be able to**\n",
        "* create python modules, i.e., .py files\n",
        "* run python modules from the command line\n",
        "\n",
        "If you have **questions** about this chapter, please contact us **(cltl.python.course@gmail.com)**."
      ]
    },
    {
      "cell_type": "markdown",
      "metadata": {
        "id": "F7pdB2tfCQaN"
      },
      "source": [
        "# 1. Editor"
      ]
    },
    {
      "cell_type": "markdown",
      "metadata": {
        "id": "vf-J5RNnCQaN"
      },
      "source": [
        "We first need to choose which editor we will use to develop our Python code. \n",
        "\n",
        "There are two options.\n",
        "\n",
        "1. You create the python modules in your browser. After opening Jupyter notebook, you can click `File` -> `New` and then `Text file` to start developing Python modules.\n",
        "\n",
        "2. You install an editor.\n",
        "Please take a look [here](https://wiki.python.org/moin/PythonEditors) to get an impression of which ones are out there.\n",
        "We can highly recommend [Atom](https://atom.io/) (for macOS, Windows, Linux). Other options are [BBEdit](https://www.barebones.com/products/bbedit/download.html) (for macOS) and [Notepad++](https://notepad-plus-plus.org/) (for Windows). A simple way to create a new .py file usually is to open a new file and save it as name_of_your_program.py (make sure to use indicative names). \n",
        "\n",
        "Please choose between options 1 and 2."
      ]
    },
    {
      "cell_type": "markdown",
      "metadata": {
        "id": "NHNo1tELCQaN"
      },
      "source": [
        "# 2. Starting the terminal"
      ]
    },
    {
      "cell_type": "markdown",
      "metadata": {
        "id": "BHhzSxoqCQaO"
      },
      "source": [
        "To run a .py file we wrote in an editor, we need to start the terminal. This works differently for windows and Mac:\n",
        "\n",
        "1. On Windows, please look at [Anaconda Prompt](https://docs.conda.io/projects/conda/en/latest/user-guide/getting-started.html)\n",
        "2. on OS X/macOS (Mac computer), please type **terminal** in [Spotlight](https://support.apple.com/nl-nl/HT204014) and start the terminal\n",
        "\n",
        "It's a useful skill to know how to navigate through your computer (i.e., go from one directory to another, all the files and subdirectories in a directory, etc.) using the terminal. \n",
        "\n",
        "For Windows users, [this](https://www.computerhope.com/issues/chusedos.htm) is a good tutorial.\n",
        "\n",
        "For OS X/macOS/Linux/Ubuntu users, [this](https://www.digitalocean.com/community/tutorials/basic-linux-navigation-and-file-management) is a good tutorial."
      ]
    },
    {
      "cell_type": "markdown",
      "metadata": {
        "id": "WmIZK8MECQaO"
      },
      "source": [
        "# 3. Running your first program \n",
        "\n",
        "Here, we'll show you how to run your first program (hello_world.py).\n",
        "\n",
        "In the same folder as this notebook, you will find a file called **hello_world.py**.\n",
        "\n",
        "Running it works differently on Windows and Mac. Below, instructions for both can be found:"
      ]
    },
    {
      "cell_type": "markdown",
      "metadata": {
        "id": "sB43O_2FCQaP"
      },
      "source": [
        "## A.) Running the program on OS X/MacOS"
      ]
    },
    {
      "cell_type": "markdown",
      "metadata": {
        "id": "GR_0Q9ckCQaQ"
      },
      "source": [
        "Please use the terminal to navigate to the folder in which this notebook is placed by copying the **output** of following cell in your terminal"
      ]
    },
    {
      "cell_type": "code",
      "metadata": {
        "colab": {
          "base_uri": "https://localhost:8080/"
        },
        "id": "JrwVMPmiCQaQ",
        "outputId": "17ca2194-0645-4556-bf44-3d1695715491"
      },
      "source": [
        "import os\n",
        "cwd = os.getcwd()\n",
        "cwd_escaped_spaces = cwd.replace(' ', '\\ ')\n",
        "print('cd', cwd_escaped_spaces)"
      ],
      "execution_count": 2,
      "outputs": [
        {
          "output_type": "stream",
          "name": "stdout",
          "text": [
            "cd /content\n"
          ]
        }
      ]
    },
    {
      "cell_type": "markdown",
      "metadata": {
        "id": "ZnwjD6I7CQaS"
      },
      "source": [
        "`cd` means 'change directory'. Here, you are using it to go to the directory we are currently working in. We use the os module to print the path to this directory (`os.getcwd`).  \n",
        "\n",
        "Please run the following command in the terminal:\n",
        "\n",
        "**python hello_world.py**"
      ]
    },
    {
      "cell_type": "markdown",
      "metadata": {
        "id": "7s8yus5UCQaS"
      },
      "source": [
        "You've succesfully run your first Python program!"
      ]
    },
    {
      "cell_type": "markdown",
      "metadata": {
        "id": "Ga_euUO0CQaS"
      },
      "source": [
        "## B.) Running the program on Windows\n"
      ]
    },
    {
      "cell_type": "markdown",
      "metadata": {
        "id": "GYEzJGDpCQaS"
      },
      "source": [
        "Please use the terminal to navigate to the folder in which this notebook is placed by copying the **output** of the following cell in your terminal"
      ]
    },
    {
      "cell_type": "code",
      "metadata": {
        "colab": {
          "base_uri": "https://localhost:8080/"
        },
        "id": "2xOxowMqCQaT",
        "outputId": "b72984ee-94e0-4a75-a245-c2c52ccf9192"
      },
      "source": [
        "cwd = os.getcwd()\n",
        "cwd_escaped_spaces = cwd.replace(' ', '^ ')\n",
        "print('cd', cwd_escaped_spaces)"
      ],
      "execution_count": 3,
      "outputs": [
        {
          "output_type": "stream",
          "name": "stdout",
          "text": [
            "cd /content\n"
          ]
        }
      ]
    },
    {
      "cell_type": "markdown",
      "metadata": {
        "id": "kta8xNsdCQaT"
      },
      "source": [
        "Please run the **output** of the following command in the terminal:"
      ]
    },
    {
      "cell_type": "code",
      "metadata": {
        "colab": {
          "base_uri": "https://localhost:8080/"
        },
        "id": "romN9g0yCQaT",
        "outputId": "16020606-eb3c-410a-e0b8-e55372b72c4c"
      },
      "source": [
        "import sys\n",
        "print(sys.executable + ' hello_world.py')"
      ],
      "execution_count": 4,
      "outputs": [
        {
          "output_type": "stream",
          "name": "stdout",
          "text": [
            "/usr/bin/python3 hello_world.py\n"
          ]
        }
      ]
    },
    {
      "cell_type": "markdown",
      "metadata": {
        "id": "3XxRsX8-CQaT"
      },
      "source": [
        "You've succesfully run your first Python program!"
      ]
    },
    {
      "cell_type": "markdown",
      "metadata": {
        "id": "1bVnM_PpCQaU"
      },
      "source": [
        "# 4. Import your own functions"
      ]
    },
    {
      "cell_type": "markdown",
      "metadata": {
        "id": "cbTSPUmCCQaU"
      },
      "source": [
        "In Chapter 12, you've been introduced to **importing** modules and functions/methods.\n",
        "You can see any python program that you create (so any .py file) as a module, which means that you can import it into another python program. Let's see how this works.\n",
        "\n",
        "\n",
        "Please note that the following examples only work if all your python files are in the same directory. There are ways of importing python modules from other directories, but we will not discuss them here. "
      ]
    },
    {
      "cell_type": "markdown",
      "metadata": {
        "id": "InGxp8myCQaU"
      },
      "source": [
        "## 4.1 Importing your entire module"
      ]
    },
    {
      "cell_type": "markdown",
      "metadata": {
        "id": "pEYf3b9MCQaU"
      },
      "source": [
        "When importing your own functions from your own modules, several things are important. We have created two example scripts to illustrate them called **the_program.py** and **utils.py**. We recommend to open them to check the following things:\n",
        "\n",
        "* The extension .py is not used when importing modules. **import utils** will import the file **utils.py** [line 1 the_program.py]\n",
        "* We can use any function from the file. We can call the count_words function by typing **utils.count_words** [the_program.py line 6]\n",
        "* We can use any global variable declared in the imported module. E.g. **utils.x** and **utils.python** declared in utils.py can be used in the_program.py "
      ]
    },
    {
      "cell_type": "markdown",
      "metadata": {
        "id": "Lj0iW27wCQaU"
      },
      "source": [
        "## 4.2 Importing functions and variables individually"
      ]
    },
    {
      "cell_type": "markdown",
      "metadata": {
        "id": "pKD8vOU6CQaU"
      },
      "source": [
        "We can import specific functions using the syntax **from MODULE import FUNCTION/VARIABLE**\n",
        "\n",
        "This can be seen in the file **the_program_v2.py** (lines 1-3). (Open the files **the_program_v2.py** and **utils.py** in an editor to check this). "
      ]
    },
    {
      "cell_type": "markdown",
      "metadata": {
        "id": "AN9GYEshCQaV"
      },
      "source": [
        "## 4.3 Importing functions and variables to python notebooks"
      ]
    },
    {
      "cell_type": "markdown",
      "metadata": {
        "id": "Vz3xXvawCQaV"
      },
      "source": [
        "Please note that you can also import functions and variables from a python program while using notebooks. In this case, simply treat the notebook as the python files the_program.py and the_program_v2.py. "
      ]
    },
    {
      "cell_type": "code",
      "metadata": {
        "colab": {
          "base_uri": "https://localhost:8080/",
          "height": 304
        },
        "id": "45-_rvs9CQaV",
        "outputId": "d37a3240-d716-4895-9d33-1a212551de13"
      },
      "source": [
        "from utils import count_words"
      ],
      "execution_count": 5,
      "outputs": [
        {
          "output_type": "error",
          "ename": "ModuleNotFoundError",
          "evalue": "ignored",
          "traceback": [
            "\u001b[0;31m---------------------------------------------------------------------------\u001b[0m",
            "\u001b[0;31mModuleNotFoundError\u001b[0m                       Traceback (most recent call last)",
            "\u001b[0;32m<ipython-input-5-21c531d9f3b8>\u001b[0m in \u001b[0;36m<module>\u001b[0;34m()\u001b[0m\n\u001b[0;32m----> 1\u001b[0;31m \u001b[0;32mfrom\u001b[0m \u001b[0mutils\u001b[0m \u001b[0;32mimport\u001b[0m \u001b[0mcount_words\u001b[0m\u001b[0;34m\u001b[0m\u001b[0;34m\u001b[0m\u001b[0m\n\u001b[0m",
            "\u001b[0;31mModuleNotFoundError\u001b[0m: No module named 'utils'",
            "",
            "\u001b[0;31m---------------------------------------------------------------------------\u001b[0;32m\nNOTE: If your import is failing due to a missing package, you can\nmanually install dependencies using either !pip or !apt.\n\nTo view examples of installing some common dependencies, click the\n\"Open Examples\" button below.\n\u001b[0;31m---------------------------------------------------------------------------\u001b[0m\n"
          ],
          "errorDetails": {
            "actions": [
              {
                "action": "open_url",
                "actionText": "Open Examples",
                "url": "/notebooks/snippets/importing_libraries.ipynb"
              }
            ]
          }
        }
      ]
    },
    {
      "cell_type": "code",
      "metadata": {
        "colab": {
          "base_uri": "https://localhost:8080/",
          "height": 217
        },
        "id": "RZqKpJGmCQaV",
        "outputId": "fee87f1a-2848-4e0a-85df-a2ef6d1a98ac"
      },
      "source": [
        "words = ['how', 'often', 'does', 'each', 'string', 'occur', 'in', 'this', 'list', '?']\n",
        "\n",
        "word2freq = count_words(words)\n",
        "print('word2freq', word2freq)"
      ],
      "execution_count": 6,
      "outputs": [
        {
          "output_type": "error",
          "ename": "NameError",
          "evalue": "ignored",
          "traceback": [
            "\u001b[0;31m---------------------------------------------------------------------------\u001b[0m",
            "\u001b[0;31mNameError\u001b[0m                                 Traceback (most recent call last)",
            "\u001b[0;32m<ipython-input-6-7dc8605ef247>\u001b[0m in \u001b[0;36m<module>\u001b[0;34m()\u001b[0m\n\u001b[1;32m      1\u001b[0m \u001b[0mwords\u001b[0m \u001b[0;34m=\u001b[0m \u001b[0;34m[\u001b[0m\u001b[0;34m'how'\u001b[0m\u001b[0;34m,\u001b[0m \u001b[0;34m'often'\u001b[0m\u001b[0;34m,\u001b[0m \u001b[0;34m'does'\u001b[0m\u001b[0;34m,\u001b[0m \u001b[0;34m'each'\u001b[0m\u001b[0;34m,\u001b[0m \u001b[0;34m'string'\u001b[0m\u001b[0;34m,\u001b[0m \u001b[0;34m'occur'\u001b[0m\u001b[0;34m,\u001b[0m \u001b[0;34m'in'\u001b[0m\u001b[0;34m,\u001b[0m \u001b[0;34m'this'\u001b[0m\u001b[0;34m,\u001b[0m \u001b[0;34m'list'\u001b[0m\u001b[0;34m,\u001b[0m \u001b[0;34m'?'\u001b[0m\u001b[0;34m]\u001b[0m\u001b[0;34m\u001b[0m\u001b[0;34m\u001b[0m\u001b[0m\n\u001b[1;32m      2\u001b[0m \u001b[0;34m\u001b[0m\u001b[0m\n\u001b[0;32m----> 3\u001b[0;31m \u001b[0mword2freq\u001b[0m \u001b[0;34m=\u001b[0m \u001b[0mcount_words\u001b[0m\u001b[0;34m(\u001b[0m\u001b[0mwords\u001b[0m\u001b[0;34m)\u001b[0m\u001b[0;34m\u001b[0m\u001b[0;34m\u001b[0m\u001b[0m\n\u001b[0m\u001b[1;32m      4\u001b[0m \u001b[0mprint\u001b[0m\u001b[0;34m(\u001b[0m\u001b[0;34m'word2freq'\u001b[0m\u001b[0;34m,\u001b[0m \u001b[0mword2freq\u001b[0m\u001b[0;34m)\u001b[0m\u001b[0;34m\u001b[0m\u001b[0;34m\u001b[0m\u001b[0m\n",
            "\u001b[0;31mNameError\u001b[0m: name 'count_words' is not defined"
          ]
        }
      ]
    },
    {
      "cell_type": "markdown",
      "metadata": {
        "id": "XTI-CtSTCQaV"
      },
      "source": [
        "# Exercises"
      ]
    },
    {
      "cell_type": "markdown",
      "metadata": {
        "id": "pCcyN7i0CQaV"
      },
      "source": [
        "**Exercise 1**: \n",
        "\n",
        "Please create and run your own program using an editor and the terminal. Please copy your beersong into your first program. Tip: simply open a new file in the editor and save it as `beersong.py'. \n",
        "\n"
      ]
    },
    {
      "cell_type": "markdown",
      "metadata": {
        "id": "aCHyX-P3CQaV"
      },
      "source": [
        "**Exercise  2**: \n",
        "\n",
        "Please create two files:\n",
        "* **my_second_program.py**\n",
        "* **my_utils.py**\n",
        "\n",
        "Please create a helper function and store it in **my_utils.py**, import it into **my_second_program.py** and call it from there. "
      ]
    },
    {
      "cell_type": "code",
      "metadata": {
        "id": "mJXXn4E3CQaW"
      },
      "source": [
        ""
      ],
      "execution_count": 6,
      "outputs": []
    }
  ]
}