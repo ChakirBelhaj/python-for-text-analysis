{
  "nbformat": 4,
  "nbformat_minor": 0,
  "metadata": {
    "kernelspec": {
      "display_name": "Python 3",
      "language": "python",
      "name": "python3"
    },
    "language_info": {
      "codemirror_mode": {
        "name": "ipython",
        "version": 3
      },
      "file_extension": ".py",
      "mimetype": "text/x-python",
      "name": "python",
      "nbconvert_exporter": "python",
      "pygments_lexer": "ipython3",
      "version": "3.8.3"
    },
    "colab": {
      "name": "Chapter 06 - Lists.ipynb",
      "provenance": [],
      "include_colab_link": true
    }
  },
  "cells": [
    {
      "cell_type": "markdown",
      "metadata": {
        "id": "view-in-github",
        "colab_type": "text"
      },
      "source": [
        "<a href=\"https://colab.research.google.com/github/cltl/python-for-text-analysis/blob/colab/Chapters-colab/Chapter_06_Lists.ipynb\" target=\"_parent\"><img src=\"https://colab.research.google.com/assets/colab-badge.svg\" alt=\"Open In Colab\"/></a>"
      ]
    },
    {
      "cell_type": "code",
      "metadata": {
        "id": "eWoM6vIS_yOf"
      },
      "source": [
        "%%capture\n",
        "!wget https://github.com/cltl/python-for-text-analysis/raw/master/zips/Data.zip\n",
        "!wget https://github.com/cltl/python-for-text-analysis/raw/master/zips/images.zip\n",
        "!wget https://github.com/cltl/python-for-text-analysis/raw/master/zips/Extra_Material.zip\n",
        "\n",
        "!unzip Data.zip -d ../\n",
        "!unzip images.zip -d ./\n",
        "!unzip Extra_Material.zip -d ../\n",
        "\n",
        "!rm Data.zip\n",
        "!rm Extra_Material.zip\n",
        "!rm images.zip"
      ],
      "execution_count": 1,
      "outputs": []
    },
    {
      "cell_type": "markdown",
      "metadata": {
        "id": "PxMslxYk_waR"
      },
      "source": [
        "# Chapter 6 - Lists"
      ]
    },
    {
      "cell_type": "markdown",
      "metadata": {
        "id": "oRP0l_KE_waU"
      },
      "source": [
        "*This notebook uses code snippets and explanations from [this course](https://github.com/kadarakos/python-course/blob/master/Chapter%205%20-%20Lists.ipynb).*"
      ]
    },
    {
      "cell_type": "markdown",
      "metadata": {
        "id": "u5hibt_O_waV"
      },
      "source": [
        "As we have learned before, **strings** and **integers** have one value in them. When we put a new value in them, the old value is overwritten. In this chapter, we will have a first look at containers. A container allows us to put many values in a single **box**. A container is nice because we can carry lots of values around in one convenient package. It is very straightforward to store a list of items as a container. Not surprisingly, we call this a list.\n",
        "\n",
        "**At the end of this chapter, you will be able to:**\n",
        "* create a list\n",
        "* add items to a list\n",
        "* extract/inspect items in a list\n",
        "* perform basic list operations\n",
        "* use built-in functions on lists \n",
        "\n",
        "**If you want to learn more about these topics, you might find the following links useful:**\n",
        "* [Python documentation](https://docs.python.org/3/tutorial/datastructures.html#more-on-lists)\n",
        "* [Tutorial on lists](https://www.tutorialspoint.com/python/python_lists.htm)\n",
        "* [Another tutorial on lists](https://www.programiz.com/python-programming/list)"
      ]
    },
    {
      "cell_type": "markdown",
      "metadata": {
        "id": "BEWPZS9F_waW"
      },
      "source": [
        "If you have **questions** about this chapter, please us **(cltl.python.course@gmail.com)**."
      ]
    },
    {
      "cell_type": "markdown",
      "metadata": {
        "id": "EGnYcXMX_waW"
      },
      "source": [
        "## 1. How to create a list\n",
        "It's straightforward to create a list. Please look at the following examples:"
      ]
    },
    {
      "cell_type": "code",
      "metadata": {
        "colab": {
          "base_uri": "https://localhost:8080/"
        },
        "id": "lyTMQ2Tl_waX",
        "outputId": "f251a75e-1a71-4f6e-84cf-4afc8b761bd4"
      },
      "source": [
        "friends = ['John', 'Bob', 'Mary']\n",
        "stuff_to_pack = ['socks','shirt','toothbrush']\n",
        "print(friends)\n",
        "print(stuff_to_pack)"
      ],
      "execution_count": 2,
      "outputs": [
        {
          "output_type": "stream",
          "name": "stdout",
          "text": [
            "['John', 'Bob', 'Mary']\n",
            "['socks', 'shirt', 'toothbrush']\n"
          ]
        }
      ]
    },
    {
      "cell_type": "markdown",
      "metadata": {
        "id": "jDbpMnto_waZ"
      },
      "source": [
        "* Square brackets surround lists, and commas separate the elements in the list\n",
        "* A list element can be **any Python object** - even another list\n",
        "* A list can be empty"
      ]
    },
    {
      "cell_type": "code",
      "metadata": {
        "colab": {
          "base_uri": "https://localhost:8080/"
        },
        "id": "4flnOB0U_waa",
        "outputId": "3f49e17f-90f2-4234-8d64-db36f99c61a6"
      },
      "source": [
        "#list of integers\n",
        "print([1, 24, 76])\n",
        "\n",
        "#list of strings\n",
        "print(['red', 'yellow', 'blue'])\n",
        "\n",
        "#mixed list\n",
        "print(['red', 24, 98.6])\n",
        "\n",
        "#list with a list included\n",
        "print([1, [5, 6], 7])\n",
        "\n",
        "#empty list\n",
        "print([])"
      ],
      "execution_count": 3,
      "outputs": [
        {
          "output_type": "stream",
          "name": "stdout",
          "text": [
            "[1, 24, 76]\n",
            "['red', 'yellow', 'blue']\n",
            "['red', 24, 98.6]\n",
            "[1, [5, 6], 7]\n",
            "[]\n"
          ]
        }
      ]
    },
    {
      "cell_type": "markdown",
      "metadata": {
        "id": "kMSVVDl3_wab"
      },
      "source": [
        "Please note that there are two ways of creating an empty list."
      ]
    },
    {
      "cell_type": "code",
      "metadata": {
        "colab": {
          "base_uri": "https://localhost:8080/"
        },
        "id": "o19xkX1u_wab",
        "outputId": "0f85e489-0ac5-4428-8fa4-9975d7f874c6"
      },
      "source": [
        "one_way = []\n",
        "print(one_way)"
      ],
      "execution_count": 4,
      "outputs": [
        {
          "output_type": "stream",
          "name": "stdout",
          "text": [
            "[]\n"
          ]
        }
      ]
    },
    {
      "cell_type": "code",
      "metadata": {
        "colab": {
          "base_uri": "https://localhost:8080/"
        },
        "id": "yCsWSsjd_wac",
        "outputId": "2a95ccc5-d328-4f15-8b64-68792145b915"
      },
      "source": [
        "another_way = list()\n",
        "print(another_way)"
      ],
      "execution_count": 5,
      "outputs": [
        {
          "output_type": "stream",
          "name": "stdout",
          "text": [
            "[]\n"
          ]
        }
      ]
    },
    {
      "cell_type": "markdown",
      "metadata": {
        "id": "DzMA0q4K_wac"
      },
      "source": [
        "## 2.  How to add items to a list\n",
        "The most common way of adding an item to a list is by using the **append** method.\n",
        "Let's first look at the help message of this method to understand it better:"
      ]
    },
    {
      "cell_type": "code",
      "metadata": {
        "colab": {
          "base_uri": "https://localhost:8080/"
        },
        "id": "X0YqiCX5_wad",
        "outputId": "99ec98a5-11b8-445d-aef4-22f83f230529"
      },
      "source": [
        "help(list.append)"
      ],
      "execution_count": 6,
      "outputs": [
        {
          "output_type": "stream",
          "name": "stdout",
          "text": [
            "Help on method_descriptor:\n",
            "\n",
            "append(self, object, /)\n",
            "    Append object to the end of the list.\n",
            "\n"
          ]
        }
      ]
    },
    {
      "cell_type": "markdown",
      "metadata": {
        "id": "ttxxMcac_wad"
      },
      "source": [
        "We learn that **append** has one positional parameter **object**. Remember that you should ignore 'self' (it just means that append is a list method). **append** returns None. It might be a bit confusing at first that a list method returns None. Please carefully look at the difference between the two following examples. Please predict what will be printed in each code snippet below:\n",
        "\n"
      ]
    },
    {
      "cell_type": "code",
      "metadata": {
        "colab": {
          "base_uri": "https://localhost:8080/"
        },
        "id": "qzlHsWuY_wad",
        "outputId": "09c40ad0-4423-4630-dea8-ab1d50bb991a"
      },
      "source": [
        "a_list = [1, 3, 4]\n",
        "a_list.append(5)\n",
        "print(a_list)"
      ],
      "execution_count": 7,
      "outputs": [
        {
          "output_type": "stream",
          "name": "stdout",
          "text": [
            "[1, 3, 4, 5]\n"
          ]
        }
      ]
    },
    {
      "cell_type": "code",
      "metadata": {
        "colab": {
          "base_uri": "https://localhost:8080/"
        },
        "id": "lW_Gite3_wae",
        "outputId": "b1cf414f-bd8d-4db7-b6cb-1ba97a6d7550"
      },
      "source": [
        "a_list = [1, 3, 4]\n",
        "a_list = a_list.append(5)\n",
        "print(a_list)"
      ],
      "execution_count": 8,
      "outputs": [
        {
          "output_type": "stream",
          "name": "stdout",
          "text": [
            "None\n"
          ]
        }
      ]
    },
    {
      "cell_type": "markdown",
      "metadata": {
        "id": "naijsDkZ_wag"
      },
      "source": [
        "The reason why the first example is the correct one is that **lists** are **mutable**, which means that you can change the contents of a list. You can hence change the items in a list without assigning it to a new variable."
      ]
    },
    {
      "cell_type": "markdown",
      "metadata": {
        "id": "P5Bgf2NJ_wag"
      },
      "source": [
        "In comparison, when we want to change an **immutable object** like a string, the method returns a **copy** of the input:"
      ]
    },
    {
      "cell_type": "code",
      "metadata": {
        "colab": {
          "base_uri": "https://localhost:8080/"
        },
        "id": "JI2UfVYD_wag",
        "outputId": "2a8e2fb5-5b16-4c4f-b503-15c5099c4030"
      },
      "source": [
        "help(str.replace)"
      ],
      "execution_count": 9,
      "outputs": [
        {
          "output_type": "stream",
          "name": "stdout",
          "text": [
            "Help on method_descriptor:\n",
            "\n",
            "replace(self, old, new, count=-1, /)\n",
            "    Return a copy with all occurrences of substring old replaced by new.\n",
            "    \n",
            "      count\n",
            "        Maximum number of occurrences to replace.\n",
            "        -1 (the default value) means replace all occurrences.\n",
            "    \n",
            "    If the optional argument count is given, only the first count occurrences are\n",
            "    replaced.\n",
            "\n"
          ]
        }
      ]
    },
    {
      "cell_type": "code",
      "metadata": {
        "colab": {
          "base_uri": "https://localhost:8080/"
        },
        "id": "oaKGtAk5_wah",
        "outputId": "ebceaf1b-9d81-4458-e0f1-b35ee157d983"
      },
      "source": [
        "a_string = 'hello'\n",
        "a_string.replace('l', 'b')\n",
        "print(a_string) # a_string has not been changed"
      ],
      "execution_count": 10,
      "outputs": [
        {
          "output_type": "stream",
          "name": "stdout",
          "text": [
            "hello\n"
          ]
        }
      ]
    },
    {
      "cell_type": "code",
      "metadata": {
        "colab": {
          "base_uri": "https://localhost:8080/"
        },
        "id": "mZdIUU_v_wah",
        "outputId": "19b73e00-e5ab-49d9-d7c1-903d15c9ec0a"
      },
      "source": [
        "a_string = 'hello'\n",
        "a_new_string = a_string.replace('l', 'b')\n",
        "print(a_string)\n",
        "print(a_new_string)"
      ],
      "execution_count": 11,
      "outputs": [
        {
          "output_type": "stream",
          "name": "stdout",
          "text": [
            "hello\n",
            "hebbo\n"
          ]
        }
      ]
    },
    {
      "cell_type": "markdown",
      "metadata": {
        "id": "_c3DOD7P_wah"
      },
      "source": [
        "## 3. How to extract/inspect items in a list"
      ]
    },
    {
      "cell_type": "markdown",
      "metadata": {
        "id": "V2xeu8Yl_wah"
      },
      "source": [
        "Please note that **indexing** and **slicing** work the same way as with strings. You have already seen indexing for the characters in a string. Every item in the list has hence its index number. We start counting at 0! The indices for our\n",
        "list ['John', 'Bob', 'Marry'] are as follows:\n",
        "\n",
        "\n",
        "John|Bob|Mary\n",
        "---|---|--|\n",
        "0|1|2|\n",
        "-3|-2|-1\n",
        "\n"
      ]
    },
    {
      "cell_type": "markdown",
      "metadata": {
        "id": "wKBVNdIg_wai"
      },
      "source": [
        "You can access elements in a list just as you can access characters in a string by using the index. "
      ]
    },
    {
      "cell_type": "code",
      "metadata": {
        "colab": {
          "base_uri": "https://localhost:8080/"
        },
        "id": "T9m7nOut_wai",
        "outputId": "9ba4ffea-2e83-49e0-ba13-fa8831425f41"
      },
      "source": [
        "fruit_basket = ['apple', 'banana', 'cherry']\n",
        "fruit = 'banana'\n",
        "\n",
        "print(fruit_basket[1])\n",
        "print(fruit[1])"
      ],
      "execution_count": 12,
      "outputs": [
        {
          "output_type": "stream",
          "name": "stdout",
          "text": [
            "banana\n",
            "a\n"
          ]
        }
      ]
    },
    {
      "cell_type": "markdown",
      "metadata": {
        "id": "X08m4JBk_wai"
      },
      "source": [
        "We can hence use this index number to extract items from a list (just as with strings)."
      ]
    },
    {
      "cell_type": "code",
      "metadata": {
        "colab": {
          "base_uri": "https://localhost:8080/"
        },
        "id": "1-hUgWvk_wai",
        "outputId": "5ba43024-4b05-4e88-f40f-b292ad6ae2af"
      },
      "source": [
        "friend_list = ['John', 'Bob', 'Marry']\n",
        "print(friend_list[0])\n",
        "print(friend_list[1])\n",
        "print(friend_list[2])"
      ],
      "execution_count": 13,
      "outputs": [
        {
          "output_type": "stream",
          "name": "stdout",
          "text": [
            "John\n",
            "Bob\n",
            "Marry\n"
          ]
        }
      ]
    },
    {
      "cell_type": "markdown",
      "metadata": {
        "id": "UIdIGSIX_wai"
      },
      "source": [
        "Obviously, we can also use **negative indices**:"
      ]
    },
    {
      "cell_type": "code",
      "metadata": {
        "colab": {
          "base_uri": "https://localhost:8080/"
        },
        "id": "E8VCNCYj_waj",
        "outputId": "a91cc6bf-9bd7-4fbf-e282-17ba2f6fdfe3"
      },
      "source": [
        "friend_list = ['John', 'Bob', 'Marry']\n",
        "print(friend_list[-2])"
      ],
      "execution_count": 14,
      "outputs": [
        {
          "output_type": "stream",
          "name": "stdout",
          "text": [
            "Bob\n"
          ]
        }
      ]
    },
    {
      "cell_type": "markdown",
      "metadata": {
        "id": "rxtsSrUA_waj"
      },
      "source": [
        "And we can extract one part of a list using **slicing**:"
      ]
    },
    {
      "cell_type": "code",
      "metadata": {
        "colab": {
          "base_uri": "https://localhost:8080/"
        },
        "id": "en7K0h6w_waj",
        "outputId": "c6b11198-5034-4401-f3c3-7d44d3299eb7"
      },
      "source": [
        "friend_list = ['John', 'Bob', 'Marry']\n",
        "list_with_fewer_friends = friend_list[:2]\n",
        "print(list_with_fewer_friends)"
      ],
      "execution_count": 15,
      "outputs": [
        {
          "output_type": "stream",
          "name": "stdout",
          "text": [
            "['John', 'Bob']\n"
          ]
        }
      ]
    },
    {
      "cell_type": "markdown",
      "metadata": {
        "id": "6CRbVKfM_waj"
      },
      "source": [
        "If you insert an index that is higher than what is present in the list, you will get an **IndexError**:"
      ]
    },
    {
      "cell_type": "code",
      "metadata": {
        "colab": {
          "base_uri": "https://localhost:8080/",
          "height": 165
        },
        "id": "wxpxrRBK_waj",
        "outputId": "99d60025-97a5-4b85-89ce-9b60b158fb2c"
      },
      "source": [
        "print(friend_list[5])"
      ],
      "execution_count": 16,
      "outputs": [
        {
          "output_type": "error",
          "ename": "IndexError",
          "evalue": "ignored",
          "traceback": [
            "\u001b[0;31m---------------------------------------------------------------------------\u001b[0m",
            "\u001b[0;31mIndexError\u001b[0m                                Traceback (most recent call last)",
            "\u001b[0;32m<ipython-input-16-919b28a94da0>\u001b[0m in \u001b[0;36m<module>\u001b[0;34m()\u001b[0m\n\u001b[0;32m----> 1\u001b[0;31m \u001b[0mprint\u001b[0m\u001b[0;34m(\u001b[0m\u001b[0mfriend_list\u001b[0m\u001b[0;34m[\u001b[0m\u001b[0;36m5\u001b[0m\u001b[0;34m]\u001b[0m\u001b[0;34m)\u001b[0m\u001b[0;34m\u001b[0m\u001b[0;34m\u001b[0m\u001b[0m\n\u001b[0m",
            "\u001b[0;31mIndexError\u001b[0m: list index out of range"
          ]
        }
      ]
    },
    {
      "cell_type": "markdown",
      "metadata": {
        "id": "dIe_9Qvu_waj"
      },
      "source": [
        "Two additional methods are useful for inspecting lists:\n",
        "* **count**\n",
        "* **index**"
      ]
    },
    {
      "cell_type": "code",
      "metadata": {
        "colab": {
          "base_uri": "https://localhost:8080/"
        },
        "id": "NdaXGsMk_wak",
        "outputId": "ed6d08d0-daf0-4500-db2b-a801711def0e"
      },
      "source": [
        "help(list.count)"
      ],
      "execution_count": 17,
      "outputs": [
        {
          "output_type": "stream",
          "name": "stdout",
          "text": [
            "Help on method_descriptor:\n",
            "\n",
            "count(self, value, /)\n",
            "    Return number of occurrences of value.\n",
            "\n"
          ]
        }
      ]
    },
    {
      "cell_type": "markdown",
      "metadata": {
        "id": "0WXm6rYC_wak"
      },
      "source": [
        "The **count** method has one positional parameter **value** and returns an integer. As the name already indicates, the method returns how often the value occurs in the list."
      ]
    },
    {
      "cell_type": "code",
      "metadata": {
        "colab": {
          "base_uri": "https://localhost:8080/"
        },
        "id": "rtIbWVwD_wak",
        "outputId": "e3bc6c37-2492-4712-d91b-b37fd2fa08f3"
      },
      "source": [
        "friend_list = ['John', 'Bob', 'John', 'Marry', 'Bob']\n",
        "number_of_bobs = friend_list.count('Bob')\n",
        "print(number_of_bobs)"
      ],
      "execution_count": 18,
      "outputs": [
        {
          "output_type": "stream",
          "name": "stdout",
          "text": [
            "2\n"
          ]
        }
      ]
    },
    {
      "cell_type": "code",
      "metadata": {
        "colab": {
          "base_uri": "https://localhost:8080/"
        },
        "id": "0PP4lmBZ_wak",
        "outputId": "5ff7e9da-aec8-4e58-ab42-1673636371b0"
      },
      "source": [
        "friend_list = ['John', 'Bob', 'John', 'Marry', 'Bob']\n",
        "number_of_franks = friend_list.count('Frank')\n",
        "print(number_of_franks)"
      ],
      "execution_count": 19,
      "outputs": [
        {
          "output_type": "stream",
          "name": "stdout",
          "text": [
            "0\n"
          ]
        }
      ]
    },
    {
      "cell_type": "code",
      "metadata": {
        "colab": {
          "base_uri": "https://localhost:8080/"
        },
        "id": "_oCXy7l8_wak",
        "outputId": "0b5e3e32-424f-446e-bb44-4433858081ac"
      },
      "source": [
        "help(list.index)"
      ],
      "execution_count": 20,
      "outputs": [
        {
          "output_type": "stream",
          "name": "stdout",
          "text": [
            "Help on method_descriptor:\n",
            "\n",
            "index(self, value, start=0, stop=9223372036854775807, /)\n",
            "    Return first index of value.\n",
            "    \n",
            "    Raises ValueError if the value is not present.\n",
            "\n"
          ]
        }
      ]
    },
    {
      "cell_type": "markdown",
      "metadata": {
        "id": "sMxDupYB_wal"
      },
      "source": [
        "The **index** method has one positional parameter **value**, and two keyword parameters, and returns the first index of the value. It is hence similar to the **count** method, but now the **first index** is returned of the value instead of the count."
      ]
    },
    {
      "cell_type": "code",
      "metadata": {
        "colab": {
          "base_uri": "https://localhost:8080/"
        },
        "id": "SOz-BpJW_wal",
        "outputId": "a3e409a9-cf3c-4473-b2e2-856b95c21bf9"
      },
      "source": [
        "friend_list = ['John', 'Bob', 'John', 'Marry', 'Bob']\n",
        "first_index_with_john = friend_list.index('Bob')\n",
        "print(first_index_with_john)"
      ],
      "execution_count": 21,
      "outputs": [
        {
          "output_type": "stream",
          "name": "stdout",
          "text": [
            "1\n"
          ]
        }
      ]
    },
    {
      "cell_type": "markdown",
      "metadata": {
        "id": "r3oQPOSI_wal"
      },
      "source": [
        "We get a **ValueError** when the value is not in the list."
      ]
    },
    {
      "cell_type": "code",
      "metadata": {
        "colab": {
          "base_uri": "https://localhost:8080/",
          "height": 183
        },
        "id": "jBwUUfWh_wal",
        "outputId": "f768c204-c6d4-45d6-9665-8866d25f0d4a"
      },
      "source": [
        "friend_list = ['John', 'Bob', 'John', 'Marry', 'Bob']\n",
        "friend_list.index('Frank')"
      ],
      "execution_count": 22,
      "outputs": [
        {
          "output_type": "error",
          "ename": "ValueError",
          "evalue": "ignored",
          "traceback": [
            "\u001b[0;31m---------------------------------------------------------------------------\u001b[0m",
            "\u001b[0;31mValueError\u001b[0m                                Traceback (most recent call last)",
            "\u001b[0;32m<ipython-input-22-0f25caf69765>\u001b[0m in \u001b[0;36m<module>\u001b[0;34m()\u001b[0m\n\u001b[1;32m      1\u001b[0m \u001b[0mfriend_list\u001b[0m \u001b[0;34m=\u001b[0m \u001b[0;34m[\u001b[0m\u001b[0;34m'John'\u001b[0m\u001b[0;34m,\u001b[0m \u001b[0;34m'Bob'\u001b[0m\u001b[0;34m,\u001b[0m \u001b[0;34m'John'\u001b[0m\u001b[0;34m,\u001b[0m \u001b[0;34m'Marry'\u001b[0m\u001b[0;34m,\u001b[0m \u001b[0;34m'Bob'\u001b[0m\u001b[0;34m]\u001b[0m\u001b[0;34m\u001b[0m\u001b[0;34m\u001b[0m\u001b[0m\n\u001b[0;32m----> 2\u001b[0;31m \u001b[0mfriend_list\u001b[0m\u001b[0;34m.\u001b[0m\u001b[0mindex\u001b[0m\u001b[0;34m(\u001b[0m\u001b[0;34m'Frank'\u001b[0m\u001b[0;34m)\u001b[0m\u001b[0;34m\u001b[0m\u001b[0;34m\u001b[0m\u001b[0m\n\u001b[0m",
            "\u001b[0;31mValueError\u001b[0m: 'Frank' is not in list"
          ]
        }
      ]
    },
    {
      "cell_type": "markdown",
      "metadata": {
        "id": "kAI-tJFg_wal"
      },
      "source": [
        "## 4. Basic List Operations\n",
        "Python allows at least the following very useful list operations:\n",
        "* **concatenation**\n",
        "* **repetition**\n",
        "* **membership**\n",
        "* **comparison**"
      ]
    },
    {
      "cell_type": "markdown",
      "metadata": {
        "id": "tOma5KqV_wal"
      },
      "source": [
        "The '+' sign concatenates two lists:"
      ]
    },
    {
      "cell_type": "code",
      "metadata": {
        "colab": {
          "base_uri": "https://localhost:8080/"
        },
        "id": "MiWwK0e2_wam",
        "outputId": "f0d269eb-fb08-452b-b80d-611ca2b8cec3"
      },
      "source": [
        "one_list = ['where', 'is']\n",
        "another_list = ['the', 'rest', '?']\n",
        "print(one_list + another_list)"
      ],
      "execution_count": 23,
      "outputs": [
        {
          "output_type": "stream",
          "name": "stdout",
          "text": [
            "['where', 'is', 'the', 'rest', '?']\n"
          ]
        }
      ]
    },
    {
      "cell_type": "markdown",
      "metadata": {
        "id": "-HmjK9RW_wam"
      },
      "source": [
        "The '*' sign makes it possible to repeat a list:"
      ]
    },
    {
      "cell_type": "code",
      "metadata": {
        "colab": {
          "base_uri": "https://localhost:8080/"
        },
        "id": "t1IS-CzR_wam",
        "outputId": "81aad655-6105-4d54-88c0-79739610d8c3"
      },
      "source": [
        "a_list = ['Hello', 'world']\n",
        "print(a_list * 3)"
      ],
      "execution_count": 24,
      "outputs": [
        {
          "output_type": "stream",
          "name": "stdout",
          "text": [
            "['Hello', 'world', 'Hello', 'world', 'Hello', 'world']\n"
          ]
        }
      ]
    },
    {
      "cell_type": "markdown",
      "metadata": {
        "id": "Aql5A3uG_wam"
      },
      "source": [
        "Of course, you can use lists in membership boolean expressions"
      ]
    },
    {
      "cell_type": "code",
      "metadata": {
        "colab": {
          "base_uri": "https://localhost:8080/"
        },
        "id": "97LqBF3I_wam",
        "outputId": "be9458de-5868-4843-f005-c431c134f500"
      },
      "source": [
        "life = ['a', 'lot', 'of', 'stuff']\n",
        "print('meaning' in life)"
      ],
      "execution_count": 25,
      "outputs": [
        {
          "output_type": "stream",
          "name": "stdout",
          "text": [
            "False\n"
          ]
        }
      ]
    },
    {
      "cell_type": "markdown",
      "metadata": {
        "id": "k5fDil5T_wam"
      },
      "source": [
        "And you can use lists in comparison boolean expressions"
      ]
    },
    {
      "cell_type": "code",
      "metadata": {
        "colab": {
          "base_uri": "https://localhost:8080/"
        },
        "id": "0YMqqVnt_wam",
        "outputId": "bc1ff3ce-8b71-4986-8fb2-2a5818337f82"
      },
      "source": [
        "print([3, 2] == [2, 3])\n",
        "print([2,3] == [2,3])"
      ],
      "execution_count": 26,
      "outputs": [
        {
          "output_type": "stream",
          "name": "stdout",
          "text": [
            "False\n",
            "True\n"
          ]
        }
      ]
    },
    {
      "cell_type": "markdown",
      "metadata": {
        "id": "v4UKMBBQ_wan"
      },
      "source": [
        "## 5. Use built-in functions on lists\n",
        "Python has a range of functions that operate on lists. We can easily get some simple calculations done with these functions:"
      ]
    },
    {
      "cell_type": "code",
      "metadata": {
        "colab": {
          "base_uri": "https://localhost:8080/"
        },
        "id": "QmH04ypw_wan",
        "outputId": "08f7d393-e188-4c99-b028-6c38e475773c"
      },
      "source": [
        "nums = [3, 41, 12, 9, 74, 15]\n",
        "print(len(nums)) # number of items in a list\n",
        "print(max(nums)) # highest value in a list\n",
        "print(min(nums)) # lowest value in a list\n",
        "print(sum(nums)) # sum of all values in a list"
      ],
      "execution_count": 27,
      "outputs": [
        {
          "output_type": "stream",
          "name": "stdout",
          "text": [
            "6\n",
            "74\n",
            "3\n",
            "154\n"
          ]
        }
      ]
    },
    {
      "cell_type": "markdown",
      "metadata": {
        "id": "VddK2NfC_wan"
      },
      "source": [
        "## 6. An overview of list methods\n",
        "There are many more methods which we can perform on lists. Here is an overview of some of them.\n",
        "To get used to them, please call the **help** function on each of them (e.g., help(list.insert)). This will give you the information about the positional parameters, keyword parameters, and what is returned by the method."
      ]
    },
    {
      "cell_type": "code",
      "metadata": {
        "colab": {
          "base_uri": "https://localhost:8080/"
        },
        "id": "nu7wpvpg_wan",
        "outputId": "ae62749e-94a2-4260-ffa3-ce74f558e7cb"
      },
      "source": [
        "#define some lists and variables\n",
        "a = [1,2,3]\n",
        "b = 4\n",
        "c = [5,6,7]\n",
        "x = 1\n",
        "i = 2\n",
        "\n",
        "#do some operations \n",
        "a.append(b)     # Add item b to the end of a\n",
        "a.extend(c)     # Add the elements of list c at the end of a\n",
        "a.insert(i,b)   # Insert item b at position i\n",
        "a.pop(i)        # Remove from a the i'th element and return it. If i is not specified, remove the last element\n",
        "a.index(x)      # Return the index of the first element of a with value x. Error if it does not exist\n",
        "a.count(x)      # Return how often value x is found in a\n",
        "a.remove(x)     # Remove from a the first element with value x. Error if it does not exist\n",
        "a.sort()        # Sort the elements of list a\n",
        "a.reverse()     # Reverses list a (no return value!)\n",
        "\n",
        "print(a)"
      ],
      "execution_count": 28,
      "outputs": [
        {
          "output_type": "stream",
          "name": "stdout",
          "text": [
            "[7, 6, 5, 4, 3, 2]\n"
          ]
        }
      ]
    },
    {
      "cell_type": "markdown",
      "metadata": {
        "id": "2RLKuqcj_wan"
      },
      "source": [
        "In order to have a complete overview of all list methods, you can use the **dir** built-in function:"
      ]
    },
    {
      "cell_type": "code",
      "metadata": {
        "colab": {
          "base_uri": "https://localhost:8080/"
        },
        "id": "qOdf3MKO_wan",
        "outputId": "7d6f327f-8300-428d-a08e-f9706cc4a316"
      },
      "source": [
        "dir(list)"
      ],
      "execution_count": 29,
      "outputs": [
        {
          "output_type": "execute_result",
          "data": {
            "text/plain": [
              "['__add__',\n",
              " '__class__',\n",
              " '__contains__',\n",
              " '__delattr__',\n",
              " '__delitem__',\n",
              " '__dir__',\n",
              " '__doc__',\n",
              " '__eq__',\n",
              " '__format__',\n",
              " '__ge__',\n",
              " '__getattribute__',\n",
              " '__getitem__',\n",
              " '__gt__',\n",
              " '__hash__',\n",
              " '__iadd__',\n",
              " '__imul__',\n",
              " '__init__',\n",
              " '__init_subclass__',\n",
              " '__iter__',\n",
              " '__le__',\n",
              " '__len__',\n",
              " '__lt__',\n",
              " '__mul__',\n",
              " '__ne__',\n",
              " '__new__',\n",
              " '__reduce__',\n",
              " '__reduce_ex__',\n",
              " '__repr__',\n",
              " '__reversed__',\n",
              " '__rmul__',\n",
              " '__setattr__',\n",
              " '__setitem__',\n",
              " '__sizeof__',\n",
              " '__str__',\n",
              " '__subclasshook__',\n",
              " 'append',\n",
              " 'clear',\n",
              " 'copy',\n",
              " 'count',\n",
              " 'extend',\n",
              " 'index',\n",
              " 'insert',\n",
              " 'pop',\n",
              " 'remove',\n",
              " 'reverse',\n",
              " 'sort']"
            ]
          },
          "metadata": {},
          "execution_count": 29
        }
      ]
    },
    {
      "cell_type": "markdown",
      "metadata": {
        "id": "b6iGFJDt_wao"
      },
      "source": [
        "## Exercises"
      ]
    },
    {
      "cell_type": "markdown",
      "metadata": {
        "id": "FO5LD8j1_wao"
      },
      "source": [
        "**Exercise 1:**\n",
        "\n",
        "Create an empty list and add three names (strings) to it using the *append* method"
      ]
    },
    {
      "cell_type": "code",
      "metadata": {
        "id": "QFhEcOII_wao"
      },
      "source": [
        "# your code here"
      ],
      "execution_count": 30,
      "outputs": []
    },
    {
      "cell_type": "markdown",
      "metadata": {
        "id": "BsKHrfDl_wao"
      },
      "source": [
        "**Exercise 2:**\n",
        "\n",
        "Please count how many times *John* occurs in the list"
      ]
    },
    {
      "cell_type": "code",
      "metadata": {
        "id": "N87Ky4HN_wao"
      },
      "source": [
        "friend_list = ['John', 'Bob', 'John', 'Marry', 'Bob']\n",
        "\n",
        "#  your code here\n"
      ],
      "execution_count": 31,
      "outputs": []
    },
    {
      "cell_type": "markdown",
      "metadata": {
        "id": "c4ANAFpL_wao"
      },
      "source": [
        "**Exercise 3:**\n",
        "\n",
        "Please use a built-in function to determine the number of strings in the list below"
      ]
    },
    {
      "cell_type": "code",
      "metadata": {
        "id": "2-fJi6WK_wao"
      },
      "source": [
        "friend_list = ['John', 'Bob', 'John', 'Marry', 'Bob']\n",
        "\n",
        "# your code here"
      ],
      "execution_count": 32,
      "outputs": []
    },
    {
      "cell_type": "markdown",
      "metadata": {
        "id": "O_8eEWyR_wao"
      },
      "source": [
        "**Exercise 4:**\n",
        "\n",
        "Please remove both *John* names from the list below using a list method"
      ]
    },
    {
      "cell_type": "code",
      "metadata": {
        "id": "nZpKaLHg_wap"
      },
      "source": [
        "friend_list = ['John', 'Bob', 'John', 'Marry', 'Bob']\n",
        "\n",
        "# your code here"
      ],
      "execution_count": 33,
      "outputs": []
    },
    {
      "cell_type": "markdown",
      "metadata": {
        "id": "t9AzP2Yr_wap"
      },
      "source": [
        "**Exercise 4:**\n",
        "\n",
        "Please add *world* to the string and the list below. Only create a new object if it is necessary. "
      ]
    },
    {
      "cell_type": "code",
      "metadata": {
        "id": "R_JcFbIs_wap"
      },
      "source": [
        "a_string = 'hello'\n",
        "a_list = ['hello']\n",
        "\n",
        "# your code here"
      ],
      "execution_count": 34,
      "outputs": []
    },
    {
      "cell_type": "code",
      "metadata": {
        "id": "fMNyXHhR_wap"
      },
      "source": [
        ""
      ],
      "execution_count": 34,
      "outputs": []
    }
  ]
}