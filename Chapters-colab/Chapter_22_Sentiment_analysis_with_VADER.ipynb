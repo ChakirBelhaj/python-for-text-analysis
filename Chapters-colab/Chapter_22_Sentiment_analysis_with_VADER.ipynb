{
  "nbformat": 4,
  "nbformat_minor": 0,
  "metadata": {
    "kernelspec": {
      "display_name": "Python 3",
      "language": "python",
      "name": "python3"
    },
    "language_info": {
      "codemirror_mode": {
        "name": "ipython",
        "version": 3
      },
      "file_extension": ".py",
      "mimetype": "text/x-python",
      "name": "python",
      "nbconvert_exporter": "python",
      "pygments_lexer": "ipython3",
      "version": "3.8.5"
    },
    "colab": {
      "name": "Chapter 22 - Sentiment analysis with VADER.ipynb",
      "provenance": [],
      "include_colab_link": true
    }
  },
  "cells": [
    {
      "cell_type": "markdown",
      "metadata": {
        "id": "view-in-github",
        "colab_type": "text"
      },
      "source": [
        "<a href=\"https://colab.research.google.com/github/cltl/python-for-text-analysis/blob/colab/Chapters-colab/Chapter_22_Sentiment_analysis_with_VADER.ipynb\" target=\"_parent\"><img src=\"https://colab.research.google.com/assets/colab-badge.svg\" alt=\"Open In Colab\"/></a>"
      ]
    },
    {
      "cell_type": "code",
      "metadata": {
        "id": "PJL3Cx4mMHqS"
      },
      "source": [
        "%%capture\n",
        "!wget https://github.com/cltl/python-for-text-analysis/raw/master/zips/Data.zip\n",
        "!wget https://github.com/cltl/python-for-text-analysis/raw/master/zips/images.zip\n",
        "!wget https://github.com/cltl/python-for-text-analysis/raw/master/zips/Extra_Material.zip\n",
        "\n",
        "!unzip Data.zip -d ../\n",
        "!unzip images.zip -d ./\n",
        "!unzip Extra_Material.zip -d ../\n",
        "\n",
        "!rm Data.zip\n",
        "!rm Extra_Material.zip\n",
        "!rm images.zip"
      ],
      "execution_count": 1,
      "outputs": []
    },
    {
      "cell_type": "markdown",
      "metadata": {
        "id": "_lrrzPmVMDpU"
      },
      "source": [
        "# Chapter 22 - Sentiment analysis using VADER"
      ]
    },
    {
      "cell_type": "markdown",
      "metadata": {
        "id": "CRLe16r-MDpY"
      },
      "source": [
        "In this notebook, we focus on sentiment analysis, which is the task of determining whether a text expresses a negative, neutral, or positive opinion. We introduce how to work with [VADER](https://github.com/cjhutto/vaderSentiment) as part of the NLTK to perform sentiment analysis. Given a sentence, e.g., \"I like Python\", VADER will predict a sentiment score on a scale from -1 to 1. The goal of this notebook is to show you how to work with VADER. One of the learning goals of the accompanying assignment is to gain insight into VADER by reading blogs about the system.\n",
        "\n",
        "### at the end of this notebook, you will:\n",
        "* have VADER installed on your computer\n",
        "* be able to load the VADER model\n",
        "* be able to apply the VADER model on new sentences:\n",
        "    * with and without lemmatization\n",
        "    * with providing VADER with certain parts of speech, e.g., providing the adjectives from a sentence as input to VADER\n",
        "    \n",
        "### If you want to learn more about this chapter, you might find the following links useful:\n",
        "* [blog on sentiment analysis](https://towardsdatascience.com/quick-introduction-to-sentiment-analysis-74bd3dfb536c)\n",
        "* [GitHub repository](https://github.com/cjhutto/vaderSentiment)\n",
        "* [this blog](http://t-redactyl.io/blog/2017/04/using-vader-to-handle-sentiment-analysis-with-social-media-text.html)"
      ]
    },
    {
      "cell_type": "markdown",
      "metadata": {
        "id": "_SEP-7sSMDpZ"
      },
      "source": [
        "If you have questions about this chapter, please contact us (cltl.python.course@gmail.com)."
      ]
    },
    {
      "cell_type": "markdown",
      "metadata": {
        "id": "Hcu9RttQMDpZ"
      },
      "source": [
        "## 1. Downloading VADER package\n",
        "Please run the following commands to download VADER to your computer."
      ]
    },
    {
      "cell_type": "code",
      "metadata": {
        "id": "U_JnrJbAMDpa"
      },
      "source": [
        "import nltk"
      ],
      "execution_count": 2,
      "outputs": []
    },
    {
      "cell_type": "code",
      "metadata": {
        "colab": {
          "base_uri": "https://localhost:8080/"
        },
        "id": "oH2YGruVMDpb",
        "outputId": "a7004040-fc6c-4acf-9d6d-66e96e0dd95f"
      },
      "source": [
        "# You only need to run this cell once.\n",
        "# After that, you can comment it out.\n",
        "\n",
        "nltk.download('vader_lexicon', quiet=False)"
      ],
      "execution_count": 3,
      "outputs": [
        {
          "output_type": "stream",
          "name": "stdout",
          "text": [
            "[nltk_data] Downloading package vader_lexicon to /root/nltk_data...\n"
          ]
        },
        {
          "output_type": "execute_result",
          "data": {
            "text/plain": [
              "True"
            ]
          },
          "metadata": {},
          "execution_count": 3
        }
      ]
    },
    {
      "cell_type": "markdown",
      "metadata": {
        "id": "9MzDRhgmMDpb"
      },
      "source": [
        "To verify that the download was successful, you can run the following command."
      ]
    },
    {
      "cell_type": "code",
      "metadata": {
        "colab": {
          "base_uri": "https://localhost:8080/"
        },
        "id": "LZjnsJNdMDpc",
        "outputId": "ef6c4a12-227d-42d4-a50c-d38570125779"
      },
      "source": [
        "from nltk.sentiment import vader"
      ],
      "execution_count": 4,
      "outputs": [
        {
          "output_type": "stream",
          "name": "stderr",
          "text": [
            "/usr/local/lib/python3.7/dist-packages/nltk/twitter/__init__.py:20: UserWarning: The twython library has not been installed. Some functionality from the twitter package will not be available.\n",
            "  warnings.warn(\"The twython library has not been installed. \"\n"
          ]
        }
      ]
    },
    {
      "cell_type": "markdown",
      "metadata": {
        "id": "MEqHdSIbMDpc"
      },
      "source": [
        "## 2. Load VADER model\n",
        "The model can be loaded in the following way."
      ]
    },
    {
      "cell_type": "code",
      "metadata": {
        "scrolled": true,
        "id": "cMs8_nCYMDpd"
      },
      "source": [
        "from nltk.sentiment.vader import SentimentIntensityAnalyzer"
      ],
      "execution_count": 5,
      "outputs": []
    },
    {
      "cell_type": "code",
      "metadata": {
        "id": "VVx3mDzeMDpd"
      },
      "source": [
        "vader_model = SentimentIntensityAnalyzer()"
      ],
      "execution_count": 6,
      "outputs": []
    },
    {
      "cell_type": "markdown",
      "metadata": {
        "id": "jrzu0hE6MDpd"
      },
      "source": [
        "We will use the following three sentences:"
      ]
    },
    {
      "cell_type": "code",
      "metadata": {
        "id": "F0A-dq4DMDpe"
      },
      "source": [
        "sentences = [\"Here are my sentences.\",\n",
        "             \"It's a nice day.\",\n",
        "             \"It's a rainy day.\"] "
      ],
      "execution_count": 7,
      "outputs": []
    },
    {
      "cell_type": "markdown",
      "metadata": {
        "id": "wW5p6XwiMDpe"
      },
      "source": [
        "The next for loop assigns a sentiment score from VADER to **each sentence**."
      ]
    },
    {
      "cell_type": "code",
      "metadata": {
        "colab": {
          "base_uri": "https://localhost:8080/"
        },
        "id": "NpvQg8vVMDpe",
        "outputId": "1757f131-967a-4e8a-87bc-f4aed879e6b5"
      },
      "source": [
        "for sent in sentences:\n",
        "    scores = vader_model.polarity_scores(sent)\n",
        "    print()\n",
        "    print('INPUT SENTENCE', sent)\n",
        "    print('VADER OUTPUT', scores)"
      ],
      "execution_count": 8,
      "outputs": [
        {
          "output_type": "stream",
          "name": "stdout",
          "text": [
            "\n",
            "INPUT SENTENCE Here are my sentences.\n",
            "VADER OUTPUT {'neg': 0.0, 'neu': 0.714, 'pos': 0.286, 'compound': 0.0516}\n",
            "\n",
            "INPUT SENTENCE It's a nice day.\n",
            "VADER OUTPUT {'neg': 0.0, 'neu': 0.417, 'pos': 0.583, 'compound': 0.4215}\n",
            "\n",
            "INPUT SENTENCE It's a rainy day.\n",
            "VADER OUTPUT {'neg': 0.394, 'neu': 0.606, 'pos': 0.0, 'compound': -0.0772}\n"
          ]
        }
      ]
    },
    {
      "cell_type": "markdown",
      "metadata": {
        "id": "aK_C85vQMDpe"
      },
      "source": [
        "VADER provides a dictionary containing four ratings, i.e., keys, for each sentence.\n",
        "The sentence is rated on how negative (key *neg*), positive (key *pos*), and neutral (key *neu*), it is.\n",
        "Also, there is a *compound* key that combines the values of the keys *neg*, *pos*, and *neu* into one single score, i.e., the *compound* key. The compound value ranges from -1, i.e., very negative, to 1, i.e., very positive. You can read more about the VADER system on [this blog](http://t-redactyl.io/blog/2017/04/using-vader-to-handle-sentiment-analysis-with-social-media-text.html)."
      ]
    },
    {
      "cell_type": "markdown",
      "metadata": {
        "id": "A8pBaqV1MDpf"
      },
      "source": [
        "## 3. Using spaCy to manipulate the input to VADER "
      ]
    },
    {
      "cell_type": "markdown",
      "metadata": {
        "id": "k4uVEUyYMDpf"
      },
      "source": [
        "In the examples in Section 2, VADER always takes into account each token, i.e., word, in the sentence to arrive at its sentiment prediction. In this section,\n",
        "we are going to use spaCy to manipulate the input to VADER. This is one way to gain insight into how language systems work, i.e., by manipulating the input and inspecting the output.\n",
        "We use spaCy as a tool to manipulate the input to VADER."
      ]
    },
    {
      "cell_type": "markdown",
      "metadata": {
        "id": "TfFewBqzMDpf"
      },
      "source": [
        "Please first install spaCy by following the instructions from **Chapter 19 - More about Natural Language Processing Tools (spaCy) -- Section 2.1 Installing and loading spaCy**"
      ]
    },
    {
      "cell_type": "code",
      "metadata": {
        "id": "fKj3fCaVMDpg"
      },
      "source": [
        "import spacy\n",
        "nlp = spacy.load('en') # en_core_web_sm"
      ],
      "execution_count": 9,
      "outputs": []
    },
    {
      "cell_type": "markdown",
      "metadata": {
        "id": "mVy2l6QWMDpg"
      },
      "source": [
        "The next function defines an API to process texts (textual_unit) using different settings. This function operates on texts and assumes spaCy is loaded with the corresponding language model as we just did. Take a little time to analyze the function, which uses certain spaCy token properties to process the text in different ways and returns the VADER sentiment."
      ]
    },
    {
      "cell_type": "code",
      "metadata": {
        "id": "448h6VyDMDpg"
      },
      "source": [
        "def run_vader(nlp,\n",
        "              textual_unit, \n",
        "              lemmatize=False, \n",
        "              parts_of_speech_to_consider=set(),\n",
        "              verbose=0):\n",
        "    \"\"\"\n",
        "    Run VADER on a sentence from spacy\n",
        "    \n",
        "    :param nlp: spaCy model\n",
        "    :param str textual unit: a textual unit, e.g., sentence, sentences (one string)\n",
        "    (by looping over doc.sents)\n",
        "    :param bool lemmatize: If True, provide lemmas to VADER instead of words\n",
        "    :param set parts_of_speech_to_consider:\n",
        "    -empty set -> all parts of speech are provided\n",
        "    -non-empty set: only these parts of speech are considered\n",
        "    :param int verbose: if set to 1, information is printed\n",
        "    about input and output\n",
        "    \n",
        "    :rtype: dict\n",
        "    :return: vader output dict\n",
        "    \"\"\"\n",
        "    doc = nlp(textual_unit)\n",
        "        \n",
        "    input_to_vader = []\n",
        "\n",
        "    for sent in doc.sents:\n",
        "        for token in sent:\n",
        "            \n",
        "            if verbose >= 2:\n",
        "                print(token, token.pos_)\n",
        "\n",
        "            to_add = token.text\n",
        "\n",
        "            if lemmatize:\n",
        "                to_add = token.lemma_\n",
        "\n",
        "                if to_add == '-PRON-': \n",
        "                    to_add = token.text\n",
        "\n",
        "            if parts_of_speech_to_consider:\n",
        "                if token.pos_ in parts_of_speech_to_consider:\n",
        "                    input_to_vader.append(to_add) \n",
        "            else:\n",
        "                input_to_vader.append(to_add)\n",
        "\n",
        "    scores = vader_model.polarity_scores(' '.join(input_to_vader))\n",
        "    \n",
        "    if verbose >= 1:\n",
        "        print()\n",
        "        print('INPUT SENTENCE', sent)\n",
        "        print('INPUT TO VADER', input_to_vader)\n",
        "        print('VADER OUTPUT', scores)\n",
        "\n",
        "    return scores"
      ],
      "execution_count": 10,
      "outputs": []
    },
    {
      "cell_type": "markdown",
      "metadata": {
        "id": "xGRQf7a3MDpg"
      },
      "source": [
        "We can now use various API settings to experiment with processing text in different ways."
      ]
    },
    {
      "cell_type": "markdown",
      "metadata": {
        "id": "sdFrBRzsMDph"
      },
      "source": [
        "### 3.1 Lemmatization\n",
        "The first setting is to lemmatize the provided sentence. If you want to know more about lemmas, you can read [this blog](https://www.retresco.de/en/encyclopedia/lemma/). If you want the function to print more information, you can set the keyword parameter **verbose** to 1."
      ]
    },
    {
      "cell_type": "code",
      "metadata": {
        "id": "bqs3MxUTMDph"
      },
      "source": [
        "sentences = [\"Here are my sentences.\",\n",
        "             \"It's a nice day.\",\n",
        "             \"It's a rainy day.\"]"
      ],
      "execution_count": 11,
      "outputs": []
    },
    {
      "cell_type": "code",
      "metadata": {
        "colab": {
          "base_uri": "https://localhost:8080/"
        },
        "id": "DGl131_KMDph",
        "outputId": "67afdff6-f145-4658-cfa8-02d0d8849d96"
      },
      "source": [
        "prediction = run_vader(nlp, sentences[1], lemmatize=False, verbose=1)"
      ],
      "execution_count": 12,
      "outputs": [
        {
          "output_type": "stream",
          "name": "stdout",
          "text": [
            "\n",
            "INPUT SENTENCE It's a nice day.\n",
            "INPUT TO VADER ['It', \"'s\", 'a', 'nice', 'day', '.']\n",
            "VADER OUTPUT {'neg': 0.0, 'neu': 0.517, 'pos': 0.483, 'compound': 0.4215}\n"
          ]
        }
      ]
    },
    {
      "cell_type": "code",
      "metadata": {
        "colab": {
          "base_uri": "https://localhost:8080/"
        },
        "id": "MDmNu0hmMDph",
        "outputId": "ccbf7223-0ee8-46e8-8f2b-12e7c2d37094"
      },
      "source": [
        "print(prediction)"
      ],
      "execution_count": 13,
      "outputs": [
        {
          "output_type": "stream",
          "name": "stdout",
          "text": [
            "{'neg': 0.0, 'neu': 0.517, 'pos': 0.483, 'compound': 0.4215}\n"
          ]
        }
      ]
    },
    {
      "cell_type": "code",
      "metadata": {
        "colab": {
          "base_uri": "https://localhost:8080/"
        },
        "id": "KKJXWCRJMDph",
        "outputId": "bcccf3e5-2209-4cd5-fedf-74e2c8e11fd7"
      },
      "source": [
        "prediction = run_vader(nlp, sentences[1], lemmatize=True, verbose=1)"
      ],
      "execution_count": 14,
      "outputs": [
        {
          "output_type": "stream",
          "name": "stdout",
          "text": [
            "\n",
            "INPUT SENTENCE It's a nice day.\n",
            "INPUT TO VADER ['It', 'be', 'a', 'nice', 'day', '.']\n",
            "VADER OUTPUT {'neg': 0.0, 'neu': 0.517, 'pos': 0.483, 'compound': 0.4215}\n"
          ]
        }
      ]
    },
    {
      "cell_type": "code",
      "metadata": {
        "colab": {
          "base_uri": "https://localhost:8080/"
        },
        "id": "4lyNRb65MDph",
        "outputId": "8258fb2e-16bd-4f75-d4f1-aca3ac07c1f1"
      },
      "source": [
        "print(prediction)"
      ],
      "execution_count": 15,
      "outputs": [
        {
          "output_type": "stream",
          "name": "stdout",
          "text": [
            "{'neg': 0.0, 'neu': 0.517, 'pos': 0.483, 'compound': 0.4215}\n"
          ]
        }
      ]
    },
    {
      "cell_type": "markdown",
      "metadata": {
        "id": "yJja7uGdMDpi"
      },
      "source": [
        "Perhaps you are surprised to see that there is no difference in the output! This is useful information for you to try to understand how the system works! Perhaps there are sentences for which it does matter. Feel free to experiment with other sentences."
      ]
    },
    {
      "cell_type": "markdown",
      "metadata": {
        "id": "jp5HkDYJMDpi"
      },
      "source": [
        "### 3.2 Filter on part of speech\n",
        "You can also filter on the part of speech, i.e., we let VADER make a prediction by only considering the nouns, verbs, or adjectives. The manipulation of the input to VADER allows you to gain insight how the system works."
      ]
    },
    {
      "cell_type": "markdown",
      "metadata": {
        "id": "GsQV35OqMDpi"
      },
      "source": [
        "Only Nouns:"
      ]
    },
    {
      "cell_type": "code",
      "metadata": {
        "colab": {
          "base_uri": "https://localhost:8080/"
        },
        "id": "RkGwe0DbMDpi",
        "outputId": "53a1392f-f979-4807-a040-87eaf06e87fc"
      },
      "source": [
        "run_vader(nlp, \n",
        "          sentences[1], \n",
        "          lemmatize=True, \n",
        "          parts_of_speech_to_consider={'NOUN'},\n",
        "          verbose=1)"
      ],
      "execution_count": 16,
      "outputs": [
        {
          "output_type": "stream",
          "name": "stdout",
          "text": [
            "\n",
            "INPUT SENTENCE It's a nice day.\n",
            "INPUT TO VADER ['day']\n",
            "VADER OUTPUT {'neg': 0.0, 'neu': 1.0, 'pos': 0.0, 'compound': 0.0}\n"
          ]
        },
        {
          "output_type": "execute_result",
          "data": {
            "text/plain": [
              "{'compound': 0.0, 'neg': 0.0, 'neu': 1.0, 'pos': 0.0}"
            ]
          },
          "metadata": {},
          "execution_count": 16
        }
      ]
    },
    {
      "cell_type": "markdown",
      "metadata": {
        "id": "P3I5nhTtMDpi"
      },
      "source": [
        "Please note that in this case, VADER only considers *day* to predict the sentiment score and ignores all other words. Do you agree with the assessment that *day* is neutral? I hope you have a great day!"
      ]
    },
    {
      "cell_type": "markdown",
      "metadata": {
        "id": "1LJbelGZMDpi"
      },
      "source": [
        "Only verbs:"
      ]
    },
    {
      "cell_type": "code",
      "metadata": {
        "colab": {
          "base_uri": "https://localhost:8080/"
        },
        "id": "n4LT9hDIMDpi",
        "outputId": "28120a64-149e-4948-960f-ef4fa3f3700d"
      },
      "source": [
        "run_vader(nlp, \n",
        "          sentences[1], \n",
        "          lemmatize=True, \n",
        "          parts_of_speech_to_consider={'VERB'},\n",
        "          verbose=1)"
      ],
      "execution_count": 17,
      "outputs": [
        {
          "output_type": "stream",
          "name": "stdout",
          "text": [
            "\n",
            "INPUT SENTENCE It's a nice day.\n",
            "INPUT TO VADER []\n",
            "VADER OUTPUT {'neg': 0.0, 'neu': 0.0, 'pos': 0.0, 'compound': 0.0}\n"
          ]
        },
        {
          "output_type": "execute_result",
          "data": {
            "text/plain": [
              "{'compound': 0.0, 'neg': 0.0, 'neu': 0.0, 'pos': 0.0}"
            ]
          },
          "metadata": {},
          "execution_count": 17
        }
      ]
    },
    {
      "cell_type": "markdown",
      "metadata": {
        "id": "rKr-LM-IMDpj"
      },
      "source": [
        "This is even more interesting. The part of speech label *VERB* is not applied to any of the tokens (*'s* is labeled as auxiliary and not with the label VERB). We have not provided VADER with input at all!"
      ]
    },
    {
      "cell_type": "markdown",
      "metadata": {
        "id": "McfFL6U3MDpj"
      },
      "source": [
        "Let's also try adjectives:"
      ]
    },
    {
      "cell_type": "code",
      "metadata": {
        "colab": {
          "base_uri": "https://localhost:8080/"
        },
        "id": "3p9Ygeo1MDpj",
        "outputId": "40f1387c-9746-4fd8-865a-ad6f53593ae8"
      },
      "source": [
        "run_vader(nlp,\n",
        "          sentences[1], \n",
        "          lemmatize=True, \n",
        "          parts_of_speech_to_consider={'ADJ'},\n",
        "          verbose=1)"
      ],
      "execution_count": 18,
      "outputs": [
        {
          "output_type": "stream",
          "name": "stdout",
          "text": [
            "\n",
            "INPUT SENTENCE It's a nice day.\n",
            "INPUT TO VADER ['nice']\n",
            "VADER OUTPUT {'neg': 0.0, 'neu': 0.0, 'pos': 1.0, 'compound': 0.4215}\n"
          ]
        },
        {
          "output_type": "execute_result",
          "data": {
            "text/plain": [
              "{'compound': 0.4215, 'neg': 0.0, 'neu': 0.0, 'pos': 1.0}"
            ]
          },
          "metadata": {},
          "execution_count": 18
        }
      ]
    },
    {
      "cell_type": "markdown",
      "metadata": {
        "id": "tBODHs9GMDpj"
      },
      "source": [
        "Very interesting! By only considering adjectives, i.e., *nice*, VADER predicts that the sentence is very positive! I hope that you start to get an understanding of how VADER works."
      ]
    },
    {
      "cell_type": "code",
      "metadata": {
        "id": "2GqldHcoMZU9"
      },
      "source": [
        ""
      ],
      "execution_count": 18,
      "outputs": []
    }
  ]
}