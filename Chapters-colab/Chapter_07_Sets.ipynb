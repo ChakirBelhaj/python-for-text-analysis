{
  "nbformat": 4,
  "nbformat_minor": 0,
  "metadata": {
    "kernelspec": {
      "display_name": "Python 3",
      "language": "python",
      "name": "python3"
    },
    "language_info": {
      "codemirror_mode": {
        "name": "ipython",
        "version": 3
      },
      "file_extension": ".py",
      "mimetype": "text/x-python",
      "name": "python",
      "nbconvert_exporter": "python",
      "pygments_lexer": "ipython3",
      "version": "3.8.3"
    },
    "colab": {
      "name": "Chapter 07 - Sets.ipynb",
      "provenance": [],
      "include_colab_link": true
    }
  },
  "cells": [
    {
      "cell_type": "markdown",
      "metadata": {
        "id": "view-in-github",
        "colab_type": "text"
      },
      "source": [
        "<a href=\"https://colab.research.google.com/github/cltl/python-for-text-analysis/blob/colab/Chapters-colab/Chapter_07_Sets.ipynb\" target=\"_parent\"><img src=\"https://colab.research.google.com/assets/colab-badge.svg\" alt=\"Open In Colab\"/></a>"
      ]
    },
    {
      "cell_type": "code",
      "metadata": {
        "id": "AtngOKiHAK2v"
      },
      "source": [
        "%%capture\n",
        "!wget https://github.com/cltl/python-for-text-analysis/raw/master/zips/Data.zip\n",
        "!wget https://github.com/cltl/python-for-text-analysis/raw/master/zips/images.zip\n",
        "!wget https://github.com/cltl/python-for-text-analysis/raw/master/zips/Extra_Material.zip\n",
        "\n",
        "!unzip Data.zip -d ../\n",
        "!unzip images.zip -d ./\n",
        "!unzip Extra_Material.zip -d ../\n",
        "\n",
        "!rm Data.zip\n",
        "!rm Extra_Materil.zip\n",
        "!rm images.zip"
      ],
      "execution_count": 1,
      "outputs": []
    },
    {
      "cell_type": "markdown",
      "metadata": {
        "id": "IfGIEVLeAKL6"
      },
      "source": [
        "# Chapter 7 - Sets\n",
        "This chapter will introduce a different kind of container: **sets**. Sets are unordered lists with no duplicate entries. You might wonder why we need different types of containers. We will postpone that discussion until chapter 8.\n",
        "\n",
        "**At the end of this chapter, you will be able to:**\n",
        "* create a set\n",
        "* add items to a set\n",
        "* extract/inspect items in a set\n",
        "\n",
        "**If you want to learn more about these topics, you might find the following links useful:**\n",
        "* [Python documentation](https://docs.python.org/3/tutorial/datastructures.html#sets)\n",
        "* [A tutorial on sets](https://www.learnpython.org/en/Sets)"
      ]
    },
    {
      "cell_type": "markdown",
      "metadata": {
        "id": "HLghYOyWAKL-"
      },
      "source": [
        "If you have **questions** about this chapter, please contact us **(cltl.python.course@gmail.com)**."
      ]
    },
    {
      "cell_type": "markdown",
      "metadata": {
        "id": "gp1bfbEDAKL-"
      },
      "source": [
        "## 1. How to create a set\n",
        "It's quite simple to create a set."
      ]
    },
    {
      "cell_type": "code",
      "metadata": {
        "colab": {
          "base_uri": "https://localhost:8080/"
        },
        "id": "4WyVzBm3AKL-",
        "outputId": "a9403c6e-74c8-453a-f0df-2f10c69d55c8"
      },
      "source": [
        "a_set = {1, 2, 3}\n",
        "a_set"
      ],
      "execution_count": 2,
      "outputs": [
        {
          "output_type": "execute_result",
          "data": {
            "text/plain": [
              "{1, 2, 3}"
            ]
          },
          "metadata": {},
          "execution_count": 2
        }
      ]
    },
    {
      "cell_type": "code",
      "metadata": {
        "colab": {
          "base_uri": "https://localhost:8080/"
        },
        "id": "t9u3k8YxAKMA",
        "outputId": "27a873b7-222f-49a1-cdd0-9bfdbe8b44b3"
      },
      "source": [
        "empty_set = set() # you have to use set() to create an empty set! (we will see why later)\n",
        "print(empty_set)"
      ],
      "execution_count": 3,
      "outputs": [
        {
          "output_type": "stream",
          "name": "stdout",
          "text": [
            "set()\n"
          ]
        }
      ]
    },
    {
      "cell_type": "markdown",
      "metadata": {
        "id": "ukYkFSG3AKMA"
      },
      "source": [
        "* Curly brackets surround sets, and commas separate the elements in the set\n",
        "* A set can be empty (use set() to create it)\n",
        "* Sets do not allow **duplicates**\n",
        "* sets are unordered (the order in which you add items is not important)\n",
        "* A set can **only contain immutable objects** (for now that means only **strings** and **integers** can be added)\n",
        "* A set can not contain **mutable objects**, hence no lists or sets"
      ]
    },
    {
      "cell_type": "markdown",
      "metadata": {
        "id": "Tx4rD8FoAKMB"
      },
      "source": [
        "Please note that sets do not allow **duplicates**. In the example below, the integer **1** will only be present once in the set."
      ]
    },
    {
      "cell_type": "code",
      "metadata": {
        "colab": {
          "base_uri": "https://localhost:8080/"
        },
        "id": "_d39_qM1AKMB",
        "outputId": "51b9855e-b952-4361-cc8d-c8f6fd4ad6b3"
      },
      "source": [
        "a_set = {1, 2, 1, 1}\n",
        "print(a_set)"
      ],
      "execution_count": 4,
      "outputs": [
        {
          "output_type": "stream",
          "name": "stdout",
          "text": [
            "{1, 2}\n"
          ]
        }
      ]
    },
    {
      "cell_type": "markdown",
      "metadata": {
        "id": "hCSPIcATAKMC"
      },
      "source": [
        "Please note that sets are **unordered**. This means that it can occur that if you print a set, it looks different than how you created it"
      ]
    },
    {
      "cell_type": "code",
      "metadata": {
        "colab": {
          "base_uri": "https://localhost:8080/"
        },
        "id": "EtQVqaPKAKMC",
        "outputId": "8a086d1b-cf21-42d9-af3c-847fcaba9791"
      },
      "source": [
        "a_set = {1, 3, 2}\n",
        "print(a_set)"
      ],
      "execution_count": 5,
      "outputs": [
        {
          "output_type": "stream",
          "name": "stdout",
          "text": [
            "{1, 2, 3}\n"
          ]
        }
      ]
    },
    {
      "cell_type": "markdown",
      "metadata": {
        "id": "h8CcrCPzAKMD"
      },
      "source": [
        "This also means that you can check if two sets are the same even if you don't know the order in which items were put in:"
      ]
    },
    {
      "cell_type": "code",
      "metadata": {
        "colab": {
          "base_uri": "https://localhost:8080/"
        },
        "id": "aOs_nGk3AKMD",
        "outputId": "7e5b946e-52bc-4379-a749-fdac7d5579d4"
      },
      "source": [
        "{1, 2, 3} == {2, 3, 1}"
      ],
      "execution_count": 6,
      "outputs": [
        {
          "output_type": "execute_result",
          "data": {
            "text/plain": [
              "True"
            ]
          },
          "metadata": {},
          "execution_count": 6
        }
      ]
    },
    {
      "cell_type": "markdown",
      "metadata": {
        "id": "AlEvQXtdAKME"
      },
      "source": [
        "Please note that sets can **only contain immutable objects**. Hence the following examples will work, since we are adding immutable objects"
      ]
    },
    {
      "cell_type": "code",
      "metadata": {
        "colab": {
          "base_uri": "https://localhost:8080/"
        },
        "id": "co4-Xgo-AKME",
        "outputId": "6b54f057-4d9e-42ea-8abd-b80ac6871d27"
      },
      "source": [
        "a_set = {1, 'a'}\n",
        "print(a_set)"
      ],
      "execution_count": 7,
      "outputs": [
        {
          "output_type": "stream",
          "name": "stdout",
          "text": [
            "{1, 'a'}\n"
          ]
        }
      ]
    },
    {
      "cell_type": "markdown",
      "metadata": {
        "id": "svRneXCYAKME"
      },
      "source": [
        "But the following example will result in an error, since we are trying to create a set with a **mutable object**"
      ]
    },
    {
      "cell_type": "code",
      "metadata": {
        "colab": {
          "base_uri": "https://localhost:8080/",
          "height": 165
        },
        "id": "mtN67DcsAKME",
        "outputId": "d0345e69-b869-4853-cc84-82a1b0853316"
      },
      "source": [
        "a_set = {1, []}"
      ],
      "execution_count": 8,
      "outputs": [
        {
          "output_type": "error",
          "ename": "TypeError",
          "evalue": "ignored",
          "traceback": [
            "\u001b[0;31m---------------------------------------------------------------------------\u001b[0m",
            "\u001b[0;31mTypeError\u001b[0m                                 Traceback (most recent call last)",
            "\u001b[0;32m<ipython-input-8-b325c096e5b3>\u001b[0m in \u001b[0;36m<module>\u001b[0;34m()\u001b[0m\n\u001b[0;32m----> 1\u001b[0;31m \u001b[0ma_set\u001b[0m \u001b[0;34m=\u001b[0m \u001b[0;34m{\u001b[0m\u001b[0;36m1\u001b[0m\u001b[0;34m,\u001b[0m \u001b[0;34m[\u001b[0m\u001b[0;34m]\u001b[0m\u001b[0;34m}\u001b[0m\u001b[0;34m\u001b[0m\u001b[0;34m\u001b[0m\u001b[0m\n\u001b[0m",
            "\u001b[0;31mTypeError\u001b[0m: unhashable type: 'list'"
          ]
        }
      ]
    },
    {
      "cell_type": "markdown",
      "metadata": {
        "id": "QjfKEaHJAKMF"
      },
      "source": [
        "## 2. How to add items to a set\n",
        "The most common way of adding an item to a set is by using the **add** method. The **add** method has one positional parameter, namely what you are going to add to the set, and it returns None. "
      ]
    },
    {
      "cell_type": "code",
      "metadata": {
        "colab": {
          "base_uri": "https://localhost:8080/"
        },
        "id": "6A0D_5saAKMF",
        "outputId": "e8dfa92d-449a-493f-ef6c-1f6017729c79"
      },
      "source": [
        "a_set = set()\n",
        "a_set.add(1)\n",
        "print(a_set)"
      ],
      "execution_count": 9,
      "outputs": [
        {
          "output_type": "stream",
          "name": "stdout",
          "text": [
            "{1}\n"
          ]
        }
      ]
    },
    {
      "cell_type": "code",
      "metadata": {
        "colab": {
          "base_uri": "https://localhost:8080/"
        },
        "id": "jxEJZ9GAAKMF",
        "outputId": "83131306-88a9-4ae7-e5c3-cddc97a359ce"
      },
      "source": [
        "a_set = set()\n",
        "a_set = a_set.add(1)\n",
        "print(a_set)"
      ],
      "execution_count": 10,
      "outputs": [
        {
          "output_type": "stream",
          "name": "stdout",
          "text": [
            "None\n"
          ]
        }
      ]
    },
    {
      "cell_type": "markdown",
      "metadata": {
        "id": "Xe1QlcfIAKMG"
      },
      "source": [
        "## 3. How to extract/inspect items in a set"
      ]
    },
    {
      "cell_type": "markdown",
      "metadata": {
        "id": "9kwLSltXAKMG"
      },
      "source": [
        "When you use sets, you usually want to **compare the elements of different sets**, for instance, to determine how much overlap there is or how many of the items in set1 are not members of set2. Sets can be used to carry out mathematical set operations like **union**, **intersection**, **difference**, and **symmetric difference**. Please take a look at [this website](https://www.programiz.com/python-programming/set) if you prefer a more visual and more complete explanation. "
      ]
    },
    {
      "cell_type": "markdown",
      "metadata": {
        "id": "rjPSComZAKMG"
      },
      "source": [
        "You can ask Python to show you all the set methods by using **dir**. All the methods that do not start with '__' are relevant for you."
      ]
    },
    {
      "cell_type": "code",
      "metadata": {
        "colab": {
          "base_uri": "https://localhost:8080/"
        },
        "id": "vEHb8EVmAKMG",
        "outputId": "235466e8-28bd-497f-9a23-3474eb813061"
      },
      "source": [
        "dir(set)"
      ],
      "execution_count": 11,
      "outputs": [
        {
          "output_type": "execute_result",
          "data": {
            "text/plain": [
              "['__and__',\n",
              " '__class__',\n",
              " '__contains__',\n",
              " '__delattr__',\n",
              " '__dir__',\n",
              " '__doc__',\n",
              " '__eq__',\n",
              " '__format__',\n",
              " '__ge__',\n",
              " '__getattribute__',\n",
              " '__gt__',\n",
              " '__hash__',\n",
              " '__iand__',\n",
              " '__init__',\n",
              " '__init_subclass__',\n",
              " '__ior__',\n",
              " '__isub__',\n",
              " '__iter__',\n",
              " '__ixor__',\n",
              " '__le__',\n",
              " '__len__',\n",
              " '__lt__',\n",
              " '__ne__',\n",
              " '__new__',\n",
              " '__or__',\n",
              " '__rand__',\n",
              " '__reduce__',\n",
              " '__reduce_ex__',\n",
              " '__repr__',\n",
              " '__ror__',\n",
              " '__rsub__',\n",
              " '__rxor__',\n",
              " '__setattr__',\n",
              " '__sizeof__',\n",
              " '__str__',\n",
              " '__sub__',\n",
              " '__subclasshook__',\n",
              " '__xor__',\n",
              " 'add',\n",
              " 'clear',\n",
              " 'copy',\n",
              " 'difference',\n",
              " 'difference_update',\n",
              " 'discard',\n",
              " 'intersection',\n",
              " 'intersection_update',\n",
              " 'isdisjoint',\n",
              " 'issubset',\n",
              " 'issuperset',\n",
              " 'pop',\n",
              " 'remove',\n",
              " 'symmetric_difference',\n",
              " 'symmetric_difference_update',\n",
              " 'union',\n",
              " 'update']"
            ]
          },
          "metadata": {},
          "execution_count": 11
        }
      ]
    },
    {
      "cell_type": "markdown",
      "metadata": {
        "id": "-rktAENrAKMH"
      },
      "source": [
        "You observe that there are many methods defined for sets! Here we explain the two most common methods. We start with the **union** method."
      ]
    },
    {
      "cell_type": "code",
      "metadata": {
        "colab": {
          "base_uri": "https://localhost:8080/"
        },
        "id": "qbscG9zhAKMH",
        "outputId": "1a5ac0b0-622d-4221-c798-cf12f9ee11ca"
      },
      "source": [
        "help(set.union)"
      ],
      "execution_count": 12,
      "outputs": [
        {
          "output_type": "stream",
          "name": "stdout",
          "text": [
            "Help on method_descriptor:\n",
            "\n",
            "union(...)\n",
            "    Return the union of sets as a new set.\n",
            "    \n",
            "    (i.e. all elements that are in either set.)\n",
            "\n"
          ]
        }
      ]
    },
    {
      "cell_type": "markdown",
      "metadata": {
        "id": "4dB6SRAhAKMH"
      },
      "source": [
        "Python shows dots (...) for the parameters of the **union** method. Based on the docstring, we learn that we can provide any number of sets, and Python will return the union of them."
      ]
    },
    {
      "cell_type": "code",
      "metadata": {
        "colab": {
          "base_uri": "https://localhost:8080/"
        },
        "id": "2QtrZcXmAKMH",
        "outputId": "e6b3ff73-1285-4faf-fb49-c16c140208fa"
      },
      "source": [
        "set1 = {1, 2, 3, 4, 5}\n",
        "set2 = {4, 5, 6, 7, 8}\n",
        "\n",
        "the_union = set1.union(set2)\n",
        "print(the_union)"
      ],
      "execution_count": 13,
      "outputs": [
        {
          "output_type": "stream",
          "name": "stdout",
          "text": [
            "{1, 2, 3, 4, 5, 6, 7, 8}\n"
          ]
        }
      ]
    },
    {
      "cell_type": "code",
      "metadata": {
        "colab": {
          "base_uri": "https://localhost:8080/"
        },
        "id": "aH5oxM4FAKMI",
        "outputId": "db8855d7-2940-4372-a867-6daf0ce94d21"
      },
      "source": [
        "set1 = {1, 2, 3, 4, 5}\n",
        "set2 = {4, 5, 6, 7, 8}\n",
        "set3 = {5, 6, 7, 8, 9}\n",
        "\n",
        "the_union = set1.union(set2, set3)\n",
        "print(the_union)"
      ],
      "execution_count": 14,
      "outputs": [
        {
          "output_type": "stream",
          "name": "stdout",
          "text": [
            "{1, 2, 3, 4, 5, 6, 7, 8, 9}\n"
          ]
        }
      ]
    },
    {
      "cell_type": "markdown",
      "metadata": {
        "id": "G1sgDKBcAKMI"
      },
      "source": [
        "The **intersection** method has works in a similar manner as the **union** method, but returns a new set containing only the intersection of the sets."
      ]
    },
    {
      "cell_type": "code",
      "metadata": {
        "colab": {
          "base_uri": "https://localhost:8080/"
        },
        "id": "oBE1Z1hRAKMI",
        "outputId": "ce74a8ef-cffb-4612-de3f-e66a9bbcbe27"
      },
      "source": [
        "help(set.intersection)"
      ],
      "execution_count": 15,
      "outputs": [
        {
          "output_type": "stream",
          "name": "stdout",
          "text": [
            "Help on method_descriptor:\n",
            "\n",
            "intersection(...)\n",
            "    Return the intersection of two sets as a new set.\n",
            "    \n",
            "    (i.e. all elements that are in both sets.)\n",
            "\n"
          ]
        }
      ]
    },
    {
      "cell_type": "code",
      "metadata": {
        "colab": {
          "base_uri": "https://localhost:8080/"
        },
        "id": "cLUYNl3XAKMI",
        "outputId": "0fed8e9c-f0c9-4e35-b3ed-4a6eaf01d70b"
      },
      "source": [
        "set1 = {1, 2, 3, 4, 5}\n",
        "set2 = {4, 5, 6, 7, 8}\n",
        "the_intersection = set1.intersection(set2)\n",
        "print(the_intersection)"
      ],
      "execution_count": 16,
      "outputs": [
        {
          "output_type": "stream",
          "name": "stdout",
          "text": [
            "{4, 5}\n"
          ]
        }
      ]
    },
    {
      "cell_type": "code",
      "metadata": {
        "colab": {
          "base_uri": "https://localhost:8080/"
        },
        "id": "Jjperpk0AKMI",
        "outputId": "6621f650-8c06-4064-cb46-f1ea571905df"
      },
      "source": [
        "set1 = {1, 2, 3, 4, 5}\n",
        "set2 = {4, 5, 6, 7, 8}\n",
        "set3 = {5, 8, 9, 10}\n",
        "the_intersection = set1.intersection(set2, set3)\n",
        "print(the_intersection)"
      ],
      "execution_count": 17,
      "outputs": [
        {
          "output_type": "stream",
          "name": "stdout",
          "text": [
            "{5}\n"
          ]
        }
      ]
    },
    {
      "cell_type": "markdown",
      "metadata": {
        "id": "IiB4Ma6YAKMI"
      },
      "source": [
        "Since sets are **unordered**, you can **not** use an index to extract an element from a set."
      ]
    },
    {
      "cell_type": "code",
      "metadata": {
        "colab": {
          "base_uri": "https://localhost:8080/",
          "height": 200
        },
        "id": "Cj7nn4OIAKMJ",
        "outputId": "9892ea43-8f32-4bc3-ee60-da0a489e5909"
      },
      "source": [
        "a_set = set()\n",
        "a_set.add(1)\n",
        "a_set.add(2)\n",
        "a_set[0]"
      ],
      "execution_count": 18,
      "outputs": [
        {
          "output_type": "error",
          "ename": "TypeError",
          "evalue": "ignored",
          "traceback": [
            "\u001b[0;31m---------------------------------------------------------------------------\u001b[0m",
            "\u001b[0;31mTypeError\u001b[0m                                 Traceback (most recent call last)",
            "\u001b[0;32m<ipython-input-18-e9d1ab764701>\u001b[0m in \u001b[0;36m<module>\u001b[0;34m()\u001b[0m\n\u001b[1;32m      2\u001b[0m \u001b[0ma_set\u001b[0m\u001b[0;34m.\u001b[0m\u001b[0madd\u001b[0m\u001b[0;34m(\u001b[0m\u001b[0;36m1\u001b[0m\u001b[0;34m)\u001b[0m\u001b[0;34m\u001b[0m\u001b[0;34m\u001b[0m\u001b[0m\n\u001b[1;32m      3\u001b[0m \u001b[0ma_set\u001b[0m\u001b[0;34m.\u001b[0m\u001b[0madd\u001b[0m\u001b[0;34m(\u001b[0m\u001b[0;36m2\u001b[0m\u001b[0;34m)\u001b[0m\u001b[0;34m\u001b[0m\u001b[0;34m\u001b[0m\u001b[0m\n\u001b[0;32m----> 4\u001b[0;31m \u001b[0ma_set\u001b[0m\u001b[0;34m[\u001b[0m\u001b[0;36m0\u001b[0m\u001b[0;34m]\u001b[0m\u001b[0;34m\u001b[0m\u001b[0;34m\u001b[0m\u001b[0m\n\u001b[0m",
            "\u001b[0;31mTypeError\u001b[0m: 'set' object is not subscriptable"
          ]
        }
      ]
    },
    {
      "cell_type": "markdown",
      "metadata": {
        "id": "WVu6LvI-AKMJ"
      },
      "source": [
        "## 4. Using built-in functions on sets\n",
        "The same range of **functions that operate on lists** also work with sets. We can easily get some simple calculations done with these functions:"
      ]
    },
    {
      "cell_type": "code",
      "metadata": {
        "colab": {
          "base_uri": "https://localhost:8080/"
        },
        "id": "UqpG6BAGAKMJ",
        "outputId": "056b5ed3-d2c5-44f8-b74c-6b3389b05af3"
      },
      "source": [
        "nums = {3, 41, 12, 9, 74, 15}\n",
        "print(len(nums)) # number of items in a set\n",
        "print(max(nums)) # highest value in a set\n",
        "print(min(nums)) # lowest value in a set\n",
        "print(sum(nums)) # sum of all values in a set"
      ],
      "execution_count": 19,
      "outputs": [
        {
          "output_type": "stream",
          "name": "stdout",
          "text": [
            "6\n",
            "74\n",
            "3\n",
            "154\n"
          ]
        }
      ]
    },
    {
      "cell_type": "markdown",
      "metadata": {
        "id": "x8JGK5fDAKMJ"
      },
      "source": [
        "## 5. An overview of set operations\n",
        "There are many more operations which we can perform on sets. Here is an overview of some of them.\n",
        "In order to get used to them, please call the **help** function on each of them (e.g., help(set.union)). This will give you the information about the positional parameters, keyword parameters, and what is returned by the method."
      ]
    },
    {
      "cell_type": "code",
      "metadata": {
        "colab": {
          "base_uri": "https://localhost:8080/"
        },
        "id": "vdCi2EhbAKMJ",
        "outputId": "0473276e-6490-464c-f541-d8899f111696"
      },
      "source": [
        "set_a = {1, 2, 3}\n",
        "set_b = {4, 5, 6}\n",
        "an_element = 4\n",
        "\n",
        "\n",
        "print(set_a)\n",
        "\n",
        "#do some operations \n",
        "set_a.add(an_element)  # Add an_element to set_a\n",
        "print(set_a)\n",
        "set_a.update(set_b)     # Add the elements of set_b to set_a\n",
        "print(set_a)\n",
        "set_a.pop()         # Remove and return an arbitrary set element. How does this compare to the list method pop?\n",
        "print(set_a)\n",
        "set_a.remove(an_element)     # Remove an_element from set_a\n",
        "print(set_a)\n",
        "\n"
      ],
      "execution_count": 20,
      "outputs": [
        {
          "output_type": "stream",
          "name": "stdout",
          "text": [
            "{1, 2, 3}\n",
            "{1, 2, 3, 4}\n",
            "{1, 2, 3, 4, 5, 6}\n",
            "{2, 3, 4, 5, 6}\n",
            "{2, 3, 5, 6}\n"
          ]
        }
      ]
    },
    {
      "cell_type": "markdown",
      "metadata": {
        "id": "5dsYwFxVAKMK"
      },
      "source": [
        "Before diving into some exercises, you may want to the **dir** built-in function again to see an overview of all set methods:"
      ]
    },
    {
      "cell_type": "code",
      "metadata": {
        "colab": {
          "base_uri": "https://localhost:8080/"
        },
        "id": "XYmsPZjbAKMK",
        "outputId": "285d62aa-f02d-4590-eebc-267c75c0ac91"
      },
      "source": [
        "dir(set)"
      ],
      "execution_count": 21,
      "outputs": [
        {
          "output_type": "execute_result",
          "data": {
            "text/plain": [
              "['__and__',\n",
              " '__class__',\n",
              " '__contains__',\n",
              " '__delattr__',\n",
              " '__dir__',\n",
              " '__doc__',\n",
              " '__eq__',\n",
              " '__format__',\n",
              " '__ge__',\n",
              " '__getattribute__',\n",
              " '__gt__',\n",
              " '__hash__',\n",
              " '__iand__',\n",
              " '__init__',\n",
              " '__init_subclass__',\n",
              " '__ior__',\n",
              " '__isub__',\n",
              " '__iter__',\n",
              " '__ixor__',\n",
              " '__le__',\n",
              " '__len__',\n",
              " '__lt__',\n",
              " '__ne__',\n",
              " '__new__',\n",
              " '__or__',\n",
              " '__rand__',\n",
              " '__reduce__',\n",
              " '__reduce_ex__',\n",
              " '__repr__',\n",
              " '__ror__',\n",
              " '__rsub__',\n",
              " '__rxor__',\n",
              " '__setattr__',\n",
              " '__sizeof__',\n",
              " '__str__',\n",
              " '__sub__',\n",
              " '__subclasshook__',\n",
              " '__xor__',\n",
              " 'add',\n",
              " 'clear',\n",
              " 'copy',\n",
              " 'difference',\n",
              " 'difference_update',\n",
              " 'discard',\n",
              " 'intersection',\n",
              " 'intersection_update',\n",
              " 'isdisjoint',\n",
              " 'issubset',\n",
              " 'issuperset',\n",
              " 'pop',\n",
              " 'remove',\n",
              " 'symmetric_difference',\n",
              " 'symmetric_difference_update',\n",
              " 'union',\n",
              " 'update']"
            ]
          },
          "metadata": {},
          "execution_count": 21
        }
      ]
    },
    {
      "cell_type": "markdown",
      "metadata": {
        "id": "yjch1Z11AKMK"
      },
      "source": [
        "## Exercises"
      ]
    },
    {
      "cell_type": "markdown",
      "metadata": {
        "id": "TYuXeJ-rAKMK"
      },
      "source": [
        "**Exercise 1:**\n",
        "\n",
        "Please create an empty set and use the **add** method to add four items to it: 'a', 'set', 'is', 'born'"
      ]
    },
    {
      "cell_type": "code",
      "metadata": {
        "id": "gALJl2bgAKMK"
      },
      "source": [
        ""
      ],
      "execution_count": 21,
      "outputs": []
    },
    {
      "cell_type": "markdown",
      "metadata": {
        "id": "lTX-smFZAKMK"
      },
      "source": [
        "**Exercise 2:**\n",
        "\n",
        "Please use a built-in method to **count** how many items your set has"
      ]
    },
    {
      "cell_type": "code",
      "metadata": {
        "id": "LZSoOdYnAKMK"
      },
      "source": [
        ""
      ],
      "execution_count": 21,
      "outputs": []
    },
    {
      "cell_type": "markdown",
      "metadata": {
        "id": "WqhVgojlAKMK"
      },
      "source": [
        "**Exercise 3:**\n",
        "\n",
        "How would you **remove** one item from the set?"
      ]
    },
    {
      "cell_type": "code",
      "metadata": {
        "id": "FdaYj7WxAKMK"
      },
      "source": [
        ""
      ],
      "execution_count": 21,
      "outputs": []
    },
    {
      "cell_type": "markdown",
      "metadata": {
        "id": "_zQZZynUAKML"
      },
      "source": [
        "**Exercise 4:**\n",
        "\n",
        "Please check which items are in both sets:"
      ]
    },
    {
      "cell_type": "code",
      "metadata": {
        "id": "sCiuArV9AKML"
      },
      "source": [
        "set_1 = {'just', 'some', 'words'}\n",
        "set_2 = {'some', 'other', 'words'}\n",
        "# your code here"
      ],
      "execution_count": 22,
      "outputs": []
    },
    {
      "cell_type": "code",
      "metadata": {
        "id": "BD6xoDrQAKML"
      },
      "source": [
        ""
      ],
      "execution_count": 22,
      "outputs": []
    }
  ]
}