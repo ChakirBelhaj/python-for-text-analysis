{
  "nbformat": 4,
  "nbformat_minor": 0,
  "metadata": {
    "anaconda-cloud": {},
    "kernelspec": {
      "display_name": "Python 3",
      "language": "python",
      "name": "python3"
    },
    "language_info": {
      "codemirror_mode": {
        "name": "ipython",
        "version": 3
      },
      "file_extension": ".py",
      "mimetype": "text/x-python",
      "name": "python",
      "nbconvert_exporter": "python",
      "pygments_lexer": "ipython3",
      "version": "3.8.3"
    },
    "colab": {
      "name": "Chapter 05 - Core concepts of containers.ipynb",
      "provenance": [],
      "include_colab_link": true
    }
  },
  "cells": [
    {
      "cell_type": "markdown",
      "metadata": {
        "id": "view-in-github",
        "colab_type": "text"
      },
      "source": [
        "<a href=\"https://colab.research.google.com/github/cltl/python-for-text-analysis/blob/colab/Chapters-colab/Chapter_05_Core_concepts_of_containers.ipynb\" target=\"_parent\"><img src=\"https://colab.research.google.com/assets/colab-badge.svg\" alt=\"Open In Colab\"/></a>"
      ]
    },
    {
      "cell_type": "code",
      "metadata": {
        "id": "bErmbtAO_TqF"
      },
      "source": [
        "%%capture\n",
        "!wget https://github.com/cltl/python-for-text-analysis/raw/master/zips/Data.zip\n",
        "!wget https://github.com/cltl/python-for-text-analysis/raw/master/zips/images.zip\n",
        "!wget https://github.com/cltl/python-for-text-analysis/raw/master/zips/Extra_Material.zip\n",
        "\n",
        "!unzip Data.zip -d ../\n",
        "!unzip images.zip -d ./\n",
        "!unzip Extra_Material.zip -d ../\n",
        "\n",
        "!rm Data.zip\n",
        "!rm Extra_Materil.zip\n",
        "!rm images.zip"
      ],
      "execution_count": 1,
      "outputs": []
    },
    {
      "cell_type": "markdown",
      "metadata": {
        "id": "pNdc1viw_TJE"
      },
      "source": [
        "# Chapter 5 - Core concepts of containers\n",
        "In the next chapters, we will introduce the most important containers in the Python language: **lists**, **sets**, **tuples**, and **dictionaries**. However, before we introduce them, it's important that we present some things that they all share, which is the goal of this chapter."
      ]
    },
    {
      "cell_type": "markdown",
      "metadata": {
        "id": "oUu1eItx_TJJ"
      },
      "source": [
        "**At the end of this chapter, you will be able to understand the following concepts:**\n",
        "* positional parameters\n",
        "* keyword parameters\n",
        "* [positional-only arguments](https://deepsource.io/blog/python-positional-only-arguments/)\n",
        "* mutability"
      ]
    },
    {
      "cell_type": "markdown",
      "metadata": {
        "id": "NRrwmaiw_TJK"
      },
      "source": [
        "**If you want to learn more about these topics, you might find the following links useful:**\n",
        "* [the Python glossary](https://docs.python.org/3/glossary.html): please look for the terms *immutable*, *parameter*, and *argument*\n",
        "* [What is the difference between arguments and parameters?](https://docs.python.org/3/faq/programming.html#faq-argument-vs-parameter)"
      ]
    },
    {
      "cell_type": "markdown",
      "metadata": {
        "id": "_4Ro2Kfu_TJK"
      },
      "source": [
        "If you have **questions** about this chapter, please contact us **(cltl.python.course@gmail.com)**."
      ]
    },
    {
      "cell_type": "markdown",
      "metadata": {
        "id": "xDtuzTEQ_TJL"
      },
      "source": [
        "## 1. Containers\n",
        "\n",
        "When working with data, we use different Python objects (which we summarize **containers**) to order data in a way that is convenient for the task we are trying to solve. Each of the following container types has different advantages for storing and accessing data (which you will learn about in the following chapters):\n",
        "\n",
        "* lists\n",
        "* tuples\n",
        "* sets\n",
        "* dictionaries\n",
        "\n",
        "Each container type can be manipulated using different methods and functions, for instance, allowing us to add, access, or remove data. It is important that you understand those."
      ]
    },
    {
      "cell_type": "code",
      "metadata": {
        "id": "8E1uTSbB_TJL"
      },
      "source": [
        "# Some examples (you do not have to remember this now):\n",
        "\n",
        "a_list = [1,2,3, \"let's\", \"use\", \"containers\"]\n",
        "a_tuple = (1, 2, 3, \"let's\", \"use\", \"containers\")\n",
        "a_set = {1, 2, 3, \"let's\", \"use\", \"containers\"}\n",
        "a_dict = {1:\"let's\",  2:\"use\", 3: \"containers\"}\n",
        "\n",
        "#print(a_list)\n",
        "#print(a_tuple)\n",
        "#print(a_set)\n",
        "#print(a_dict)"
      ],
      "execution_count": 2,
      "outputs": []
    },
    {
      "cell_type": "markdown",
      "metadata": {
        "id": "K8e-VM4J_TJN"
      },
      "source": [
        "## 2. Understanding class methods\n",
        "Let's look at some string method examples from the last chapters:"
      ]
    },
    {
      "cell_type": "code",
      "metadata": {
        "colab": {
          "base_uri": "https://localhost:8080/"
        },
        "id": "0OsBrKqO_TJN",
        "outputId": "e0121e94-f44f-49b4-b52c-7ca4d3067c2b"
      },
      "source": [
        "a_string = 'hello world'\n",
        "print('example 1. upper method:', a_string.upper())\n",
        "print('example 2. count method:', a_string.count('l'))\n",
        "print('example 3. replace method:', a_string.replace('l', 'b'))\n",
        "print('example 4. split method:', a_string.split())\n",
        "print('example 5. split method:', a_string.split(sep='o'))"
      ],
      "execution_count": 3,
      "outputs": [
        {
          "output_type": "stream",
          "name": "stdout",
          "text": [
            "example 1. upper method: HELLO WORLD\n",
            "example 2. count method: 3\n",
            "example 3. replace method: hebbo worbd\n",
            "example 4. split method: ['hello', 'world']\n",
            "example 5. split method: ['hell', ' w', 'rld']\n"
          ]
        }
      ]
    },
    {
      "cell_type": "markdown",
      "metadata": {
        "id": "mpJqFCFi_TJP"
      },
      "source": [
        "In all of the examples above, a string method is called, e.g., *upper* or *count*.\n",
        "However, they differ regarding their arguments:\n",
        "* There are no arguments in the case of upper, i.e., no arguments between the round brackets.\n",
        "* for count, we specify a string 'l' as an argument\n",
        "* for replace, we specify two strings as arguments\n",
        "* for split, we can specify an argument, but we do not have to\n",
        "\n",
        "This might look a bit confusing. Luckily Python has a built-in function **help**, which provides us insight into how to use each method. We will guide you through understanding the information provided for the string method **replace**."
      ]
    },
    {
      "cell_type": "code",
      "metadata": {
        "colab": {
          "base_uri": "https://localhost:8080/"
        },
        "id": "4jdbs-Vl_TJP",
        "outputId": "c3a29aee-ce46-4368-d10f-825232302309"
      },
      "source": [
        "help(str.replace)"
      ],
      "execution_count": 4,
      "outputs": [
        {
          "output_type": "stream",
          "name": "stdout",
          "text": [
            "Help on method_descriptor:\n",
            "\n",
            "replace(self, old, new, count=-1, /)\n",
            "    Return a copy with all occurrences of substring old replaced by new.\n",
            "    \n",
            "      count\n",
            "        Maximum number of occurrences to replace.\n",
            "        -1 (the default value) means replace all occurrences.\n",
            "    \n",
            "    If the optional argument count is given, only the first count occurrences are\n",
            "    replaced.\n",
            "\n"
          ]
        }
      ]
    },
    {
      "cell_type": "markdown",
      "metadata": {
        "id": "hZZxDOsd_TJQ"
      },
      "source": [
        "The method documentation contains three parts:\n",
        "1. **data structure**: sentence starting with *Help on*. This simply indicates the data structure for which information is shown, which is a method in this case.\n",
        "2. **parameters**: information about the parameters of the method, i.e., **replace(self, old, new, count=-1, /)**. This is the most important part of the documentation.\n",
        "3. **docstring**: explanation about the method in free text"
      ]
    },
    {
      "cell_type": "markdown",
      "metadata": {
        "id": "No-MdTqS_TJQ"
      },
      "source": [
        "Let's go through the parameters of the string method **replace**:\n",
        "* *self*: for now, the only thing to remember about *self* is that it tells you that replace is a method and that you should ignore it when calling the method!\n",
        "* *old*: this is a positional parameter\n",
        "* *new*: this is a positional parameter\n",
        "* *count=-1*: this is a keyword parameter, meaning that it has a default value, i.e., -1\n",
        "* */* (forward slash): for now, please ignore, we will come back to this."
      ]
    },
    {
      "cell_type": "markdown",
      "metadata": {
        "id": "Q4K4YXfp_TJR"
      },
      "source": [
        "In the enumeration above, we've used the terms **positional parameter** and **keyword parameter**. What are they, and in what do they differ?\n",
        "* Positional parameters are **compulsory** to call a method. Without them, you will not successfully call the method.\n",
        "* Keyword parameters are **optional**. They have a default value, e.g., -1 in the case of *count*, and are optional."
      ]
    },
    {
      "cell_type": "markdown",
      "metadata": {
        "id": "rBHqnOrd_TJR"
      },
      "source": [
        "Let's put this to the test! Since **positional parameters** are needed to call our method, we should be able to call the method by specifying a value for *old* and *new*, but not for *count*. The value for *old* is 'r', and the value for *new* is 'c'."
      ]
    },
    {
      "cell_type": "code",
      "metadata": {
        "colab": {
          "base_uri": "https://localhost:8080/"
        },
        "id": "SuBoZF8O_TJR",
        "outputId": "8567351b-70e5-48d7-da1a-4c7719599726"
      },
      "source": [
        "a_string = 'rats are the best.'\n",
        "result = a_string.replace('r', 'c') \n",
        "print(result)"
      ],
      "execution_count": 5,
      "outputs": [
        {
          "output_type": "stream",
          "name": "stdout",
          "text": [
            "cats ace the best.\n"
          ]
        }
      ]
    },
    {
      "cell_type": "markdown",
      "metadata": {
        "id": "RvBu7myA_TJS"
      },
      "source": [
        "It worked! We've called the string method by only providing a value for the positional parameters. However, what if we are not happy with the provided default value, can we override it?\n",
        "Let's try this. The keyword parameter *count* allows us to indicate how many times to replace a substring. Let's try to only replace 'r' to 'c' one time."
      ]
    },
    {
      "cell_type": "code",
      "metadata": {
        "colab": {
          "base_uri": "https://localhost:8080/"
        },
        "id": "lnvSajSk_TJS",
        "outputId": "17c132b0-62c4-41eb-cf5e-5cc83bf8424a"
      },
      "source": [
        "a_string = 'rats are the best.'\n",
        "result = a_string.replace('r', 'c', 1) \n",
        "print(result)"
      ],
      "execution_count": 6,
      "outputs": [
        {
          "output_type": "stream",
          "name": "stdout",
          "text": [
            "cats are the best.\n"
          ]
        }
      ]
    },
    {
      "cell_type": "markdown",
      "metadata": {
        "id": "TsBFzFtZ_TJS"
      },
      "source": [
        "Yes! We've provided a value for *count*, e.g., 1, and now 'r' is only replaced once with 'c'. Luckily, the 'r' in 'are' has not been replaced."
      ]
    },
    {
      "cell_type": "markdown",
      "metadata": {
        "id": "P1pKjgou_TJS"
      },
      "source": [
        "We will now move on to the string method **split**."
      ]
    },
    {
      "cell_type": "code",
      "metadata": {
        "colab": {
          "base_uri": "https://localhost:8080/"
        },
        "id": "ZZGt2lng_TJS",
        "outputId": "4e9f05fd-360f-44ad-9c70-07d1abac3996"
      },
      "source": [
        "help(str.split)"
      ],
      "execution_count": 7,
      "outputs": [
        {
          "output_type": "stream",
          "name": "stdout",
          "text": [
            "Help on method_descriptor:\n",
            "\n",
            "split(self, /, sep=None, maxsplit=-1)\n",
            "    Return a list of the words in the string, using sep as the delimiter string.\n",
            "    \n",
            "    sep\n",
            "      The delimiter according which to split the string.\n",
            "      None (the default value) means split according to any whitespace,\n",
            "      and discard empty strings from the result.\n",
            "    maxsplit\n",
            "      Maximum number of splits to do.\n",
            "      -1 (the default value) means no limit.\n",
            "\n"
          ]
        }
      ]
    },
    {
      "cell_type": "markdown",
      "metadata": {
        "id": "Yh08ij4C_TJT"
      },
      "source": [
        "Let's go through the parameters of the string method **split**:\n",
        "* *self*: for now, the only thing to remember about *self* is that it tells you that replace is a method and that you should ignore it in calling the method!\n",
        "* */* (forward slash): for now, please ignore, we will come back to this.\n",
        "* *sep=None*: this is a keyword parameter, meaning that it has a default value, i.e., None.\n",
        "* *maxsplit=-1*: this is a keyword parameter, by which you can indicate how many times to split."
      ]
    },
    {
      "cell_type": "markdown",
      "metadata": {
        "id": "gbMh1_jt_TJT"
      },
      "source": [
        "Since **split** has no positional parameters, we should be able to call the method without providing arguments."
      ]
    },
    {
      "cell_type": "code",
      "metadata": {
        "colab": {
          "base_uri": "https://localhost:8080/"
        },
        "id": "LaOonFma_TJT",
        "outputId": "a5d2a151-33c9-4ebc-aca0-4b5c6ff0055f"
      },
      "source": [
        "a_string = 'USA Today has come out with a new survey: Apparently three out of four people make up 75 percent of the population.'\n",
        "words = a_string.split()\n",
        "print(words)"
      ],
      "execution_count": 8,
      "outputs": [
        {
          "output_type": "stream",
          "name": "stdout",
          "text": [
            "['USA', 'Today', 'has', 'come', 'out', 'with', 'a', 'new', 'survey:', 'Apparently', 'three', 'out', 'of', 'four', 'people', 'make', 'up', '75', 'percent', 'of', 'the', 'population.']\n"
          ]
        }
      ]
    },
    {
      "cell_type": "markdown",
      "metadata": {
        "id": "UU_oiKvi_TJU"
      },
      "source": [
        "And that is correct! Of course, we can specify a value for the keyword parameters. We provide the a space ' ' for *sep* and 2 for *maxsplit*."
      ]
    },
    {
      "cell_type": "code",
      "metadata": {
        "colab": {
          "base_uri": "https://localhost:8080/"
        },
        "id": "pQl997E3_TJU",
        "outputId": "48e03e05-db67-4eb0-dd1d-fc326d3d6333"
      },
      "source": [
        "a_string = 'USA Today has come out with a new survey: Apparently three out of four people make up 75 percent of the population.'\n",
        "words = a_string.split(' ', 2)\n",
        "print(words)"
      ],
      "execution_count": 9,
      "outputs": [
        {
          "output_type": "stream",
          "name": "stdout",
          "text": [
            "['USA', 'Today', 'has come out with a new survey: Apparently three out of four people make up 75 percent of the population.']\n"
          ]
        }
      ]
    },
    {
      "cell_type": "markdown",
      "metadata": {
        "id": "JuN6S_gl_TJU"
      },
      "source": [
        "Please note that we have splitted the string on a space ' ' two times."
      ]
    },
    {
      "cell_type": "markdown",
      "metadata": {
        "id": "gneDe5Pn_TJU"
      },
      "source": [
        "Try and play with with the split function: (e.g. how does split(' ') differ from split()?)"
      ]
    },
    {
      "cell_type": "markdown",
      "metadata": {
        "id": "J4cBp4k2_TJU"
      },
      "source": [
        "## 2.1 The forward slash\n",
        "So far, we have not explained the forward slash in the parameters. Here, we highlight its importance to calling a method. We show two examples. The main question is the following: why is the first call successful, and why does the second call result in error?"
      ]
    },
    {
      "cell_type": "code",
      "metadata": {
        "colab": {
          "base_uri": "https://localhost:8080/"
        },
        "id": "lW2kuGFC_TJU",
        "outputId": "c87760b6-4701-4a25-c8a0-c24af98fd125"
      },
      "source": [
        "a_string = 'USA Today has come out with a new survey: Apparently three out of four people make up 75 percent of the population.'\n",
        "words = a_string.split(sep=' ', maxsplit=2)\n",
        "print(words)"
      ],
      "execution_count": 10,
      "outputs": [
        {
          "output_type": "stream",
          "name": "stdout",
          "text": [
            "['USA', 'Today', 'has come out with a new survey: Apparently three out of four people make up 75 percent of the population.']\n"
          ]
        }
      ]
    },
    {
      "cell_type": "code",
      "metadata": {
        "colab": {
          "base_uri": "https://localhost:8080/",
          "height": 183
        },
        "id": "cq2Kg7Bl_TJV",
        "outputId": "ad5aeadd-a2c0-4681-8bbc-066d60d12d5d"
      },
      "source": [
        "a_string = 'rats are the best.'\n",
        "result = a_string.replace('r', 'c', count=1) "
      ],
      "execution_count": 11,
      "outputs": [
        {
          "output_type": "error",
          "ename": "TypeError",
          "evalue": "ignored",
          "traceback": [
            "\u001b[0;31m---------------------------------------------------------------------------\u001b[0m",
            "\u001b[0;31mTypeError\u001b[0m                                 Traceback (most recent call last)",
            "\u001b[0;32m<ipython-input-11-e97adf521468>\u001b[0m in \u001b[0;36m<module>\u001b[0;34m()\u001b[0m\n\u001b[1;32m      1\u001b[0m \u001b[0ma_string\u001b[0m \u001b[0;34m=\u001b[0m \u001b[0;34m'rats are the best.'\u001b[0m\u001b[0;34m\u001b[0m\u001b[0;34m\u001b[0m\u001b[0m\n\u001b[0;32m----> 2\u001b[0;31m \u001b[0mresult\u001b[0m \u001b[0;34m=\u001b[0m \u001b[0ma_string\u001b[0m\u001b[0;34m.\u001b[0m\u001b[0mreplace\u001b[0m\u001b[0;34m(\u001b[0m\u001b[0;34m'r'\u001b[0m\u001b[0;34m,\u001b[0m \u001b[0;34m'c'\u001b[0m\u001b[0;34m,\u001b[0m \u001b[0mcount\u001b[0m\u001b[0;34m=\u001b[0m\u001b[0;36m1\u001b[0m\u001b[0;34m)\u001b[0m\u001b[0;34m\u001b[0m\u001b[0;34m\u001b[0m\u001b[0m\n\u001b[0m",
            "\u001b[0;31mTypeError\u001b[0m: replace() takes no keyword arguments"
          ]
        }
      ]
    },
    {
      "cell_type": "markdown",
      "metadata": {
        "id": "OH6Gswms_TJV"
      },
      "source": [
        "For the answer, we need to go back to the function parameters:\n",
        "* **replace**: replace(self, old, new, count=-1, /)\n",
        "* **split**: split(self, /, sep=None, maxsplit=-1)"
      ]
    },
    {
      "cell_type": "markdown",
      "metadata": {
        "id": "1LXt2LJS_TJV"
      },
      "source": [
        "Please note that the difference is that *count* is to the **left** of the forward slash, and *sep* and *maxsplit* are to the **right** of the forward slash! We can call any parameter to the right of the forward slash using the name of the parameter. For any parameter to the left of the forward slash, we can only provide the value."
      ]
    },
    {
      "cell_type": "markdown",
      "metadata": {
        "id": "sWGpcLfT_TJV"
      },
      "source": [
        "This does work:"
      ]
    },
    {
      "cell_type": "code",
      "metadata": {
        "colab": {
          "base_uri": "https://localhost:8080/"
        },
        "id": "c1YDo8UK_TJV",
        "outputId": "00982ef9-0393-46fe-85a4-3c01a25c2bf5"
      },
      "source": [
        "a_string = 'rats are the best.'\n",
        "result = a_string.replace('r', 'c', 1) \n",
        "print(result)"
      ],
      "execution_count": 12,
      "outputs": [
        {
          "output_type": "stream",
          "name": "stdout",
          "text": [
            "cats are the best.\n"
          ]
        }
      ]
    },
    {
      "cell_type": "markdown",
      "metadata": {
        "id": "29y-bJRc_TJV"
      },
      "source": [
        "This does not."
      ]
    },
    {
      "cell_type": "code",
      "metadata": {
        "colab": {
          "base_uri": "https://localhost:8080/",
          "height": 183
        },
        "id": "VxclXKZG_TJW",
        "outputId": "b799d012-afeb-4947-ea47-04173d78bc7e"
      },
      "source": [
        "a_string = 'rats are the best.'\n",
        "result = a_string.replace('r', 'c', count=1) "
      ],
      "execution_count": 13,
      "outputs": [
        {
          "output_type": "error",
          "ename": "TypeError",
          "evalue": "ignored",
          "traceback": [
            "\u001b[0;31m---------------------------------------------------------------------------\u001b[0m",
            "\u001b[0;31mTypeError\u001b[0m                                 Traceback (most recent call last)",
            "\u001b[0;32m<ipython-input-13-e97adf521468>\u001b[0m in \u001b[0;36m<module>\u001b[0;34m()\u001b[0m\n\u001b[1;32m      1\u001b[0m \u001b[0ma_string\u001b[0m \u001b[0;34m=\u001b[0m \u001b[0;34m'rats are the best.'\u001b[0m\u001b[0;34m\u001b[0m\u001b[0;34m\u001b[0m\u001b[0m\n\u001b[0;32m----> 2\u001b[0;31m \u001b[0mresult\u001b[0m \u001b[0;34m=\u001b[0m \u001b[0ma_string\u001b[0m\u001b[0;34m.\u001b[0m\u001b[0mreplace\u001b[0m\u001b[0;34m(\u001b[0m\u001b[0;34m'r'\u001b[0m\u001b[0;34m,\u001b[0m \u001b[0;34m'c'\u001b[0m\u001b[0;34m,\u001b[0m \u001b[0mcount\u001b[0m\u001b[0;34m=\u001b[0m\u001b[0;36m1\u001b[0m\u001b[0;34m)\u001b[0m\u001b[0;34m\u001b[0m\u001b[0;34m\u001b[0m\u001b[0m\n\u001b[0m",
            "\u001b[0;31mTypeError\u001b[0m: replace() takes no keyword arguments"
          ]
        }
      ]
    },
    {
      "cell_type": "markdown",
      "metadata": {
        "id": "LjWq-ssB_TJW"
      },
      "source": [
        "**Summary**:\n",
        "* ignore **self**\n",
        "* **positional parameters** are mandatory to call a method\n",
        "* **keyword parameters** are optional since they have a default value\n",
        "* any parameter to the right of the forward slash, we can call using the name of the parameter. \n",
        "* any parameter to the left of the forward slash, we can only provide the value."
      ]
    },
    {
      "cell_type": "markdown",
      "metadata": {
        "id": "peoBM3Ft_TJW"
      },
      "source": [
        "For those interested in understanding it in more detail, please check the link about **positional-only arguments** at the top of this notebook."
      ]
    },
    {
      "cell_type": "markdown",
      "metadata": {
        "id": "cLE6pQVb_TJW"
      },
      "source": [
        "## 3. Mutability\n",
        "Hopefully, it will become clear in the following chapters what we mean by **mutability**. For now, you can think of it in terms of 'can I change the data?'. Please remember the following categories for the subsequent chapters:"
      ]
    },
    {
      "cell_type": "markdown",
      "metadata": {
        "id": "zzOv-giJ_TJW"
      },
      "source": [
        "| **immutable**   | **mutable** | \n",
        "|-----------------|-------------|\n",
        "|   integer       |  list       |\n",
        "|   string        |  set        |\n",
        "|     -           |  dictionary |\n"
      ]
    },
    {
      "cell_type": "markdown",
      "metadata": {
        "id": "pXiceIQT_TJW"
      },
      "source": [
        "You have already seen a little bit about strings and immutability in Chapter 3. To change a string, we have to create a new one. In contrast, you will learn that many containers can be modified. "
      ]
    },
    {
      "cell_type": "markdown",
      "metadata": {
        "id": "H7FAoE_W_TJW"
      },
      "source": [
        "# Exercises\n",
        "\n",
        "Please find some exercises about core concepts of python containers below. "
      ]
    },
    {
      "cell_type": "markdown",
      "metadata": {
        "id": "mNsosCeL_TJX"
      },
      "source": [
        "### Exercise 1: \n",
        "Use the help function to figure out what the string methods below are doing. Then analyze how many positional and keyword parameters are used in the following examples:"
      ]
    },
    {
      "cell_type": "code",
      "metadata": {
        "colab": {
          "base_uri": "https://localhost:8080/"
        },
        "id": "YmZ69eQ0_TJX",
        "outputId": "99e073a9-1665-436c-d466-c18c50999948"
      },
      "source": [
        "print(a_string.lower())\n",
        "print(a_string.strip())\n",
        "print(a_string.strip('an'))\n",
        "print(a_string.partition('and'))"
      ],
      "execution_count": 14,
      "outputs": [
        {
          "output_type": "stream",
          "name": "stdout",
          "text": [
            "rats are the best.\n",
            "rats are the best.\n",
            "rats are the best.\n",
            "('rats are the best.', '', '')\n"
          ]
        }
      ]
    },
    {
      "cell_type": "markdown",
      "metadata": {
        "id": "g4TC2MYe_TJX"
      },
      "source": [
        "### Exercise 2: \n",
        "\n",
        "Please illustrate the difference between positional and keyword parameters using the example of string methods. Feel free to use dir(str) and the help function for inspiration."
      ]
    },
    {
      "cell_type": "code",
      "metadata": {
        "id": "Ra-q4SVn_TJX"
      },
      "source": [
        "# your examples here"
      ],
      "execution_count": 15,
      "outputs": []
    },
    {
      "cell_type": "code",
      "metadata": {
        "id": "nrcdCp7y_m7O"
      },
      "source": [
        ""
      ],
      "execution_count": 15,
      "outputs": []
    }
  ]
}