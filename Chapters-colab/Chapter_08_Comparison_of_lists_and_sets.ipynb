{
  "nbformat": 4,
  "nbformat_minor": 0,
  "metadata": {
    "anaconda-cloud": {},
    "kernelspec": {
      "display_name": "Python 3",
      "language": "python",
      "name": "python3"
    },
    "language_info": {
      "codemirror_mode": {
        "name": "ipython",
        "version": 3
      },
      "file_extension": ".py",
      "mimetype": "text/x-python",
      "name": "python",
      "nbconvert_exporter": "python",
      "pygments_lexer": "ipython3",
      "version": "3.8.3"
    },
    "colab": {
      "name": "Chapter 08 - Comparison of lists and sets.ipynb",
      "provenance": [],
      "include_colab_link": true
    }
  },
  "cells": [
    {
      "cell_type": "markdown",
      "metadata": {
        "id": "view-in-github",
        "colab_type": "text"
      },
      "source": [
        "<a href=\"https://colab.research.google.com/github/cltl/python-for-text-analysis/blob/colab/Chapters-colab/Chapter_08_Comparison_of_lists_and_sets.ipynb\" target=\"_parent\"><img src=\"https://colab.research.google.com/assets/colab-badge.svg\" alt=\"Open In Colab\"/></a>"
      ]
    },
    {
      "cell_type": "code",
      "metadata": {
        "id": "FUHE7T_LAe8w"
      },
      "source": [
        "%%capture\n",
        "!wget https://github.com/cltl/python-for-text-analysis/raw/master/zips/Data.zip\n",
        "!wget https://github.com/cltl/python-for-text-analysis/raw/master/zips/images.zip\n",
        "!wget https://github.com/cltl/python-for-text-analysis/raw/master/zips/Extra_Material.zip\n",
        "\n",
        "!unzip Data.zip -d ../\n",
        "!unzip images.zip -d ./\n",
        "!unzip Extra_Material.zip -d ../\n",
        "\n",
        "!rm Data.zip\n",
        "!rm Extra_Material.zip\n",
        "!rm images.zip"
      ],
      "execution_count": 1,
      "outputs": []
    },
    {
      "cell_type": "markdown",
      "metadata": {
        "id": "KNjyyyWhAeeP"
      },
      "source": [
        "## Chapter 8 - Comparison of lists  and sets \n",
        "You've been introduced to two containers in this topic: lists and sets. However, a question we often get is when to use a list and when a set. The goal of this chapter is to help you answer that question.\n",
        "\n",
        "**At the end of this chapter, you will be able to:**\n",
        "* decide when to use a list and when to use a set"
      ]
    },
    {
      "cell_type": "markdown",
      "metadata": {
        "id": "6zUlxtJ9AeeU"
      },
      "source": [
        "If you have **questions** about this chapter, please contact us **(cltl.python.course@gmail.com)**."
      ]
    },
    {
      "cell_type": "markdown",
      "metadata": {
        "id": "rQjQ2iVNAeeU"
      },
      "source": [
        "## 1. Properties of sets and lists "
      ]
    },
    {
      "cell_type": "markdown",
      "metadata": {
        "id": "P-_0qR8ZAeeV"
      },
      "source": [
        "#### Sets: unordered collection of unique elements\n",
        "#### Lists: ordered collection of elements"
      ]
    },
    {
      "cell_type": "markdown",
      "metadata": {
        "id": "x2qa_2RuAeeV"
      },
      "source": [
        "Comparison lists vs sets\n",
        "\n",
        "| property   | set  | list | \n",
        "|--------- |---------|---|\n",
        "| **can** contain duplicates     | no   |         yes         | \n",
        "| **ordered**     | no   | yes                |  \n",
        "| **finding** element(s)     | relatively quick | relatively slow              | \n",
        "| **can** contain     | immutable objects   | all objects                |"
      ]
    },
    {
      "cell_type": "markdown",
      "metadata": {
        "id": "nC0frChQAeeW"
      },
      "source": [
        "### 1.1 Duplication of elements\n",
        "\n",
        "* list: yes\n",
        "* set: no\n",
        "\n",
        "As shown below, lists allow duplicates (e.g. the integer 1 in the example below), sets do not."
      ]
    },
    {
      "cell_type": "code",
      "metadata": {
        "jupyter": {
          "outputs_hidden": true
        },
        "id": "AVc0o3XBAeeW"
      },
      "source": [
        "list1 = [1, 2, 1, 3, 4, 1]\n",
        "set1 = {1, 2, 3, 4}\n",
        "set2 = {1, 2, 1, 3, 4, 1}"
      ],
      "execution_count": 2,
      "outputs": []
    },
    {
      "cell_type": "code",
      "metadata": {
        "colab": {
          "base_uri": "https://localhost:8080/"
        },
        "id": "zxKbsNfwAeeY",
        "outputId": "5242893a-aeda-4e83-d923-23eb573e7870"
      },
      "source": [
        "print('list1', list1)\n",
        "print('set1', set1)\n",
        "print('set2', set2)\n",
        "print('set1 is the same as set2:', set1 == set2)"
      ],
      "execution_count": 3,
      "outputs": [
        {
          "output_type": "stream",
          "name": "stdout",
          "text": [
            "list1 [1, 2, 1, 3, 4, 1]\n",
            "set1 {1, 2, 3, 4}\n",
            "set2 {1, 2, 3, 4}\n",
            "set1 is the same as set2: True\n"
          ]
        }
      ]
    },
    {
      "cell_type": "markdown",
      "metadata": {
        "id": "5_IFJVivAeeZ"
      },
      "source": [
        "**Tip**\n",
        "\n",
        "You can create a set from a list. Attention: duplicates will be removed. "
      ]
    },
    {
      "cell_type": "code",
      "metadata": {
        "colab": {
          "base_uri": "https://localhost:8080/"
        },
        "id": "RrekG_BwAeea",
        "outputId": "651f28cb-7bea-40b6-b9a1-5ca70674e275"
      },
      "source": [
        "a_list = [1,2,3,4, 4]\n",
        "\n",
        "a_set = set(a_list)\n",
        "\n",
        "print(a_list)\n",
        "print(a_set)"
      ],
      "execution_count": 4,
      "outputs": [
        {
          "output_type": "stream",
          "name": "stdout",
          "text": [
            "[1, 2, 3, 4, 4]\n",
            "{1, 2, 3, 4}\n"
          ]
        }
      ]
    },
    {
      "cell_type": "markdown",
      "metadata": {
        "id": "WvHonUmDAeeb"
      },
      "source": [
        "### 1.2 Order (with respect to how elements are added to it)\n",
        "* list: yes\n",
        "* set: no\n",
        "\n",
        "The order in which you add elements to a list matters. Please look at the following example:"
      ]
    },
    {
      "cell_type": "code",
      "metadata": {
        "colab": {
          "base_uri": "https://localhost:8080/"
        },
        "id": "zMCQFdeFAeeb",
        "outputId": "0b7d85e6-71f7-4c55-ae79-74d138908024"
      },
      "source": [
        "a_list = []\n",
        "a_list.append(2)\n",
        "a_list.append(1)\n",
        "print(a_list)"
      ],
      "execution_count": 5,
      "outputs": [
        {
          "output_type": "stream",
          "name": "stdout",
          "text": [
            "[2, 1]\n"
          ]
        }
      ]
    },
    {
      "cell_type": "markdown",
      "metadata": {
        "id": "kmC7qnhbAeeb"
      },
      "source": [
        "However, this information is not kept in sets:"
      ]
    },
    {
      "cell_type": "code",
      "metadata": {
        "colab": {
          "base_uri": "https://localhost:8080/"
        },
        "id": "DjtkKJmpAeec",
        "outputId": "bfc79efc-45ec-4ff2-8c86-85b285272bfa"
      },
      "source": [
        "a_set = set()\n",
        "a_set.add(2)\n",
        "a_set.add(1)\n",
        "print(a_set)"
      ],
      "execution_count": 6,
      "outputs": [
        {
          "output_type": "stream",
          "name": "stdout",
          "text": [
            "{1, 2}\n"
          ]
        }
      ]
    },
    {
      "cell_type": "markdown",
      "metadata": {
        "id": "pkkDAKkzAeec"
      },
      "source": [
        "Is it possible to understand the order of items in a set? Yes, but we will not cover it here since it is not important for the tasks we cover.\n",
        "\n",
        "What is then the take home message about order? The answer is: you have it for lists, but not for sets.\n",
        "\n",
        "If you want to learn more about this, look up the data structure called *hash table* (https://en.wikipedia.org/wiki/Hash_table) "
      ]
    },
    {
      "cell_type": "markdown",
      "metadata": {
        "id": "E5_AMfyYAeec"
      },
      "source": [
        "### 1.3 Finding element(s)\n",
        "It's usually quicker to check if an element is in a set than to check if it is in a list."
      ]
    },
    {
      "cell_type": "markdown",
      "metadata": {
        "id": "Iwf41hgKAeed"
      },
      "source": [
        "Hence, this will be usally relatively slow:"
      ]
    },
    {
      "cell_type": "code",
      "metadata": {
        "colab": {
          "base_uri": "https://localhost:8080/"
        },
        "id": "6l7YPYXgAeed",
        "outputId": "d05cdea4-3674-4180-f280-04d4a5f56115"
      },
      "source": [
        "list1 = [1,2,3,4]\n",
        "print(1 in list1)"
      ],
      "execution_count": 7,
      "outputs": [
        {
          "output_type": "stream",
          "name": "stdout",
          "text": [
            "True\n"
          ]
        }
      ]
    },
    {
      "cell_type": "markdown",
      "metadata": {
        "id": "4Klr1qxlAeed"
      },
      "source": [
        "And this will usually be relatively quick:"
      ]
    },
    {
      "cell_type": "code",
      "metadata": {
        "colab": {
          "base_uri": "https://localhost:8080/"
        },
        "id": "JP7aMpVhAeed",
        "outputId": "d6e5104e-0ad4-4eb3-ced6-4cc09d77cd2b"
      },
      "source": [
        "set1 = {1,2,3,4}\n",
        "print(1 in set1)"
      ],
      "execution_count": 8,
      "outputs": [
        {
          "output_type": "stream",
          "name": "stdout",
          "text": [
            "True\n"
          ]
        }
      ]
    },
    {
      "cell_type": "markdown",
      "metadata": {
        "id": "caOwzQb1Aeee"
      },
      "source": [
        "Is it possible to understand the speed of finding elements of items in sets and lists? Yes, but we will not cover it here since it is not important for the tasks we cover.\n",
        "\n",
        "What is then the take home message about speed? The answer is: it's probably quicker to use sets."
      ]
    },
    {
      "cell_type": "markdown",
      "metadata": {
        "id": "vkFhQN-oAeee"
      },
      "source": [
        "### 1.4 Mutability of elements in can contain"
      ]
    },
    {
      "cell_type": "markdown",
      "metadata": {
        "id": "uhXErmNBAeee"
      },
      "source": [
        "sets can only contain **immutable** objects.\n",
        "This works:"
      ]
    },
    {
      "cell_type": "code",
      "metadata": {
        "jupyter": {
          "outputs_hidden": true
        },
        "colab": {
          "base_uri": "https://localhost:8080/"
        },
        "id": "D3eDZv9qAeef",
        "outputId": "72efe5d0-2fb5-4a73-a2df-6db9e556bdc7"
      },
      "source": [
        "a_set = set()\n",
        "a_set.add(1)\n",
        "print(a_set)"
      ],
      "execution_count": 9,
      "outputs": [
        {
          "output_type": "stream",
          "name": "stdout",
          "text": [
            "{1}\n"
          ]
        }
      ]
    },
    {
      "cell_type": "markdown",
      "metadata": {
        "id": "nKn7FsJ9Aeef"
      },
      "source": [
        "This does not"
      ]
    },
    {
      "cell_type": "code",
      "metadata": {
        "jupyter": {
          "outputs_hidden": true
        },
        "colab": {
          "base_uri": "https://localhost:8080/",
          "height": 165
        },
        "id": "i0-j4nokAeef",
        "outputId": "1ad45da6-305a-42bf-d5fe-3bd74d5ef655"
      },
      "source": [
        "a_set.add([1])"
      ],
      "execution_count": 10,
      "outputs": [
        {
          "output_type": "error",
          "ename": "TypeError",
          "evalue": "ignored",
          "traceback": [
            "\u001b[0;31m---------------------------------------------------------------------------\u001b[0m",
            "\u001b[0;31mTypeError\u001b[0m                                 Traceback (most recent call last)",
            "\u001b[0;32m<ipython-input-10-e154bc178e75>\u001b[0m in \u001b[0;36m<module>\u001b[0;34m()\u001b[0m\n\u001b[0;32m----> 1\u001b[0;31m \u001b[0ma_set\u001b[0m\u001b[0;34m.\u001b[0m\u001b[0madd\u001b[0m\u001b[0;34m(\u001b[0m\u001b[0;34m[\u001b[0m\u001b[0;36m1\u001b[0m\u001b[0;34m]\u001b[0m\u001b[0;34m)\u001b[0m\u001b[0;34m\u001b[0m\u001b[0;34m\u001b[0m\u001b[0m\n\u001b[0m",
            "\u001b[0;31mTypeError\u001b[0m: unhashable type: 'list'"
          ]
        }
      ]
    },
    {
      "cell_type": "markdown",
      "metadata": {
        "id": "7uYyC3YVAeef"
      },
      "source": [
        "lists can contain **any** Python object.\n",
        "This works:"
      ]
    },
    {
      "cell_type": "code",
      "metadata": {
        "jupyter": {
          "outputs_hidden": true
        },
        "colab": {
          "base_uri": "https://localhost:8080/"
        },
        "id": "Ukn1AV7UAeef",
        "outputId": "ca4718a4-3e12-4f14-cfcd-7f81cb637f18"
      },
      "source": [
        "a_list = []\n",
        "a_list.append(1)\n",
        "print(a_list)"
      ],
      "execution_count": 11,
      "outputs": [
        {
          "output_type": "stream",
          "name": "stdout",
          "text": [
            "[1]\n"
          ]
        }
      ]
    },
    {
      "cell_type": "markdown",
      "metadata": {
        "id": "MrX3C15AAeeg"
      },
      "source": [
        "This as well"
      ]
    },
    {
      "cell_type": "code",
      "metadata": {
        "jupyter": {
          "outputs_hidden": true
        },
        "colab": {
          "base_uri": "https://localhost:8080/"
        },
        "id": "WOJUdBUMAeeg",
        "outputId": "aed36ff4-bdb4-414c-a7dc-4e34b9b690b3"
      },
      "source": [
        "a_list = []\n",
        "a_list.append([1])\n",
        "print(a_list)"
      ],
      "execution_count": 12,
      "outputs": [
        {
          "output_type": "stream",
          "name": "stdout",
          "text": [
            "[[1]]\n"
          ]
        }
      ]
    },
    {
      "cell_type": "markdown",
      "metadata": {
        "id": "0KUwd2ZAAeeg"
      },
      "source": [
        "## 2. When to choose what?\n",
        "\n",
        "Lists if you need:\n",
        "1. duplicates\n",
        "2. the order in which items are added\n",
        "3. mutable objects\n",
        "\n",
        "All other scenarios -> sets"
      ]
    },
    {
      "cell_type": "markdown",
      "metadata": {
        "id": "4t1AJ7WcAeeg"
      },
      "source": [
        "## Exercises"
      ]
    },
    {
      "cell_type": "markdown",
      "metadata": {
        "id": "IaYPu_pJAeeg"
      },
      "source": [
        "### Exercise 1:\n",
        "\n",
        "Which container can contain duplicates?"
      ]
    },
    {
      "cell_type": "code",
      "metadata": {
        "jupyter": {
          "outputs_hidden": true
        },
        "id": "5lj5fW0BAeeh"
      },
      "source": [
        ""
      ],
      "execution_count": 12,
      "outputs": []
    },
    {
      "cell_type": "markdown",
      "metadata": {
        "id": "tIuFm3QCAeeh"
      },
      "source": [
        "### Exercise 2:\n",
        "    \n",
        "Which container is the faster choice when checking whether it contains an element?   "
      ]
    },
    {
      "cell_type": "code",
      "metadata": {
        "jupyter": {
          "outputs_hidden": true
        },
        "id": "wvutHGLYAeeh"
      },
      "source": [
        ""
      ],
      "execution_count": 12,
      "outputs": []
    },
    {
      "cell_type": "markdown",
      "metadata": {
        "id": "Bo2IumfyAeeh"
      },
      "source": [
        "### Exercise 3:\n",
        "\n",
        "You want to collect and count all the people taking this class. You can only use their first names. Do you chose a list or a set?"
      ]
    },
    {
      "cell_type": "code",
      "metadata": {
        "jupyter": {
          "outputs_hidden": true
        },
        "id": "ZC62d591Aeeh"
      },
      "source": [
        ""
      ],
      "execution_count": 12,
      "outputs": []
    },
    {
      "cell_type": "markdown",
      "metadata": {
        "id": "QQIQGyHGAeeh"
      },
      "source": [
        "### Exercise 4:\n",
        "\n",
        "Can you think of a use case for a set and a list (perhaps you think of text analysis)?"
      ]
    },
    {
      "cell_type": "code",
      "metadata": {
        "jupyter": {
          "outputs_hidden": true
        },
        "id": "DQL4-VAYAeeh"
      },
      "source": [
        ""
      ],
      "execution_count": 12,
      "outputs": []
    }
  ]
}