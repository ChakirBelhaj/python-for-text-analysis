{
  "nbformat": 4,
  "nbformat_minor": 0,
  "metadata": {
    "kernelspec": {
      "display_name": "Python 3",
      "language": "python",
      "name": "python3"
    },
    "language_info": {
      "codemirror_mode": {
        "name": "ipython",
        "version": 3
      },
      "file_extension": ".py",
      "mimetype": "text/x-python",
      "name": "python",
      "nbconvert_exporter": "python",
      "pygments_lexer": "ipython3",
      "version": "3.8.3"
    },
    "colab": {
      "name": "Chapter 10 - Dictionaries.ipynb",
      "provenance": [],
      "include_colab_link": true
    }
  },
  "cells": [
    {
      "cell_type": "markdown",
      "metadata": {
        "id": "view-in-github",
        "colab_type": "text"
      },
      "source": [
        "<a href=\"https://colab.research.google.com/github/cltl/python-for-text-analysis/blob/colab/Chapters-colab/Chapter_10_Dictionaries.ipynb\" target=\"_parent\"><img src=\"https://colab.research.google.com/assets/colab-badge.svg\" alt=\"Open In Colab\"/></a>"
      ]
    },
    {
      "cell_type": "code",
      "metadata": {
        "id": "5cagfyiSBIoC"
      },
      "source": [
        "%%capture\n",
        "!wget https://github.com/cltl/python-for-text-analysis/raw/master/zips/Data.zip\n",
        "!wget https://github.com/cltl/python-for-text-analysis/raw/master/zips/images.zip\n",
        "!wget https://github.com/cltl/python-for-text-analysis/raw/master/zips/Extra_Material.zip\n",
        "\n",
        "!unzip Data.zip -d ../\n",
        "!unzip images.zip -d ./\n",
        "!unzip Extra_Material.zip -d ../\n",
        "\n",
        "!rm Data.zip\n",
        "!rm Extra_Material.zip\n",
        "!rm images.zip"
      ],
      "execution_count": 1,
      "outputs": []
    },
    {
      "cell_type": "markdown",
      "metadata": {
        "id": "5zkprwZiBII2"
      },
      "source": [
        "# Chapter 10 - Dictionaries\n",
        "*This notebook uses code snippets and explanation from [this course](https://github.com/kadarakos/python-course/blob/master/Chapter%205%20-%20Lists.ipynb)*"
      ]
    },
    {
      "cell_type": "markdown",
      "metadata": {
        "id": "ZlGG1bprBII6"
      },
      "source": [
        "The last type of container we will introduce in this topic is **dictionaries**. Programming is mostly about solving real-world problems as efficiently as possible, but it is also important to write and organize code in a human-readable fashion. A dictionary offers a kind of abstraction that comes in handy often: it is a type of \"associative memory\" or key:value storage. It allows you to describe two pieces of data and their relationship. \n",
        "\n",
        "**At the end of this chapter, you will:**\n",
        "* understand the relevance of dictionaries\n",
        "* know how to create a dictionary\n",
        "* know how to add items to a dictionary\n",
        "* know how to inspect/extract items from a dictionary\n",
        "* know how to count with a dictionary\n",
        "* know how to create nested dictionaries\n",
        "\n",
        "**If you want to learn more about these topics, you might find the following links useful:**\n",
        "* [Python documentation](https://docs.python.org/3/tutorial/datastructures.html#dictionaries)"
      ]
    },
    {
      "cell_type": "markdown",
      "metadata": {
        "id": "cbcr1psIBII7"
      },
      "source": [
        "If you have **questions** about this chapter, please contact us **(cltl.python.course@gmail.com)**."
      ]
    },
    {
      "cell_type": "markdown",
      "metadata": {
        "id": "dV3f_dyYBII7"
      },
      "source": [
        "## 1. Dictionaries\n",
        "Imagine that you are a teacher, and you've graded exams (everyone got high grades, of course). You would like to store this information so that you can *ask* the program for the grade of a particular student. After some thought, you first try to accomplish this using a list."
      ]
    },
    {
      "cell_type": "code",
      "metadata": {
        "id": "tuHXSeDsBII8"
      },
      "source": [
        "student_grades = ['Frank', 8, 'Susan', 7, 'Guido', 10]"
      ],
      "execution_count": 2,
      "outputs": []
    },
    {
      "cell_type": "code",
      "metadata": {
        "colab": {
          "base_uri": "https://localhost:8080/"
        },
        "id": "x5b2BOjfBII9",
        "outputId": "8ea18f9d-0f81-4c0c-dfbc-de78bbf5f039"
      },
      "source": [
        "student = 'Frank'\n",
        "index_of_student = student_grades.index(student) # we use the index method (list.index)\n",
        "print('grade of', student, 'is', student_grades[index_of_student + 1])"
      ],
      "execution_count": 3,
      "outputs": [
        {
          "output_type": "stream",
          "name": "stdout",
          "text": [
            "grade of Frank is 8\n"
          ]
        }
      ]
    },
    {
      "cell_type": "markdown",
      "metadata": {
        "id": "Xag7nhnMBII-"
      },
      "source": [
        "However, you're not happy about the solution. Every time you request a grade, we need to \n",
        "first determine the position of the student in the list and then use that index + 1 to obtain the grade.  That's pretty inefficient. The take-home message here is that **lists are not really good if we want two pieces of information together**. Dictionaries for the rescue!"
      ]
    },
    {
      "cell_type": "code",
      "metadata": {
        "id": "E9sMNyG5BII-"
      },
      "source": [
        "student_grades = {'Frank': 8, 'Susan': 7, 'Guido': 10}"
      ],
      "execution_count": 4,
      "outputs": []
    },
    {
      "cell_type": "code",
      "metadata": {
        "colab": {
          "base_uri": "https://localhost:8080/"
        },
        "id": "QVa6zUryBII_",
        "outputId": "4a302d34-f766-49fa-e90d-eb29a3d9eeb4"
      },
      "source": [
        "student_grades['Frank']"
      ],
      "execution_count": 5,
      "outputs": [
        {
          "output_type": "execute_result",
          "data": {
            "text/plain": [
              "8"
            ]
          },
          "metadata": {},
          "execution_count": 5
        }
      ]
    },
    {
      "cell_type": "markdown",
      "metadata": {
        "id": "BBa9Jqq0BII_"
      },
      "source": [
        "## 2. How to create a dictionary\n",
        "Let's take another look at the **student_grades** dictionary. "
      ]
    },
    {
      "cell_type": "code",
      "metadata": {
        "id": "TC862cd5BIJA"
      },
      "source": [
        "student_grades = {'Frank': 8, 'Susan': 7, 'Guido': 10}"
      ],
      "execution_count": 6,
      "outputs": []
    },
    {
      "cell_type": "markdown",
      "metadata": {
        "id": "vNhmMibbBIJA"
      },
      "source": [
        "* a dictionary is surrounded by curly brackets, and the key/value pairs are separated by commas.\n",
        "* A dictionary consists of one or more **key:value pairs**. The key is the 'identifier' or \"name\" that is used to describe the value.\n",
        "* the **keys** in a dictionary are unique\n",
        "* the syntax for a key/value pair is: KEY : VALUE\n",
        "* the keys (e.g. 'Frank') in a dictionary have to be **immutable**\n",
        "* the values (e.g., 8) in a dictionary can by **any python object**\n",
        "* a dictionary can be empty"
      ]
    },
    {
      "cell_type": "markdown",
      "metadata": {
        "id": "lOidSGxiBIJB"
      },
      "source": [
        "Please note that **keys** in a dictionary have to **immutable**. "
      ]
    },
    {
      "cell_type": "markdown",
      "metadata": {
        "id": "rVuT702bBIJB"
      },
      "source": [
        "This works (strings as keys)"
      ]
    },
    {
      "cell_type": "code",
      "metadata": {
        "id": "4p1LppTcBIJC"
      },
      "source": [
        "student_grades = {'Frank': 8, 'Susan': 7, 'Guido': 10}"
      ],
      "execution_count": 7,
      "outputs": []
    },
    {
      "cell_type": "markdown",
      "metadata": {
        "id": "6sw7gV1KBIJC"
      },
      "source": [
        "This does not (list as keys)"
      ]
    },
    {
      "cell_type": "code",
      "metadata": {
        "colab": {
          "base_uri": "https://localhost:8080/",
          "height": 165
        },
        "id": "AypdB99LBIJC",
        "outputId": "ebdc2ca0-2eaf-48cc-b832-1530668a0b2f"
      },
      "source": [
        "a_dict = {['a', 'list']: 8}"
      ],
      "execution_count": 8,
      "outputs": [
        {
          "output_type": "error",
          "ename": "TypeError",
          "evalue": "ignored",
          "traceback": [
            "\u001b[0;31m---------------------------------------------------------------------------\u001b[0m",
            "\u001b[0;31mTypeError\u001b[0m                                 Traceback (most recent call last)",
            "\u001b[0;32m<ipython-input-8-f55d972233bf>\u001b[0m in \u001b[0;36m<module>\u001b[0;34m()\u001b[0m\n\u001b[0;32m----> 1\u001b[0;31m \u001b[0ma_dict\u001b[0m \u001b[0;34m=\u001b[0m \u001b[0;34m{\u001b[0m\u001b[0;34m[\u001b[0m\u001b[0;34m'a'\u001b[0m\u001b[0;34m,\u001b[0m \u001b[0;34m'list'\u001b[0m\u001b[0;34m]\u001b[0m\u001b[0;34m:\u001b[0m \u001b[0;36m8\u001b[0m\u001b[0;34m}\u001b[0m\u001b[0;34m\u001b[0m\u001b[0;34m\u001b[0m\u001b[0m\n\u001b[0m",
            "\u001b[0;31mTypeError\u001b[0m: unhashable type: 'list'"
          ]
        }
      ]
    },
    {
      "cell_type": "markdown",
      "metadata": {
        "id": "wGNlw5eABIJC"
      },
      "source": [
        "Please note that the values in a dictionary can by **any python object**"
      ]
    },
    {
      "cell_type": "markdown",
      "metadata": {
        "id": "S6LmgSZBBIJD"
      },
      "source": [
        "This works (integers as values)"
      ]
    },
    {
      "cell_type": "code",
      "metadata": {
        "id": "VUBLx-RtBIJD"
      },
      "source": [
        "a_dict = {'Frank': 8, 'Susan': 7}"
      ],
      "execution_count": 9,
      "outputs": []
    },
    {
      "cell_type": "markdown",
      "metadata": {
        "id": "qEuj0O68BIJD"
      },
      "source": [
        "But this as well (lists as values)"
      ]
    },
    {
      "cell_type": "code",
      "metadata": {
        "id": "sxdnMY8tBIJD"
      },
      "source": [
        "another_dict = {'Frank' : [8], 'Susan' : [7]}"
      ],
      "execution_count": 10,
      "outputs": []
    },
    {
      "cell_type": "markdown",
      "metadata": {
        "id": "uEFW6QtRBIJD"
      },
      "source": [
        "Please note that a dictionary can be empty (use **dict()**):"
      ]
    },
    {
      "cell_type": "code",
      "metadata": {
        "colab": {
          "base_uri": "https://localhost:8080/"
        },
        "id": "TfQo-LHHBIJE",
        "outputId": "eebc7a1b-3a16-4d30-cc97-a838994ba690"
      },
      "source": [
        "an_empty_dict = dict()\n",
        "another_empty_dict = {} # This works too, but it is less readable and confusing (looks similar to sets)\n",
        "print(type(another_empty_dict), type(an_empty_dict))"
      ],
      "execution_count": 11,
      "outputs": [
        {
          "output_type": "stream",
          "name": "stdout",
          "text": [
            "<class 'dict'> <class 'dict'>\n"
          ]
        }
      ]
    },
    {
      "cell_type": "markdown",
      "metadata": {
        "id": "A70I2ztxBIJE"
      },
      "source": [
        "## 3. How to add items to a dictionary\n",
        "There is one very simple way in order to add a **key:value** pair to a dictionary. Please look at the following code snippet:"
      ]
    },
    {
      "cell_type": "code",
      "metadata": {
        "colab": {
          "base_uri": "https://localhost:8080/"
        },
        "id": "qyBoUp5OBIJE",
        "outputId": "4883d86e-e78a-46c7-9123-93d4e230699a"
      },
      "source": [
        "a_dict = dict()\n",
        "print(a_dict)"
      ],
      "execution_count": 12,
      "outputs": [
        {
          "output_type": "stream",
          "name": "stdout",
          "text": [
            "{}\n"
          ]
        }
      ]
    },
    {
      "cell_type": "code",
      "metadata": {
        "colab": {
          "base_uri": "https://localhost:8080/"
        },
        "id": "7gbIXHEFBIJE",
        "outputId": "f28b6529-2a62-45f6-d2c2-f6641510e37d"
      },
      "source": [
        "a_dict['Frank'] = 8\n",
        "print(a_dict)"
      ],
      "execution_count": 13,
      "outputs": [
        {
          "output_type": "stream",
          "name": "stdout",
          "text": [
            "{'Frank': 8}\n"
          ]
        }
      ]
    },
    {
      "cell_type": "markdown",
      "metadata": {
        "id": "vp9sK-IqBIJF"
      },
      "source": [
        "Please note that dictionary keys should be **unique** identifiers for the values in the dictionary.  **Key:value** pairs get overwritten if you assign a different value to an existing key."
      ]
    },
    {
      "cell_type": "code",
      "metadata": {
        "colab": {
          "base_uri": "https://localhost:8080/"
        },
        "id": "8Dbdd-5LBIJF",
        "outputId": "7b95e0a8-c9da-43fe-8c14-f1353d2f8cfc"
      },
      "source": [
        "a_dict = dict()\n",
        "a_dict['Frank'] = 8\n",
        "print(a_dict)\n",
        "a_dict['Frank'] = 7\n",
        "print(a_dict)\n",
        "a_dict['Frank'] = 9\n",
        "print(a_dict)"
      ],
      "execution_count": 14,
      "outputs": [
        {
          "output_type": "stream",
          "name": "stdout",
          "text": [
            "{'Frank': 8}\n",
            "{'Frank': 7}\n",
            "{'Frank': 9}\n"
          ]
        }
      ]
    },
    {
      "cell_type": "markdown",
      "metadata": {
        "id": "kuo9o98XBIJF"
      },
      "source": [
        "## 4. How to access data in a dictionary"
      ]
    },
    {
      "cell_type": "markdown",
      "metadata": {
        "id": "luEa5ulDBIJF"
      },
      "source": [
        "The most basic operation on a dictionary is a **look-up**. Simply enter the key and the dictionary returns the value."
      ]
    },
    {
      "cell_type": "code",
      "metadata": {
        "id": "UODBCNHYBIJF"
      },
      "source": [
        "student_grades = {'Frank': 8, 'Susan': 7, 'Guido': 10}"
      ],
      "execution_count": 15,
      "outputs": []
    },
    {
      "cell_type": "code",
      "metadata": {
        "colab": {
          "base_uri": "https://localhost:8080/"
        },
        "id": "h2ytIpNXBIJG",
        "outputId": "4c864848-d583-4e5e-f6a4-c2a0419ee3fd"
      },
      "source": [
        "print(student_grades['Frank'])"
      ],
      "execution_count": 16,
      "outputs": [
        {
          "output_type": "stream",
          "name": "stdout",
          "text": [
            "8\n"
          ]
        }
      ]
    },
    {
      "cell_type": "markdown",
      "metadata": {
        "id": "itwwHW5MBIJG"
      },
      "source": [
        "If the key is not in the dictionary, it will return a KeyError."
      ]
    },
    {
      "cell_type": "code",
      "metadata": {
        "colab": {
          "base_uri": "https://localhost:8080/",
          "height": 165
        },
        "id": "kbSy02MlBIJG",
        "outputId": "7b86fc1c-38ca-43cc-8a81-8b6e06a2d1da"
      },
      "source": [
        "student_grades['Piet']"
      ],
      "execution_count": 17,
      "outputs": [
        {
          "output_type": "error",
          "ename": "KeyError",
          "evalue": "ignored",
          "traceback": [
            "\u001b[0;31m---------------------------------------------------------------------------\u001b[0m",
            "\u001b[0;31mKeyError\u001b[0m                                  Traceback (most recent call last)",
            "\u001b[0;32m<ipython-input-17-454934e521aa>\u001b[0m in \u001b[0;36m<module>\u001b[0;34m()\u001b[0m\n\u001b[0;32m----> 1\u001b[0;31m \u001b[0mstudent_grades\u001b[0m\u001b[0;34m[\u001b[0m\u001b[0;34m'Piet'\u001b[0m\u001b[0;34m]\u001b[0m\u001b[0;34m\u001b[0m\u001b[0;34m\u001b[0m\u001b[0m\n\u001b[0m",
            "\u001b[0;31mKeyError\u001b[0m: 'Piet'"
          ]
        }
      ]
    },
    {
      "cell_type": "markdown",
      "metadata": {
        "id": "2Tct8ZfwBIJG"
      },
      "source": [
        "In order to avoid getting an error, you can use an **if-statement**"
      ]
    },
    {
      "cell_type": "code",
      "metadata": {
        "colab": {
          "base_uri": "https://localhost:8080/"
        },
        "id": "uzlFzYHSBIJG",
        "outputId": "dc7f809e-0b82-402d-fe7b-a3c677d6b625"
      },
      "source": [
        "key = 'Piet'\n",
        "if key in student_grades:\n",
        "    print(student_grades[key])\n",
        "else:\n",
        "    print(key, 'not in dictionary')"
      ],
      "execution_count": 18,
      "outputs": [
        {
          "output_type": "stream",
          "name": "stdout",
          "text": [
            "Piet not in dictionary\n"
          ]
        }
      ]
    },
    {
      "cell_type": "code",
      "metadata": {
        "colab": {
          "base_uri": "https://localhost:8080/"
        },
        "id": "V90WK2mJBIJH",
        "outputId": "1857815e-0e04-4623-dd78-7046de0fc2ae"
      },
      "source": [
        "key = 'Frank'\n",
        "if key in student_grades:\n",
        "    print(student_grades[key])\n",
        "else:\n",
        "    print(key, 'not in dictionary')"
      ],
      "execution_count": 19,
      "outputs": [
        {
          "output_type": "stream",
          "name": "stdout",
          "text": [
            "8\n"
          ]
        }
      ]
    },
    {
      "cell_type": "markdown",
      "metadata": {
        "id": "96WvgYV_BIJH"
      },
      "source": [
        "the **keys** method returns the keys in a dictionary "
      ]
    },
    {
      "cell_type": "code",
      "metadata": {
        "id": "SBzd35VqBIJH"
      },
      "source": [
        "student_grades = {'Frank': 8, 'Susan': 7, 'Guido': 10}"
      ],
      "execution_count": 20,
      "outputs": []
    },
    {
      "cell_type": "code",
      "metadata": {
        "colab": {
          "base_uri": "https://localhost:8080/"
        },
        "id": "h83bANKCBIJH",
        "outputId": "c2687028-4bd6-4adc-9364-3c818919510d"
      },
      "source": [
        "the_keys = student_grades.keys()\n",
        "print(the_keys)"
      ],
      "execution_count": 21,
      "outputs": [
        {
          "output_type": "stream",
          "name": "stdout",
          "text": [
            "dict_keys(['Frank', 'Susan', 'Guido'])\n"
          ]
        }
      ]
    },
    {
      "cell_type": "markdown",
      "metadata": {
        "id": "tcgRBYh2BIJH"
      },
      "source": [
        "the **values** method returns the values in a dictionary"
      ]
    },
    {
      "cell_type": "code",
      "metadata": {
        "colab": {
          "base_uri": "https://localhost:8080/"
        },
        "id": "IwAUojHUBIJH",
        "outputId": "360b0fb2-9fd1-4843-de3f-8301ac48ce8b"
      },
      "source": [
        "the_values = student_grades.values()\n",
        "print(the_values)"
      ],
      "execution_count": 22,
      "outputs": [
        {
          "output_type": "stream",
          "name": "stdout",
          "text": [
            "dict_values([8, 7, 10])\n"
          ]
        }
      ]
    },
    {
      "cell_type": "markdown",
      "metadata": {
        "id": "LlxkoUNZBIJI"
      },
      "source": [
        "We can use the built-in functions to inspect the keys and values. For example:"
      ]
    },
    {
      "cell_type": "code",
      "metadata": {
        "colab": {
          "base_uri": "https://localhost:8080/"
        },
        "id": "B7hBE3VDBIJI",
        "outputId": "03657fbb-4fb3-4671-87b5-14fd88993372"
      },
      "source": [
        "the_values = student_grades.values()\n",
        "print(len(the_values)) # number of values in a dict\n",
        "print(max(the_values)) # highest value of values in a dict\n",
        "print(min(the_values)) # lowest value of values in a dict\n",
        "print(sum(the_values)) # sum of all values of values in a dict"
      ],
      "execution_count": 23,
      "outputs": [
        {
          "output_type": "stream",
          "name": "stdout",
          "text": [
            "3\n",
            "10\n",
            "7\n",
            "25\n"
          ]
        }
      ]
    },
    {
      "cell_type": "markdown",
      "metadata": {
        "id": "78OOIKqABIJI"
      },
      "source": [
        "However, what if we want to know which students got a 8 or higher? The **items** method is very useful for this scenario. Please carefully look at the following code snippet."
      ]
    },
    {
      "cell_type": "code",
      "metadata": {
        "colab": {
          "base_uri": "https://localhost:8080/"
        },
        "id": "RDVyQMt_BIJI",
        "outputId": "780bb116-c740-4d07-ed2d-6a7bfdb70f03"
      },
      "source": [
        "student_grades = {'Frank': 8, 'Susan': 7, 'Guido': 10}\n",
        "print(student_grades.items())"
      ],
      "execution_count": 24,
      "outputs": [
        {
          "output_type": "stream",
          "name": "stdout",
          "text": [
            "dict_items([('Frank', 8), ('Susan', 7), ('Guido', 10)])\n"
          ]
        }
      ]
    },
    {
      "cell_type": "markdown",
      "metadata": {
        "id": "lqp2VjDcBIJI"
      },
      "source": [
        "The **items** method returns a list of tuples. We can combine what we have learnt about looping and tuples to access the keys (the students' names) and values (their grades):"
      ]
    },
    {
      "cell_type": "code",
      "metadata": {
        "colab": {
          "base_uri": "https://localhost:8080/"
        },
        "id": "phNj4gZlBIJI",
        "outputId": "49e97c09-b998-4fdf-e722-ca5319329bd5"
      },
      "source": [
        "for key, value in student_grades.items(): # please note the tuple unpacking\n",
        "    print(key, value)"
      ],
      "execution_count": 25,
      "outputs": [
        {
          "output_type": "stream",
          "name": "stdout",
          "text": [
            "Frank 8\n",
            "Susan 7\n",
            "Guido 10\n"
          ]
        }
      ]
    },
    {
      "cell_type": "markdown",
      "metadata": {
        "id": "huVwc1oTBIJI"
      },
      "source": [
        "This also makes it possible to detect which students obtained a grade of 8 or higher."
      ]
    },
    {
      "cell_type": "code",
      "metadata": {
        "colab": {
          "base_uri": "https://localhost:8080/"
        },
        "id": "OTguqV86BIJJ",
        "outputId": "0f6e8739-676e-4a95-8b1f-2be2cceed743"
      },
      "source": [
        "for student, grade in student_grades.items():\n",
        "    if grade > 7:\n",
        "        print(student, grade)"
      ],
      "execution_count": 26,
      "outputs": [
        {
          "output_type": "stream",
          "name": "stdout",
          "text": [
            "Frank 8\n",
            "Guido 10\n"
          ]
        }
      ]
    },
    {
      "cell_type": "markdown",
      "metadata": {
        "id": "tu5JRMDXBIJJ"
      },
      "source": [
        "## 5. Counting with a dictionary\n",
        "Dictionaries are very useful to derive statistics. For example, we can easily determine the frequency of each letter in a word."
      ]
    },
    {
      "cell_type": "code",
      "metadata": {
        "colab": {
          "base_uri": "https://localhost:8080/"
        },
        "id": "NjplQgFqBIJJ",
        "outputId": "6996b0e1-4112-48c6-ac66-2c049976de92"
      },
      "source": [
        "letter2freq = dict()\n",
        "word = 'hippo'\n",
        "\n",
        "for letter in word: \n",
        "    \n",
        "    if letter in letter2freq: # add 1 to the dictionary if the keys exists\n",
        "        letter2freq[letter] += 1 # note: x +=1 does the same as x = x + 1\n",
        "    else:\n",
        "        letter2freq[letter] = 1 # set default value to 1 if key does not exists \n",
        "\n",
        "    print(letter, letter2freq)\n",
        "    \n",
        "print()\n",
        "print(letter2freq)"
      ],
      "execution_count": 27,
      "outputs": [
        {
          "output_type": "stream",
          "name": "stdout",
          "text": [
            "h {'h': 1}\n",
            "i {'h': 1, 'i': 1}\n",
            "p {'h': 1, 'i': 1, 'p': 1}\n",
            "p {'h': 1, 'i': 1, 'p': 2}\n",
            "o {'h': 1, 'i': 1, 'p': 2, 'o': 1}\n",
            "\n",
            "{'h': 1, 'i': 1, 'p': 2, 'o': 1}\n"
          ]
        }
      ]
    },
    {
      "cell_type": "markdown",
      "metadata": {
        "id": "ovxldWfYBIJJ"
      },
      "source": [
        "You can do this as well with lists"
      ]
    },
    {
      "cell_type": "code",
      "metadata": {
        "colab": {
          "base_uri": "https://localhost:8080/"
        },
        "id": "h0m076EoBIJJ",
        "outputId": "a183cb34-413f-4358-cbb0-684b684317f7"
      },
      "source": [
        "a_sentence = ['Obama', 'was', 'the', 'president', 'of', 'the', 'USA']\n",
        "word2freq = dict()\n",
        "\n",
        "for word in a_sentence: \n",
        "    \n",
        "    if word in word2freq: # add 1 to the dictionary if the keys exists\n",
        "        word2freq[word] += 1 \n",
        "    else:\n",
        "        word2freq[word] = 1 # set default value to 1 if key does not exists \n",
        "\n",
        "    print(word, word2freq)\n",
        "\n",
        "print()\n",
        "print(word2freq)"
      ],
      "execution_count": 28,
      "outputs": [
        {
          "output_type": "stream",
          "name": "stdout",
          "text": [
            "Obama {'Obama': 1}\n",
            "was {'Obama': 1, 'was': 1}\n",
            "the {'Obama': 1, 'was': 1, 'the': 1}\n",
            "president {'Obama': 1, 'was': 1, 'the': 1, 'president': 1}\n",
            "of {'Obama': 1, 'was': 1, 'the': 1, 'president': 1, 'of': 1}\n",
            "the {'Obama': 1, 'was': 1, 'the': 2, 'president': 1, 'of': 1}\n",
            "USA {'Obama': 1, 'was': 1, 'the': 2, 'president': 1, 'of': 1, 'USA': 1}\n",
            "\n",
            "{'Obama': 1, 'was': 1, 'the': 2, 'president': 1, 'of': 1, 'USA': 1}\n"
          ]
        }
      ]
    },
    {
      "cell_type": "markdown",
      "metadata": {
        "id": "0BZz3OeMBIJJ"
      },
      "source": [
        "Python actually has a module, which is very useful for counting. It's called [collections](https://docs.python.org/3/library/collections.html#collections.Counter)."
      ]
    },
    {
      "cell_type": "code",
      "metadata": {
        "id": "bFY9l4wnBIJK"
      },
      "source": [
        "from collections import Counter"
      ],
      "execution_count": 29,
      "outputs": []
    },
    {
      "cell_type": "code",
      "metadata": {
        "colab": {
          "base_uri": "https://localhost:8080/"
        },
        "id": "X_yAF62dBIJK",
        "outputId": "d27cb306-85ca-4b3d-af68-adaffeacd535"
      },
      "source": [
        "word_freq = Counter(['Obama', 'was', 'the', 'president', 'of', 'the', 'USA'])\n",
        "print(word_freq)"
      ],
      "execution_count": 30,
      "outputs": [
        {
          "output_type": "stream",
          "name": "stdout",
          "text": [
            "Counter({'the': 2, 'Obama': 1, 'was': 1, 'president': 1, 'of': 1, 'USA': 1})\n"
          ]
        }
      ]
    },
    {
      "cell_type": "markdown",
      "metadata": {
        "id": "yV0Wbf-_BIJK"
      },
      "source": [
        "Feel free to start using this module **after** the assignment of this block."
      ]
    },
    {
      "cell_type": "markdown",
      "metadata": {
        "id": "rtfmu2sVBIJK"
      },
      "source": [
        "## 6. Nested dictionaries\n",
        "Since dictionaries consists of **key:value** pairs, we can actually make another dictionary the **value** of a dictionary."
      ]
    },
    {
      "cell_type": "code",
      "metadata": {
        "colab": {
          "base_uri": "https://localhost:8080/"
        },
        "id": "0-zpEXPoBIJK",
        "outputId": "60ccdbf3-e4cf-4193-c1ca-1c55d0616410"
      },
      "source": [
        "a_nested_dictionary = {'a_key': \n",
        "                       {'nested_key1': 1,\n",
        "                        'nested_key2': 2,\n",
        "                        'nested_key3': 3}\n",
        "                      }\n",
        "print(a_nested_dictionary)"
      ],
      "execution_count": 31,
      "outputs": [
        {
          "output_type": "stream",
          "name": "stdout",
          "text": [
            "{'a_key': {'nested_key1': 1, 'nested_key2': 2, 'nested_key3': 3}}\n"
          ]
        }
      ]
    },
    {
      "cell_type": "markdown",
      "metadata": {
        "id": "1jdUFuDoBIJK"
      },
      "source": [
        "Please note that the value is in fact a dictionary:"
      ]
    },
    {
      "cell_type": "code",
      "metadata": {
        "colab": {
          "base_uri": "https://localhost:8080/"
        },
        "id": "vI8anKgSBIJK",
        "outputId": "97c491cb-5b3b-4f71-fa27-dd46368e90b6"
      },
      "source": [
        "print(a_nested_dictionary['a_key'])"
      ],
      "execution_count": 32,
      "outputs": [
        {
          "output_type": "stream",
          "name": "stdout",
          "text": [
            "{'nested_key1': 1, 'nested_key2': 2, 'nested_key3': 3}\n"
          ]
        }
      ]
    },
    {
      "cell_type": "markdown",
      "metadata": {
        "id": "u1IhT6ncBIJL"
      },
      "source": [
        "In order to access the nested value, we must do a look up for each key on each nested level"
      ]
    },
    {
      "cell_type": "code",
      "metadata": {
        "colab": {
          "base_uri": "https://localhost:8080/"
        },
        "id": "jLhSDcRVBIJL",
        "outputId": "ec756431-aa7e-48d1-9bf8-33aea3456b32"
      },
      "source": [
        "the_nested_value = a_nested_dictionary['a_key']['nested_key1']\n",
        "print(the_nested_value)"
      ],
      "execution_count": 33,
      "outputs": [
        {
          "output_type": "stream",
          "name": "stdout",
          "text": [
            "1\n"
          ]
        }
      ]
    },
    {
      "cell_type": "markdown",
      "metadata": {
        "id": "K7hIvCHvBIJL"
      },
      "source": [
        "Practice questions:\n",
        "    \n",
        "    What do sets and dictionaries have in common?\n",
        "    What do lists and tuples have in common?\n",
        "    Can you add things to a list?\n",
        "    Can you add things to a tuples?"
      ]
    },
    {
      "cell_type": "markdown",
      "metadata": {
        "id": "WSaqe_u_BIJL"
      },
      "source": [
        "An overview:\n",
        "    \n",
        "| property                       | set               | list            | tuple       | dict keys | dict values | \n",
        "|------------------------------- |-------------------|-----------------|-------------|-----------|-------------|\n",
        "| **mutable** (can you add add/remove?) | yes        | yes             | no          | yes       | yes         |      \n",
        "| **can** contain duplicates     | no                | yes             | yes         | no        | yes            |\n",
        "| **ordered**                    | no                | yes             | yes         | yes, but do not rely on it          | depends on type of value         |\n",
        "| **finding** element(s)         | quick             | slow            | slow        | quick             | depends on type of value         |\n",
        "| **can** contain                | immutables | all     | all | immutables  |  all           |\n",
        "\n",
        "\n",
        "    "
      ]
    },
    {
      "cell_type": "markdown",
      "metadata": {
        "id": "OyQZRs0BBIJL"
      },
      "source": [
        "## Exercises"
      ]
    },
    {
      "cell_type": "markdown",
      "metadata": {
        "id": "-erJMkhGBIJL"
      },
      "source": [
        "### Exercise 1:\n",
        "\n",
        "You are tying to keep track of your groceries using a python dictionary. Please add 'tomatoes', 'bread', 'chocolate bars' and 'pineapples' to your shopping dictionary and assign values according to how many items of each you would like to buy."
      ]
    },
    {
      "cell_type": "code",
      "metadata": {
        "id": "IAdo56WEBIJN"
      },
      "source": [
        "# your code here"
      ],
      "execution_count": 34,
      "outputs": []
    },
    {
      "cell_type": "markdown",
      "metadata": {
        "id": "KVg5gCfIBIJO"
      },
      "source": [
        "### Exercise 2:\n",
        "    \n",
        "Print the number of *pineapples* you would like to buy by using only one line of code and without printing the entire dictionary."
      ]
    },
    {
      "cell_type": "code",
      "metadata": {
        "id": "DqxWXgb7BIJO"
      },
      "source": [
        "# your code here"
      ],
      "execution_count": 35,
      "outputs": []
    },
    {
      "cell_type": "markdown",
      "metadata": {
        "id": "tRjfNKHIBIJO"
      },
      "source": [
        "### Exercise 3:\n",
        "\n",
        "Use a loop and unpacking to print the items and numbers on your shopping list in the following format:\n",
        "\n",
        "Item: [Item], number: [number]\n",
        "\n",
        "e.g. Item: tomatoes, number: 3"
      ]
    },
    {
      "cell_type": "code",
      "metadata": {
        "id": "3A3W77LfBIJO"
      },
      "source": [
        "# you code here"
      ],
      "execution_count": 36,
      "outputs": []
    },
    {
      "cell_type": "markdown",
      "metadata": {
        "id": "W8iWqBcEBIJO"
      },
      "source": [
        "### Exercise 4:\n",
        "   \n",
        " Which container would you use to count the frequency of each word in a text?"
      ]
    },
    {
      "cell_type": "code",
      "metadata": {
        "id": "f7sNkup1BIJO"
      },
      "source": [
        ""
      ],
      "execution_count": 36,
      "outputs": []
    }
  ]
}